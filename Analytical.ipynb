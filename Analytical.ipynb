{
 "cells": [
  {
   "cell_type": "code",
   "execution_count": 1,
   "id": "10e5764a",
   "metadata": {},
   "outputs": [
    {
     "name": "stderr",
     "output_type": "stream",
     "text": [
      "\u001b[32m\u001b[1m  Activating\u001b[22m\u001b[39m project at `~/UCL/3x2_analytical`\n"
     ]
    }
   ],
   "source": [
    "using Pkg\n",
    "Pkg.activate(\"./\")"
   ]
  },
  {
   "cell_type": "code",
   "execution_count": 2,
   "id": "02df9ee7",
   "metadata": {},
   "outputs": [
    {
     "data": {
      "text/plain": [
       "Python: <module 'sacc' from '/home/jaimerz/UCL/3x2_analytical/.CondaPkg/env/lib/python3.12/site-packages/sacc/__init__.py'>"
      ]
     },
     "execution_count": 2,
     "metadata": {},
     "output_type": "execute_result"
    }
   ],
   "source": [
    "#using Turing\n",
    "using LimberJack\n",
    "using CSV\n",
    "using NPZ\n",
    "using YAML\n",
    "using LinearAlgebra\n",
    "using PythonCall\n",
    "using ForwardDiff\n",
    "using Plots\n",
    "np = pyimport(\"numpy\")\n",
    "sacc = pyimport(\"sacc\")"
   ]
  },
  {
   "cell_type": "markdown",
   "id": "6dbb0ba5",
   "metadata": {},
   "source": [
    "# Analytic Margninalization"
   ]
  },
  {
   "cell_type": "code",
   "execution_count": 3,
   "id": "9cfe2bdd",
   "metadata": {},
   "outputs": [
    {
     "name": "stdout",
     "output_type": "stream",
     "text": [
      "DESwl__0 DESwl__0 24\n",
      "DESwl__0 DESwl__1 24\n",
      "DESwl__0 DESwl__2 24\n",
      "DESwl__0 DESwl__3 24\n",
      "DESwl__1 DESwl__1 24\n",
      "DESwl__1 DESwl__2 24\n",
      "DESwl__1 DESwl__3 24\n",
      "DESwl__2 DESwl__2 24\n",
      "DESwl__2 DESwl__3 24\n",
      "DESwl__3 DESwl__3 24\n",
      "DESgc__0 DESgc__0 5\n",
      "DESgc__1 DESgc__1 8\n",
      "DESgc__2 DESgc__2 10\n",
      "DESgc__3 DESgc__3 11\n",
      "DESgc__4 DESgc__4 13\n",
      "DESgc__0 DESgc__0 5\n",
      "DESgc__1 DESgc__1 8\n",
      "DESgc__2 DESgc__2 10\n",
      "DESgc__3 DESgc__3 11\n",
      "DESgc__4 DESgc__4 13\n",
      "DESgc__0 DESwl__0 5\n",
      "DESgc__0 DESwl__1 5\n",
      "DESgc__0 DESwl__2 5\n",
      "DESgc__0 DESwl__3 5\n",
      "DESgc__1 DESwl__0 8\n",
      "DESgc__1 DESwl__1 8\n",
      "DESgc__1 DESwl__2 8\n",
      "DESgc__1 DESwl__3 8\n",
      "DESgc__2 DESwl__0 10\n",
      "DESgc__2 DESwl__1 10\n",
      "DESgc__2 DESwl__2 10\n",
      "DESgc__2 DESwl__3 10\n",
      "DESgc__3 DESwl__0 11\n",
      "DESgc__3 DESwl__1 11\n",
      "DESgc__3 DESwl__2 11\n",
      "DESgc__3 DESwl__3 11\n",
      "DESgc__4 DESwl__0 13\n",
      "DESgc__4 DESwl__1 13\n",
      "DESgc__4 DESwl__2 13\n",
      "DESgc__4 DESwl__3 13\n",
      "DESwl__0 DESwl__0 24\n",
      "DESwl__0 DESwl__1 24\n",
      "DESwl__0 DESwl__2 24\n",
      "DESwl__0 DESwl__3 24\n",
      "DESwl__1 DESwl__1 24\n",
      "DESwl__1 DESwl__2 24\n",
      "DESwl__1 DESwl__3 24\n",
      "DESwl__2 DESwl__2 24\n",
      "DESwl__2 DESwl__3 24\n",
      "DESwl__3 DESwl__3 24\n"
     ]
    },
    {
     "data": {
      "text/plain": [
       "(LimberJack.Instructions([\"DESgc__0\", \"DESgc__1\", \"DESgc__2\", \"DESgc__3\", \"DESgc__4\", \"DESwl__0\", \"DESwl__1\", \"DESwl__2\", \"DESwl__3\"], Any[[\"DESgc__0\", \"DESgc__0\"], [\"DESgc__1\", \"DESgc__1\"], [\"DESgc__2\", \"DESgc__2\"], [\"DESgc__3\", \"DESgc__3\"], [\"DESgc__4\", \"DESgc__4\"], [\"DESgc__0\", \"DESwl__0\"], [\"DESgc__0\", \"DESwl__1\"], [\"DESgc__0\", \"DESwl__2\"], [\"DESgc__0\", \"DESwl__3\"], [\"DESgc__1\", \"DESwl__0\"]  …  [\"DESwl__0\", \"DESwl__0\"], [\"DESwl__0\", \"DESwl__1\"], [\"DESwl__0\", \"DESwl__2\"], [\"DESwl__0\", \"DESwl__3\"], [\"DESwl__1\", \"DESwl__1\"], [\"DESwl__1\", \"DESwl__2\"], [\"DESwl__1\", \"DESwl__3\"], [\"DESwl__2\", \"DESwl__2\"], [\"DESwl__2\", \"DESwl__3\"], [\"DESwl__3\", \"DESwl__3\"]], [\"galaxy_density\", \"galaxy_density\", \"galaxy_density\", \"galaxy_density\", \"galaxy_density\", \"galaxy_shear\", \"galaxy_shear\", \"galaxy_shear\", \"galaxy_shear\"], [0, 5, 13, 23, 34, 47, 52, 57, 62, 67  …  259, 283, 307, 331, 355, 379, 403, 427, 451, 475], [0.00019024248750512107, 7.391276663994371e-5, 4.261252890607883e-5, 2.22965965139283e-5, 2.176880112868429e-5, 8.240734039668606e-5, 8.421314587773898e-5, 2.6585137640401017e-5, 2.6033426315289483e-5, 1.6202481595102046e-5  …  4.737458899576856e-10, 8.27594560926968e-10, 5.318332277673948e-10, 3.860067333751191e-10, 4.674884118894536e-10, 3.737344096265107e-10, 8.676072775051082e-11, 2.8609099937088954e-10, 2.0381853638647756e-10, 1.2493271614464064e-10], [3.5034593789257314e-9 -2.690723799401261e-10 … -2.2228200843976036e-19 -1.9989959978497149e-19; -2.690723799401261e-10 2.465164237414273e-10 … -1.2913728598180671e-19 -1.180966469888284e-19; … ; -2.2228200843976036e-19 -1.2913728598180671e-19 … 7.556429413846178e-21 2.2336026899981313e-23; -1.9989959978497149e-19 -1.180966469888284e-19 … 2.2336026899981313e-23 5.8369123712821094e-21], [5.149519027142347e8 8.474936495291066e8 … 1.6283127622023125e10 2.0760851810037117e10; 8.474936495291066e8 1.0856331556151625e10 … 4.603481181751333e11 5.637447229505698e11; … ; 1.6283127622023125e10 4.603481181751333e11 … 1.327495858657925e20 -2.807171657130278e17; 2.0760851810037117e10 5.637447229505698e11 … -2.807171657130278e17 1.7190514305235314e20]), Dict{String, Vector}(\"ls_DESgc__1_DESgc__1\" => [14.500000000000005, 44.500000000000014, 74.50000000000001, 104.50000000000003, 134.50000000000003, 164.50000000000009, 194.50000000000006, 224.50000000000006], \"ls_DESwl__2_DESwl__3\" => [44.500000000000014, 74.50000000000001, 104.50000000000003, 134.50000000000003, 164.50000000000009, 194.50000000000006, 224.50000000000006, 255.5, 290.00000000000017, 329.4999999999998  …  621.000000000001, 704.9999999999993, 800.5000000000011, 909.0000000000018, 1031.9999999999986, 1172.0000000000016, 1330.9999999999977, 1511.4999999999961, 1716.5000000000077, 1948.999999999992], \"ls_DESgc__2_DESwl__1\" => [14.500000000000005, 44.500000000000014, 74.50000000000001, 104.50000000000003, 134.50000000000003, 164.50000000000009, 194.50000000000006, 224.50000000000006, 255.5, 290.00000000000017], \"ls_DESgc__3_DESwl__3\" => [14.500000000000005, 44.500000000000014, 74.50000000000001, 104.50000000000003, 134.50000000000003, 164.50000000000009, 194.50000000000006, 224.50000000000006, 255.5, 290.00000000000017, 329.4999999999998], \"ls_DESgc__3_DESwl__2\" => [14.500000000000005, 44.500000000000014, 74.50000000000001, 104.50000000000003, 134.50000000000003, 164.50000000000009, 194.50000000000006, 224.50000000000006, 255.5, 290.00000000000017, 329.4999999999998], \"nz_DESgc__0\" => [[0.0051, 0.015099999999999999, 0.0251, 0.035100000000000006, 0.0451, 0.0551, 0.0651, 0.07510000000000001, 0.0851, 0.0951  …  3.9051000000000005, 3.9151000000000002, 3.9251, 3.9351000000000003, 3.9451000000000005, 3.9551000000000003, 3.9651, 3.9751000000000003, 3.9851000000000005, 3.9951000000000003], [0.0, 0.0, 0.0, 0.0, 0.0, 0.0, 0.0, 0.0, 0.0, 0.0  …  0.0, 0.0, 0.0, 0.0, 0.0, 0.0, 0.0, 0.0, 0.0, 0.0]], \"ls_DESwl__3_DESwl__3\" => [44.500000000000014, 74.50000000000001, 104.50000000000003, 134.50000000000003, 164.50000000000009, 194.50000000000006, 224.50000000000006, 255.5, 290.00000000000017, 329.4999999999998  …  621.000000000001, 704.9999999999993, 800.5000000000011, 909.0000000000018, 1031.9999999999986, 1172.0000000000016, 1330.9999999999977, 1511.4999999999961, 1716.5000000000077, 1948.999999999992], \"ls_DESgc__2_DESwl__3\" => [14.500000000000005, 44.500000000000014, 74.50000000000001, 104.50000000000003, 134.50000000000003, 164.50000000000009, 194.50000000000006, 224.50000000000006, 255.5, 290.00000000000017], \"ls_DESgc__4_DESwl__2\" => [14.500000000000005, 44.500000000000014, 74.50000000000001, 104.50000000000003, 134.50000000000003, 164.50000000000009, 194.50000000000006, 224.50000000000006, 255.5, 290.00000000000017, 329.4999999999998, 373.9999999999998, 424.50000000000045], \"ls_DESwl__0_DESwl__2\" => [44.500000000000014, 74.50000000000001, 104.50000000000003, 134.50000000000003, 164.50000000000009, 194.50000000000006, 224.50000000000006, 255.5, 290.00000000000017, 329.4999999999998  …  621.000000000001, 704.9999999999993, 800.5000000000011, 909.0000000000018, 1031.9999999999986, 1172.0000000000016, 1330.9999999999977, 1511.4999999999961, 1716.5000000000077, 1948.999999999992]…))"
      ]
     },
     "execution_count": 3,
     "metadata": {},
     "output_type": "execute_result"
    }
   ],
   "source": [
    "sacc_path = \"/home/jaimerz/PhD/LimberJack.jl/data/FD/cls_FD_covG.fits\"\n",
    "yaml_path_wlwl = \"/home/jaimerz/PhD/LimberJack.jl/data/DESY1/wlwl.yml\"\n",
    "yaml_path_gcgc = \"/home/jaimerz/PhD/LimberJack.jl/data/DESY1/gcgc.yml\"\n",
    "yaml_path_3x2 = \"/home/jaimerz/PhD/LimberJack.jl/data/DESY1/gcgc_gcwl_wlwl.yml\"\n",
    "\n",
    "sacc_wlwl = sacc.Sacc().load_fits(sacc_path)\n",
    "sacc_gcgc = sacc.Sacc().load_fits(sacc_path)\n",
    "sacc_3x2 = sacc.Sacc().load_fits(sacc_path)\n",
    "yaml_wlwl = YAML.load_file(yaml_path_wlwl)\n",
    "yaml_gcgc = YAML.load_file(yaml_path_gcgc)\n",
    "yaml_3x2 = YAML.load_file(yaml_path_3x2) \n",
    "\n",
    "meta_wlwl, files_wlwl = make_data(sacc_wlwl, yaml_wlwl)\n",
    "meta_gcgc, files_gcgc = make_data(sacc_gcgc, yaml_gcgc)\n",
    "meta_3x2, files_3x2 = make_data(sacc_3x2, yaml_3x2)"
   ]
  },
  {
   "cell_type": "code",
   "execution_count": 4,
   "id": "9a104e2f",
   "metadata": {},
   "outputs": [
    {
     "data": {
      "text/plain": [
       "\"sacc_path = \\\"/home/jaimerz/PhD/LimberJack.jl/data/FD/cls_FD_covG.fits\\\"\\nwlwl_yaml_path = \\\"/home/jaimerz/PhD/LimberJack.jl/data/DESY1/wlwl.yml\\\"\\ngcgc_yaml_path = \\\"/home/jaimerz/PhD/LimberJack.jl/data/DESY1/gcgc.yml\\\"\\nnzs_path = \\\"/home/jaimerz/PhD/LimberJack.jl/data/DESY1/nzs\" ⋯ 63 bytes ⋯ \"_file = sacc.Sacc().load_fits(sacc_path)\\nwlwl_yaml_file = YAML.load_file(wlwl_yaml_path)\\ngcgc_yaml_file = YAML.load_file(gcgc_yaml_path) \\n\\nwlwl_meta, wlwl_files = make_data(wlwl_sacc_file, wlwl_yaml_file)\\ngcgc_meta, gcgc_files = make_data(gcgc_sacc_file, gcgc_yaml_file)\\n\""
      ]
     },
     "execution_count": 4,
     "metadata": {},
     "output_type": "execute_result"
    }
   ],
   "source": [
    "\"\"\"\n",
    "sacc_path = \"/home/jaimerz/PhD/LimberJack.jl/data/FD/cls_FD_covG.fits\"\n",
    "wlwl_yaml_path = \"/home/jaimerz/PhD/LimberJack.jl/data/DESY1/wlwl.yml\"\n",
    "gcgc_yaml_path = \"/home/jaimerz/PhD/LimberJack.jl/data/DESY1/gcgc.yml\"\n",
    "nzs_path = \"/home/jaimerz/PhD/LimberJack.jl/data/DESY1/nzs/\"\n",
    "\n",
    "wlwl_sacc_file = sacc.Sacc().load_fits(sacc_path)\n",
    "gcgc_sacc_file = sacc.Sacc().load_fits(sacc_path)\n",
    "wlwl_yaml_file = YAML.load_file(wlwl_yaml_path)\n",
    "gcgc_yaml_file = YAML.load_file(gcgc_yaml_path) \n",
    "\n",
    "wlwl_meta, wlwl_files = make_data(wlwl_sacc_file, wlwl_yaml_file)\n",
    "gcgc_meta, gcgc_files = make_data(gcgc_sacc_file, gcgc_yaml_file)\n",
    "\"\"\""
   ]
  },
  {
   "cell_type": "markdown",
   "id": "f9417557",
   "metadata": {},
   "source": [
    "## T-Matrices wlwl"
   ]
  },
  {
   "cell_type": "code",
   "execution_count": 11,
   "id": "61096a4b",
   "metadata": {},
   "outputs": [],
   "source": [
    "function model_wlwl(x; meta=meta_wlwl, files=files_wlwl)\n",
    "    cosmo = Cosmology(Ωm=0.3, Ωb=0.05, h=0.67, σ8=0.81, ns=0.96,\n",
    "    tk_mode=:EisHu, pk_mode=:Halofit)\n",
    "    nuisances = Dict(\"DESwl__0_dz\" => x[1],\n",
    "                     \"DESwl__1_dz\" => x[2],\n",
    "                     \"DESwl__2_dz\" => x[3],\n",
    "                     \"DESwl__3_dz\" => x[4])\n",
    "    return Theory(cosmo, meta, files; Nuisances=nuisances)\n",
    "end;\n",
    "\n",
    "function model_gcgc(x; meta=meta_gcgc, files=files_gcgc)\n",
    "    cosmo = Cosmology(Ωm=0.3, Ωb=0.05, f=0.67, σ8=0.81, ns=0.96,\n",
    "    tk_mode=:EisHu, pk_mode=:Halofit)\n",
    "    DESgc__0_b = 1.9\n",
    "    DESgc__1_b = 1.9\n",
    "    DESgc__2_b = 1.9\n",
    "    DESgc__3_b = 1.9\n",
    "    DESgc__4_b = 1.9 \n",
    "    nuisances = Dict(\"DESgc__0_b\" => DESgc__0_b,\n",
    "                     \"DESgc__1_b\" => DESgc__1_b,\n",
    "                     \"DESgc__2_b\" => DESgc__2_b,\n",
    "                     \"DESgc__3_b\" => DESgc__3_b,\n",
    "                     \"DESgc__4_b\" => DESgc__4_b,\n",
    "                     \"DESgc__0_dz\" => x[1],\n",
    "                     \"DESgc__1_dz\" => x[2],\n",
    "                     \"DESgc__2_dz\" => x[3],\n",
    "                     \"DESgc__3_dz\" => x[4],\n",
    "                     \"DESgc__4_dz\" => x[5])\n",
    "    cosmo.settings.cosmo_type = eltype(valtype(x))\n",
    "    return Theory(cosmo, meta, files; Nuisances=nuisances)\n",
    "end;\n",
    "\n",
    "function model_3x2(x; meta=meta_3x2, files=files_3x2)\n",
    "    cosmo = Cosmology(Ωm=0.3, Ωb=0.05, h=0.67, σ8=0.81, ns=0.96,\n",
    "    tk_mode=:EisHu, pk_mode=:Halofit)\n",
    "    DESgc__0_b = 1.9\n",
    "    DESgc__1_b = 1.9\n",
    "    DESgc__2_b = 1.9\n",
    "    DESgc__3_b = 1.9\n",
    "    DESgc__4_b = 1.9 \n",
    "    nuisances = Dict(\"DESgc__0_b\" => DESgc__0_b,\n",
    "                     \"DESgc__1_b\" => DESgc__1_b,\n",
    "                     \"DESgc__2_b\" => DESgc__2_b,\n",
    "                     \"DESgc__3_b\" => DESgc__3_b,\n",
    "                     \"DESgc__4_b\" => DESgc__4_b,\n",
    "                     \"DESwl__0_dz\" => x[1],\n",
    "                     \"DESwl__1_dz\" => x[2],\n",
    "                     \"DESwl__2_dz\" => x[3],\n",
    "                     \"DESwl__3_dz\" => x[4],\n",
    "                     \"DESgc__0_dz\" => x[5],\n",
    "                     \"DESgc__1_dz\" => x[6],\n",
    "                     \"DESgc__2_dz\" => x[7],\n",
    "                     \"DESgc__3_dz\" => x[8],\n",
    "                     \"DESgc__4_dz\" => x[9])\n",
    "    cosmo.settings.cosmo_type = eltype(valtype(x))\n",
    "    return Theory(cosmo, meta, files; Nuisances=nuisances)\n",
    "end;"
   ]
  },
  {
   "cell_type": "code",
   "execution_count": 12,
   "id": "d443d338",
   "metadata": {},
   "outputs": [
    {
     "data": {
      "text/plain": [
       "make_Cmod_dz (generic function with 1 method)"
      ]
     },
     "execution_count": 12,
     "metadata": {},
     "output_type": "execute_result"
    }
   ],
   "source": [
    "function make_Cmod(dz_cov, data_cov, model; mode=\"FD\")\n",
    "    m = size(dz_cov)[1]\n",
    "    n_cls = size(data_cov)[1]\n",
    "    T = zeros(n_cls, m)\n",
    "    if mode == \"AD\"\n",
    "        println(\"Using automatic differentiation to compute T\")\n",
    "        null = zeros(n)\n",
    "        T = ForwardDiff.jacobian(model, null)\n",
    "    elseif mode == \"FD\"\n",
    "        println(\"Using finite differences to compute T\")\n",
    "        d = 0.00005\n",
    "        for i in 1:m\n",
    "            dz = zeros(m)\n",
    "            e = zeros(m)\n",
    "            e[i] = d\n",
    "            T[:, i] = (model(dz.+e) .- model(dz.-e)) ./ (2*d)\n",
    "        end\n",
    "    end\n",
    "    TPT = T * dz_cov * T'\n",
    "    Cmod = Symmetric(data_cov + TPT)\n",
    "    return Cmod\n",
    "end"
   ]
  },
  {
   "cell_type": "code",
   "execution_count": 13,
   "id": "5716117e",
   "metadata": {},
   "outputs": [],
   "source": [
    "cosmo = Cosmology(Ωm=0.3, Ωb=0.05, h=0.67, σ8=0.81, ns=0.96,\n",
    "tk_mode=:EisHu, pk_mode=:Halofit);"
   ]
  },
  {
   "cell_type": "code",
   "execution_count": 14,
   "id": "a47da719",
   "metadata": {
    "scrolled": true
   },
   "outputs": [
    {
     "data": {
      "text/plain": [
       "4×4 Matrix{Float64}:\n",
       " 0.000289  0.0       0.0       0.0\n",
       " 0.0       0.000289  0.0       0.0\n",
       " 0.0       0.0       0.000169  0.0\n",
       " 0.0       0.0       0.0       0.000225"
      ]
     },
     "execution_count": 14,
     "metadata": {},
     "output_type": "execute_result"
    }
   ],
   "source": [
    "dz_cov = [0.017^2 0 0 0; \n",
    "          0 0.017^2 0 0;\n",
    "          0 0 0.013^2 0;\n",
    "          0 0 0 0.015^2]"
   ]
  },
  {
   "cell_type": "code",
   "execution_count": 15,
   "id": "12cfe63e",
   "metadata": {},
   "outputs": [
    {
     "name": "stdout",
     "output_type": "stream",
     "text": [
      "Using finite differences to compute T\n"
     ]
    },
    {
     "data": {
      "text/plain": [
       "240×240 Symmetric{Float64, Matrix{Float64}}:\n",
       "  1.539e-18    -5.88995e-20   2.6019e-20   …  -8.13685e-24  -7.39618e-24\n",
       " -5.88995e-20   5.36211e-19  -2.89911e-20     -1.79796e-24  -1.88294e-24\n",
       "  2.6019e-20   -2.89911e-20   3.07788e-19     -8.56731e-25  -8.93461e-25\n",
       "  1.23254e-20   8.75417e-21  -2.11653e-20     -4.3922e-25   -4.57366e-25\n",
       "  8.81225e-21   4.09071e-21   3.79805e-21     -2.58236e-25  -2.74889e-25\n",
       "  6.30933e-21   3.18431e-21   1.54519e-21  …  -1.66529e-25  -1.8202e-25\n",
       "  4.81078e-21   2.43627e-21   1.37612e-21     -1.12535e-25  -1.27489e-25\n",
       "  3.70583e-21   1.89034e-21   1.10079e-21     -7.88128e-26  -9.25381e-26\n",
       "  2.87195e-21   1.47394e-21   8.61159e-22     -5.62207e-26  -6.64e-26\n",
       "  2.20144e-21   1.13711e-21   6.77732e-22     -4.44747e-26  -4.27483e-26\n",
       "  1.69597e-21   8.83838e-22   5.28974e-22  …  -3.19482e-26  -2.94555e-26\n",
       "  1.31259e-21   6.90941e-22   4.20571e-22     -2.21107e-26  -2.01397e-26\n",
       "  1.0125e-21    5.38647e-22   3.31832e-22     -1.4983e-26   -1.32242e-26\n",
       "  ⋮                                        ⋱                \n",
       " -3.87025e-23  -8.35103e-24  -4.34978e-24      2.07728e-22   2.00156e-22\n",
       " -3.57311e-23  -6.73465e-24  -3.05173e-24      2.02216e-22   1.94673e-22\n",
       " -2.84674e-23  -5.9308e-24   -2.61833e-24  …   1.97564e-22   1.89649e-22\n",
       " -2.36185e-23  -4.84622e-24  -2.2502e-24       1.93138e-22   1.85099e-22\n",
       " -1.97069e-23  -4.19624e-24  -1.93695e-24      1.8829e-22    1.8133e-22\n",
       " -1.71196e-23  -3.5766e-24   -1.64061e-24      1.83091e-22   1.78431e-22\n",
       " -1.38377e-23  -3.0186e-24   -1.42746e-24      1.77606e-22   1.75063e-22\n",
       " -1.42404e-23  -3.08376e-24  -1.45024e-24  …   1.70777e-22   1.71021e-22\n",
       " -1.20493e-23  -2.70284e-24  -1.26853e-24      1.61173e-22   1.66275e-22\n",
       " -9.37639e-24  -2.07115e-24  -9.87185e-25     -3.14499e-23   1.58752e-22\n",
       " -8.13685e-24  -1.79796e-24  -8.56731e-25      7.55706e-21   2.2795e-23\n",
       " -7.39618e-24  -1.88294e-24  -8.93461e-25      2.2795e-23    5.83724e-21"
      ]
     },
     "execution_count": 15,
     "metadata": {},
     "output_type": "execute_result"
    }
   ],
   "source": [
    "C_mod = make_Cmod_dz(dz_cov, meta_wlwl.cov, model_wlwl)"
   ]
  },
  {
   "cell_type": "code",
   "execution_count": 18,
   "id": "1b82e6c0",
   "metadata": {},
   "outputs": [
    {
     "data": {
      "text/plain": [
       "240-element Vector{Float64}:\n",
       " 0.04644379102838629\n",
       " 0.031115821091106954\n",
       " 0.01743001344430385\n",
       " 0.0102024083272564\n",
       " 0.0062433881092613785\n",
       " 0.00401446848411431\n",
       " 0.0026945611500112498\n",
       " 0.0020044412629478562\n",
       " 0.0016267429215785646\n",
       " 0.001270911134144418\n",
       " 0.0009674416828052108\n",
       " 0.0007497162349003986\n",
       " 0.000563604518139147\n",
       " ⋮\n",
       " 0.0014983713093849518\n",
       " 0.0011928300470769886\n",
       " 0.0009467283495799273\n",
       " 0.0007287296096786583\n",
       " 0.0005651076186775493\n",
       " 0.0004249870156439953\n",
       " 0.0003199604815047085\n",
       " 0.00023746788295422785\n",
       " 0.0001743118817353401\n",
       " 0.00012716608599668155\n",
       " 9.176158824981562e-5\n",
       " 6.562149829826219e-5"
      ]
     },
     "execution_count": 18,
     "metadata": {},
     "output_type": "execute_result"
    }
   ],
   "source": [
    "abs.(diag(meta_wlwl.cov) .- diag(C_mod)) ./ diag(meta_wlwl.cov)"
   ]
  },
  {
   "cell_type": "code",
   "execution_count": 20,
   "id": "4bfd0a70",
   "metadata": {
    "scrolled": false
   },
   "outputs": [
    {
     "data": {
      "image/png": "[encoded data removed]",
      "image/svg+xml": [
       "<?xml version=\"1.0\" encoding=\"utf-8\"?>\n",
       "<svg xmlns=\"http://www.w3.org/2000/svg\" xmlns:xlink=\"http://www.w3.org/1999/xlink\" width=\"600\" height=\"400\" viewBox=\"0 0 2400 1600\">\n",
       "<defs>\n",
       "  <clipPath id=\"clip130\">\n",
       "    <rect x=\"0\" y=\"0\" width=\"2400\" height=\"1600\"/>\n",
       "  </clipPath>\n",
       "</defs>\n",
       "<path clip-path=\"url(#clip130)\" d=\"M0 1600 L2400 1600 L2400 0 L0 0  Z\" fill=\"#ffffff\" fill-rule=\"evenodd\" fill-opacity=\"1\"/>\n",
       "<defs>\n",
       "  <clipPath id=\"clip131\">\n",
       "    <rect x=\"480\" y=\"0\" width=\"1681\" height=\"1600\"/>\n",
       "  </clipPath>\n",
       "</defs>\n",
       "<path clip-path=\"url(#clip130)\" d=\"M186.76 1486.45 L2352.76 1486.45 L2352.76 123.472 L186.76 123.472  Z\" fill=\"#ffffff\" fill-rule=\"evenodd\" fill-opacity=\"1\"/>\n",
       "<defs>\n",
       "  <clipPath id=\"clip132\">\n",
       "    <rect x=\"186\" y=\"123\" width=\"2167\" height=\"1364\"/>\n",
       "  </clipPath>\n",
       "</defs>\n",
       "<polyline clip-path=\"url(#clip132)\" style=\"stroke:#000000; stroke-linecap:round; stroke-linejoin:round; stroke-width:2; stroke-opacity:0.1; fill:none\" points=\"239.512,1486.45 239.512,123.472 \"/>\n",
       "<polyline clip-path=\"url(#clip132)\" style=\"stroke:#000000; stroke-linecap:round; stroke-linejoin:round; stroke-width:2; stroke-opacity:0.1; fill:none\" points=\"667,1486.45 667,123.472 \"/>\n",
       "<polyline clip-path=\"url(#clip132)\" style=\"stroke:#000000; stroke-linecap:round; stroke-linejoin:round; stroke-width:2; stroke-opacity:0.1; fill:none\" points=\"1094.49,1486.45 1094.49,123.472 \"/>\n",
       "<polyline clip-path=\"url(#clip132)\" style=\"stroke:#000000; stroke-linecap:round; stroke-linejoin:round; stroke-width:2; stroke-opacity:0.1; fill:none\" points=\"1521.98,1486.45 1521.98,123.472 \"/>\n",
       "<polyline clip-path=\"url(#clip132)\" style=\"stroke:#000000; stroke-linecap:round; stroke-linejoin:round; stroke-width:2; stroke-opacity:0.1; fill:none\" points=\"1949.46,1486.45 1949.46,123.472 \"/>\n",
       "<polyline clip-path=\"url(#clip130)\" style=\"stroke:#000000; stroke-linecap:round; stroke-linejoin:round; stroke-width:4; stroke-opacity:1; fill:none\" points=\"186.76,1486.45 2352.76,1486.45 \"/>\n",
       "<polyline clip-path=\"url(#clip130)\" style=\"stroke:#000000; stroke-linecap:round; stroke-linejoin:round; stroke-width:4; stroke-opacity:1; fill:none\" points=\"239.512,1486.45 239.512,1467.55 \"/>\n",
       "<polyline clip-path=\"url(#clip130)\" style=\"stroke:#000000; stroke-linecap:round; stroke-linejoin:round; stroke-width:4; stroke-opacity:1; fill:none\" points=\"667,1486.45 667,1467.55 \"/>\n",
       "<polyline clip-path=\"url(#clip130)\" style=\"stroke:#000000; stroke-linecap:round; stroke-linejoin:round; stroke-width:4; stroke-opacity:1; fill:none\" points=\"1094.49,1486.45 1094.49,1467.55 \"/>\n",
       "<polyline clip-path=\"url(#clip130)\" style=\"stroke:#000000; stroke-linecap:round; stroke-linejoin:round; stroke-width:4; stroke-opacity:1; fill:none\" points=\"1521.98,1486.45 1521.98,1467.55 \"/>\n",
       "<polyline clip-path=\"url(#clip130)\" style=\"stroke:#000000; stroke-linecap:round; stroke-linejoin:round; stroke-width:4; stroke-opacity:1; fill:none\" points=\"1949.46,1486.45 1949.46,1467.55 \"/>\n",
       "<path clip-path=\"url(#clip130)\" d=\"M239.512 1517.37 Q235.901 1517.37 234.072 1520.93 Q232.267 1524.47 232.267 1531.6 Q232.267 1538.71 234.072 1542.27 Q235.901 1545.82 239.512 1545.82 Q243.146 1545.82 244.952 1542.27 Q246.781 1538.71 246.781 1531.6 Q246.781 1524.47 244.952 1520.93 Q243.146 1517.37 239.512 1517.37 M239.512 1513.66 Q245.322 1513.66 248.378 1518.27 Q251.456 1522.85 251.456 1531.6 Q251.456 1540.33 248.378 1544.94 Q245.322 1549.52 239.512 1549.52 Q233.702 1549.52 230.623 1544.94 Q227.568 1540.33 227.568 1531.6 Q227.568 1522.85 230.623 1518.27 Q233.702 1513.66 239.512 1513.66 Z\" fill=\"#000000\" fill-rule=\"nonzero\" fill-opacity=\"1\" /><path clip-path=\"url(#clip130)\" d=\"M641.699 1514.29 L660.056 1514.29 L660.056 1518.22 L645.982 1518.22 L645.982 1526.7 Q647 1526.35 648.019 1526.19 Q649.037 1526 650.056 1526 Q655.843 1526 659.222 1529.17 Q662.602 1532.34 662.602 1537.76 Q662.602 1543.34 659.13 1546.44 Q655.658 1549.52 649.338 1549.52 Q647.162 1549.52 644.894 1549.15 Q642.648 1548.78 640.241 1548.04 L640.241 1543.34 Q642.324 1544.47 644.546 1545.03 Q646.769 1545.58 649.246 1545.58 Q653.25 1545.58 655.588 1543.48 Q657.926 1541.37 657.926 1537.76 Q657.926 1534.15 655.588 1532.04 Q653.25 1529.94 649.246 1529.94 Q647.371 1529.94 645.496 1530.35 Q643.644 1530.77 641.699 1531.65 L641.699 1514.29 Z\" fill=\"#000000\" fill-rule=\"nonzero\" fill-opacity=\"1\" /><path clip-path=\"url(#clip130)\" d=\"M681.815 1517.37 Q678.204 1517.37 676.375 1520.93 Q674.569 1524.47 674.569 1531.6 Q674.569 1538.71 676.375 1542.27 Q678.204 1545.82 681.815 1545.82 Q685.449 1545.82 687.255 1542.27 Q689.083 1538.71 689.083 1531.6 Q689.083 1524.47 687.255 1520.93 Q685.449 1517.37 681.815 1517.37 M681.815 1513.66 Q687.625 1513.66 690.68 1518.27 Q693.759 1522.85 693.759 1531.6 Q693.759 1540.33 690.68 1544.94 Q687.625 1549.52 681.815 1549.52 Q676.005 1549.52 672.926 1544.94 Q669.87 1540.33 669.87 1531.6 Q669.87 1522.85 672.926 1518.27 Q676.005 1513.66 681.815 1513.66 Z\" fill=\"#000000\" fill-rule=\"nonzero\" fill-opacity=\"1\" /><path clip-path=\"url(#clip130)\" d=\"M1054.09 1544.91 L1061.73 1544.91 L1061.73 1518.55 L1053.42 1520.21 L1053.42 1515.95 L1061.69 1514.29 L1066.36 1514.29 L1066.36 1544.91 L1074 1544.91 L1074 1548.85 L1054.09 1548.85 L1054.09 1544.91 Z\" fill=\"#000000\" fill-rule=\"nonzero\" fill-opacity=\"1\" /><path clip-path=\"url(#clip130)\" d=\"M1093.45 1517.37 Q1089.84 1517.37 1088.01 1520.93 Q1086.2 1524.47 1086.2 1531.6 Q1086.2 1538.71 1088.01 1542.27 Q1089.84 1545.82 1093.45 1545.82 Q1097.08 1545.82 1098.89 1542.27 Q1100.71 1538.71 1100.71 1531.6 Q1100.71 1524.47 1098.89 1520.93 Q1097.08 1517.37 1093.45 1517.37 M1093.45 1513.66 Q1099.26 1513.66 1102.31 1518.27 Q1105.39 1522.85 1105.39 1531.6 Q1105.39 1540.33 1102.31 1544.94 Q1099.26 1549.52 1093.45 1549.52 Q1087.64 1549.52 1084.56 1544.94 Q1081.5 1540.33 1081.5 1531.6 Q1081.5 1522.85 1084.56 1518.27 Q1087.64 1513.66 1093.45 1513.66 Z\" fill=\"#000000\" fill-rule=\"nonzero\" fill-opacity=\"1\" /><path clip-path=\"url(#clip130)\" d=\"M1123.61 1517.37 Q1120 1517.37 1118.17 1520.93 Q1116.36 1524.47 1116.36 1531.6 Q1116.36 1538.71 1118.17 1542.27 Q1120 1545.82 1123.61 1545.82 Q1127.24 1545.82 1129.05 1542.27 Q1130.88 1538.71 1130.88 1531.6 Q1130.88 1524.47 1129.05 1520.93 Q1127.24 1517.37 1123.61 1517.37 M1123.61 1513.66 Q1129.42 1513.66 1132.47 1518.27 Q1135.55 1522.85 1135.55 1531.6 Q1135.55 1540.33 1132.47 1544.94 Q1129.42 1549.52 1123.61 1549.52 Q1117.8 1549.52 1114.72 1544.94 Q1111.66 1540.33 1111.66 1531.6 Q1111.66 1522.85 1114.72 1518.27 Q1117.8 1513.66 1123.61 1513.66 Z\" fill=\"#000000\" fill-rule=\"nonzero\" fill-opacity=\"1\" /><path clip-path=\"url(#clip130)\" d=\"M1481.58 1544.91 L1489.22 1544.91 L1489.22 1518.55 L1480.91 1520.21 L1480.91 1515.95 L1489.18 1514.29 L1493.85 1514.29 L1493.85 1544.91 L1501.49 1544.91 L1501.49 1548.85 L1481.58 1548.85 L1481.58 1544.91 Z\" fill=\"#000000\" fill-rule=\"nonzero\" fill-opacity=\"1\" /><path clip-path=\"url(#clip130)\" d=\"M1510.98 1514.29 L1529.34 1514.29 L1529.34 1518.22 L1515.26 1518.22 L1515.26 1526.7 Q1516.28 1526.35 1517.3 1526.19 Q1518.32 1526 1519.34 1526 Q1525.12 1526 1528.5 1529.17 Q1531.88 1532.34 1531.88 1537.76 Q1531.88 1543.34 1528.41 1546.44 Q1524.94 1549.52 1518.62 1549.52 Q1516.44 1549.52 1514.17 1549.15 Q1511.93 1548.78 1509.52 1548.04 L1509.52 1543.34 Q1511.61 1544.47 1513.83 1545.03 Q1516.05 1545.58 1518.53 1545.58 Q1522.53 1545.58 1524.87 1543.48 Q1527.21 1541.37 1527.21 1537.76 Q1527.21 1534.15 1524.87 1532.04 Q1522.53 1529.94 1518.53 1529.94 Q1516.65 1529.94 1514.78 1530.35 Q1512.93 1530.77 1510.98 1531.65 L1510.98 1514.29 Z\" fill=\"#000000\" fill-rule=\"nonzero\" fill-opacity=\"1\" /><path clip-path=\"url(#clip130)\" d=\"M1551.1 1517.37 Q1547.49 1517.37 1545.66 1520.93 Q1543.85 1524.47 1543.85 1531.6 Q1543.85 1538.71 1545.66 1542.27 Q1547.49 1545.82 1551.1 1545.82 Q1554.73 1545.82 1556.54 1542.27 Q1558.36 1538.71 1558.36 1531.6 Q1558.36 1524.47 1556.54 1520.93 Q1554.73 1517.37 1551.1 1517.37 M1551.1 1513.66 Q1556.91 1513.66 1559.96 1518.27 Q1563.04 1522.85 1563.04 1531.6 Q1563.04 1540.33 1559.96 1544.94 Q1556.91 1549.52 1551.1 1549.52 Q1545.29 1549.52 1542.21 1544.94 Q1539.15 1540.33 1539.15 1531.6 Q1539.15 1522.85 1542.21 1518.27 Q1545.29 1513.66 1551.1 1513.66 Z\" fill=\"#000000\" fill-rule=\"nonzero\" fill-opacity=\"1\" /><path clip-path=\"url(#clip130)\" d=\"M1913.16 1544.91 L1929.48 1544.91 L1929.48 1548.85 L1907.53 1548.85 L1907.53 1544.91 Q1910.19 1542.16 1914.78 1537.53 Q1919.38 1532.88 1920.56 1531.53 Q1922.81 1529.01 1923.69 1527.27 Q1924.59 1525.51 1924.59 1523.82 Q1924.59 1521.07 1922.65 1519.33 Q1920.73 1517.6 1917.62 1517.6 Q1915.42 1517.6 1912.97 1518.36 Q1910.54 1519.13 1907.76 1520.68 L1907.76 1515.95 Q1910.59 1514.82 1913.04 1514.24 Q1915.49 1513.66 1917.53 1513.66 Q1922.9 1513.66 1926.1 1516.35 Q1929.29 1519.03 1929.29 1523.52 Q1929.29 1525.65 1928.48 1527.57 Q1927.69 1529.47 1925.59 1532.07 Q1925.01 1532.74 1921.91 1535.95 Q1918.8 1539.15 1913.16 1544.91 Z\" fill=\"#000000\" fill-rule=\"nonzero\" fill-opacity=\"1\" /><path clip-path=\"url(#clip130)\" d=\"M1949.29 1517.37 Q1945.68 1517.37 1943.85 1520.93 Q1942.04 1524.47 1942.04 1531.6 Q1942.04 1538.71 1943.85 1542.27 Q1945.68 1545.82 1949.29 1545.82 Q1952.92 1545.82 1954.73 1542.27 Q1956.56 1538.71 1956.56 1531.6 Q1956.56 1524.47 1954.73 1520.93 Q1952.92 1517.37 1949.29 1517.37 M1949.29 1513.66 Q1955.1 1513.66 1958.16 1518.27 Q1961.23 1522.85 1961.23 1531.6 Q1961.23 1540.33 1958.16 1544.94 Q1955.1 1549.52 1949.29 1549.52 Q1943.48 1549.52 1940.4 1544.94 Q1937.35 1540.33 1937.35 1531.6 Q1937.35 1522.85 1940.4 1518.27 Q1943.48 1513.66 1949.29 1513.66 Z\" fill=\"#000000\" fill-rule=\"nonzero\" fill-opacity=\"1\" /><path clip-path=\"url(#clip130)\" d=\"M1979.45 1517.37 Q1975.84 1517.37 1974.01 1520.93 Q1972.21 1524.47 1972.21 1531.6 Q1972.21 1538.71 1974.01 1542.27 Q1975.84 1545.82 1979.45 1545.82 Q1983.09 1545.82 1984.89 1542.27 Q1986.72 1538.71 1986.72 1531.6 Q1986.72 1524.47 1984.89 1520.93 Q1983.09 1517.37 1979.45 1517.37 M1979.45 1513.66 Q1985.26 1513.66 1988.32 1518.27 Q1991.4 1522.85 1991.4 1531.6 Q1991.4 1540.33 1988.32 1544.94 Q1985.26 1549.52 1979.45 1549.52 Q1973.64 1549.52 1970.56 1544.94 Q1967.51 1540.33 1967.51 1531.6 Q1967.51 1522.85 1970.56 1518.27 Q1973.64 1513.66 1979.45 1513.66 Z\" fill=\"#000000\" fill-rule=\"nonzero\" fill-opacity=\"1\" /><polyline clip-path=\"url(#clip132)\" style=\"stroke:#000000; stroke-linecap:round; stroke-linejoin:round; stroke-width:2; stroke-opacity:0.1; fill:none\" points=\"186.76,1448.27 2352.76,1448.27 \"/>\n",
       "<polyline clip-path=\"url(#clip132)\" style=\"stroke:#000000; stroke-linecap:round; stroke-linejoin:round; stroke-width:2; stroke-opacity:0.1; fill:none\" points=\"186.76,1175.75 2352.76,1175.75 \"/>\n",
       "<polyline clip-path=\"url(#clip132)\" style=\"stroke:#000000; stroke-linecap:round; stroke-linejoin:round; stroke-width:2; stroke-opacity:0.1; fill:none\" points=\"186.76,903.226 2352.76,903.226 \"/>\n",
       "<polyline clip-path=\"url(#clip132)\" style=\"stroke:#000000; stroke-linecap:round; stroke-linejoin:round; stroke-width:2; stroke-opacity:0.1; fill:none\" points=\"186.76,630.703 2352.76,630.703 \"/>\n",
       "<polyline clip-path=\"url(#clip132)\" style=\"stroke:#000000; stroke-linecap:round; stroke-linejoin:round; stroke-width:2; stroke-opacity:0.1; fill:none\" points=\"186.76,358.18 2352.76,358.18 \"/>\n",
       "<polyline clip-path=\"url(#clip130)\" style=\"stroke:#000000; stroke-linecap:round; stroke-linejoin:round; stroke-width:4; stroke-opacity:1; fill:none\" points=\"186.76,1486.45 186.76,123.472 \"/>\n",
       "<polyline clip-path=\"url(#clip130)\" style=\"stroke:#000000; stroke-linecap:round; stroke-linejoin:round; stroke-width:4; stroke-opacity:1; fill:none\" points=\"186.76,1448.27 205.658,1448.27 \"/>\n",
       "<polyline clip-path=\"url(#clip130)\" style=\"stroke:#000000; stroke-linecap:round; stroke-linejoin:round; stroke-width:4; stroke-opacity:1; fill:none\" points=\"186.76,1175.75 205.658,1175.75 \"/>\n",
       "<polyline clip-path=\"url(#clip130)\" style=\"stroke:#000000; stroke-linecap:round; stroke-linejoin:round; stroke-width:4; stroke-opacity:1; fill:none\" points=\"186.76,903.226 205.658,903.226 \"/>\n",
       "<polyline clip-path=\"url(#clip130)\" style=\"stroke:#000000; stroke-linecap:round; stroke-linejoin:round; stroke-width:4; stroke-opacity:1; fill:none\" points=\"186.76,630.703 205.658,630.703 \"/>\n",
       "<polyline clip-path=\"url(#clip130)\" style=\"stroke:#000000; stroke-linecap:round; stroke-linejoin:round; stroke-width:4; stroke-opacity:1; fill:none\" points=\"186.76,358.18 205.658,358.18 \"/>\n",
       "<path clip-path=\"url(#clip130)\" d=\"M63.4226 1434.07 Q59.8115 1434.07 57.9828 1437.64 Q56.1773 1441.18 56.1773 1448.31 Q56.1773 1455.41 57.9828 1458.98 Q59.8115 1462.52 63.4226 1462.52 Q67.0569 1462.52 68.8624 1458.98 Q70.6911 1455.41 70.6911 1448.31 Q70.6911 1441.18 68.8624 1437.64 Q67.0569 1434.07 63.4226 1434.07 M63.4226 1430.37 Q69.2328 1430.37 72.2883 1434.97 Q75.367 1439.56 75.367 1448.31 Q75.367 1457.03 72.2883 1461.64 Q69.2328 1466.22 63.4226 1466.22 Q57.6125 1466.22 54.5338 1461.64 Q51.4782 1457.03 51.4782 1448.31 Q51.4782 1439.56 54.5338 1434.97 Q57.6125 1430.37 63.4226 1430.37 Z\" fill=\"#000000\" fill-rule=\"nonzero\" fill-opacity=\"1\" /><path clip-path=\"url(#clip130)\" d=\"M83.5845 1459.67 L88.4688 1459.67 L88.4688 1465.55 L83.5845 1465.55 L83.5845 1459.67 Z\" fill=\"#000000\" fill-rule=\"nonzero\" fill-opacity=\"1\" /><path clip-path=\"url(#clip130)\" d=\"M108.654 1434.07 Q105.043 1434.07 103.214 1437.64 Q101.409 1441.18 101.409 1448.31 Q101.409 1455.41 103.214 1458.98 Q105.043 1462.52 108.654 1462.52 Q112.288 1462.52 114.094 1458.98 Q115.922 1455.41 115.922 1448.31 Q115.922 1441.18 114.094 1437.64 Q112.288 1434.07 108.654 1434.07 M108.654 1430.37 Q114.464 1430.37 117.52 1434.97 Q120.598 1439.56 120.598 1448.31 Q120.598 1457.03 117.52 1461.64 Q114.464 1466.22 108.654 1466.22 Q102.844 1466.22 99.765 1461.64 Q96.7095 1457.03 96.7095 1448.31 Q96.7095 1439.56 99.765 1434.97 Q102.844 1430.37 108.654 1430.37 Z\" fill=\"#000000\" fill-rule=\"nonzero\" fill-opacity=\"1\" /><path clip-path=\"url(#clip130)\" d=\"M138.816 1434.07 Q135.205 1434.07 133.376 1437.64 Q131.57 1441.18 131.57 1448.31 Q131.57 1455.41 133.376 1458.98 Q135.205 1462.52 138.816 1462.52 Q142.45 1462.52 144.256 1458.98 Q146.084 1455.41 146.084 1448.31 Q146.084 1441.18 144.256 1437.64 Q142.45 1434.07 138.816 1434.07 M138.816 1430.37 Q144.626 1430.37 147.681 1434.97 Q150.76 1439.56 150.76 1448.31 Q150.76 1457.03 147.681 1461.64 Q144.626 1466.22 138.816 1466.22 Q133.006 1466.22 129.927 1461.64 Q126.871 1457.03 126.871 1448.31 Q126.871 1439.56 129.927 1434.97 Q133.006 1430.37 138.816 1430.37 Z\" fill=\"#000000\" fill-rule=\"nonzero\" fill-opacity=\"1\" /><path clip-path=\"url(#clip130)\" d=\"M64.6495 1161.55 Q61.0384 1161.55 59.2097 1165.11 Q57.4041 1168.65 57.4041 1175.78 Q57.4041 1182.89 59.2097 1186.46 Q61.0384 1190 64.6495 1190 Q68.2837 1190 70.0892 1186.46 Q71.9179 1182.89 71.9179 1175.78 Q71.9179 1168.65 70.0892 1165.11 Q68.2837 1161.55 64.6495 1161.55 M64.6495 1157.84 Q70.4596 1157.84 73.5152 1162.45 Q76.5938 1167.03 76.5938 1175.78 Q76.5938 1184.51 73.5152 1189.12 Q70.4596 1193.7 64.6495 1193.7 Q58.8393 1193.7 55.7606 1189.12 Q52.7051 1184.51 52.7051 1175.78 Q52.7051 1167.03 55.7606 1162.45 Q58.8393 1157.84 64.6495 1157.84 Z\" fill=\"#000000\" fill-rule=\"nonzero\" fill-opacity=\"1\" /><path clip-path=\"url(#clip130)\" d=\"M84.8114 1187.15 L89.6956 1187.15 L89.6956 1193.03 L84.8114 1193.03 L84.8114 1187.15 Z\" fill=\"#000000\" fill-rule=\"nonzero\" fill-opacity=\"1\" /><path clip-path=\"url(#clip130)\" d=\"M109.881 1161.55 Q106.27 1161.55 104.441 1165.11 Q102.635 1168.65 102.635 1175.78 Q102.635 1182.89 104.441 1186.46 Q106.27 1190 109.881 1190 Q113.515 1190 115.32 1186.46 Q117.149 1182.89 117.149 1175.78 Q117.149 1168.65 115.32 1165.11 Q113.515 1161.55 109.881 1161.55 M109.881 1157.84 Q115.691 1157.84 118.746 1162.45 Q121.825 1167.03 121.825 1175.78 Q121.825 1184.51 118.746 1189.12 Q115.691 1193.7 109.881 1193.7 Q104.071 1193.7 100.992 1189.12 Q97.9363 1184.51 97.9363 1175.78 Q97.9363 1167.03 100.992 1162.45 Q104.071 1157.84 109.881 1157.84 Z\" fill=\"#000000\" fill-rule=\"nonzero\" fill-opacity=\"1\" /><path clip-path=\"url(#clip130)\" d=\"M130.853 1189.09 L138.492 1189.09 L138.492 1162.73 L130.182 1164.4 L130.182 1160.14 L138.445 1158.47 L143.121 1158.47 L143.121 1189.09 L150.76 1189.09 L150.76 1193.03 L130.853 1193.03 L130.853 1189.09 Z\" fill=\"#000000\" fill-rule=\"nonzero\" fill-opacity=\"1\" /><path clip-path=\"url(#clip130)\" d=\"M65.0198 889.025 Q61.4087 889.025 59.58 892.59 Q57.7745 896.131 57.7745 903.261 Q57.7745 910.367 59.58 913.932 Q61.4087 917.474 65.0198 917.474 Q68.6541 917.474 70.4596 913.932 Q72.2883 910.367 72.2883 903.261 Q72.2883 896.131 70.4596 892.59 Q68.6541 889.025 65.0198 889.025 M65.0198 885.321 Q70.83 885.321 73.8855 889.928 Q76.9642 894.511 76.9642 903.261 Q76.9642 911.988 73.8855 916.594 Q70.83 921.178 65.0198 921.178 Q59.2097 921.178 56.131 916.594 Q53.0754 911.988 53.0754 903.261 Q53.0754 894.511 56.131 889.928 Q59.2097 885.321 65.0198 885.321 Z\" fill=\"#000000\" fill-rule=\"nonzero\" fill-opacity=\"1\" /><path clip-path=\"url(#clip130)\" d=\"M85.1818 914.627 L90.066 914.627 L90.066 920.506 L85.1818 920.506 L85.1818 914.627 Z\" fill=\"#000000\" fill-rule=\"nonzero\" fill-opacity=\"1\" /><path clip-path=\"url(#clip130)\" d=\"M110.251 889.025 Q106.64 889.025 104.811 892.59 Q103.006 896.131 103.006 903.261 Q103.006 910.367 104.811 913.932 Q106.64 917.474 110.251 917.474 Q113.885 917.474 115.691 913.932 Q117.52 910.367 117.52 903.261 Q117.52 896.131 115.691 892.59 Q113.885 889.025 110.251 889.025 M110.251 885.321 Q116.061 885.321 119.117 889.928 Q122.195 894.511 122.195 903.261 Q122.195 911.988 119.117 916.594 Q116.061 921.178 110.251 921.178 Q104.441 921.178 101.362 916.594 Q98.3067 911.988 98.3067 903.261 Q98.3067 894.511 101.362 889.928 Q104.441 885.321 110.251 885.321 Z\" fill=\"#000000\" fill-rule=\"nonzero\" fill-opacity=\"1\" /><path clip-path=\"url(#clip130)\" d=\"M134.441 916.571 L150.76 916.571 L150.76 920.506 L128.816 920.506 L128.816 916.571 Q131.478 913.817 136.061 909.187 Q140.668 904.534 141.848 903.192 Q144.093 900.668 144.973 898.932 Q145.876 897.173 145.876 895.483 Q145.876 892.729 143.931 890.993 Q142.01 889.256 138.908 889.256 Q136.709 889.256 134.256 890.02 Q131.825 890.784 129.047 892.335 L129.047 887.613 Q131.871 886.479 134.325 885.9 Q136.779 885.321 138.816 885.321 Q144.186 885.321 147.38 888.006 Q150.575 890.692 150.575 895.182 Q150.575 897.312 149.765 899.233 Q148.978 901.131 146.871 903.724 Q146.293 904.395 143.191 907.613 Q140.089 910.807 134.441 916.571 Z\" fill=\"#000000\" fill-rule=\"nonzero\" fill-opacity=\"1\" /><path clip-path=\"url(#clip130)\" d=\"M64.0708 616.502 Q60.4597 616.502 58.631 620.067 Q56.8254 623.608 56.8254 630.738 Q56.8254 637.845 58.631 641.409 Q60.4597 644.951 64.0708 644.951 Q67.705 644.951 69.5105 641.409 Q71.3392 637.845 71.3392 630.738 Q71.3392 623.608 69.5105 620.067 Q67.705 616.502 64.0708 616.502 M64.0708 612.798 Q69.8809 612.798 72.9365 617.405 Q76.0151 621.988 76.0151 630.738 Q76.0151 639.465 72.9365 644.071 Q69.8809 648.655 64.0708 648.655 Q58.2606 648.655 55.1819 644.071 Q52.1264 639.465 52.1264 630.738 Q52.1264 621.988 55.1819 617.405 Q58.2606 612.798 64.0708 612.798 Z\" fill=\"#000000\" fill-rule=\"nonzero\" fill-opacity=\"1\" /><path clip-path=\"url(#clip130)\" d=\"M84.2327 642.104 L89.1169 642.104 L89.1169 647.983 L84.2327 647.983 L84.2327 642.104 Z\" fill=\"#000000\" fill-rule=\"nonzero\" fill-opacity=\"1\" /><path clip-path=\"url(#clip130)\" d=\"M109.302 616.502 Q105.691 616.502 103.862 620.067 Q102.057 623.608 102.057 630.738 Q102.057 637.845 103.862 641.409 Q105.691 644.951 109.302 644.951 Q112.936 644.951 114.742 641.409 Q116.57 637.845 116.57 630.738 Q116.57 623.608 114.742 620.067 Q112.936 616.502 109.302 616.502 M109.302 612.798 Q115.112 612.798 118.168 617.405 Q121.246 621.988 121.246 630.738 Q121.246 639.465 118.168 644.071 Q115.112 648.655 109.302 648.655 Q103.492 648.655 100.413 644.071 Q97.3576 639.465 97.3576 630.738 Q97.3576 621.988 100.413 617.405 Q103.492 612.798 109.302 612.798 Z\" fill=\"#000000\" fill-rule=\"nonzero\" fill-opacity=\"1\" /><path clip-path=\"url(#clip130)\" d=\"M143.631 629.349 Q146.987 630.067 148.862 632.335 Q150.76 634.604 150.76 637.937 Q150.76 643.053 147.242 645.854 Q143.723 648.655 137.242 648.655 Q135.066 648.655 132.751 648.215 Q130.459 647.798 128.006 646.942 L128.006 642.428 Q129.95 643.562 132.265 644.141 Q134.58 644.719 137.103 644.719 Q141.501 644.719 143.793 642.983 Q146.107 641.247 146.107 637.937 Q146.107 634.882 143.955 633.169 Q141.825 631.433 138.006 631.433 L133.978 631.433 L133.978 627.59 L138.191 627.59 Q141.64 627.59 143.468 626.224 Q145.297 624.835 145.297 622.243 Q145.297 619.581 143.399 618.169 Q141.524 616.734 138.006 616.734 Q136.084 616.734 133.885 617.15 Q131.686 617.567 129.047 618.446 L129.047 614.28 Q131.709 613.539 134.024 613.169 Q136.362 612.798 138.422 612.798 Q143.746 612.798 146.848 615.229 Q149.95 617.636 149.95 621.757 Q149.95 624.627 148.306 626.618 Q146.663 628.585 143.631 629.349 Z\" fill=\"#000000\" fill-rule=\"nonzero\" fill-opacity=\"1\" /><path clip-path=\"url(#clip130)\" d=\"M62.9365 343.979 Q59.3254 343.979 57.4967 347.544 Q55.6912 351.086 55.6912 358.215 Q55.6912 365.322 57.4967 368.886 Q59.3254 372.428 62.9365 372.428 Q66.5707 372.428 68.3763 368.886 Q70.205 365.322 70.205 358.215 Q70.205 351.086 68.3763 347.544 Q66.5707 343.979 62.9365 343.979 M62.9365 340.275 Q68.7467 340.275 71.8022 344.882 Q74.8809 349.465 74.8809 358.215 Q74.8809 366.942 71.8022 371.548 Q68.7467 376.132 62.9365 376.132 Q57.1264 376.132 54.0477 371.548 Q50.9921 366.942 50.9921 358.215 Q50.9921 349.465 54.0477 344.882 Q57.1264 340.275 62.9365 340.275 Z\" fill=\"#000000\" fill-rule=\"nonzero\" fill-opacity=\"1\" /><path clip-path=\"url(#clip130)\" d=\"M83.0984 369.581 L87.9827 369.581 L87.9827 375.46 L83.0984 375.46 L83.0984 369.581 Z\" fill=\"#000000\" fill-rule=\"nonzero\" fill-opacity=\"1\" /><path clip-path=\"url(#clip130)\" d=\"M108.168 343.979 Q104.557 343.979 102.728 347.544 Q100.922 351.086 100.922 358.215 Q100.922 365.322 102.728 368.886 Q104.557 372.428 108.168 372.428 Q111.802 372.428 113.608 368.886 Q115.436 365.322 115.436 358.215 Q115.436 351.086 113.608 347.544 Q111.802 343.979 108.168 343.979 M108.168 340.275 Q113.978 340.275 117.033 344.882 Q120.112 349.465 120.112 358.215 Q120.112 366.942 117.033 371.548 Q113.978 376.132 108.168 376.132 Q102.358 376.132 99.2789 371.548 Q96.2234 366.942 96.2234 358.215 Q96.2234 349.465 99.2789 344.882 Q102.358 340.275 108.168 340.275 Z\" fill=\"#000000\" fill-rule=\"nonzero\" fill-opacity=\"1\" /><path clip-path=\"url(#clip130)\" d=\"M141.177 344.974 L129.371 363.423 L141.177 363.423 L141.177 344.974 M139.95 340.9 L145.83 340.9 L145.83 363.423 L150.76 363.423 L150.76 367.312 L145.83 367.312 L145.83 375.46 L141.177 375.46 L141.177 367.312 L125.575 367.312 L125.575 362.798 L139.95 340.9 Z\" fill=\"#000000\" fill-rule=\"nonzero\" fill-opacity=\"1\" /><path clip-path=\"url(#clip130)\" d=\"M1146.91 12.096 L1155.18 12.096 L1167.9 63.2184 L1180.58 12.096 L1189.77 12.096 L1202.49 63.2184 L1215.17 12.096 L1223.48 12.096 L1208.29 72.576 L1198 72.576 L1185.24 20.0763 L1172.35 72.576 L1162.06 72.576 L1146.91 12.096 Z\" fill=\"#000000\" fill-rule=\"nonzero\" fill-opacity=\"1\" /><path clip-path=\"url(#clip130)\" d=\"M1234.33 12.096 L1242.52 12.096 L1242.52 65.6895 L1271.97 65.6895 L1271.97 72.576 L1234.33 72.576 L1234.33 12.096 Z\" fill=\"#000000\" fill-rule=\"nonzero\" fill-opacity=\"1\" /><path clip-path=\"url(#clip130)\" d=\"M1267.55 12.096 L1275.81 12.096 L1288.53 63.2184 L1301.21 12.096 L1310.41 12.096 L1323.13 63.2184 L1335.81 12.096 L1344.11 12.096 L1328.92 72.576 L1318.63 72.576 L1305.87 20.0763 L1292.99 72.576 L1282.7 72.576 L1267.55 12.096 Z\" fill=\"#000000\" fill-rule=\"nonzero\" fill-opacity=\"1\" /><path clip-path=\"url(#clip130)\" d=\"M1354.97 12.096 L1363.15 12.096 L1363.15 65.6895 L1392.6 65.6895 L1392.6 72.576 L1354.97 72.576 L1354.97 12.096 Z\" fill=\"#000000\" fill-rule=\"nonzero\" fill-opacity=\"1\" /><polyline clip-path=\"url(#clip132)\" style=\"stroke:#009af9; stroke-linecap:round; stroke-linejoin:round; stroke-width:4; stroke-opacity:1; fill:none\" points=\"248.062,182.572 256.612,600.295 265.161,973.264 273.711,1170.23 282.261,1278.13 290.811,1338.87 299.36,1374.84 307.91,1393.65 316.46,1403.94 325.01,1413.64 333.559,1421.91 342.109,1427.84 350.659,1432.91 359.209,1436.83 367.758,1439.71 376.308,1442.04 384.858,1443.69 393.408,1444.99 401.958,1445.91 410.507,1446.59 419.057,1447.09 427.607,1447.44 436.157,1447.69 444.706,1447.87 453.256,369.617 461.806,552.919 470.356,891.531 478.905,1101.19 487.455,1226.42 496.005,1301.64 504.555,1347.73 513.104,1372.22 521.654,1385.64 530.204,1398.68 538.754,1410.09 547.303,1418.34 555.853,1425.56 564.403,1431.18 572.953,1435.37 581.502,1438.8 590.052,1441.25 598.602,1443.21 607.152,1444.6 615.701,1445.64 624.251,1446.4 632.801,1446.95 641.351,1447.34 649.901,1447.63 658.45,162.047 667,193.95 675.55,564.938 684.1,844.758 692.649,1034.82 701.199,1161.56 709.749,1244.12 718.299,1289.02 726.848,1313.73 735.398,1339.25 743.948,1362.57 752.498,1379.86 761.047,1395.51 769.597,1407.99 778.147,1417.47 786.697,1425.39 795.246,1431.13 803.796,1435.77 812.346,1439.13 820.896,1441.65 829.445,1443.54 837.995,1444.9 846.545,1445.89 855.095,1446.6 863.644,429.372 872.194,517.853 880.744,819.776 889.294,1029.9 897.844,1165.15 906.393,1253.92 914.943,1310.9 923.493,1341.58 932.043,1358.48 940.592,1375.78 949.142,1391.45 957.692,1403.02 966.242,1413.44 974.791,1421.73 983.341,1428.01 991.891,1433.24 1000.44,1437.02 1008.99,1440.07 1017.54,1442.28 1026.09,1443.94 1034.64,1445.17 1043.19,1446.06 1051.74,1446.71 1060.29,1447.18 1068.84,423.834 1077.39,537.886 1085.94,844.779 1094.49,1059.89 1103.04,1189.4 1111.59,1272.78 1120.14,1325.74 1128.69,1353.98 1137.24,1369.41 1145.79,1384.89 1154.34,1398.89 1162.89,1409.07 1171.44,1418.22 1179.99,1425.41 1188.54,1430.86 1197.09,1435.38 1205.63,1438.62 1214.18,1441.27 1222.73,1443.16 1231.28,1444.58 1239.83,1445.64 1248.38,1446.4 1256.93,1446.96 1265.48,1447.35 1274.03,615.391 1282.58,466.626 1291.13,639.653 1299.68,859.852 1308.23,1017.36 1316.78,1134.94 1325.33,1219.14 1333.88,1264.94 1342.43,1289.57 1350.98,1316.99 1359.53,1343.27 1368.08,1362.98 1376.63,1381.53 1385.18,1396.53 1393.73,1408.2 1402.28,1418.12 1410.83,1425.39 1419.38,1431.44 1427.93,1435.82 1436.48,1439.18 1445.03,1441.7 1453.58,1443.54 1462.13,1444.91 1470.68,1445.89 1479.23,708.705 1487.78,626.5 1496.33,789.441 1504.88,980.577 1513.43,1110.2 1521.98,1203.91 1530.53,1270.79 1539.08,1306.76 1547.63,1326 1556.17,1347.42 1564.72,1367.74 1573.27,1382.95 1581.82,1397.2 1590.37,1408.69 1598.92,1417.64 1607.47,1425.23 1616.02,1430.79 1624.57,1435.41 1633.12,1438.75 1641.67,1441.31 1650.22,1443.24 1658.77,1444.65 1667.32,1445.69 1675.87,1446.45 1684.42,930.741 1692.97,788.132 1701.52,818.601 1710.07,947.708 1718.62,1065.14 1727.17,1151.59 1735.72,1220.55 1744.27,1261.25 1752.82,1281.11 1761.37,1305.45 1769.92,1331.18 1778.47,1350.91 1787.02,1370.38 1795.57,1386.69 1804.12,1399.7 1812.67,1411.13 1821.22,1419.65 1829.77,1426.93 1838.32,1432.28 1846.87,1436.47 1855.42,1439.65 1863.97,1442.01 1872.52,1443.79 1881.07,1445.08 1889.62,1164.32 1898.17,1063.02 1906.72,1051.51 1915.26,1112.32 1923.81,1185.26 1932.36,1241.18 1940.91,1285.71 1949.46,1312.89 1958.01,1326.4 1966.56,1343.18 1975.11,1361.36 1983.66,1375.59 1992.21,1389.77 2000.76,1401.79 2009.31,1411.44 2017.86,1419.99 2026.41,1426.38 2034.96,1431.87 2043.51,1435.93 2052.06,1439.12 2060.61,1441.56 2069.16,1443.37 2077.71,1444.74 2086.26,1445.74 2094.81,1182.19 2103.36,1133.93 2111.91,1150.14 2120.46,1199.33 2129.01,1257.54 2137.56,1303.19 2146.11,1335.33 2154.66,1353.61 2163.21,1363.29 2171.76,1375.42 2180.31,1387.81 2188.86,1397.59 2197.41,1407.44 2205.96,1415.76 2214.51,1422.47 2223.06,1428.41 2231.61,1432.87 2240.16,1436.69 2248.71,1439.55 2257.26,1441.8 2265.8,1443.52 2274.35,1444.81 2282.9,1445.77 2291.45,1446.48 \"/>\n",
       "<path clip-path=\"url(#clip130)\" d=\"M2011.53 272.585 L2280.56 272.585 L2280.56 168.905 L2011.53 168.905  Z\" fill=\"#ffffff\" fill-rule=\"evenodd\" fill-opacity=\"1\"/>\n",
       "<polyline clip-path=\"url(#clip130)\" style=\"stroke:#000000; stroke-linecap:round; stroke-linejoin:round; stroke-width:4; stroke-opacity:1; fill:none\" points=\"2011.53,272.585 2280.56,272.585 2280.56,168.905 2011.53,168.905 2011.53,272.585 \"/>\n",
       "<polyline clip-path=\"url(#clip130)\" style=\"stroke:#009af9; stroke-linecap:round; stroke-linejoin:round; stroke-width:4; stroke-opacity:1; fill:none\" points=\"2035.59,220.745 2179.99,220.745 \"/>\n",
       "<path clip-path=\"url(#clip130)\" d=\"M2217.9 240.432 Q2216.1 245.062 2214.38 246.474 Q2212.67 247.886 2209.8 247.886 L2206.4 247.886 L2206.4 244.321 L2208.9 244.321 Q2210.66 244.321 2211.63 243.488 Q2212.6 242.654 2213.78 239.552 L2214.55 237.608 L2204.06 212.099 L2208.57 212.099 L2216.67 232.377 L2224.78 212.099 L2229.29 212.099 L2217.9 240.432 Z\" fill=\"#000000\" fill-rule=\"nonzero\" fill-opacity=\"1\" /><path clip-path=\"url(#clip130)\" d=\"M2236.58 234.089 L2244.22 234.089 L2244.22 207.724 L2235.91 209.391 L2235.91 205.131 L2244.17 203.465 L2248.85 203.465 L2248.85 234.089 L2256.49 234.089 L2256.49 238.025 L2236.58 238.025 L2236.58 234.089 Z\" fill=\"#000000\" fill-rule=\"nonzero\" fill-opacity=\"1\" /></svg>\n"
      ],
      "text/html": [
       "<?xml version=\"1.0\" encoding=\"utf-8\"?>\n",
       "<svg xmlns=\"http://www.w3.org/2000/svg\" xmlns:xlink=\"http://www.w3.org/1999/xlink\" width=\"600\" height=\"400\" viewBox=\"0 0 2400 1600\">\n",
       "<defs>\n",
       "  <clipPath id=\"clip180\">\n",
       "    <rect x=\"0\" y=\"0\" width=\"2400\" height=\"1600\"/>\n",
       "  </clipPath>\n",
       "</defs>\n",
       "<path clip-path=\"url(#clip180)\" d=\"M0 1600 L2400 1600 L2400 0 L0 0  Z\" fill=\"#ffffff\" fill-rule=\"evenodd\" fill-opacity=\"1\"/>\n",
       "<defs>\n",
       "  <clipPath id=\"clip181\">\n",
       "    <rect x=\"480\" y=\"0\" width=\"1681\" height=\"1600\"/>\n",
       "  </clipPath>\n",
       "</defs>\n",
       "<path clip-path=\"url(#clip180)\" d=\"M186.76 1486.45 L2352.76 1486.45 L2352.76 123.472 L186.76 123.472  Z\" fill=\"#ffffff\" fill-rule=\"evenodd\" fill-opacity=\"1\"/>\n",
       "<defs>\n",
       "  <clipPath id=\"clip182\">\n",
       "    <rect x=\"186\" y=\"123\" width=\"2167\" height=\"1364\"/>\n",
       "  </clipPath>\n",
       "</defs>\n",
       "<polyline clip-path=\"url(#clip182)\" style=\"stroke:#000000; stroke-linecap:round; stroke-linejoin:round; stroke-width:2; stroke-opacity:0.1; fill:none\" points=\"239.512,1486.45 239.512,123.472 \"/>\n",
       "<polyline clip-path=\"url(#clip182)\" style=\"stroke:#000000; stroke-linecap:round; stroke-linejoin:round; stroke-width:2; stroke-opacity:0.1; fill:none\" points=\"667,1486.45 667,123.472 \"/>\n",
       "<polyline clip-path=\"url(#clip182)\" style=\"stroke:#000000; stroke-linecap:round; stroke-linejoin:round; stroke-width:2; stroke-opacity:0.1; fill:none\" points=\"1094.49,1486.45 1094.49,123.472 \"/>\n",
       "<polyline clip-path=\"url(#clip182)\" style=\"stroke:#000000; stroke-linecap:round; stroke-linejoin:round; stroke-width:2; stroke-opacity:0.1; fill:none\" points=\"1521.98,1486.45 1521.98,123.472 \"/>\n",
       "<polyline clip-path=\"url(#clip182)\" style=\"stroke:#000000; stroke-linecap:round; stroke-linejoin:round; stroke-width:2; stroke-opacity:0.1; fill:none\" points=\"1949.46,1486.45 1949.46,123.472 \"/>\n",
       "<polyline clip-path=\"url(#clip180)\" style=\"stroke:#000000; stroke-linecap:round; stroke-linejoin:round; stroke-width:4; stroke-opacity:1; fill:none\" points=\"186.76,1486.45 2352.76,1486.45 \"/>\n",
       "<polyline clip-path=\"url(#clip180)\" style=\"stroke:#000000; stroke-linecap:round; stroke-linejoin:round; stroke-width:4; stroke-opacity:1; fill:none\" points=\"239.512,1486.45 239.512,1467.55 \"/>\n",
       "<polyline clip-path=\"url(#clip180)\" style=\"stroke:#000000; stroke-linecap:round; stroke-linejoin:round; stroke-width:4; stroke-opacity:1; fill:none\" points=\"667,1486.45 667,1467.55 \"/>\n",
       "<polyline clip-path=\"url(#clip180)\" style=\"stroke:#000000; stroke-linecap:round; stroke-linejoin:round; stroke-width:4; stroke-opacity:1; fill:none\" points=\"1094.49,1486.45 1094.49,1467.55 \"/>\n",
       "<polyline clip-path=\"url(#clip180)\" style=\"stroke:#000000; stroke-linecap:round; stroke-linejoin:round; stroke-width:4; stroke-opacity:1; fill:none\" points=\"1521.98,1486.45 1521.98,1467.55 \"/>\n",
       "<polyline clip-path=\"url(#clip180)\" style=\"stroke:#000000; stroke-linecap:round; stroke-linejoin:round; stroke-width:4; stroke-opacity:1; fill:none\" points=\"1949.46,1486.45 1949.46,1467.55 \"/>\n",
       "<path clip-path=\"url(#clip180)\" d=\"M239.512 1517.37 Q235.901 1517.37 234.072 1520.93 Q232.267 1524.47 232.267 1531.6 Q232.267 1538.71 234.072 1542.27 Q235.901 1545.82 239.512 1545.82 Q243.146 1545.82 244.952 1542.27 Q246.781 1538.71 246.781 1531.6 Q246.781 1524.47 244.952 1520.93 Q243.146 1517.37 239.512 1517.37 M239.512 1513.66 Q245.322 1513.66 248.378 1518.27 Q251.456 1522.85 251.456 1531.6 Q251.456 1540.33 248.378 1544.94 Q245.322 1549.52 239.512 1549.52 Q233.702 1549.52 230.623 1544.94 Q227.568 1540.33 227.568 1531.6 Q227.568 1522.85 230.623 1518.27 Q233.702 1513.66 239.512 1513.66 Z\" fill=\"#000000\" fill-rule=\"nonzero\" fill-opacity=\"1\" /><path clip-path=\"url(#clip180)\" d=\"M641.699 1514.29 L660.056 1514.29 L660.056 1518.22 L645.982 1518.22 L645.982 1526.7 Q647 1526.35 648.019 1526.19 Q649.037 1526 650.056 1526 Q655.843 1526 659.222 1529.17 Q662.602 1532.34 662.602 1537.76 Q662.602 1543.34 659.13 1546.44 Q655.658 1549.52 649.338 1549.52 Q647.162 1549.52 644.894 1549.15 Q642.648 1548.78 640.241 1548.04 L640.241 1543.34 Q642.324 1544.47 644.546 1545.03 Q646.769 1545.58 649.246 1545.58 Q653.25 1545.58 655.588 1543.48 Q657.926 1541.37 657.926 1537.76 Q657.926 1534.15 655.588 1532.04 Q653.25 1529.94 649.246 1529.94 Q647.371 1529.94 645.496 1530.35 Q643.644 1530.77 641.699 1531.65 L641.699 1514.29 Z\" fill=\"#000000\" fill-rule=\"nonzero\" fill-opacity=\"1\" /><path clip-path=\"url(#clip180)\" d=\"M681.815 1517.37 Q678.204 1517.37 676.375 1520.93 Q674.569 1524.47 674.569 1531.6 Q674.569 1538.71 676.375 1542.27 Q678.204 1545.82 681.815 1545.82 Q685.449 1545.82 687.255 1542.27 Q689.083 1538.71 689.083 1531.6 Q689.083 1524.47 687.255 1520.93 Q685.449 1517.37 681.815 1517.37 M681.815 1513.66 Q687.625 1513.66 690.68 1518.27 Q693.759 1522.85 693.759 1531.6 Q693.759 1540.33 690.68 1544.94 Q687.625 1549.52 681.815 1549.52 Q676.005 1549.52 672.926 1544.94 Q669.87 1540.33 669.87 1531.6 Q669.87 1522.85 672.926 1518.27 Q676.005 1513.66 681.815 1513.66 Z\" fill=\"#000000\" fill-rule=\"nonzero\" fill-opacity=\"1\" /><path clip-path=\"url(#clip180)\" d=\"M1054.09 1544.91 L1061.73 1544.91 L1061.73 1518.55 L1053.42 1520.21 L1053.42 1515.95 L1061.69 1514.29 L1066.36 1514.29 L1066.36 1544.91 L1074 1544.91 L1074 1548.85 L1054.09 1548.85 L1054.09 1544.91 Z\" fill=\"#000000\" fill-rule=\"nonzero\" fill-opacity=\"1\" /><path clip-path=\"url(#clip180)\" d=\"M1093.45 1517.37 Q1089.84 1517.37 1088.01 1520.93 Q1086.2 1524.47 1086.2 1531.6 Q1086.2 1538.71 1088.01 1542.27 Q1089.84 1545.82 1093.45 1545.82 Q1097.08 1545.82 1098.89 1542.27 Q1100.71 1538.71 1100.71 1531.6 Q1100.71 1524.47 1098.89 1520.93 Q1097.08 1517.37 1093.45 1517.37 M1093.45 1513.66 Q1099.26 1513.66 1102.31 1518.27 Q1105.39 1522.85 1105.39 1531.6 Q1105.39 1540.33 1102.31 1544.94 Q1099.26 1549.52 1093.45 1549.52 Q1087.64 1549.52 1084.56 1544.94 Q1081.5 1540.33 1081.5 1531.6 Q1081.5 1522.85 1084.56 1518.27 Q1087.64 1513.66 1093.45 1513.66 Z\" fill=\"#000000\" fill-rule=\"nonzero\" fill-opacity=\"1\" /><path clip-path=\"url(#clip180)\" d=\"M1123.61 1517.37 Q1120 1517.37 1118.17 1520.93 Q1116.36 1524.47 1116.36 1531.6 Q1116.36 1538.71 1118.17 1542.27 Q1120 1545.82 1123.61 1545.82 Q1127.24 1545.82 1129.05 1542.27 Q1130.88 1538.71 1130.88 1531.6 Q1130.88 1524.47 1129.05 1520.93 Q1127.24 1517.37 1123.61 1517.37 M1123.61 1513.66 Q1129.42 1513.66 1132.47 1518.27 Q1135.55 1522.85 1135.55 1531.6 Q1135.55 1540.33 1132.47 1544.94 Q1129.42 1549.52 1123.61 1549.52 Q1117.8 1549.52 1114.72 1544.94 Q1111.66 1540.33 1111.66 1531.6 Q1111.66 1522.85 1114.72 1518.27 Q1117.8 1513.66 1123.61 1513.66 Z\" fill=\"#000000\" fill-rule=\"nonzero\" fill-opacity=\"1\" /><path clip-path=\"url(#clip180)\" d=\"M1481.58 1544.91 L1489.22 1544.91 L1489.22 1518.55 L1480.91 1520.21 L1480.91 1515.95 L1489.18 1514.29 L1493.85 1514.29 L1493.85 1544.91 L1501.49 1544.91 L1501.49 1548.85 L1481.58 1548.85 L1481.58 1544.91 Z\" fill=\"#000000\" fill-rule=\"nonzero\" fill-opacity=\"1\" /><path clip-path=\"url(#clip180)\" d=\"M1510.98 1514.29 L1529.34 1514.29 L1529.34 1518.22 L1515.26 1518.22 L1515.26 1526.7 Q1516.28 1526.35 1517.3 1526.19 Q1518.32 1526 1519.34 1526 Q1525.12 1526 1528.5 1529.17 Q1531.88 1532.34 1531.88 1537.76 Q1531.88 1543.34 1528.41 1546.44 Q1524.94 1549.52 1518.62 1549.52 Q1516.44 1549.52 1514.17 1549.15 Q1511.93 1548.78 1509.52 1548.04 L1509.52 1543.34 Q1511.61 1544.47 1513.83 1545.03 Q1516.05 1545.58 1518.53 1545.58 Q1522.53 1545.58 1524.87 1543.48 Q1527.21 1541.37 1527.21 1537.76 Q1527.21 1534.15 1524.87 1532.04 Q1522.53 1529.94 1518.53 1529.94 Q1516.65 1529.94 1514.78 1530.35 Q1512.93 1530.77 1510.98 1531.65 L1510.98 1514.29 Z\" fill=\"#000000\" fill-rule=\"nonzero\" fill-opacity=\"1\" /><path clip-path=\"url(#clip180)\" d=\"M1551.1 1517.37 Q1547.49 1517.37 1545.66 1520.93 Q1543.85 1524.47 1543.85 1531.6 Q1543.85 1538.71 1545.66 1542.27 Q1547.49 1545.82 1551.1 1545.82 Q1554.73 1545.82 1556.54 1542.27 Q1558.36 1538.71 1558.36 1531.6 Q1558.36 1524.47 1556.54 1520.93 Q1554.73 1517.37 1551.1 1517.37 M1551.1 1513.66 Q1556.91 1513.66 1559.96 1518.27 Q1563.04 1522.85 1563.04 1531.6 Q1563.04 1540.33 1559.96 1544.94 Q1556.91 1549.52 1551.1 1549.52 Q1545.29 1549.52 1542.21 1544.94 Q1539.15 1540.33 1539.15 1531.6 Q1539.15 1522.85 1542.21 1518.27 Q1545.29 1513.66 1551.1 1513.66 Z\" fill=\"#000000\" fill-rule=\"nonzero\" fill-opacity=\"1\" /><path clip-path=\"url(#clip180)\" d=\"M1913.16 1544.91 L1929.48 1544.91 L1929.48 1548.85 L1907.53 1548.85 L1907.53 1544.91 Q1910.19 1542.16 1914.78 1537.53 Q1919.38 1532.88 1920.56 1531.53 Q1922.81 1529.01 1923.69 1527.27 Q1924.59 1525.51 1924.59 1523.82 Q1924.59 1521.07 1922.65 1519.33 Q1920.73 1517.6 1917.62 1517.6 Q1915.42 1517.6 1912.97 1518.36 Q1910.54 1519.13 1907.76 1520.68 L1907.76 1515.95 Q1910.59 1514.82 1913.04 1514.24 Q1915.49 1513.66 1917.53 1513.66 Q1922.9 1513.66 1926.1 1516.35 Q1929.29 1519.03 1929.29 1523.52 Q1929.29 1525.65 1928.48 1527.57 Q1927.69 1529.47 1925.59 1532.07 Q1925.01 1532.74 1921.91 1535.95 Q1918.8 1539.15 1913.16 1544.91 Z\" fill=\"#000000\" fill-rule=\"nonzero\" fill-opacity=\"1\" /><path clip-path=\"url(#clip180)\" d=\"M1949.29 1517.37 Q1945.68 1517.37 1943.85 1520.93 Q1942.04 1524.47 1942.04 1531.6 Q1942.04 1538.71 1943.85 1542.27 Q1945.68 1545.82 1949.29 1545.82 Q1952.92 1545.82 1954.73 1542.27 Q1956.56 1538.71 1956.56 1531.6 Q1956.56 1524.47 1954.73 1520.93 Q1952.92 1517.37 1949.29 1517.37 M1949.29 1513.66 Q1955.1 1513.66 1958.16 1518.27 Q1961.23 1522.85 1961.23 1531.6 Q1961.23 1540.33 1958.16 1544.94 Q1955.1 1549.52 1949.29 1549.52 Q1943.48 1549.52 1940.4 1544.94 Q1937.35 1540.33 1937.35 1531.6 Q1937.35 1522.85 1940.4 1518.27 Q1943.48 1513.66 1949.29 1513.66 Z\" fill=\"#000000\" fill-rule=\"nonzero\" fill-opacity=\"1\" /><path clip-path=\"url(#clip180)\" d=\"M1979.45 1517.37 Q1975.84 1517.37 1974.01 1520.93 Q1972.21 1524.47 1972.21 1531.6 Q1972.21 1538.71 1974.01 1542.27 Q1975.84 1545.82 1979.45 1545.82 Q1983.09 1545.82 1984.89 1542.27 Q1986.72 1538.71 1986.72 1531.6 Q1986.72 1524.47 1984.89 1520.93 Q1983.09 1517.37 1979.45 1517.37 M1979.45 1513.66 Q1985.26 1513.66 1988.32 1518.27 Q1991.4 1522.85 1991.4 1531.6 Q1991.4 1540.33 1988.32 1544.94 Q1985.26 1549.52 1979.45 1549.52 Q1973.64 1549.52 1970.56 1544.94 Q1967.51 1540.33 1967.51 1531.6 Q1967.51 1522.85 1970.56 1518.27 Q1973.64 1513.66 1979.45 1513.66 Z\" fill=\"#000000\" fill-rule=\"nonzero\" fill-opacity=\"1\" /><polyline clip-path=\"url(#clip182)\" style=\"stroke:#000000; stroke-linecap:round; stroke-linejoin:round; stroke-width:2; stroke-opacity:0.1; fill:none\" points=\"186.76,1448.27 2352.76,1448.27 \"/>\n",
       "<polyline clip-path=\"url(#clip182)\" style=\"stroke:#000000; stroke-linecap:round; stroke-linejoin:round; stroke-width:2; stroke-opacity:0.1; fill:none\" points=\"186.76,1175.75 2352.76,1175.75 \"/>\n",
       "<polyline clip-path=\"url(#clip182)\" style=\"stroke:#000000; stroke-linecap:round; stroke-linejoin:round; stroke-width:2; stroke-opacity:0.1; fill:none\" points=\"186.76,903.226 2352.76,903.226 \"/>\n",
       "<polyline clip-path=\"url(#clip182)\" style=\"stroke:#000000; stroke-linecap:round; stroke-linejoin:round; stroke-width:2; stroke-opacity:0.1; fill:none\" points=\"186.76,630.703 2352.76,630.703 \"/>\n",
       "<polyline clip-path=\"url(#clip182)\" style=\"stroke:#000000; stroke-linecap:round; stroke-linejoin:round; stroke-width:2; stroke-opacity:0.1; fill:none\" points=\"186.76,358.18 2352.76,358.18 \"/>\n",
       "<polyline clip-path=\"url(#clip180)\" style=\"stroke:#000000; stroke-linecap:round; stroke-linejoin:round; stroke-width:4; stroke-opacity:1; fill:none\" points=\"186.76,1486.45 186.76,123.472 \"/>\n",
       "<polyline clip-path=\"url(#clip180)\" style=\"stroke:#000000; stroke-linecap:round; stroke-linejoin:round; stroke-width:4; stroke-opacity:1; fill:none\" points=\"186.76,1448.27 205.658,1448.27 \"/>\n",
       "<polyline clip-path=\"url(#clip180)\" style=\"stroke:#000000; stroke-linecap:round; stroke-linejoin:round; stroke-width:4; stroke-opacity:1; fill:none\" points=\"186.76,1175.75 205.658,1175.75 \"/>\n",
       "<polyline clip-path=\"url(#clip180)\" style=\"stroke:#000000; stroke-linecap:round; stroke-linejoin:round; stroke-width:4; stroke-opacity:1; fill:none\" points=\"186.76,903.226 205.658,903.226 \"/>\n",
       "<polyline clip-path=\"url(#clip180)\" style=\"stroke:#000000; stroke-linecap:round; stroke-linejoin:round; stroke-width:4; stroke-opacity:1; fill:none\" points=\"186.76,630.703 205.658,630.703 \"/>\n",
       "<polyline clip-path=\"url(#clip180)\" style=\"stroke:#000000; stroke-linecap:round; stroke-linejoin:round; stroke-width:4; stroke-opacity:1; fill:none\" points=\"186.76,358.18 205.658,358.18 \"/>\n",
       "<path clip-path=\"url(#clip180)\" d=\"M63.4226 1434.07 Q59.8115 1434.07 57.9828 1437.64 Q56.1773 1441.18 56.1773 1448.31 Q56.1773 1455.41 57.9828 1458.98 Q59.8115 1462.52 63.4226 1462.52 Q67.0569 1462.52 68.8624 1458.98 Q70.6911 1455.41 70.6911 1448.31 Q70.6911 1441.18 68.8624 1437.64 Q67.0569 1434.07 63.4226 1434.07 M63.4226 1430.37 Q69.2328 1430.37 72.2883 1434.97 Q75.367 1439.56 75.367 1448.31 Q75.367 1457.03 72.2883 1461.64 Q69.2328 1466.22 63.4226 1466.22 Q57.6125 1466.22 54.5338 1461.64 Q51.4782 1457.03 51.4782 1448.31 Q51.4782 1439.56 54.5338 1434.97 Q57.6125 1430.37 63.4226 1430.37 Z\" fill=\"#000000\" fill-rule=\"nonzero\" fill-opacity=\"1\" /><path clip-path=\"url(#clip180)\" d=\"M83.5845 1459.67 L88.4688 1459.67 L88.4688 1465.55 L83.5845 1465.55 L83.5845 1459.67 Z\" fill=\"#000000\" fill-rule=\"nonzero\" fill-opacity=\"1\" /><path clip-path=\"url(#clip180)\" d=\"M108.654 1434.07 Q105.043 1434.07 103.214 1437.64 Q101.409 1441.18 101.409 1448.31 Q101.409 1455.41 103.214 1458.98 Q105.043 1462.52 108.654 1462.52 Q112.288 1462.52 114.094 1458.98 Q115.922 1455.41 115.922 1448.31 Q115.922 1441.18 114.094 1437.64 Q112.288 1434.07 108.654 1434.07 M108.654 1430.37 Q114.464 1430.37 117.52 1434.97 Q120.598 1439.56 120.598 1448.31 Q120.598 1457.03 117.52 1461.64 Q114.464 1466.22 108.654 1466.22 Q102.844 1466.22 99.765 1461.64 Q96.7095 1457.03 96.7095 1448.31 Q96.7095 1439.56 99.765 1434.97 Q102.844 1430.37 108.654 1430.37 Z\" fill=\"#000000\" fill-rule=\"nonzero\" fill-opacity=\"1\" /><path clip-path=\"url(#clip180)\" d=\"M138.816 1434.07 Q135.205 1434.07 133.376 1437.64 Q131.57 1441.18 131.57 1448.31 Q131.57 1455.41 133.376 1458.98 Q135.205 1462.52 138.816 1462.52 Q142.45 1462.52 144.256 1458.98 Q146.084 1455.41 146.084 1448.31 Q146.084 1441.18 144.256 1437.64 Q142.45 1434.07 138.816 1434.07 M138.816 1430.37 Q144.626 1430.37 147.681 1434.97 Q150.76 1439.56 150.76 1448.31 Q150.76 1457.03 147.681 1461.64 Q144.626 1466.22 138.816 1466.22 Q133.006 1466.22 129.927 1461.64 Q126.871 1457.03 126.871 1448.31 Q126.871 1439.56 129.927 1434.97 Q133.006 1430.37 138.816 1430.37 Z\" fill=\"#000000\" fill-rule=\"nonzero\" fill-opacity=\"1\" /><path clip-path=\"url(#clip180)\" d=\"M64.6495 1161.55 Q61.0384 1161.55 59.2097 1165.11 Q57.4041 1168.65 57.4041 1175.78 Q57.4041 1182.89 59.2097 1186.46 Q61.0384 1190 64.6495 1190 Q68.2837 1190 70.0892 1186.46 Q71.9179 1182.89 71.9179 1175.78 Q71.9179 1168.65 70.0892 1165.11 Q68.2837 1161.55 64.6495 1161.55 M64.6495 1157.84 Q70.4596 1157.84 73.5152 1162.45 Q76.5938 1167.03 76.5938 1175.78 Q76.5938 1184.51 73.5152 1189.12 Q70.4596 1193.7 64.6495 1193.7 Q58.8393 1193.7 55.7606 1189.12 Q52.7051 1184.51 52.7051 1175.78 Q52.7051 1167.03 55.7606 1162.45 Q58.8393 1157.84 64.6495 1157.84 Z\" fill=\"#000000\" fill-rule=\"nonzero\" fill-opacity=\"1\" /><path clip-path=\"url(#clip180)\" d=\"M84.8114 1187.15 L89.6956 1187.15 L89.6956 1193.03 L84.8114 1193.03 L84.8114 1187.15 Z\" fill=\"#000000\" fill-rule=\"nonzero\" fill-opacity=\"1\" /><path clip-path=\"url(#clip180)\" d=\"M109.881 1161.55 Q106.27 1161.55 104.441 1165.11 Q102.635 1168.65 102.635 1175.78 Q102.635 1182.89 104.441 1186.46 Q106.27 1190 109.881 1190 Q113.515 1190 115.32 1186.46 Q117.149 1182.89 117.149 1175.78 Q117.149 1168.65 115.32 1165.11 Q113.515 1161.55 109.881 1161.55 M109.881 1157.84 Q115.691 1157.84 118.746 1162.45 Q121.825 1167.03 121.825 1175.78 Q121.825 1184.51 118.746 1189.12 Q115.691 1193.7 109.881 1193.7 Q104.071 1193.7 100.992 1189.12 Q97.9363 1184.51 97.9363 1175.78 Q97.9363 1167.03 100.992 1162.45 Q104.071 1157.84 109.881 1157.84 Z\" fill=\"#000000\" fill-rule=\"nonzero\" fill-opacity=\"1\" /><path clip-path=\"url(#clip180)\" d=\"M130.853 1189.09 L138.492 1189.09 L138.492 1162.73 L130.182 1164.4 L130.182 1160.14 L138.445 1158.47 L143.121 1158.47 L143.121 1189.09 L150.76 1189.09 L150.76 1193.03 L130.853 1193.03 L130.853 1189.09 Z\" fill=\"#000000\" fill-rule=\"nonzero\" fill-opacity=\"1\" /><path clip-path=\"url(#clip180)\" d=\"M65.0198 889.025 Q61.4087 889.025 59.58 892.59 Q57.7745 896.131 57.7745 903.261 Q57.7745 910.367 59.58 913.932 Q61.4087 917.474 65.0198 917.474 Q68.6541 917.474 70.4596 913.932 Q72.2883 910.367 72.2883 903.261 Q72.2883 896.131 70.4596 892.59 Q68.6541 889.025 65.0198 889.025 M65.0198 885.321 Q70.83 885.321 73.8855 889.928 Q76.9642 894.511 76.9642 903.261 Q76.9642 911.988 73.8855 916.594 Q70.83 921.178 65.0198 921.178 Q59.2097 921.178 56.131 916.594 Q53.0754 911.988 53.0754 903.261 Q53.0754 894.511 56.131 889.928 Q59.2097 885.321 65.0198 885.321 Z\" fill=\"#000000\" fill-rule=\"nonzero\" fill-opacity=\"1\" /><path clip-path=\"url(#clip180)\" d=\"M85.1818 914.627 L90.066 914.627 L90.066 920.506 L85.1818 920.506 L85.1818 914.627 Z\" fill=\"#000000\" fill-rule=\"nonzero\" fill-opacity=\"1\" /><path clip-path=\"url(#clip180)\" d=\"M110.251 889.025 Q106.64 889.025 104.811 892.59 Q103.006 896.131 103.006 903.261 Q103.006 910.367 104.811 913.932 Q106.64 917.474 110.251 917.474 Q113.885 917.474 115.691 913.932 Q117.52 910.367 117.52 903.261 Q117.52 896.131 115.691 892.59 Q113.885 889.025 110.251 889.025 M110.251 885.321 Q116.061 885.321 119.117 889.928 Q122.195 894.511 122.195 903.261 Q122.195 911.988 119.117 916.594 Q116.061 921.178 110.251 921.178 Q104.441 921.178 101.362 916.594 Q98.3067 911.988 98.3067 903.261 Q98.3067 894.511 101.362 889.928 Q104.441 885.321 110.251 885.321 Z\" fill=\"#000000\" fill-rule=\"nonzero\" fill-opacity=\"1\" /><path clip-path=\"url(#clip180)\" d=\"M134.441 916.571 L150.76 916.571 L150.76 920.506 L128.816 920.506 L128.816 916.571 Q131.478 913.817 136.061 909.187 Q140.668 904.534 141.848 903.192 Q144.093 900.668 144.973 898.932 Q145.876 897.173 145.876 895.483 Q145.876 892.729 143.931 890.993 Q142.01 889.256 138.908 889.256 Q136.709 889.256 134.256 890.02 Q131.825 890.784 129.047 892.335 L129.047 887.613 Q131.871 886.479 134.325 885.9 Q136.779 885.321 138.816 885.321 Q144.186 885.321 147.38 888.006 Q150.575 890.692 150.575 895.182 Q150.575 897.312 149.765 899.233 Q148.978 901.131 146.871 903.724 Q146.293 904.395 143.191 907.613 Q140.089 910.807 134.441 916.571 Z\" fill=\"#000000\" fill-rule=\"nonzero\" fill-opacity=\"1\" /><path clip-path=\"url(#clip180)\" d=\"M64.0708 616.502 Q60.4597 616.502 58.631 620.067 Q56.8254 623.608 56.8254 630.738 Q56.8254 637.845 58.631 641.409 Q60.4597 644.951 64.0708 644.951 Q67.705 644.951 69.5105 641.409 Q71.3392 637.845 71.3392 630.738 Q71.3392 623.608 69.5105 620.067 Q67.705 616.502 64.0708 616.502 M64.0708 612.798 Q69.8809 612.798 72.9365 617.405 Q76.0151 621.988 76.0151 630.738 Q76.0151 639.465 72.9365 644.071 Q69.8809 648.655 64.0708 648.655 Q58.2606 648.655 55.1819 644.071 Q52.1264 639.465 52.1264 630.738 Q52.1264 621.988 55.1819 617.405 Q58.2606 612.798 64.0708 612.798 Z\" fill=\"#000000\" fill-rule=\"nonzero\" fill-opacity=\"1\" /><path clip-path=\"url(#clip180)\" d=\"M84.2327 642.104 L89.1169 642.104 L89.1169 647.983 L84.2327 647.983 L84.2327 642.104 Z\" fill=\"#000000\" fill-rule=\"nonzero\" fill-opacity=\"1\" /><path clip-path=\"url(#clip180)\" d=\"M109.302 616.502 Q105.691 616.502 103.862 620.067 Q102.057 623.608 102.057 630.738 Q102.057 637.845 103.862 641.409 Q105.691 644.951 109.302 644.951 Q112.936 644.951 114.742 641.409 Q116.57 637.845 116.57 630.738 Q116.57 623.608 114.742 620.067 Q112.936 616.502 109.302 616.502 M109.302 612.798 Q115.112 612.798 118.168 617.405 Q121.246 621.988 121.246 630.738 Q121.246 639.465 118.168 644.071 Q115.112 648.655 109.302 648.655 Q103.492 648.655 100.413 644.071 Q97.3576 639.465 97.3576 630.738 Q97.3576 621.988 100.413 617.405 Q103.492 612.798 109.302 612.798 Z\" fill=\"#000000\" fill-rule=\"nonzero\" fill-opacity=\"1\" /><path clip-path=\"url(#clip180)\" d=\"M143.631 629.349 Q146.987 630.067 148.862 632.335 Q150.76 634.604 150.76 637.937 Q150.76 643.053 147.242 645.854 Q143.723 648.655 137.242 648.655 Q135.066 648.655 132.751 648.215 Q130.459 647.798 128.006 646.942 L128.006 642.428 Q129.95 643.562 132.265 644.141 Q134.58 644.719 137.103 644.719 Q141.501 644.719 143.793 642.983 Q146.107 641.247 146.107 637.937 Q146.107 634.882 143.955 633.169 Q141.825 631.433 138.006 631.433 L133.978 631.433 L133.978 627.59 L138.191 627.59 Q141.64 627.59 143.468 626.224 Q145.297 624.835 145.297 622.243 Q145.297 619.581 143.399 618.169 Q141.524 616.734 138.006 616.734 Q136.084 616.734 133.885 617.15 Q131.686 617.567 129.047 618.446 L129.047 614.28 Q131.709 613.539 134.024 613.169 Q136.362 612.798 138.422 612.798 Q143.746 612.798 146.848 615.229 Q149.95 617.636 149.95 621.757 Q149.95 624.627 148.306 626.618 Q146.663 628.585 143.631 629.349 Z\" fill=\"#000000\" fill-rule=\"nonzero\" fill-opacity=\"1\" /><path clip-path=\"url(#clip180)\" d=\"M62.9365 343.979 Q59.3254 343.979 57.4967 347.544 Q55.6912 351.086 55.6912 358.215 Q55.6912 365.322 57.4967 368.886 Q59.3254 372.428 62.9365 372.428 Q66.5707 372.428 68.3763 368.886 Q70.205 365.322 70.205 358.215 Q70.205 351.086 68.3763 347.544 Q66.5707 343.979 62.9365 343.979 M62.9365 340.275 Q68.7467 340.275 71.8022 344.882 Q74.8809 349.465 74.8809 358.215 Q74.8809 366.942 71.8022 371.548 Q68.7467 376.132 62.9365 376.132 Q57.1264 376.132 54.0477 371.548 Q50.9921 366.942 50.9921 358.215 Q50.9921 349.465 54.0477 344.882 Q57.1264 340.275 62.9365 340.275 Z\" fill=\"#000000\" fill-rule=\"nonzero\" fill-opacity=\"1\" /><path clip-path=\"url(#clip180)\" d=\"M83.0984 369.581 L87.9827 369.581 L87.9827 375.46 L83.0984 375.46 L83.0984 369.581 Z\" fill=\"#000000\" fill-rule=\"nonzero\" fill-opacity=\"1\" /><path clip-path=\"url(#clip180)\" d=\"M108.168 343.979 Q104.557 343.979 102.728 347.544 Q100.922 351.086 100.922 358.215 Q100.922 365.322 102.728 368.886 Q104.557 372.428 108.168 372.428 Q111.802 372.428 113.608 368.886 Q115.436 365.322 115.436 358.215 Q115.436 351.086 113.608 347.544 Q111.802 343.979 108.168 343.979 M108.168 340.275 Q113.978 340.275 117.033 344.882 Q120.112 349.465 120.112 358.215 Q120.112 366.942 117.033 371.548 Q113.978 376.132 108.168 376.132 Q102.358 376.132 99.2789 371.548 Q96.2234 366.942 96.2234 358.215 Q96.2234 349.465 99.2789 344.882 Q102.358 340.275 108.168 340.275 Z\" fill=\"#000000\" fill-rule=\"nonzero\" fill-opacity=\"1\" /><path clip-path=\"url(#clip180)\" d=\"M141.177 344.974 L129.371 363.423 L141.177 363.423 L141.177 344.974 M139.95 340.9 L145.83 340.9 L145.83 363.423 L150.76 363.423 L150.76 367.312 L145.83 367.312 L145.83 375.46 L141.177 375.46 L141.177 367.312 L125.575 367.312 L125.575 362.798 L139.95 340.9 Z\" fill=\"#000000\" fill-rule=\"nonzero\" fill-opacity=\"1\" /><path clip-path=\"url(#clip180)\" d=\"M1146.91 12.096 L1155.18 12.096 L1167.9 63.2184 L1180.58 12.096 L1189.77 12.096 L1202.49 63.2184 L1215.17 12.096 L1223.48 12.096 L1208.29 72.576 L1198 72.576 L1185.24 20.0763 L1172.35 72.576 L1162.06 72.576 L1146.91 12.096 Z\" fill=\"#000000\" fill-rule=\"nonzero\" fill-opacity=\"1\" /><path clip-path=\"url(#clip180)\" d=\"M1234.33 12.096 L1242.52 12.096 L1242.52 65.6895 L1271.97 65.6895 L1271.97 72.576 L1234.33 72.576 L1234.33 12.096 Z\" fill=\"#000000\" fill-rule=\"nonzero\" fill-opacity=\"1\" /><path clip-path=\"url(#clip180)\" d=\"M1267.55 12.096 L1275.81 12.096 L1288.53 63.2184 L1301.21 12.096 L1310.41 12.096 L1323.13 63.2184 L1335.81 12.096 L1344.11 12.096 L1328.92 72.576 L1318.63 72.576 L1305.87 20.0763 L1292.99 72.576 L1282.7 72.576 L1267.55 12.096 Z\" fill=\"#000000\" fill-rule=\"nonzero\" fill-opacity=\"1\" /><path clip-path=\"url(#clip180)\" d=\"M1354.97 12.096 L1363.15 12.096 L1363.15 65.6895 L1392.6 65.6895 L1392.6 72.576 L1354.97 72.576 L1354.97 12.096 Z\" fill=\"#000000\" fill-rule=\"nonzero\" fill-opacity=\"1\" /><polyline clip-path=\"url(#clip182)\" style=\"stroke:#009af9; stroke-linecap:round; stroke-linejoin:round; stroke-width:4; stroke-opacity:1; fill:none\" points=\"248.062,182.572 256.612,600.295 265.161,973.264 273.711,1170.23 282.261,1278.13 290.811,1338.87 299.36,1374.84 307.91,1393.65 316.46,1403.94 325.01,1413.64 333.559,1421.91 342.109,1427.84 350.659,1432.91 359.209,1436.83 367.758,1439.71 376.308,1442.04 384.858,1443.69 393.408,1444.99 401.958,1445.91 410.507,1446.59 419.057,1447.09 427.607,1447.44 436.157,1447.69 444.706,1447.87 453.256,369.617 461.806,552.919 470.356,891.531 478.905,1101.19 487.455,1226.42 496.005,1301.64 504.555,1347.73 513.104,1372.22 521.654,1385.64 530.204,1398.68 538.754,1410.09 547.303,1418.34 555.853,1425.56 564.403,1431.18 572.953,1435.37 581.502,1438.8 590.052,1441.25 598.602,1443.21 607.152,1444.6 615.701,1445.64 624.251,1446.4 632.801,1446.95 641.351,1447.34 649.901,1447.63 658.45,162.047 667,193.95 675.55,564.938 684.1,844.758 692.649,1034.82 701.199,1161.56 709.749,1244.12 718.299,1289.02 726.848,1313.73 735.398,1339.25 743.948,1362.57 752.498,1379.86 761.047,1395.51 769.597,1407.99 778.147,1417.47 786.697,1425.39 795.246,1431.13 803.796,1435.77 812.346,1439.13 820.896,1441.65 829.445,1443.54 837.995,1444.9 846.545,1445.89 855.095,1446.6 863.644,429.372 872.194,517.853 880.744,819.776 889.294,1029.9 897.844,1165.15 906.393,1253.92 914.943,1310.9 923.493,1341.58 932.043,1358.48 940.592,1375.78 949.142,1391.45 957.692,1403.02 966.242,1413.44 974.791,1421.73 983.341,1428.01 991.891,1433.24 1000.44,1437.02 1008.99,1440.07 1017.54,1442.28 1026.09,1443.94 1034.64,1445.17 1043.19,1446.06 1051.74,1446.71 1060.29,1447.18 1068.84,423.834 1077.39,537.886 1085.94,844.779 1094.49,1059.89 1103.04,1189.4 1111.59,1272.78 1120.14,1325.74 1128.69,1353.98 1137.24,1369.41 1145.79,1384.89 1154.34,1398.89 1162.89,1409.07 1171.44,1418.22 1179.99,1425.41 1188.54,1430.86 1197.09,1435.38 1205.63,1438.62 1214.18,1441.27 1222.73,1443.16 1231.28,1444.58 1239.83,1445.64 1248.38,1446.4 1256.93,1446.96 1265.48,1447.35 1274.03,615.391 1282.58,466.626 1291.13,639.653 1299.68,859.852 1308.23,1017.36 1316.78,1134.94 1325.33,1219.14 1333.88,1264.94 1342.43,1289.57 1350.98,1316.99 1359.53,1343.27 1368.08,1362.98 1376.63,1381.53 1385.18,1396.53 1393.73,1408.2 1402.28,1418.12 1410.83,1425.39 1419.38,1431.44 1427.93,1435.82 1436.48,1439.18 1445.03,1441.7 1453.58,1443.54 1462.13,1444.91 1470.68,1445.89 1479.23,708.705 1487.78,626.5 1496.33,789.441 1504.88,980.577 1513.43,1110.2 1521.98,1203.91 1530.53,1270.79 1539.08,1306.76 1547.63,1326 1556.17,1347.42 1564.72,1367.74 1573.27,1382.95 1581.82,1397.2 1590.37,1408.69 1598.92,1417.64 1607.47,1425.23 1616.02,1430.79 1624.57,1435.41 1633.12,1438.75 1641.67,1441.31 1650.22,1443.24 1658.77,1444.65 1667.32,1445.69 1675.87,1446.45 1684.42,930.741 1692.97,788.132 1701.52,818.601 1710.07,947.708 1718.62,1065.14 1727.17,1151.59 1735.72,1220.55 1744.27,1261.25 1752.82,1281.11 1761.37,1305.45 1769.92,1331.18 1778.47,1350.91 1787.02,1370.38 1795.57,1386.69 1804.12,1399.7 1812.67,1411.13 1821.22,1419.65 1829.77,1426.93 1838.32,1432.28 1846.87,1436.47 1855.42,1439.65 1863.97,1442.01 1872.52,1443.79 1881.07,1445.08 1889.62,1164.32 1898.17,1063.02 1906.72,1051.51 1915.26,1112.32 1923.81,1185.26 1932.36,1241.18 1940.91,1285.71 1949.46,1312.89 1958.01,1326.4 1966.56,1343.18 1975.11,1361.36 1983.66,1375.59 1992.21,1389.77 2000.76,1401.79 2009.31,1411.44 2017.86,1419.99 2026.41,1426.38 2034.96,1431.87 2043.51,1435.93 2052.06,1439.12 2060.61,1441.56 2069.16,1443.37 2077.71,1444.74 2086.26,1445.74 2094.81,1182.19 2103.36,1133.93 2111.91,1150.14 2120.46,1199.33 2129.01,1257.54 2137.56,1303.19 2146.11,1335.33 2154.66,1353.61 2163.21,1363.29 2171.76,1375.42 2180.31,1387.81 2188.86,1397.59 2197.41,1407.44 2205.96,1415.76 2214.51,1422.47 2223.06,1428.41 2231.61,1432.87 2240.16,1436.69 2248.71,1439.55 2257.26,1441.8 2265.8,1443.52 2274.35,1444.81 2282.9,1445.77 2291.45,1446.48 \"/>\n",
       "<path clip-path=\"url(#clip180)\" d=\"M2011.53 272.585 L2280.56 272.585 L2280.56 168.905 L2011.53 168.905  Z\" fill=\"#ffffff\" fill-rule=\"evenodd\" fill-opacity=\"1\"/>\n",
       "<polyline clip-path=\"url(#clip180)\" style=\"stroke:#000000; stroke-linecap:round; stroke-linejoin:round; stroke-width:4; stroke-opacity:1; fill:none\" points=\"2011.53,272.585 2280.56,272.585 2280.56,168.905 2011.53,168.905 2011.53,272.585 \"/>\n",
       "<polyline clip-path=\"url(#clip180)\" style=\"stroke:#009af9; stroke-linecap:round; stroke-linejoin:round; stroke-width:4; stroke-opacity:1; fill:none\" points=\"2035.59,220.745 2179.99,220.745 \"/>\n",
       "<path clip-path=\"url(#clip180)\" d=\"M2217.9 240.432 Q2216.1 245.062 2214.38 246.474 Q2212.67 247.886 2209.8 247.886 L2206.4 247.886 L2206.4 244.321 L2208.9 244.321 Q2210.66 244.321 2211.63 243.488 Q2212.6 242.654 2213.78 239.552 L2214.55 237.608 L2204.06 212.099 L2208.57 212.099 L2216.67 232.377 L2224.78 212.099 L2229.29 212.099 L2217.9 240.432 Z\" fill=\"#000000\" fill-rule=\"nonzero\" fill-opacity=\"1\" /><path clip-path=\"url(#clip180)\" d=\"M2236.58 234.089 L2244.22 234.089 L2244.22 207.724 L2235.91 209.391 L2235.91 205.131 L2244.17 203.465 L2248.85 203.465 L2248.85 234.089 L2256.49 234.089 L2256.49 238.025 L2236.58 238.025 L2236.58 234.089 Z\" fill=\"#000000\" fill-rule=\"nonzero\" fill-opacity=\"1\" /></svg>\n"
      ]
     },
     "execution_count": 20,
     "metadata": {},
     "output_type": "execute_result"
    }
   ],
   "source": [
    "plot(abs.(diag(meta_wlwl.cov) .- diag(C_mod)) ./ diag(meta_wlwl.cov),  title=\"WLWL\")\n"
   ]
  },
  {
   "cell_type": "code",
   "execution_count": null,
   "id": "24092f5f",
   "metadata": {},
   "outputs": [],
   "source": [
    "npzwrite(\"../../data/DESY1/nzs/wlwl_dz_cov_marg.npz\",\n",
    "        Dict(\"cov_marg\" => C_mod,\n",
    "             \"inv_cov_marg\" => inv_C_mod))"
   ]
  },
  {
   "cell_type": "code",
   "execution_count": null,
   "id": "bbbd999c",
   "metadata": {},
   "outputs": [],
   "source": [
    "C_mod = make_Cmod_Nz(cov_k0, cov_k1, cov_k2, cov_k3; cosmo=cosmo)\n",
    "inv_C_mod = inv(C_mod);"
   ]
  },
  {
   "cell_type": "code",
   "execution_count": null,
   "id": "214e6089",
   "metadata": {},
   "outputs": [],
   "source": [
    "plot(abs.(diag(wlwl_meta.cov) .- diag(C_mod)) ./ diag(wlwl_meta.cov), label=\"cosmo1\", title=\"Nz - abs(C'-C) / C\")"
   ]
  },
  {
   "cell_type": "code",
   "execution_count": null,
   "id": "e452258d",
   "metadata": {},
   "outputs": [],
   "source": [
    "npzwrite(\"../../data/DESY1/nzs/wlwl_nz_cov_marg.npz\",\n",
    "        Dict(\"cov_marg\" => C_mod,\n",
    "             \"inv_cov_marg\" => inv_C_mod))"
   ]
  },
  {
   "cell_type": "markdown",
   "id": "07c89a23",
   "metadata": {},
   "source": [
    "## T-Matrices gcgc"
   ]
  },
  {
   "cell_type": "code",
   "execution_count": null,
   "id": "6fc61eb2",
   "metadata": {},
   "outputs": [],
   "source": [
    "function model_cov_dz_gc(x; meta=gcgc_meta, files=gcgc_files, cosmo=cosmo) \n",
    "    #cosmology.settings.cosmo_type = Real\n",
    "    nuisances = Dict(\"DESgc__0_b\" => 1.49,\n",
    "                     \"DESgc__1_b\" => 1.81,\n",
    "                     \"DESgc__2_b\" => 1.79,\n",
    "                     \"DESgc__3_b\" => 2.18,\n",
    "                     \"DESgc__4_b\" => 2.24,\n",
    "                     \"DESgc__0_dz\" => x[1],\n",
    "                     \"DESgc__1_dz\" => x[2],\n",
    "                     \"DESgc__2_dz\" => x[3],\n",
    "                     \"DESgc__3_dz\" => x[4],\n",
    "                     \"DESgc__4_dz\" => x[5])    \n",
    "    return Theory(cosmo, meta, files; Nuisances=nuisances)\n",
    "end;"
   ]
  },
  {
   "cell_type": "code",
   "execution_count": null,
   "id": "f6a96f09",
   "metadata": {},
   "outputs": [],
   "source": [
    "function model_cov_nz_gc(DESgc__0_nz, DESgc__1_nz, DESgc__2_nz, DESgc__3_nz, DESgc__4_nz;\n",
    "                      meta=gcgc_meta, files=gcgc_files, cosmo=cosmo) \n",
    "    #cosmology.settings.cosmo_type = Real\n",
    "    nuisances = Dict(\"DESgc__0_b\" => 1.49,\n",
    "                     \"DESgc__1_b\" => 1.81,\n",
    "                     \"DESgc__2_b\" => 1.79,\n",
    "                     \"DESgc__3_b\" => 2.18,\n",
    "                     \"DESgc__4_b\" => 2.24,   \n",
    "                     \"DESgc__0_nz\" => DESgc__0_nz,\n",
    "                     \"DESgc__1_nz\" => DESgc__1_nz,\n",
    "                     \"DESgc__2_nz\" => DESgc__2_nz,\n",
    "                     \"DESgc__3_nz\" => DESgc__3_nz,\n",
    "                     \"DESgc__4_nz\" => DESgc__4_nz)  \n",
    "    return Theory(cosmo, meta, files; Nuisances=nuisances)\n",
    "end;"
   ]
  },
  {
   "cell_type": "code",
   "execution_count": null,
   "id": "f2a2a674",
   "metadata": {},
   "outputs": [],
   "source": [
    "function make_Cmod_dz_gc(dz_cov; cosmo=cosmo, meta=gcgc_meta)\n",
    "    d = 0.00005\n",
    "    n_cls = 47\n",
    "    m  = 5\n",
    "    T = zeros(n_cls, m)\n",
    "    for i in 1:m\n",
    "        dz = zeros(m)\n",
    "        e = zeros(m)\n",
    "        e[i] = d\n",
    "        T[:, i] = (model_cov_dz_gc(dz.+e; cosmo=cosmo) .- model_cov_dz_gc(dz.-e; cosmo=cosmo)) ./ (2*d)\n",
    "    end\n",
    "    TPT = T * dz_cov * T'\n",
    "    Cmod = Symmetric(meta.cov + TPT)\n",
    "    return Cmod\n",
    "end"
   ]
  },
  {
   "cell_type": "code",
   "execution_count": null,
   "id": "dedd841c",
   "metadata": {},
   "outputs": [],
   "source": [
    "function make_Cmod_Nz_gc(cov_k0, cov_k1, cov_k2, cov_k3, cov_k4; cosmo=cosmo, meta=gcgc_meta)\n",
    "    d = 0.005\n",
    "    n_cls = 47\n",
    "    m  = length(nz_0)\n",
    "    println(m)\n",
    "    T0 = zeros(n_cls, m)\n",
    "    T1 = zeros(n_cls, m)\n",
    "    T2 = zeros(n_cls, m)\n",
    "    T3 = zeros(n_cls, m)\n",
    "    T4 = zeros(n_cls, m)\n",
    "\n",
    "    for i in 1:m\n",
    "        e = zeros(m)\n",
    "        e[i] = d\n",
    "        T0[:, i] = (model_cov_nz_gc(nz_0.+e, nz_1, nz_2, nz_3, nz_4; cosmo=cosmo) .- model_cov_nz_gc(nz_0.-e, nz_1, nz_2, nz_3, nz_4; cosmo=cosmo)) ./ (2*d)\n",
    "        T1[:, i] = (model_cov_nz_gc(nz_0, nz_1.+e, nz_2, nz_3, nz_4; cosmo=cosmo) .- model_cov_nz_gc(nz_0, nz_1.-e, nz_2, nz_3, nz_4; cosmo=cosmo)) ./ (2*d)\n",
    "        T2[:, i] = (model_cov_nz_gc(nz_0, nz_1, nz_2.+e, nz_3, nz_4; cosmo=cosmo) .- model_cov_nz_gc(nz_0, nz_1, nz_2.-e, nz_3, nz_4; cosmo=cosmo)) ./ (2*d)\n",
    "        T3[:, i] = (model_cov_nz_gc(nz_0, nz_1, nz_2, nz_3.+e, nz_4; cosmo=cosmo) .- model_cov_nz_gc(nz_0, nz_1, nz_2, nz_3.-e, nz_4; cosmo=cosmo)) ./ (2*d)\n",
    "        T4[:, i] = (model_cov_nz_gc(nz_0, nz_1, nz_2, nz_3, nz_4.+e; cosmo=cosmo) .- model_cov_nz_gc(nz_0, nz_1, nz_2, nz_3, nz_4.+e; cosmo=cosmo)) ./ (2*d)\n",
    "    end\n",
    "    TT0 = T0 * (cov_k0) * T0'\n",
    "    TT1 = T1 * (cov_k1) * T1'\n",
    "    TT2 = T2 * (cov_k2) * T2'\n",
    "    TT3 = T3 * (cov_k3) * T3'\n",
    "    TT4 = T4 * (cov_k4) * T4';\n",
    "    Cmod = Symmetric(meta.cov + TT0 + TT1 + TT2 + TT3 + TT4)\n",
    "    return Cmod\n",
    "end"
   ]
  },
  {
   "cell_type": "code",
   "execution_count": null,
   "id": "376033fe",
   "metadata": {},
   "outputs": [],
   "source": [
    "nz_0 = pyconvert(Vector{Float64}, nz_DESgc__0[\"dndz\"])\n",
    "nz_1 = pyconvert(Vector{Float64}, nz_DESgc__1[\"dndz\"])\n",
    "nz_2 = pyconvert(Vector{Float64}, nz_DESgc__2[\"dndz\"])\n",
    "nz_3 = pyconvert(Vector{Float64}, nz_DESgc__3[\"dndz\"])\n",
    "nz_4 = pyconvert(Vector{Float64}, nz_DESgc__4[\"dndz\"]);"
   ]
  },
  {
   "cell_type": "code",
   "execution_count": null,
   "id": "0d2b99e6",
   "metadata": {},
   "outputs": [],
   "source": [
    "cov_k0 = pyconvert(Vector{Vector{Float64}}, nz_DESgc__0[\"cov\"])\n",
    "cov_k0 = Diagonal(permutedims(hcat(cov_k0...)))\n",
    "\n",
    "cov_k1 = pyconvert(Vector{Vector{Float64}}, nz_DESgc__1[\"cov\"])\n",
    "cov_k1 = Diagonal(permutedims(hcat(cov_k1...)))\n",
    "\n",
    "cov_k2 = pyconvert(Vector{Vector{Float64}}, nz_DESgc__2[\"cov\"])\n",
    "cov_k2 = Diagonal(permutedims(hcat(cov_k2...)))\n",
    "    \n",
    "cov_k3 = pyconvert(Vector{Vector{Float64}}, nz_DESgc__3[\"cov\"])\n",
    "cov_k3 = Diagonal(permutedims(hcat(cov_k3...)))\n",
    "\n",
    "cov_k4 = pyconvert(Vector{Vector{Float64}}, nz_DESgc__4[\"cov\"])\n",
    "cov_k4 = Diagonal(permutedims(hcat(cov_k4...)));"
   ]
  },
  {
   "cell_type": "code",
   "execution_count": null,
   "id": "b683b9ac",
   "metadata": {},
   "outputs": [],
   "source": [
    "cosmo = Cosmology(0.30, 0.05, 0.67, 0.96, 0.81,\n",
    "                  tk_mode=\"EisHu\", \n",
    "                  Pk_mode=\"Halofit\");"
   ]
  },
  {
   "cell_type": "code",
   "execution_count": null,
   "id": "da7617ec",
   "metadata": {
    "scrolled": true
   },
   "outputs": [],
   "source": [
    "dz_cov = [0.007^2 0 0 0 0; \n",
    "          0 0.007^2 0 0 0;\n",
    "          0 0 0.006^2 0 0;\n",
    "          0 0 0 0.010^2 0;\n",
    "          0 0 0 0 0.010^2]\n",
    "C_mod = make_Cmod_dz_gc(dz_cov; cosmo=cosmo)\n",
    "inv_C_mod = inv(C_mod);"
   ]
  },
  {
   "cell_type": "code",
   "execution_count": null,
   "id": "bb866ceb",
   "metadata": {
    "scrolled": false
   },
   "outputs": [],
   "source": [
    "plot(abs.(diag(gcgc_meta.cov) .- diag(C_mod)) ./ diag(gcgc_meta.cov), label=\"cosmo1\", title=\"dz --- abs(C'-C) / C\")\n",
    "plot!([5, 13, 23, 34, 47], [0, 0, 0, 0, 0], seriestype=:scatter)\n"
   ]
  },
  {
   "cell_type": "code",
   "execution_count": null,
   "id": "24f6d9c0",
   "metadata": {},
   "outputs": [],
   "source": [
    "npzwrite(\"../../data/DESY1/nzs/gcgc_dz_cov_marg.npz\",\n",
    "        Dict(\"cov_marg\" => C_mod,\n",
    "             \"inv_cov_marg\" => inv_C_mod))"
   ]
  },
  {
   "cell_type": "code",
   "execution_count": null,
   "id": "29d4c404",
   "metadata": {},
   "outputs": [],
   "source": [
    "C_mod = make_Cmod_Nz_gc(cov_k0, cov_k1, cov_k2, cov_k3, cov_k4; cosmo=cosmo)\n",
    "inv_C_mod = inv(C_mod);"
   ]
  },
  {
   "cell_type": "code",
   "execution_count": null,
   "id": "d2c28b4d",
   "metadata": {},
   "outputs": [],
   "source": [
    "plot(abs.(diag(gcgc_meta.cov) .- diag(C_mod)) ./ diag(gcgc_meta.cov), label=\"cosmo1\", title=\"Nz - abs(C'-C) / C\")\n",
    "plot!([5, 13, 23, 34, 47], [0, 0, 0, 0, 0], seriestype=:scatter)\n"
   ]
  },
  {
   "cell_type": "code",
   "execution_count": null,
   "id": "9f9f5611",
   "metadata": {},
   "outputs": [],
   "source": [
    "npzwrite(\"../../data/DESY1/nzs/gcgc_nz_cov_marg.npz\",\n",
    "        Dict(\"cov_marg\" => C_mod,\n",
    "             \"inv_cov_marg\" => inv_C_mod))"
   ]
  },
  {
   "cell_type": "code",
   "execution_count": null,
   "id": "9c5b0e4b",
   "metadata": {},
   "outputs": [],
   "source": []
  },
  {
   "cell_type": "code",
   "execution_count": null,
   "id": "a91cd051",
   "metadata": {},
   "outputs": [],
   "source": []
  }
 ],
 "metadata": {
  "kernelspec": {
   "display_name": "Julia (10 threads) 1.9.4",
   "language": "julia",
   "name": "julia-_10-threads_-1.9"
  },
  "language_info": {
   "file_extension": ".jl",
   "mimetype": "application/julia",
   "name": "julia",
   "version": "1.9.4"
  }
 },
 "nbformat": 4,
 "nbformat_minor": 5
}
