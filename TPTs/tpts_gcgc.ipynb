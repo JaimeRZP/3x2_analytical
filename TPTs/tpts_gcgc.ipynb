{
 "cells": [
  {
   "cell_type": "code",
   "execution_count": 1,
   "id": "10e5764a",
   "metadata": {},
   "outputs": [
    {
     "name": "stderr",
     "output_type": "stream",
     "text": [
      "\u001b[32m\u001b[1m  Activating\u001b[22m\u001b[39m project at `~/Documents/UCL/3x2_analytical`\n"
     ]
    }
   ],
   "source": [
    "using Pkg\n",
    "Pkg.activate(\"../\")\n",
    "#Pkg.instantiate()"
   ]
  },
  {
   "cell_type": "code",
   "execution_count": 2,
   "id": "02df9ee7",
   "metadata": {},
   "outputs": [
    {
     "name": "stderr",
     "output_type": "stream",
     "text": [
      "\u001b[32m\u001b[1m    CondaPkg \u001b[22m\u001b[39m\u001b[0mFound dependencies: /home/jaimerzp/Documents/UCL/3x2_analytical/CondaPkg.toml\n",
      "\u001b[32m\u001b[1m    CondaPkg \u001b[22m\u001b[39m\u001b[0mFound dependencies: /home/jaimerzp/.julia/packages/PythonCall/Nr75f/CondaPkg.toml\n",
      "\u001b[32m\u001b[1m    CondaPkg \u001b[22m\u001b[39m\u001b[0mDependencies already up to date\n"
     ]
    }
   ],
   "source": [
    "using LinearAlgebra\n",
    "using ForwardDiff\n",
    "using Plots\n",
    "using LimberJack\n",
    "using CSV\n",
    "using YAML\n",
    "using NPZ\n",
    "using DataFrames\n",
    "using PythonCall\n",
    "using Statistics\n",
    "using Interpolations\n",
    "using SparseArrays\n",
    "sacc = pyimport(\"sacc\");"
   ]
  },
  {
   "cell_type": "markdown",
   "id": "9cc48b85",
   "metadata": {},
   "source": [
    "# Judith's Chain"
   ]
  },
  {
   "cell_type": "code",
   "execution_count": 3,
   "id": "95021235",
   "metadata": {},
   "outputs": [],
   "source": [
    "#using DelimitedFiles\n",
    "#chain = readdlm(\"/home/jaimerzp/Documents/UCL/3x2_analytical/data/CosmoDC2/cosmodc2_3x2pt_fourier_lcdm.txt\");"
   ]
  },
  {
   "cell_type": "code",
   "execution_count": 4,
   "id": "8d035461",
   "metadata": {},
   "outputs": [],
   "source": [
    "#chain_vals = chain[200:end, :]\n",
    "#param_names = chain[1, :];\n",
    "\n",
    "#post = chain_vals[:, 32]\n",
    "#index_of_min = argmax(post)\n",
    "#row_with_min = chain_vals[index_of_min, :]\n",
    "#Wm = row_with_min[1]+row_with_min[2]\n",
    "#Wb = row_with_min[2]\n",
    "#h0 = row_with_min[5]\n",
    "#ns = row_with_min[3]\n",
    "#s8 = row_with_min[29]\n",
    "#best_params = [Wm, Wb, h0, s8, ns]\n",
    "#print(best_params)\n",
    "\n",
    "#nuisances = Dict(\n",
    "#    \"lens_0_b\" => row_with_min[13],\n",
    "#    \"lens_1_b\" => row_with_min[14],\n",
    "#    \"lens_2_b\" => row_with_min[15],\n",
    "#    \"lens_3_b\" => row_with_min[16],\n",
    "#    \"lens_4_b\" => row_with_min[17],\n",
    "#    \"source_0_m\" => row_with_min[8],\n",
    "#    \"source_1_m\" => row_with_min[9],\n",
    "#    \"source_2_m\" => row_with_min[10],\n",
    "#    \"source_3_m\" => row_with_min[11],\n",
    "#    \"source_4_m\" => row_with_min[12])"
   ]
  },
  {
   "cell_type": "code",
   "execution_count": 5,
   "id": "07117090",
   "metadata": {},
   "outputs": [
    {
     "data": {
      "text/plain": [
       "make_Cmod (generic function with 1 method)"
      ]
     },
     "execution_count": 5,
     "metadata": {},
     "output_type": "execute_result"
    }
   ],
   "source": [
    "function make_Cmod(m, model)\n",
    "    T = ForwardDiff.jacobian(model, zeros(m))\n",
    "    return T * T'\n",
    "end"
   ]
  },
  {
   "cell_type": "markdown",
   "metadata": {},
   "source": [
    "## Data"
   ]
  },
  {
   "cell_type": "code",
   "execution_count": 6,
   "id": "69e20555",
   "metadata": {},
   "outputs": [
    {
     "name": "stdout",
     "output_type": "stream",
     "text": [
      "lens_0 lens_0 6\n",
      "lens_1 lens_1 7\n",
      "lens_2 lens_2 8\n",
      "lens_3 lens_3 9\n",
      "lens_4 lens_4 9\n",
      "using custom nz for nz_lens_0\n",
      "using custom nz for nz_lens_1\n",
      "using custom nz for nz_lens_2\n",
      "using custom nz for nz_lens_3\n",
      "using custom nz for nz_lens_4\n"
     ]
    }
   ],
   "source": [
    "method = \"bpz\"\n",
    "sacc_path = \"../data/CosmoDC2/summary_statistics_fourier_tjpcov.sacc\"\n",
    "yaml_path = \"../data/CosmoDC2/gcgc.yml\"\n",
    "nz_path = string(\"../data/CosmoDC2/image_dz_\", method, \"_priors/\")\n",
    "\n",
    "sacc_file = sacc.Sacc().load_fits(sacc_path)\n",
    "yaml_file = YAML.load_file(yaml_path)\n",
    "\n",
    "nz_lens_0 = npzread(string(nz_path, \"dz_lens_0.npz\"))\n",
    "nz_lens_1 = npzread(string(nz_path, \"dz_lens_1.npz\"))\n",
    "nz_lens_2 = npzread(string(nz_path, \"dz_lens_2.npz\"))\n",
    "nz_lens_3 = npzread(string(nz_path, \"dz_lens_3.npz\"))\n",
    "nz_lens_4 = npzread(string(nz_path, \"dz_lens_4.npz\"))\n",
    "\n",
    "meta, files = make_data(sacc_file, yaml_file;\n",
    "    nz_lens_0=nz_lens_0,\n",
    "    nz_lens_1=nz_lens_1,\n",
    "    nz_lens_2=nz_lens_2,\n",
    "    nz_lens_3=nz_lens_3,\n",
    "    nz_lens_4=nz_lens_4)\n",
    "\n",
    "meta.types = [ \n",
    "    \"galaxy_density\",\n",
    "    \"galaxy_density\",\n",
    "    \"galaxy_density\",\n",
    "    \"galaxy_density\",\n",
    "    \"galaxy_density\"];"
   ]
  },
  {
   "cell_type": "markdown",
   "id": "197767da",
   "metadata": {},
   "source": [
    "## dZ"
   ]
  },
  {
   "cell_type": "code",
   "execution_count": 7,
   "id": "ac4483a7",
   "metadata": {},
   "outputs": [],
   "source": [
    "nz_path = string(\"../data/CosmoDC2/image_dz_\", method, \"_priors/\")\n",
    "nz_lens_0 = npzread(string(nz_path, \"dz_lens_0.npz\"))\n",
    "nz_lens_1 = npzread(string(nz_path, \"dz_lens_1.npz\"))\n",
    "nz_lens_2 = npzread(string(nz_path, \"dz_lens_2.npz\"))\n",
    "nz_lens_3 = npzread(string(nz_path, \"dz_lens_3.npz\"))\n",
    "nz_lens_4 = npzread(string(nz_path, \"dz_lens_4.npz\"))\n",
    "zs_k0, nz_k0 = nz_lens_0[\"z\"], nz_lens_0[\"dndz\"]\n",
    "zs_k1, nz_k1 = nz_lens_1[\"z\"], nz_lens_1[\"dndz\"]\n",
    "zs_k2, nz_k2 = nz_lens_2[\"z\"], nz_lens_2[\"dndz\"]\n",
    "zs_k3, nz_k3 = nz_lens_3[\"z\"], nz_lens_3[\"dndz\"]\n",
    "zs_k4, nz_k4 = nz_lens_4[\"z\"], nz_lens_4[\"dndz\"]\n",
    "chol_lens_0 = nz_lens_0[\"chol\"]\n",
    "chol_lens_1 = nz_lens_1[\"chol\"]\n",
    "chol_lens_2 = nz_lens_2[\"chol\"]\n",
    "chol_lens_3 = nz_lens_3[\"chol\"]\n",
    "chol_lens_4 = nz_lens_4[\"chol\"];"
   ]
  },
  {
   "cell_type": "code",
   "execution_count": 8,
   "id": "a6215897",
   "metadata": {},
   "outputs": [],
   "source": [
    "function model_dz(alphas; \n",
    "    Ωm=0.27347, σ8=0.779007, Ωb=0.04217, h=0.71899, ns=0.99651,\n",
    "    lens_0_b=0.879118, \n",
    "    lens_1_b=1.05894, \n",
    "    lens_2_b=1.22145, \n",
    "    lens_3_b=1.35065, \n",
    "    lens_4_b=1.58909,\n",
    "    meta=meta, files=files)\n",
    "\n",
    "    dz_lens_0 = chol_lens_0 * alphas[1]\n",
    "    dz_lens_1 = chol_lens_1 * alphas[2]\n",
    "    dz_lens_2 = chol_lens_2 * alphas[3]\n",
    "    dz_lens_3 = chol_lens_3 * alphas[4]\n",
    "    dz_lens_4 = chol_lens_4 * alphas[5]\n",
    "\n",
    "    lens_0_zs   = @.(zs_k0 + dz_lens_0)\n",
    "    lens_1_zs   = @.(zs_k1 + dz_lens_1)\n",
    "    lens_2_zs   = @.(zs_k2 + dz_lens_2)\n",
    "    lens_3_zs   = @.(zs_k3 + dz_lens_3)\n",
    "    lens_4_zs   = @.(zs_k4 + dz_lens_4)\n",
    "\n",
    "    nuisances = Dict(\n",
    "    \"lens_0_b\"    => lens_0_b,\n",
    "    \"lens_1_b\"    => lens_1_b,\n",
    "    \"lens_2_b\"    => lens_2_b,\n",
    "    \"lens_3_b\"    => lens_3_b,\n",
    "    \"lens_4_b\"    => lens_4_b,\n",
    "    \"lens_0_zs\"   => lens_0_zs,\n",
    "    \"lens_1_zs\"   => lens_1_zs,\n",
    "    \"lens_2_zs\"   => lens_2_zs,\n",
    "    \"lens_3_zs\"   => lens_3_zs,\n",
    "    \"lens_4_zs\"   => lens_4_zs)\n",
    "        \n",
    "    cosmo = Cosmology(Ωm=Ωm, Ωb=Ωb, h=h, ns=ns, σ8=σ8,\n",
    "        tk_mode=:EisHu,\n",
    "        pk_mode=:Halofit)\n",
    "\n",
    "    cosmo.settings.cosmo_type = eltype(valtype(alphas))\n",
    "    return Theory(cosmo, meta, files; Nuisances=nuisances)\n",
    "end;"
   ]
  },
  {
   "cell_type": "code",
   "execution_count": 9,
   "id": "f1afeda2",
   "metadata": {},
   "outputs": [],
   "source": [
    "Cmod_dz = make_Cmod(10, model_dz);"
   ]
  },
  {
   "cell_type": "markdown",
   "id": "e22b75b0",
   "metadata": {},
   "source": [
    "## wzdz"
   ]
  },
  {
   "cell_type": "code",
   "execution_count": 10,
   "id": "e7be8345",
   "metadata": {},
   "outputs": [],
   "source": [
    "nz_path = string(\"../data/CosmoDC2/image_wzdz_\", method, \"_priors/\")\n",
    "nz_lens_0 = npzread(string(nz_path, \"wzdz_lens_0.npz\"))\n",
    "nz_lens_1 = npzread(string(nz_path, \"wzdz_lens_1.npz\"))\n",
    "nz_lens_2 = npzread(string(nz_path, \"wzdz_lens_2.npz\"))\n",
    "nz_lens_3 = npzread(string(nz_path, \"wzdz_lens_3.npz\"))\n",
    "nz_lens_4 = npzread(string(nz_path, \"wzdz_lens_4.npz\"))\n",
    "\n",
    "zs_k0, nz_k0 = nz_lens_0[\"z\"], nz_lens_0[\"dndz\"]\n",
    "zs_k1, nz_k1 = nz_lens_1[\"z\"], nz_lens_1[\"dndz\"]\n",
    "zs_k2, nz_k2 = nz_lens_2[\"z\"], nz_lens_2[\"dndz\"]\n",
    "zs_k3, nz_k3 = nz_lens_3[\"z\"], nz_lens_3[\"dndz\"]\n",
    "zs_k4, nz_k4 = nz_lens_4[\"z\"], nz_lens_4[\"dndz\"]\n",
    "\n",
    "mu_k0 = sum(zs_k0 .* nz_k0) / sum(nz_k0)\n",
    "mu_k1 = sum(zs_k1 .* nz_k1) / sum(nz_k1)\n",
    "mu_k2 = sum(zs_k2 .* nz_k2) / sum(nz_k2)\n",
    "mu_k3 = sum(zs_k3 .* nz_k3) / sum(nz_k3)\n",
    "mu_k4 = sum(zs_k4 .* nz_k4) / sum(nz_k4)\n",
    "\n",
    "chol_lens_0 = nz_lens_0[\"chol\"]\n",
    "chol_lens_1 = nz_lens_1[\"chol\"]\n",
    "chol_lens_2 = nz_lens_2[\"chol\"]\n",
    "chol_lens_3 = nz_lens_3[\"chol\"]\n",
    "chol_lens_4 = nz_lens_4[\"chol\"];"
   ]
  },
  {
   "cell_type": "code",
   "execution_count": 11,
   "id": "f53abe3b",
   "metadata": {},
   "outputs": [],
   "source": [
    "function model_wzdz(alphas; \n",
    "    Ωm=0.27347, σ8=0.779007, Ωb=0.04217, h=0.71899, ns=0.99651,\n",
    "    lens_0_b=0.879118, \n",
    "    lens_1_b=1.05894, \n",
    "    lens_2_b=1.22145, \n",
    "    lens_3_b=1.35065, \n",
    "    lens_4_b=1.58909,\n",
    "    meta=meta, files=files)\n",
    "\n",
    "    snw_lens_0 = chol_lens_0 * alphas[1:2]\n",
    "    dz_lens_0 = snw_lens_0[1]\n",
    "    wz_lens_0 = 1 + snw_lens_0[2]\n",
    "\n",
    "    snw_lens_1 = chol_lens_1 * alphas[3:4]\n",
    "    dz_lens_1 = snw_lens_1[1]\n",
    "    wz_lens_1 = 1 + snw_lens_1[2]\n",
    "\n",
    "    snw_lens_2 = chol_lens_2 * alphas[5:6]\n",
    "    dz_lens_2 = snw_lens_2[1]\n",
    "    wz_lens_2 = 1 + snw_lens_2[2]\n",
    "\n",
    "    snw_lens_3 = chol_lens_3 * alphas[7:8]\n",
    "    dz_lens_3 = snw_lens_3[1]\n",
    "    wz_lens_3 = 1 + snw_lens_3[2]\n",
    "\n",
    "    snw_lens_4 = chol_lens_4 * alphas[9:10]\n",
    "    dz_lens_4 = snw_lens_4[1]\n",
    "    wz_lens_4 = 1 + snw_lens_4[2]\n",
    "\n",
    "    lens_0_zs   = @.((zs_k0-mu_k0)/wz_lens_0 + dz_lens_0/wz_lens_0 + mu_k0)\n",
    "    lens_1_zs   = @.((zs_k1-mu_k1)/wz_lens_1 + dz_lens_1/wz_lens_1 + mu_k1)\n",
    "    lens_2_zs   = @.((zs_k2-mu_k2)/wz_lens_2 + dz_lens_2/wz_lens_2 + mu_k2)\n",
    "    lens_3_zs   = @.((zs_k3-mu_k3)/wz_lens_3 + dz_lens_3/wz_lens_3 + mu_k3)\n",
    "    lens_4_zs   = @.((zs_k4-mu_k4)/wz_lens_4 + dz_lens_4/wz_lens_4 + mu_k4)\n",
    "\n",
    "    nuisances = Dict(\n",
    "        \"lens_0_b\"    => lens_0_b,\n",
    "        \"lens_1_b\"    => lens_1_b,\n",
    "        \"lens_2_b\"    => lens_2_b,\n",
    "        \"lens_3_b\"    => lens_3_b,\n",
    "        \"lens_4_b\"    => lens_4_b,\n",
    "        \"lens_0_zs\"   => lens_0_zs,\n",
    "        \"lens_1_zs\"   => lens_1_zs,\n",
    "        \"lens_2_zs\"   => lens_2_zs,\n",
    "        \"lens_3_zs\"   => lens_3_zs,\n",
    "        \"lens_4_zs\"   => lens_4_zs)\n",
    "        \n",
    "    cosmo = Cosmology(Ωm=Ωm, Ωb=Ωb, h=h, ns=ns, σ8=σ8,\n",
    "        tk_mode=:EisHu,\n",
    "        pk_mode=:Halofit)\n",
    "\n",
    "    cosmo.settings.cosmo_type = eltype(valtype(alphas))\n",
    "    return Theory(cosmo, meta, files; Nuisances=nuisances)\n",
    "end;"
   ]
  },
  {
   "cell_type": "code",
   "execution_count": 12,
   "id": "04a97087",
   "metadata": {},
   "outputs": [],
   "source": [
    "Cmod_wzdz = make_Cmod(20, model_wzdz);"
   ]
  },
  {
   "cell_type": "markdown",
   "id": "a9018bf5",
   "metadata": {},
   "source": [
    "## PCA"
   ]
  },
  {
   "cell_type": "code",
   "execution_count": 13,
   "id": "af80c968",
   "metadata": {},
   "outputs": [],
   "source": [
    "nz_path = string(\"../data/CosmoDC2/image_PCA_\", method, \"_priors/\")\n",
    "nz_lens_0 = npzread(string(nz_path, \"PCA_lens_0.npz\"))\n",
    "nz_lens_1 = npzread(string(nz_path, \"PCA_lens_1.npz\"))\n",
    "nz_lens_2 = npzread(string(nz_path, \"PCA_lens_2.npz\"))\n",
    "nz_lens_3 = npzread(string(nz_path, \"PCA_lens_3.npz\"))\n",
    "nz_lens_4 = npzread(string(nz_path, \"PCA_lens_4.npz\"))\n",
    "zs_k0, nz_k0 = nz_lens_0[\"z\"], nz_lens_0[\"dndz\"]\n",
    "zs_k1, nz_k1 = nz_lens_1[\"z\"], nz_lens_1[\"dndz\"]\n",
    "zs_k2, nz_k2 = nz_lens_2[\"z\"], nz_lens_2[\"dndz\"]\n",
    "zs_k3, nz_k3 = nz_lens_3[\"z\"], nz_lens_3[\"dndz\"]\n",
    "zs_k4, nz_k4 = nz_lens_4[\"z\"], nz_lens_4[\"dndz\"]\n",
    "W_lens_0 = nz_lens_0[\"W\"]\n",
    "W_lens_1 = nz_lens_1[\"W\"]\n",
    "W_lens_2 = nz_lens_2[\"W\"]\n",
    "W_lens_3 = nz_lens_3[\"W\"]\n",
    "W_lens_4 = nz_lens_4[\"W\"];"
   ]
  },
  {
   "cell_type": "code",
   "execution_count": 14,
   "metadata": {},
   "outputs": [],
   "source": [
    "function model_pca(alphas; \n",
    "    Ωm=0.27347, σ8=0.779007, Ωb=0.04217, h=0.71899, ns=0.99651,\n",
    "    lens_0_b=0.879118, \n",
    "    lens_1_b=1.05894, \n",
    "    lens_2_b=1.22145, \n",
    "    lens_3_b=1.35065, \n",
    "    lens_4_b=1.58909,\n",
    "    meta=meta, files=files)\n",
    "\n",
    "    nz_lens_0 = nz_k0 + W_lens_0 * alphas[1:5]\n",
    "    nz_lens_1 = nz_k1 + W_lens_1 * alphas[6:10]\n",
    "    nz_lens_2 = nz_k2 + W_lens_2 * alphas[11:15]\n",
    "    nz_lens_3 = nz_k3 + W_lens_3 * alphas[16:20]\n",
    "    nz_lens_4 = nz_k4 + W_lens_4 * alphas[21:25]\n",
    "\n",
    "    nuisances = Dict(\n",
    "        \"lens_0_b\"    => lens_0_b,\n",
    "        \"lens_1_b\"    => lens_1_b,\n",
    "        \"lens_2_b\"    => lens_2_b,\n",
    "        \"lens_3_b\"    => lens_3_b,\n",
    "        \"lens_4_b\"    => lens_4_b,\n",
    "        \"lens_0_nz\"   => nz_lens_0,\n",
    "        \"lens_1_nz\"   => nz_lens_1,\n",
    "        \"lens_2_nz\"   => nz_lens_2,\n",
    "        \"lens_3_nz\"   => nz_lens_3,\n",
    "        \"lens_4_nz\"   => nz_lens_4)\n",
    "        \n",
    "    cosmo = Cosmology(Ωm=Ωm, Ωb=Ωb, h=h, ns=ns, σ8=σ8,\n",
    "        tk_mode=:EisHu,\n",
    "        pk_mode=:Halofit)\n",
    "\n",
    "    cosmo.settings.cosmo_type = eltype(valtype(alphas))\n",
    "    return Theory(cosmo, meta, files; Nuisances=nuisances)\n",
    "end;"
   ]
  },
  {
   "cell_type": "code",
   "execution_count": 15,
   "id": "a60a2d10",
   "metadata": {},
   "outputs": [],
   "source": [
    "Cmod_pca = make_Cmod(50, model_pca);"
   ]
  },
  {
   "cell_type": "markdown",
   "id": "b15a3fc0",
   "metadata": {},
   "source": [
    "## GP"
   ]
  },
  {
   "cell_type": "code",
   "execution_count": 16,
   "id": "b6085804",
   "metadata": {},
   "outputs": [],
   "source": [
    "nz_path = string(\"../data/CosmoDC2/image_gp_\", method, \"_priors/\")\n",
    "\n",
    "nz_lens_0 = npzread(string(nz_path, \"gp_lens_0.npz\"))\n",
    "nz_lens_1 = npzread(string(nz_path, \"gp_lens_1.npz\"))\n",
    "nz_lens_2 = npzread(string(nz_path, \"gp_lens_2.npz\"))\n",
    "nz_lens_3 = npzread(string(nz_path, \"gp_lens_3.npz\"))\n",
    "nz_lens_4 = npzread(string(nz_path, \"gp_lens_4.npz\"))\n",
    "zs_k0, nz_k0 = nz_lens_0[\"z\"], nz_lens_0[\"dndz\"]\n",
    "zs_k1, nz_k1 = nz_lens_1[\"z\"], nz_lens_1[\"dndz\"]\n",
    "zs_k2, nz_k2 = nz_lens_2[\"z\"], nz_lens_2[\"dndz\"]\n",
    "zs_k3, nz_k3 = nz_lens_3[\"z\"], nz_lens_3[\"dndz\"]\n",
    "zs_k4, nz_k4 = nz_lens_4[\"z\"], nz_lens_4[\"dndz\"]\n",
    "W_lens_0 = nz_lens_0[\"W\"]\n",
    "W_lens_1 = nz_lens_1[\"W\"]\n",
    "W_lens_2 = nz_lens_2[\"W\"]\n",
    "W_lens_3 = nz_lens_3[\"W\"]\n",
    "W_lens_4 = nz_lens_4[\"W\"];\n"
   ]
  },
  {
   "cell_type": "code",
   "execution_count": 17,
   "id": "ba20d3ae",
   "metadata": {},
   "outputs": [],
   "source": [
    "function nz_itp(q, nq, z)\n",
    "    dq = mean(q[2:end] - q[1:end-1])\n",
    "    q_range = q[1]:dq:q[end]\n",
    "    nz_int = cubic_spline_interpolation(q_range, nq;\n",
    "        extrapolation_bc=Line())\n",
    "    return nz_int(z)\n",
    "end\n",
    "\n",
    "function model_gp(alphas; \n",
    "    Ωm=0.27347, σ8=0.779007, Ωb=0.04217, h=0.71899, ns=0.99651,\n",
    "    lens_0_b=0.879118, \n",
    "    lens_1_b=1.05894, \n",
    "    lens_2_b=1.22145, \n",
    "    lens_3_b=1.35065, \n",
    "    lens_4_b=1.58909,\n",
    "    meta=meta, files=files)\n",
    "\n",
    "    nz_lens_0 = nz_k0 + W_lens_0 * alphas[1:5]\n",
    "    nz_lens_1 = nz_k1 + W_lens_1 * alphas[6:10]\n",
    "    nz_lens_2 = nz_k2 + W_lens_2 * alphas[11:15]\n",
    "    nz_lens_3 = nz_k3 + W_lens_3 * alphas[16:20]\n",
    "    nz_lens_4 = nz_k4 + W_lens_4 * alphas[21:25]\n",
    "\n",
    "    nuisances = Dict(\n",
    "        \"lens_0_b\"    => lens_0_b,\n",
    "        \"lens_1_b\"    => lens_1_b,\n",
    "        \"lens_2_b\"    => lens_2_b,\n",
    "        \"lens_3_b\"    => lens_3_b,\n",
    "        \"lens_4_b\"    => lens_4_b,\n",
    "        \"lens_0_nz\"   => nz_lens_0,\n",
    "        \"lens_1_nz\"   => nz_lens_1,\n",
    "        \"lens_2_nz\"   => nz_lens_2,\n",
    "        \"lens_3_nz\"   => nz_lens_3,\n",
    "        \"lens_4_nz\"   => nz_lens_4)\n",
    "        \n",
    "    cosmo = Cosmology(Ωm=Ωm, Ωb=Ωb, h=h, ns=ns, σ8=σ8,\n",
    "        tk_mode=:EisHu,\n",
    "        pk_mode=:Halofit)\n",
    "\n",
    "    cosmo.settings.cosmo_type = eltype(valtype(alphas))\n",
    "    return Theory(cosmo, meta, files; Nuisances=nuisances)\n",
    "end;"
   ]
  },
  {
   "cell_type": "code",
   "execution_count": 18,
   "id": "af8dc9ad",
   "metadata": {},
   "outputs": [],
   "source": [
    "Cmod_gp = make_Cmod(50, model_gp);"
   ]
  },
  {
   "cell_type": "markdown",
   "id": "0477d696",
   "metadata": {},
   "source": [
    "# Comp"
   ]
  },
  {
   "cell_type": "code",
   "execution_count": 19,
   "id": "89afb751",
   "metadata": {},
   "outputs": [
    {
     "name": "stdout",
     "output_type": "stream",
     "text": [
      "[-2.035103669838931, -1.859801642227172, -1.4388464082171089, -1.5600994884382533, -1.4955108952330638, -1.3489636498250057, -1.6723901660556122, -1.3400296116484312, -0.9954837807994258, -0.6207671376373408, -0.2953415282239575, -0.2037708957728682, 0.18417516185967797, -2.3456235318793124, -1.9307243166701042, -1.6648360038345336, -1.4044700320538035, -0.9891051226233665, -0.7741879881502024, -0.7391143372294372, -0.4208964541091308, -2.4622274062984237, -2.040967815075753, -1.6823374395766824, -1.5293180624435685, -1.1834545469353734, -0.8026609579672342, -0.7931492252210397, -0.26857825388495266, -0.422221184649134, -2.5220346367637583, -2.198966771752869, -1.6023107415214295, -1.4313684213062936, -1.1296193973628315, -0.6986912152502153, -0.38876236208791787, -0.5431783501799856, 0.047687686506801163]"
     ]
    }
   ],
   "source": [
    "print(log10.(diag(Cmod_wzdz) ./ diag(meta.cov)))"
   ]
  },
  {
   "cell_type": "code",
   "execution_count": 20,
   "id": "c0b52321",
   "metadata": {},
   "outputs": [
    {
     "data": {
      "image/png": "[encoded data removed]",
      "image/svg+xml": [
       "<?xml version=\"1.0\" encoding=\"utf-8\"?>\n",
       "<svg xmlns=\"http://www.w3.org/2000/svg\" xmlns:xlink=\"http://www.w3.org/1999/xlink\" width=\"600\" height=\"400\" viewBox=\"0 0 2400 1600\">\n",
       "<defs>\n",
       "  <clipPath id=\"clip990\">\n",
       "    <rect x=\"0\" y=\"0\" width=\"2400\" height=\"1600\"/>\n",
       "  </clipPath>\n",
       "</defs>\n",
       "<path clip-path=\"url(#clip990)\" d=\"M0 1600 L2400 1600 L2400 0 L0 0  Z\" fill=\"#ffffff\" fill-rule=\"evenodd\" fill-opacity=\"1\"/>\n",
       "<defs>\n",
       "  <clipPath id=\"clip991\">\n",
       "    <rect x=\"480\" y=\"0\" width=\"1681\" height=\"1600\"/>\n",
       "  </clipPath>\n",
       "</defs>\n",
       "<path clip-path=\"url(#clip990)\" d=\"M187.803 1486.45 L2352.76 1486.45 L2352.76 123.472 L187.803 123.472  Z\" fill=\"#ffffff\" fill-rule=\"evenodd\" fill-opacity=\"1\"/>\n",
       "<defs>\n",
       "  <clipPath id=\"clip992\">\n",
       "    <rect x=\"187\" y=\"123\" width=\"2166\" height=\"1364\"/>\n",
       "  </clipPath>\n",
       "</defs>\n",
       "<polyline clip-path=\"url(#clip992)\" style=\"stroke:#000000; stroke-linecap:round; stroke-linejoin:round; stroke-width:2; stroke-opacity:0.1; fill:none\" points=\"195.328,1486.45 195.328,123.472 \"/>\n",
       "<polyline clip-path=\"url(#clip992)\" style=\"stroke:#000000; stroke-linecap:round; stroke-linejoin:round; stroke-width:2; stroke-opacity:0.1; fill:none\" points=\"732.804,1486.45 732.804,123.472 \"/>\n",
       "<polyline clip-path=\"url(#clip992)\" style=\"stroke:#000000; stroke-linecap:round; stroke-linejoin:round; stroke-width:2; stroke-opacity:0.1; fill:none\" points=\"1270.28,1486.45 1270.28,123.472 \"/>\n",
       "<polyline clip-path=\"url(#clip992)\" style=\"stroke:#000000; stroke-linecap:round; stroke-linejoin:round; stroke-width:2; stroke-opacity:0.1; fill:none\" points=\"1807.76,1486.45 1807.76,123.472 \"/>\n",
       "<polyline clip-path=\"url(#clip992)\" style=\"stroke:#000000; stroke-linecap:round; stroke-linejoin:round; stroke-width:2; stroke-opacity:0.1; fill:none\" points=\"2345.23,1486.45 2345.23,123.472 \"/>\n",
       "<polyline clip-path=\"url(#clip992)\" style=\"stroke:#000000; stroke-linecap:round; stroke-linejoin:round; stroke-width:2; stroke-opacity:0.1; fill:none\" points=\"187.803,1066.94 2352.76,1066.94 \"/>\n",
       "<polyline clip-path=\"url(#clip992)\" style=\"stroke:#000000; stroke-linecap:round; stroke-linejoin:round; stroke-width:2; stroke-opacity:0.1; fill:none\" points=\"187.803,420.086 2352.76,420.086 \"/>\n",
       "<polyline clip-path=\"url(#clip990)\" style=\"stroke:#000000; stroke-linecap:round; stroke-linejoin:round; stroke-width:4; stroke-opacity:1; fill:none\" points=\"187.803,1486.45 2352.76,1486.45 \"/>\n",
       "<polyline clip-path=\"url(#clip990)\" style=\"stroke:#000000; stroke-linecap:round; stroke-linejoin:round; stroke-width:4; stroke-opacity:1; fill:none\" points=\"195.328,1486.45 195.328,1467.55 \"/>\n",
       "<polyline clip-path=\"url(#clip990)\" style=\"stroke:#000000; stroke-linecap:round; stroke-linejoin:round; stroke-width:4; stroke-opacity:1; fill:none\" points=\"732.804,1486.45 732.804,1467.55 \"/>\n",
       "<polyline clip-path=\"url(#clip990)\" style=\"stroke:#000000; stroke-linecap:round; stroke-linejoin:round; stroke-width:4; stroke-opacity:1; fill:none\" points=\"1270.28,1486.45 1270.28,1467.55 \"/>\n",
       "<polyline clip-path=\"url(#clip990)\" style=\"stroke:#000000; stroke-linecap:round; stroke-linejoin:round; stroke-width:4; stroke-opacity:1; fill:none\" points=\"1807.76,1486.45 1807.76,1467.55 \"/>\n",
       "<polyline clip-path=\"url(#clip990)\" style=\"stroke:#000000; stroke-linecap:round; stroke-linejoin:round; stroke-width:4; stroke-opacity:1; fill:none\" points=\"2345.23,1486.45 2345.23,1467.55 \"/>\n",
       "<path clip-path=\"url(#clip990)\" d=\"M195.328 1517.37 Q191.717 1517.37 189.888 1520.93 Q188.083 1524.47 188.083 1531.6 Q188.083 1538.71 189.888 1542.27 Q191.717 1545.82 195.328 1545.82 Q198.962 1545.82 200.768 1542.27 Q202.596 1538.71 202.596 1531.6 Q202.596 1524.47 200.768 1520.93 Q198.962 1517.37 195.328 1517.37 M195.328 1513.66 Q201.138 1513.66 204.194 1518.27 Q207.272 1522.85 207.272 1531.6 Q207.272 1540.33 204.194 1544.94 Q201.138 1549.52 195.328 1549.52 Q189.518 1549.52 186.439 1544.94 Q183.383 1540.33 183.383 1531.6 Q183.383 1522.85 186.439 1518.27 Q189.518 1513.66 195.328 1513.66 Z\" fill=\"#000000\" fill-rule=\"nonzero\" fill-opacity=\"1\" /><path clip-path=\"url(#clip990)\" d=\"M707.491 1544.91 L715.13 1544.91 L715.13 1518.55 L706.82 1520.21 L706.82 1515.95 L715.084 1514.29 L719.76 1514.29 L719.76 1544.91 L727.399 1544.91 L727.399 1548.85 L707.491 1548.85 L707.491 1544.91 Z\" fill=\"#000000\" fill-rule=\"nonzero\" fill-opacity=\"1\" /><path clip-path=\"url(#clip990)\" d=\"M746.843 1517.37 Q743.232 1517.37 741.403 1520.93 Q739.598 1524.47 739.598 1531.6 Q739.598 1538.71 741.403 1542.27 Q743.232 1545.82 746.843 1545.82 Q750.477 1545.82 752.283 1542.27 Q754.111 1538.71 754.111 1531.6 Q754.111 1524.47 752.283 1520.93 Q750.477 1517.37 746.843 1517.37 M746.843 1513.66 Q752.653 1513.66 755.709 1518.27 Q758.787 1522.85 758.787 1531.6 Q758.787 1540.33 755.709 1544.94 Q752.653 1549.52 746.843 1549.52 Q741.033 1549.52 737.954 1544.94 Q734.899 1540.33 734.899 1531.6 Q734.899 1522.85 737.954 1518.27 Q741.033 1513.66 746.843 1513.66 Z\" fill=\"#000000\" fill-rule=\"nonzero\" fill-opacity=\"1\" /><path clip-path=\"url(#clip990)\" d=\"M1249.05 1544.91 L1265.37 1544.91 L1265.37 1548.85 L1243.43 1548.85 L1243.43 1544.91 Q1246.09 1542.16 1250.67 1537.53 Q1255.28 1532.88 1256.46 1531.53 Q1258.71 1529.01 1259.59 1527.27 Q1260.49 1525.51 1260.49 1523.82 Q1260.49 1521.07 1258.54 1519.33 Q1256.62 1517.6 1253.52 1517.6 Q1251.32 1517.6 1248.87 1518.36 Q1246.44 1519.13 1243.66 1520.68 L1243.66 1515.95 Q1246.48 1514.82 1248.94 1514.24 Q1251.39 1513.66 1253.43 1513.66 Q1258.8 1513.66 1261.99 1516.35 Q1265.19 1519.03 1265.19 1523.52 Q1265.19 1525.65 1264.38 1527.57 Q1263.59 1529.47 1261.48 1532.07 Q1260.9 1532.74 1257.8 1535.95 Q1254.7 1539.15 1249.05 1544.91 Z\" fill=\"#000000\" fill-rule=\"nonzero\" fill-opacity=\"1\" /><path clip-path=\"url(#clip990)\" d=\"M1285.19 1517.37 Q1281.58 1517.37 1279.75 1520.93 Q1277.94 1524.47 1277.94 1531.6 Q1277.94 1538.71 1279.75 1542.27 Q1281.58 1545.82 1285.19 1545.82 Q1288.82 1545.82 1290.63 1542.27 Q1292.46 1538.71 1292.46 1531.6 Q1292.46 1524.47 1290.63 1520.93 Q1288.82 1517.37 1285.19 1517.37 M1285.19 1513.66 Q1291 1513.66 1294.05 1518.27 Q1297.13 1522.85 1297.13 1531.6 Q1297.13 1540.33 1294.05 1544.94 Q1291 1549.52 1285.19 1549.52 Q1279.38 1549.52 1276.3 1544.94 Q1273.24 1540.33 1273.24 1531.6 Q1273.24 1522.85 1276.3 1518.27 Q1279.38 1513.66 1285.19 1513.66 Z\" fill=\"#000000\" fill-rule=\"nonzero\" fill-opacity=\"1\" /><path clip-path=\"url(#clip990)\" d=\"M1796.6 1530.21 Q1799.95 1530.93 1801.83 1533.2 Q1803.73 1535.47 1803.73 1538.8 Q1803.73 1543.92 1800.21 1546.72 Q1796.69 1549.52 1790.21 1549.52 Q1788.03 1549.52 1785.72 1549.08 Q1783.43 1548.66 1780.97 1547.81 L1780.97 1543.29 Q1782.92 1544.43 1785.23 1545.01 Q1787.55 1545.58 1790.07 1545.58 Q1794.47 1545.58 1796.76 1543.85 Q1799.07 1542.11 1799.07 1538.8 Q1799.07 1535.75 1796.92 1534.03 Q1794.79 1532.3 1790.97 1532.3 L1786.95 1532.3 L1786.95 1528.45 L1791.16 1528.45 Q1794.61 1528.45 1796.44 1527.09 Q1798.26 1525.7 1798.26 1523.11 Q1798.26 1520.45 1796.37 1519.03 Q1794.49 1517.6 1790.97 1517.6 Q1789.05 1517.6 1786.85 1518.01 Q1784.65 1518.43 1782.01 1519.31 L1782.01 1515.14 Q1784.68 1514.4 1786.99 1514.03 Q1789.33 1513.66 1791.39 1513.66 Q1796.71 1513.66 1799.82 1516.09 Q1802.92 1518.5 1802.92 1522.62 Q1802.92 1525.49 1801.27 1527.48 Q1799.63 1529.45 1796.6 1530.21 Z\" fill=\"#000000\" fill-rule=\"nonzero\" fill-opacity=\"1\" /><path clip-path=\"url(#clip990)\" d=\"M1822.59 1517.37 Q1818.98 1517.37 1817.15 1520.93 Q1815.35 1524.47 1815.35 1531.6 Q1815.35 1538.71 1817.15 1542.27 Q1818.98 1545.82 1822.59 1545.82 Q1826.23 1545.82 1828.03 1542.27 Q1829.86 1538.71 1829.86 1531.6 Q1829.86 1524.47 1828.03 1520.93 Q1826.23 1517.37 1822.59 1517.37 M1822.59 1513.66 Q1828.4 1513.66 1831.46 1518.27 Q1834.54 1522.85 1834.54 1531.6 Q1834.54 1540.33 1831.46 1544.94 Q1828.4 1549.52 1822.59 1549.52 Q1816.78 1549.52 1813.7 1544.94 Q1810.65 1540.33 1810.65 1531.6 Q1810.65 1522.85 1813.7 1518.27 Q1816.78 1513.66 1822.59 1513.66 Z\" fill=\"#000000\" fill-rule=\"nonzero\" fill-opacity=\"1\" /><path clip-path=\"url(#clip990)\" d=\"M2333.4 1518.36 L2321.6 1536.81 L2333.4 1536.81 L2333.4 1518.36 M2332.18 1514.29 L2338.06 1514.29 L2338.06 1536.81 L2342.99 1536.81 L2342.99 1540.7 L2338.06 1540.7 L2338.06 1548.85 L2333.4 1548.85 L2333.4 1540.7 L2317.8 1540.7 L2317.8 1536.19 L2332.18 1514.29 Z\" fill=\"#000000\" fill-rule=\"nonzero\" fill-opacity=\"1\" /><path clip-path=\"url(#clip990)\" d=\"M2360.72 1517.37 Q2357.11 1517.37 2355.28 1520.93 Q2353.47 1524.47 2353.47 1531.6 Q2353.47 1538.71 2355.28 1542.27 Q2357.11 1545.82 2360.72 1545.82 Q2364.35 1545.82 2366.16 1542.27 Q2367.99 1538.71 2367.99 1531.6 Q2367.99 1524.47 2366.16 1520.93 Q2364.35 1517.37 2360.72 1517.37 M2360.72 1513.66 Q2366.53 1513.66 2369.58 1518.27 Q2372.66 1522.85 2372.66 1531.6 Q2372.66 1540.33 2369.58 1544.94 Q2366.53 1549.52 2360.72 1549.52 Q2354.91 1549.52 2351.83 1544.94 Q2348.77 1540.33 2348.77 1531.6 Q2348.77 1522.85 2351.83 1518.27 Q2354.91 1513.66 2360.72 1513.66 Z\" fill=\"#000000\" fill-rule=\"nonzero\" fill-opacity=\"1\" /><polyline clip-path=\"url(#clip990)\" style=\"stroke:#000000; stroke-linecap:round; stroke-linejoin:round; stroke-width:4; stroke-opacity:1; fill:none\" points=\"187.803,1486.45 187.803,123.472 \"/>\n",
       "<polyline clip-path=\"url(#clip990)\" style=\"stroke:#000000; stroke-linecap:round; stroke-linejoin:round; stroke-width:4; stroke-opacity:1; fill:none\" points=\"187.803,1066.94 206.701,1066.94 \"/>\n",
       "<polyline clip-path=\"url(#clip990)\" style=\"stroke:#000000; stroke-linecap:round; stroke-linejoin:round; stroke-width:4; stroke-opacity:1; fill:none\" points=\"187.803,420.086 206.701,420.086 \"/>\n",
       "<path clip-path=\"url(#clip990)\" d=\"M51.6634 1086.73 L59.3023 1086.73 L59.3023 1060.36 L50.9921 1062.03 L50.9921 1057.77 L59.256 1056.1 L63.9319 1056.1 L63.9319 1086.73 L71.5707 1086.73 L71.5707 1090.66 L51.6634 1090.66 L51.6634 1086.73 Z\" fill=\"#000000\" fill-rule=\"nonzero\" fill-opacity=\"1\" /><path clip-path=\"url(#clip990)\" d=\"M91.0151 1059.18 Q87.404 1059.18 85.5753 1062.75 Q83.7697 1066.29 83.7697 1073.42 Q83.7697 1080.52 85.5753 1084.09 Q87.404 1087.63 91.0151 1087.63 Q94.6493 1087.63 96.4548 1084.09 Q98.2835 1080.52 98.2835 1073.42 Q98.2835 1066.29 96.4548 1062.75 Q94.6493 1059.18 91.0151 1059.18 M91.0151 1055.48 Q96.8252 1055.48 99.8808 1060.08 Q102.959 1064.67 102.959 1073.42 Q102.959 1082.14 99.8808 1086.75 Q96.8252 1091.33 91.0151 1091.33 Q85.2049 1091.33 82.1262 1086.75 Q79.0707 1082.14 79.0707 1073.42 Q79.0707 1064.67 82.1262 1060.08 Q85.2049 1055.48 91.0151 1055.48 Z\" fill=\"#000000\" fill-rule=\"nonzero\" fill-opacity=\"1\" /><path clip-path=\"url(#clip990)\" d=\"M102.959 1049.58 L127.071 1049.58 L127.071 1052.78 L102.959 1052.78 L102.959 1049.58 Z\" fill=\"#000000\" fill-rule=\"nonzero\" fill-opacity=\"1\" /><path clip-path=\"url(#clip990)\" d=\"M138.544 1060.06 L151.803 1060.06 L151.803 1063.25 L133.973 1063.25 L133.973 1060.06 Q136.136 1057.82 139.86 1054.06 Q143.603 1050.28 144.562 1049.18 Q146.387 1047.13 147.101 1045.72 Q147.835 1044.29 147.835 1042.92 Q147.835 1040.68 146.255 1039.27 Q144.694 1037.86 142.174 1037.86 Q140.387 1037.86 138.393 1038.48 Q136.418 1039.1 134.162 1040.36 L134.162 1036.53 Q136.456 1035.61 138.45 1035.14 Q140.443 1034.66 142.098 1034.66 Q146.462 1034.66 149.057 1036.85 Q151.653 1039.03 151.653 1042.68 Q151.653 1044.41 150.994 1045.97 Q150.355 1047.51 148.644 1049.62 Q148.173 1050.16 145.653 1052.78 Q143.133 1055.37 138.544 1060.06 Z\" fill=\"#000000\" fill-rule=\"nonzero\" fill-opacity=\"1\" /><path clip-path=\"url(#clip990)\" d=\"M81.0976 439.878 L88.7364 439.878 L88.7364 413.513 L80.4263 415.179 L80.4263 410.92 L88.6901 409.253 L93.366 409.253 L93.366 439.878 L101.005 439.878 L101.005 443.813 L81.0976 443.813 L81.0976 439.878 Z\" fill=\"#000000\" fill-rule=\"nonzero\" fill-opacity=\"1\" /><path clip-path=\"url(#clip990)\" d=\"M120.449 412.332 Q116.838 412.332 115.009 415.897 Q113.204 419.439 113.204 426.568 Q113.204 433.675 115.009 437.239 Q116.838 440.781 120.449 440.781 Q124.083 440.781 125.889 437.239 Q127.718 433.675 127.718 426.568 Q127.718 419.439 125.889 415.897 Q124.083 412.332 120.449 412.332 M120.449 408.628 Q126.259 408.628 129.315 413.235 Q132.394 417.818 132.394 426.568 Q132.394 435.295 129.315 439.901 Q126.259 444.485 120.449 444.485 Q114.639 444.485 111.56 439.901 Q108.505 435.295 108.505 426.568 Q108.505 417.818 111.56 413.235 Q114.639 408.628 120.449 408.628 Z\" fill=\"#000000\" fill-rule=\"nonzero\" fill-opacity=\"1\" /><path clip-path=\"url(#clip990)\" d=\"M142.098 390.824 Q139.164 390.824 137.679 393.721 Q136.212 396.598 136.212 402.391 Q136.212 408.165 137.679 411.062 Q139.164 413.939 142.098 413.939 Q145.051 413.939 146.518 411.062 Q148.004 408.165 148.004 402.391 Q148.004 396.598 146.518 393.721 Q145.051 390.824 142.098 390.824 M142.098 387.815 Q146.819 387.815 149.302 391.558 Q151.803 395.282 151.803 402.391 Q151.803 409.482 149.302 413.224 Q146.819 416.948 142.098 416.948 Q137.378 416.948 134.876 413.224 Q132.394 409.482 132.394 402.391 Q132.394 395.282 134.876 391.558 Q137.378 387.815 142.098 387.815 Z\" fill=\"#000000\" fill-rule=\"nonzero\" fill-opacity=\"1\" /><path clip-path=\"url(#clip990)\" d=\"M1227.6 39.9662 Q1233.48 41.222 1236.76 45.1919 Q1240.08 49.1618 1240.08 54.9951 Q1240.08 63.9476 1233.92 68.8492 Q1227.77 73.7508 1216.42 73.7508 Q1212.61 73.7508 1208.56 72.9811 Q1204.55 72.2519 1200.26 70.7531 L1200.26 62.8538 Q1203.66 64.8388 1207.71 65.8515 Q1211.76 66.8642 1216.18 66.8642 Q1223.88 66.8642 1227.89 63.826 Q1231.94 60.7879 1231.94 54.9951 Q1231.94 49.6479 1228.17 46.6502 Q1224.44 43.612 1217.76 43.612 L1210.71 43.612 L1210.71 36.8875 L1218.08 36.8875 Q1224.12 36.8875 1227.32 34.4975 Q1230.52 32.067 1230.52 27.5299 Q1230.52 22.8714 1227.2 20.4004 Q1223.92 17.8888 1217.76 17.8888 Q1214.4 17.8888 1210.55 18.618 Q1206.7 19.3471 1202.08 20.8865 L1202.08 13.5948 Q1206.74 12.2985 1210.79 11.6504 Q1214.88 11.0023 1218.49 11.0023 Q1227.81 11.0023 1233.23 15.2557 Q1238.66 19.4686 1238.66 26.6793 Q1238.66 31.7024 1235.79 35.1862 Q1232.91 38.6294 1227.6 39.9662 Z\" fill=\"#000000\" fill-rule=\"nonzero\" fill-opacity=\"1\" /><path clip-path=\"url(#clip990)\" d=\"M1292.26 27.2059 L1275.85 49.2833 L1293.11 72.576 L1284.32 72.576 L1271.11 54.752 L1257.9 72.576 L1249.11 72.576 L1266.74 48.8377 L1250.61 27.2059 L1259.4 27.2059 L1271.43 43.369 L1283.47 27.2059 L1292.26 27.2059 Z\" fill=\"#000000\" fill-rule=\"nonzero\" fill-opacity=\"1\" /><path clip-path=\"url(#clip990)\" d=\"M1311.74 65.6895 L1340.3 65.6895 L1340.3 72.576 L1301.9 72.576 L1301.9 65.6895 Q1306.56 60.8689 1314.58 52.7671 Q1322.64 44.6248 1324.7 42.2752 Q1328.63 37.8598 1330.17 34.8216 Q1331.75 31.7429 1331.75 28.7857 Q1331.75 23.9651 1328.35 20.927 Q1324.99 17.8888 1319.56 17.8888 Q1315.71 17.8888 1311.42 19.2256 Q1307.16 20.5624 1302.3 23.2765 L1302.3 15.0127 Q1307.24 13.0277 1311.54 12.015 Q1315.83 11.0023 1319.4 11.0023 Q1328.79 11.0023 1334.39 15.7013 Q1339.98 20.4004 1339.98 28.2591 Q1339.98 31.9859 1338.56 35.3482 Q1337.18 38.6699 1333.49 43.2069 Q1332.48 44.3817 1327.05 50.0125 Q1321.62 55.6027 1311.74 65.6895 Z\" fill=\"#000000\" fill-rule=\"nonzero\" fill-opacity=\"1\" /><polyline clip-path=\"url(#clip992)\" style=\"stroke:#009af9; stroke-linecap:round; stroke-linejoin:round; stroke-width:4; stroke-opacity:1; fill:none\" points=\"249.075,1009.04 302.823,932.701 356.571,788.781 410.318,768.002 464.066,708.492 517.813,635.23 571.561,1103.32 625.309,1026.81 679.056,942.804 732.804,814.147 786.551,747.293 840.299,809.197 894.046,662.468 947.794,1274.2 1001.54,1152.53 1055.29,1095.79 1109.04,1035.37 1162.78,888.247 1216.53,853.512 1270.28,954.255 1324.03,868.026 1377.77,1321.42 1431.52,1194.32 1485.27,1094.5 1539.02,1096.26 1592.77,994.294 1646.51,852.748 1700.26,1009.71 1754.01,708.347 1807.76,1096.68 1861.5,1447.87 1915.25,1404.16 1969,1157.06 2022.75,1192.67 2076.49,1171.09 2130.24,948.375 2183.99,876.634 2237.74,1105.9 2291.48,968.406 \"/>\n",
       "<polyline clip-path=\"url(#clip992)\" style=\"stroke:#e26f46; stroke-linecap:round; stroke-linejoin:round; stroke-width:4; stroke-opacity:1; fill:none\" points=\"249.075,1078.29 302.823,1021.59 356.571,885.444 410.318,924.661 464.066,903.771 517.813,856.374 571.561,960.978 625.309,853.485 679.056,742.05 732.804,620.857 786.551,515.607 840.299,485.99 894.046,360.519 947.794,1178.72 1001.54,1044.53 1055.29,958.535 1109.04,874.326 1162.78,739.987 1216.53,670.477 1270.28,659.134 1324.03,556.214 1377.77,1216.43 1431.52,1080.19 1485.27,964.196 1539.02,914.705 1592.77,802.844 1646.51,679.686 1700.26,676.61 1754.01,506.951 1807.76,556.643 1861.5,1235.77 1915.25,1131.29 1969,938.313 2022.75,883.026 2076.49,785.433 2130.24,646.06 2183.99,545.821 2237.74,595.763 2291.48,404.662 \"/>\n",
       "<polyline clip-path=\"url(#clip992)\" style=\"stroke:#3da44d; stroke-linecap:round; stroke-linejoin:round; stroke-width:4; stroke-opacity:1; fill:none\" points=\"249.075,898.269 302.823,777.528 356.571,638.16 410.318,544.072 464.066,454.514 517.813,354.091 571.561,1138.66 625.309,1011.68 679.056,879.526 732.804,759.491 786.551,622.117 840.299,527.25 894.046,421.597 947.794,1150.13 1001.54,1007.72 1055.29,903.139 1109.04,799.767 1162.78,672.599 1216.53,572.097 1270.28,493.403 1324.03,384.129 1377.77,1092.98 1431.52,949.203 1485.27,799.523 1539.02,686.55 1592.77,563.614 1646.51,458.428 1700.26,345.449 1754.01,257.857 1807.76,162.047 1861.5,1222.74 1915.25,1069.45 1969,911.991 2022.75,787.456 2076.49,656.883 2130.24,557.695 2183.99,441.653 2237.74,320.96 2291.48,228.606 \"/>\n",
       "<polyline clip-path=\"url(#clip992)\" style=\"stroke:#c271d2; stroke-linecap:round; stroke-linejoin:round; stroke-width:4; stroke-opacity:1; fill:none\" points=\"249.075,900.657 302.823,780.123 356.571,640.802 410.318,547.511 464.066,458.512 517.813,358.098 571.561,1141.02 625.309,1013.1 679.056,880.463 732.804,760.796 786.551,622.607 840.299,527.84 894.046,421.879 947.794,1155.46 1001.54,1013.29 1055.29,908.666 1109.04,805.663 1162.78,678.527 1216.53,577.581 1270.28,499.027 1324.03,389.099 1377.77,1095.55 1431.52,951.424 1485.27,801.881 1539.02,688.3 1592.77,565.307 1646.51,460.255 1700.26,346.943 1754.01,259.461 1807.76,163.278 1861.5,1222.73 1915.25,1070.55 1969,912.307 2022.75,787.866 2076.49,657.249 2130.24,557.962 2183.99,441.91 2237.74,321.296 2291.48,230.219 \"/>\n",
       "<path clip-path=\"url(#clip990)\" d=\"M1934.56 428.105 L2280.59 428.105 L2280.59 168.905 L1934.56 168.905  Z\" fill=\"#ffffff\" fill-rule=\"evenodd\" fill-opacity=\"1\"/>\n",
       "<polyline clip-path=\"url(#clip990)\" style=\"stroke:#000000; stroke-linecap:round; stroke-linejoin:round; stroke-width:4; stroke-opacity:1; fill:none\" points=\"1934.56,428.105 2280.59,428.105 2280.59,168.905 1934.56,168.905 1934.56,428.105 \"/>\n",
       "<polyline clip-path=\"url(#clip990)\" style=\"stroke:#009af9; stroke-linecap:round; stroke-linejoin:round; stroke-width:4; stroke-opacity:1; fill:none\" points=\"1958.61,220.745 2102.94,220.745 \"/>\n",
       "<path clip-path=\"url(#clip990)\" d=\"M2131.68 207.307 L2131.68 234.182 L2137.32 234.182 Q2144.48 234.182 2147.79 230.941 Q2151.12 227.701 2151.12 220.71 Q2151.12 213.766 2147.79 210.548 Q2144.48 207.307 2137.32 207.307 L2131.68 207.307 M2127 203.465 L2136.61 203.465 Q2146.65 203.465 2151.35 207.654 Q2156.05 211.821 2156.05 220.71 Q2156.05 229.645 2151.33 233.835 Q2146.61 238.025 2136.61 238.025 L2127 238.025 L2127 203.465 Z\" fill=\"#000000\" fill-rule=\"nonzero\" fill-opacity=\"1\" /><path clip-path=\"url(#clip990)\" d=\"M2161.47 212.099 L2181.7 212.099 L2181.7 215.988 L2165.68 234.622 L2181.7 234.622 L2181.7 238.025 L2160.89 238.025 L2160.89 234.136 L2176.91 215.502 L2161.47 215.502 L2161.47 212.099 Z\" fill=\"#000000\" fill-rule=\"nonzero\" fill-opacity=\"1\" /><polyline clip-path=\"url(#clip990)\" style=\"stroke:#e26f46; stroke-linecap:round; stroke-linejoin:round; stroke-width:4; stroke-opacity:1; fill:none\" points=\"1958.61,272.585 2102.94,272.585 \"/>\n",
       "<path clip-path=\"url(#clip990)\" d=\"M2127 255.305 L2131.72 255.305 L2138.99 284.517 L2146.24 255.305 L2151.49 255.305 L2158.76 284.517 L2166 255.305 L2170.75 255.305 L2162.07 289.865 L2156.19 289.865 L2148.9 259.865 L2141.54 289.865 L2135.66 289.865 L2127 255.305 Z\" fill=\"#000000\" fill-rule=\"nonzero\" fill-opacity=\"1\" /><path clip-path=\"url(#clip990)\" d=\"M2174.92 263.939 L2195.15 263.939 L2195.15 267.828 L2179.13 286.462 L2195.15 286.462 L2195.15 289.865 L2174.34 289.865 L2174.34 285.976 L2190.36 267.342 L2174.92 267.342 L2174.92 263.939 Z\" fill=\"#000000\" fill-rule=\"nonzero\" fill-opacity=\"1\" /><path clip-path=\"url(#clip990)\" d=\"M2206.51 259.147 L2206.51 286.022 L2212.16 286.022 Q2219.31 286.022 2222.62 282.781 Q2225.96 279.541 2225.96 272.55 Q2225.96 265.606 2222.62 262.388 Q2219.31 259.147 2212.16 259.147 L2206.51 259.147 M2201.84 255.305 L2211.44 255.305 Q2221.49 255.305 2226.19 259.494 Q2230.89 263.661 2230.89 272.55 Q2230.89 281.485 2226.17 285.675 Q2221.44 289.865 2211.44 289.865 L2201.84 289.865 L2201.84 255.305 Z\" fill=\"#000000\" fill-rule=\"nonzero\" fill-opacity=\"1\" /><path clip-path=\"url(#clip990)\" d=\"M2236.3 263.939 L2256.54 263.939 L2256.54 267.828 L2240.52 286.462 L2256.54 286.462 L2256.54 289.865 L2235.73 289.865 L2235.73 285.976 L2251.74 267.342 L2236.3 267.342 L2236.3 263.939 Z\" fill=\"#000000\" fill-rule=\"nonzero\" fill-opacity=\"1\" /><polyline clip-path=\"url(#clip990)\" style=\"stroke:#3da44d; stroke-linecap:round; stroke-linejoin:round; stroke-width:4; stroke-opacity:1; fill:none\" points=\"1958.61,324.425 2102.94,324.425 \"/>\n",
       "<path clip-path=\"url(#clip990)\" d=\"M2131.68 310.987 L2131.68 323.973 L2137.55 323.973 Q2140.82 323.973 2142.6 322.283 Q2144.38 320.594 2144.38 317.469 Q2144.38 314.367 2142.6 312.677 Q2140.82 310.987 2137.55 310.987 L2131.68 310.987 M2127 307.145 L2137.55 307.145 Q2143.37 307.145 2146.33 309.784 Q2149.31 312.399 2149.31 317.469 Q2149.31 322.584 2146.33 325.2 Q2143.37 327.816 2137.55 327.816 L2131.68 327.816 L2131.68 341.705 L2127 341.705 L2127 307.145 Z\" fill=\"#000000\" fill-rule=\"nonzero\" fill-opacity=\"1\" /><path clip-path=\"url(#clip990)\" d=\"M2181.47 309.807 L2181.47 314.737 Q2179.11 312.538 2176.42 311.45 Q2173.76 310.362 2170.75 310.362 Q2164.82 310.362 2161.68 313.996 Q2158.53 317.608 2158.53 324.459 Q2158.53 331.288 2161.68 334.922 Q2164.82 338.533 2170.75 338.533 Q2173.76 338.533 2176.42 337.445 Q2179.11 336.357 2181.47 334.158 L2181.47 339.043 Q2179.01 340.709 2176.26 341.543 Q2173.53 342.376 2170.47 342.376 Q2162.62 342.376 2158.11 337.584 Q2153.6 332.77 2153.6 324.459 Q2153.6 316.126 2158.11 311.334 Q2162.62 306.52 2170.47 306.52 Q2173.57 306.52 2176.3 307.353 Q2179.06 308.163 2181.47 309.807 Z\" fill=\"#000000\" fill-rule=\"nonzero\" fill-opacity=\"1\" /><path clip-path=\"url(#clip990)\" d=\"M2200.24 311.751 L2193.9 328.95 L2206.61 328.95 L2200.24 311.751 M2197.6 307.145 L2202.9 307.145 L2216.07 341.705 L2211.21 341.705 L2208.06 332.839 L2192.49 332.839 L2189.34 341.705 L2184.41 341.705 L2197.6 307.145 Z\" fill=\"#000000\" fill-rule=\"nonzero\" fill-opacity=\"1\" /><polyline clip-path=\"url(#clip990)\" style=\"stroke:#c271d2; stroke-linecap:round; stroke-linejoin:round; stroke-width:4; stroke-opacity:1; fill:none\" points=\"1958.61,376.265 2102.94,376.265 \"/>\n",
       "<path clip-path=\"url(#clip990)\" d=\"M2152.55 388.614 L2152.55 379.332 L2144.92 379.332 L2144.92 375.489 L2157.18 375.489 L2157.18 390.327 Q2154.48 392.248 2151.21 393.244 Q2147.95 394.216 2144.24 394.216 Q2136.14 394.216 2131.56 389.494 Q2127 384.748 2127 376.299 Q2127 367.827 2131.56 363.105 Q2136.14 358.36 2144.24 358.36 Q2147.62 358.36 2150.66 359.193 Q2153.71 360.026 2156.28 361.647 L2156.28 366.623 Q2153.69 364.424 2150.77 363.313 Q2147.86 362.202 2144.64 362.202 Q2138.3 362.202 2135.1 365.744 Q2131.93 369.286 2131.93 376.299 Q2131.93 383.29 2135.1 386.832 Q2138.3 390.373 2144.64 390.373 Q2147.12 390.373 2149.06 389.957 Q2151 389.517 2152.55 388.614 Z\" fill=\"#000000\" fill-rule=\"nonzero\" fill-opacity=\"1\" /><path clip-path=\"url(#clip990)\" d=\"M2170.4 362.827 L2170.4 375.813 L2176.28 375.813 Q2179.55 375.813 2181.33 374.123 Q2183.11 372.434 2183.11 369.309 Q2183.11 366.207 2181.33 364.517 Q2179.55 362.827 2176.28 362.827 L2170.4 362.827 M2165.73 358.985 L2176.28 358.985 Q2182.09 358.985 2185.05 361.624 Q2188.04 364.239 2188.04 369.309 Q2188.04 374.424 2185.05 377.04 Q2182.09 379.656 2176.28 379.656 L2170.4 379.656 L2170.4 393.545 L2165.73 393.545 L2165.73 358.985 Z\" fill=\"#000000\" fill-rule=\"nonzero\" fill-opacity=\"1\" /></svg>\n"
      ],
      "text/html": [
       "<?xml version=\"1.0\" encoding=\"utf-8\"?>\n",
       "<svg xmlns=\"http://www.w3.org/2000/svg\" xmlns:xlink=\"http://www.w3.org/1999/xlink\" width=\"600\" height=\"400\" viewBox=\"0 0 2400 1600\">\n",
       "<defs>\n",
       "  <clipPath id=\"clip040\">\n",
       "    <rect x=\"0\" y=\"0\" width=\"2400\" height=\"1600\"/>\n",
       "  </clipPath>\n",
       "</defs>\n",
       "<path clip-path=\"url(#clip040)\" d=\"M0 1600 L2400 1600 L2400 0 L0 0  Z\" fill=\"#ffffff\" fill-rule=\"evenodd\" fill-opacity=\"1\"/>\n",
       "<defs>\n",
       "  <clipPath id=\"clip041\">\n",
       "    <rect x=\"480\" y=\"0\" width=\"1681\" height=\"1600\"/>\n",
       "  </clipPath>\n",
       "</defs>\n",
       "<path clip-path=\"url(#clip040)\" d=\"M187.803 1486.45 L2352.76 1486.45 L2352.76 123.472 L187.803 123.472  Z\" fill=\"#ffffff\" fill-rule=\"evenodd\" fill-opacity=\"1\"/>\n",
       "<defs>\n",
       "  <clipPath id=\"clip042\">\n",
       "    <rect x=\"187\" y=\"123\" width=\"2166\" height=\"1364\"/>\n",
       "  </clipPath>\n",
       "</defs>\n",
       "<polyline clip-path=\"url(#clip042)\" style=\"stroke:#000000; stroke-linecap:round; stroke-linejoin:round; stroke-width:2; stroke-opacity:0.1; fill:none\" points=\"195.328,1486.45 195.328,123.472 \"/>\n",
       "<polyline clip-path=\"url(#clip042)\" style=\"stroke:#000000; stroke-linecap:round; stroke-linejoin:round; stroke-width:2; stroke-opacity:0.1; fill:none\" points=\"732.804,1486.45 732.804,123.472 \"/>\n",
       "<polyline clip-path=\"url(#clip042)\" style=\"stroke:#000000; stroke-linecap:round; stroke-linejoin:round; stroke-width:2; stroke-opacity:0.1; fill:none\" points=\"1270.28,1486.45 1270.28,123.472 \"/>\n",
       "<polyline clip-path=\"url(#clip042)\" style=\"stroke:#000000; stroke-linecap:round; stroke-linejoin:round; stroke-width:2; stroke-opacity:0.1; fill:none\" points=\"1807.76,1486.45 1807.76,123.472 \"/>\n",
       "<polyline clip-path=\"url(#clip042)\" style=\"stroke:#000000; stroke-linecap:round; stroke-linejoin:round; stroke-width:2; stroke-opacity:0.1; fill:none\" points=\"2345.23,1486.45 2345.23,123.472 \"/>\n",
       "<polyline clip-path=\"url(#clip042)\" style=\"stroke:#000000; stroke-linecap:round; stroke-linejoin:round; stroke-width:2; stroke-opacity:0.1; fill:none\" points=\"187.803,1066.94 2352.76,1066.94 \"/>\n",
       "<polyline clip-path=\"url(#clip042)\" style=\"stroke:#000000; stroke-linecap:round; stroke-linejoin:round; stroke-width:2; stroke-opacity:0.1; fill:none\" points=\"187.803,420.086 2352.76,420.086 \"/>\n",
       "<polyline clip-path=\"url(#clip040)\" style=\"stroke:#000000; stroke-linecap:round; stroke-linejoin:round; stroke-width:4; stroke-opacity:1; fill:none\" points=\"187.803,1486.45 2352.76,1486.45 \"/>\n",
       "<polyline clip-path=\"url(#clip040)\" style=\"stroke:#000000; stroke-linecap:round; stroke-linejoin:round; stroke-width:4; stroke-opacity:1; fill:none\" points=\"195.328,1486.45 195.328,1467.55 \"/>\n",
       "<polyline clip-path=\"url(#clip040)\" style=\"stroke:#000000; stroke-linecap:round; stroke-linejoin:round; stroke-width:4; stroke-opacity:1; fill:none\" points=\"732.804,1486.45 732.804,1467.55 \"/>\n",
       "<polyline clip-path=\"url(#clip040)\" style=\"stroke:#000000; stroke-linecap:round; stroke-linejoin:round; stroke-width:4; stroke-opacity:1; fill:none\" points=\"1270.28,1486.45 1270.28,1467.55 \"/>\n",
       "<polyline clip-path=\"url(#clip040)\" style=\"stroke:#000000; stroke-linecap:round; stroke-linejoin:round; stroke-width:4; stroke-opacity:1; fill:none\" points=\"1807.76,1486.45 1807.76,1467.55 \"/>\n",
       "<polyline clip-path=\"url(#clip040)\" style=\"stroke:#000000; stroke-linecap:round; stroke-linejoin:round; stroke-width:4; stroke-opacity:1; fill:none\" points=\"2345.23,1486.45 2345.23,1467.55 \"/>\n",
       "<path clip-path=\"url(#clip040)\" d=\"M195.328 1517.37 Q191.717 1517.37 189.888 1520.93 Q188.083 1524.47 188.083 1531.6 Q188.083 1538.71 189.888 1542.27 Q191.717 1545.82 195.328 1545.82 Q198.962 1545.82 200.768 1542.27 Q202.596 1538.71 202.596 1531.6 Q202.596 1524.47 200.768 1520.93 Q198.962 1517.37 195.328 1517.37 M195.328 1513.66 Q201.138 1513.66 204.194 1518.27 Q207.272 1522.85 207.272 1531.6 Q207.272 1540.33 204.194 1544.94 Q201.138 1549.52 195.328 1549.52 Q189.518 1549.52 186.439 1544.94 Q183.383 1540.33 183.383 1531.6 Q183.383 1522.85 186.439 1518.27 Q189.518 1513.66 195.328 1513.66 Z\" fill=\"#000000\" fill-rule=\"nonzero\" fill-opacity=\"1\" /><path clip-path=\"url(#clip040)\" d=\"M707.491 1544.91 L715.13 1544.91 L715.13 1518.55 L706.82 1520.21 L706.82 1515.95 L715.084 1514.29 L719.76 1514.29 L719.76 1544.91 L727.399 1544.91 L727.399 1548.85 L707.491 1548.85 L707.491 1544.91 Z\" fill=\"#000000\" fill-rule=\"nonzero\" fill-opacity=\"1\" /><path clip-path=\"url(#clip040)\" d=\"M746.843 1517.37 Q743.232 1517.37 741.403 1520.93 Q739.598 1524.47 739.598 1531.6 Q739.598 1538.71 741.403 1542.27 Q743.232 1545.82 746.843 1545.82 Q750.477 1545.82 752.283 1542.27 Q754.111 1538.71 754.111 1531.6 Q754.111 1524.47 752.283 1520.93 Q750.477 1517.37 746.843 1517.37 M746.843 1513.66 Q752.653 1513.66 755.709 1518.27 Q758.787 1522.85 758.787 1531.6 Q758.787 1540.33 755.709 1544.94 Q752.653 1549.52 746.843 1549.52 Q741.033 1549.52 737.954 1544.94 Q734.899 1540.33 734.899 1531.6 Q734.899 1522.85 737.954 1518.27 Q741.033 1513.66 746.843 1513.66 Z\" fill=\"#000000\" fill-rule=\"nonzero\" fill-opacity=\"1\" /><path clip-path=\"url(#clip040)\" d=\"M1249.05 1544.91 L1265.37 1544.91 L1265.37 1548.85 L1243.43 1548.85 L1243.43 1544.91 Q1246.09 1542.16 1250.67 1537.53 Q1255.28 1532.88 1256.46 1531.53 Q1258.71 1529.01 1259.59 1527.27 Q1260.49 1525.51 1260.49 1523.82 Q1260.49 1521.07 1258.54 1519.33 Q1256.62 1517.6 1253.52 1517.6 Q1251.32 1517.6 1248.87 1518.36 Q1246.44 1519.13 1243.66 1520.68 L1243.66 1515.95 Q1246.48 1514.82 1248.94 1514.24 Q1251.39 1513.66 1253.43 1513.66 Q1258.8 1513.66 1261.99 1516.35 Q1265.19 1519.03 1265.19 1523.52 Q1265.19 1525.65 1264.38 1527.57 Q1263.59 1529.47 1261.48 1532.07 Q1260.9 1532.74 1257.8 1535.95 Q1254.7 1539.15 1249.05 1544.91 Z\" fill=\"#000000\" fill-rule=\"nonzero\" fill-opacity=\"1\" /><path clip-path=\"url(#clip040)\" d=\"M1285.19 1517.37 Q1281.58 1517.37 1279.75 1520.93 Q1277.94 1524.47 1277.94 1531.6 Q1277.94 1538.71 1279.75 1542.27 Q1281.58 1545.82 1285.19 1545.82 Q1288.82 1545.82 1290.63 1542.27 Q1292.46 1538.71 1292.46 1531.6 Q1292.46 1524.47 1290.63 1520.93 Q1288.82 1517.37 1285.19 1517.37 M1285.19 1513.66 Q1291 1513.66 1294.05 1518.27 Q1297.13 1522.85 1297.13 1531.6 Q1297.13 1540.33 1294.05 1544.94 Q1291 1549.52 1285.19 1549.52 Q1279.38 1549.52 1276.3 1544.94 Q1273.24 1540.33 1273.24 1531.6 Q1273.24 1522.85 1276.3 1518.27 Q1279.38 1513.66 1285.19 1513.66 Z\" fill=\"#000000\" fill-rule=\"nonzero\" fill-opacity=\"1\" /><path clip-path=\"url(#clip040)\" d=\"M1796.6 1530.21 Q1799.95 1530.93 1801.83 1533.2 Q1803.73 1535.47 1803.73 1538.8 Q1803.73 1543.92 1800.21 1546.72 Q1796.69 1549.52 1790.21 1549.52 Q1788.03 1549.52 1785.72 1549.08 Q1783.43 1548.66 1780.97 1547.81 L1780.97 1543.29 Q1782.92 1544.43 1785.23 1545.01 Q1787.55 1545.58 1790.07 1545.58 Q1794.47 1545.58 1796.76 1543.85 Q1799.07 1542.11 1799.07 1538.8 Q1799.07 1535.75 1796.92 1534.03 Q1794.79 1532.3 1790.97 1532.3 L1786.95 1532.3 L1786.95 1528.45 L1791.16 1528.45 Q1794.61 1528.45 1796.44 1527.09 Q1798.26 1525.7 1798.26 1523.11 Q1798.26 1520.45 1796.37 1519.03 Q1794.49 1517.6 1790.97 1517.6 Q1789.05 1517.6 1786.85 1518.01 Q1784.65 1518.43 1782.01 1519.31 L1782.01 1515.14 Q1784.68 1514.4 1786.99 1514.03 Q1789.33 1513.66 1791.39 1513.66 Q1796.71 1513.66 1799.82 1516.09 Q1802.92 1518.5 1802.92 1522.62 Q1802.92 1525.49 1801.27 1527.48 Q1799.63 1529.45 1796.6 1530.21 Z\" fill=\"#000000\" fill-rule=\"nonzero\" fill-opacity=\"1\" /><path clip-path=\"url(#clip040)\" d=\"M1822.59 1517.37 Q1818.98 1517.37 1817.15 1520.93 Q1815.35 1524.47 1815.35 1531.6 Q1815.35 1538.71 1817.15 1542.27 Q1818.98 1545.82 1822.59 1545.82 Q1826.23 1545.82 1828.03 1542.27 Q1829.86 1538.71 1829.86 1531.6 Q1829.86 1524.47 1828.03 1520.93 Q1826.23 1517.37 1822.59 1517.37 M1822.59 1513.66 Q1828.4 1513.66 1831.46 1518.27 Q1834.54 1522.85 1834.54 1531.6 Q1834.54 1540.33 1831.46 1544.94 Q1828.4 1549.52 1822.59 1549.52 Q1816.78 1549.52 1813.7 1544.94 Q1810.65 1540.33 1810.65 1531.6 Q1810.65 1522.85 1813.7 1518.27 Q1816.78 1513.66 1822.59 1513.66 Z\" fill=\"#000000\" fill-rule=\"nonzero\" fill-opacity=\"1\" /><path clip-path=\"url(#clip040)\" d=\"M2333.4 1518.36 L2321.6 1536.81 L2333.4 1536.81 L2333.4 1518.36 M2332.18 1514.29 L2338.06 1514.29 L2338.06 1536.81 L2342.99 1536.81 L2342.99 1540.7 L2338.06 1540.7 L2338.06 1548.85 L2333.4 1548.85 L2333.4 1540.7 L2317.8 1540.7 L2317.8 1536.19 L2332.18 1514.29 Z\" fill=\"#000000\" fill-rule=\"nonzero\" fill-opacity=\"1\" /><path clip-path=\"url(#clip040)\" d=\"M2360.72 1517.37 Q2357.11 1517.37 2355.28 1520.93 Q2353.47 1524.47 2353.47 1531.6 Q2353.47 1538.71 2355.28 1542.27 Q2357.11 1545.82 2360.72 1545.82 Q2364.35 1545.82 2366.16 1542.27 Q2367.99 1538.71 2367.99 1531.6 Q2367.99 1524.47 2366.16 1520.93 Q2364.35 1517.37 2360.72 1517.37 M2360.72 1513.66 Q2366.53 1513.66 2369.58 1518.27 Q2372.66 1522.85 2372.66 1531.6 Q2372.66 1540.33 2369.58 1544.94 Q2366.53 1549.52 2360.72 1549.52 Q2354.91 1549.52 2351.83 1544.94 Q2348.77 1540.33 2348.77 1531.6 Q2348.77 1522.85 2351.83 1518.27 Q2354.91 1513.66 2360.72 1513.66 Z\" fill=\"#000000\" fill-rule=\"nonzero\" fill-opacity=\"1\" /><polyline clip-path=\"url(#clip040)\" style=\"stroke:#000000; stroke-linecap:round; stroke-linejoin:round; stroke-width:4; stroke-opacity:1; fill:none\" points=\"187.803,1486.45 187.803,123.472 \"/>\n",
       "<polyline clip-path=\"url(#clip040)\" style=\"stroke:#000000; stroke-linecap:round; stroke-linejoin:round; stroke-width:4; stroke-opacity:1; fill:none\" points=\"187.803,1066.94 206.701,1066.94 \"/>\n",
       "<polyline clip-path=\"url(#clip040)\" style=\"stroke:#000000; stroke-linecap:round; stroke-linejoin:round; stroke-width:4; stroke-opacity:1; fill:none\" points=\"187.803,420.086 206.701,420.086 \"/>\n",
       "<path clip-path=\"url(#clip040)\" d=\"M51.6634 1086.73 L59.3023 1086.73 L59.3023 1060.36 L50.9921 1062.03 L50.9921 1057.77 L59.256 1056.1 L63.9319 1056.1 L63.9319 1086.73 L71.5707 1086.73 L71.5707 1090.66 L51.6634 1090.66 L51.6634 1086.73 Z\" fill=\"#000000\" fill-rule=\"nonzero\" fill-opacity=\"1\" /><path clip-path=\"url(#clip040)\" d=\"M91.0151 1059.18 Q87.404 1059.18 85.5753 1062.75 Q83.7697 1066.29 83.7697 1073.42 Q83.7697 1080.52 85.5753 1084.09 Q87.404 1087.63 91.0151 1087.63 Q94.6493 1087.63 96.4548 1084.09 Q98.2835 1080.52 98.2835 1073.42 Q98.2835 1066.29 96.4548 1062.75 Q94.6493 1059.18 91.0151 1059.18 M91.0151 1055.48 Q96.8252 1055.48 99.8808 1060.08 Q102.959 1064.67 102.959 1073.42 Q102.959 1082.14 99.8808 1086.75 Q96.8252 1091.33 91.0151 1091.33 Q85.2049 1091.33 82.1262 1086.75 Q79.0707 1082.14 79.0707 1073.42 Q79.0707 1064.67 82.1262 1060.08 Q85.2049 1055.48 91.0151 1055.48 Z\" fill=\"#000000\" fill-rule=\"nonzero\" fill-opacity=\"1\" /><path clip-path=\"url(#clip040)\" d=\"M102.959 1049.58 L127.071 1049.58 L127.071 1052.78 L102.959 1052.78 L102.959 1049.58 Z\" fill=\"#000000\" fill-rule=\"nonzero\" fill-opacity=\"1\" /><path clip-path=\"url(#clip040)\" d=\"M138.544 1060.06 L151.803 1060.06 L151.803 1063.25 L133.973 1063.25 L133.973 1060.06 Q136.136 1057.82 139.86 1054.06 Q143.603 1050.28 144.562 1049.18 Q146.387 1047.13 147.101 1045.72 Q147.835 1044.29 147.835 1042.92 Q147.835 1040.68 146.255 1039.27 Q144.694 1037.86 142.174 1037.86 Q140.387 1037.86 138.393 1038.48 Q136.418 1039.1 134.162 1040.36 L134.162 1036.53 Q136.456 1035.61 138.45 1035.14 Q140.443 1034.66 142.098 1034.66 Q146.462 1034.66 149.057 1036.85 Q151.653 1039.03 151.653 1042.68 Q151.653 1044.41 150.994 1045.97 Q150.355 1047.51 148.644 1049.62 Q148.173 1050.16 145.653 1052.78 Q143.133 1055.37 138.544 1060.06 Z\" fill=\"#000000\" fill-rule=\"nonzero\" fill-opacity=\"1\" /><path clip-path=\"url(#clip040)\" d=\"M81.0976 439.878 L88.7364 439.878 L88.7364 413.513 L80.4263 415.179 L80.4263 410.92 L88.6901 409.253 L93.366 409.253 L93.366 439.878 L101.005 439.878 L101.005 443.813 L81.0976 443.813 L81.0976 439.878 Z\" fill=\"#000000\" fill-rule=\"nonzero\" fill-opacity=\"1\" /><path clip-path=\"url(#clip040)\" d=\"M120.449 412.332 Q116.838 412.332 115.009 415.897 Q113.204 419.439 113.204 426.568 Q113.204 433.675 115.009 437.239 Q116.838 440.781 120.449 440.781 Q124.083 440.781 125.889 437.239 Q127.718 433.675 127.718 426.568 Q127.718 419.439 125.889 415.897 Q124.083 412.332 120.449 412.332 M120.449 408.628 Q126.259 408.628 129.315 413.235 Q132.394 417.818 132.394 426.568 Q132.394 435.295 129.315 439.901 Q126.259 444.485 120.449 444.485 Q114.639 444.485 111.56 439.901 Q108.505 435.295 108.505 426.568 Q108.505 417.818 111.56 413.235 Q114.639 408.628 120.449 408.628 Z\" fill=\"#000000\" fill-rule=\"nonzero\" fill-opacity=\"1\" /><path clip-path=\"url(#clip040)\" d=\"M142.098 390.824 Q139.164 390.824 137.679 393.721 Q136.212 396.598 136.212 402.391 Q136.212 408.165 137.679 411.062 Q139.164 413.939 142.098 413.939 Q145.051 413.939 146.518 411.062 Q148.004 408.165 148.004 402.391 Q148.004 396.598 146.518 393.721 Q145.051 390.824 142.098 390.824 M142.098 387.815 Q146.819 387.815 149.302 391.558 Q151.803 395.282 151.803 402.391 Q151.803 409.482 149.302 413.224 Q146.819 416.948 142.098 416.948 Q137.378 416.948 134.876 413.224 Q132.394 409.482 132.394 402.391 Q132.394 395.282 134.876 391.558 Q137.378 387.815 142.098 387.815 Z\" fill=\"#000000\" fill-rule=\"nonzero\" fill-opacity=\"1\" /><path clip-path=\"url(#clip040)\" d=\"M1227.6 39.9662 Q1233.48 41.222 1236.76 45.1919 Q1240.08 49.1618 1240.08 54.9951 Q1240.08 63.9476 1233.92 68.8492 Q1227.77 73.7508 1216.42 73.7508 Q1212.61 73.7508 1208.56 72.9811 Q1204.55 72.2519 1200.26 70.7531 L1200.26 62.8538 Q1203.66 64.8388 1207.71 65.8515 Q1211.76 66.8642 1216.18 66.8642 Q1223.88 66.8642 1227.89 63.826 Q1231.94 60.7879 1231.94 54.9951 Q1231.94 49.6479 1228.17 46.6502 Q1224.44 43.612 1217.76 43.612 L1210.71 43.612 L1210.71 36.8875 L1218.08 36.8875 Q1224.12 36.8875 1227.32 34.4975 Q1230.52 32.067 1230.52 27.5299 Q1230.52 22.8714 1227.2 20.4004 Q1223.92 17.8888 1217.76 17.8888 Q1214.4 17.8888 1210.55 18.618 Q1206.7 19.3471 1202.08 20.8865 L1202.08 13.5948 Q1206.74 12.2985 1210.79 11.6504 Q1214.88 11.0023 1218.49 11.0023 Q1227.81 11.0023 1233.23 15.2557 Q1238.66 19.4686 1238.66 26.6793 Q1238.66 31.7024 1235.79 35.1862 Q1232.91 38.6294 1227.6 39.9662 Z\" fill=\"#000000\" fill-rule=\"nonzero\" fill-opacity=\"1\" /><path clip-path=\"url(#clip040)\" d=\"M1292.26 27.2059 L1275.85 49.2833 L1293.11 72.576 L1284.32 72.576 L1271.11 54.752 L1257.9 72.576 L1249.11 72.576 L1266.74 48.8377 L1250.61 27.2059 L1259.4 27.2059 L1271.43 43.369 L1283.47 27.2059 L1292.26 27.2059 Z\" fill=\"#000000\" fill-rule=\"nonzero\" fill-opacity=\"1\" /><path clip-path=\"url(#clip040)\" d=\"M1311.74 65.6895 L1340.3 65.6895 L1340.3 72.576 L1301.9 72.576 L1301.9 65.6895 Q1306.56 60.8689 1314.58 52.7671 Q1322.64 44.6248 1324.7 42.2752 Q1328.63 37.8598 1330.17 34.8216 Q1331.75 31.7429 1331.75 28.7857 Q1331.75 23.9651 1328.35 20.927 Q1324.99 17.8888 1319.56 17.8888 Q1315.71 17.8888 1311.42 19.2256 Q1307.16 20.5624 1302.3 23.2765 L1302.3 15.0127 Q1307.24 13.0277 1311.54 12.015 Q1315.83 11.0023 1319.4 11.0023 Q1328.79 11.0023 1334.39 15.7013 Q1339.98 20.4004 1339.98 28.2591 Q1339.98 31.9859 1338.56 35.3482 Q1337.18 38.6699 1333.49 43.2069 Q1332.48 44.3817 1327.05 50.0125 Q1321.62 55.6027 1311.74 65.6895 Z\" fill=\"#000000\" fill-rule=\"nonzero\" fill-opacity=\"1\" /><polyline clip-path=\"url(#clip042)\" style=\"stroke:#009af9; stroke-linecap:round; stroke-linejoin:round; stroke-width:4; stroke-opacity:1; fill:none\" points=\"249.075,1009.04 302.823,932.701 356.571,788.781 410.318,768.002 464.066,708.492 517.813,635.23 571.561,1103.32 625.309,1026.81 679.056,942.804 732.804,814.147 786.551,747.293 840.299,809.197 894.046,662.468 947.794,1274.2 1001.54,1152.53 1055.29,1095.79 1109.04,1035.37 1162.78,888.247 1216.53,853.512 1270.28,954.255 1324.03,868.026 1377.77,1321.42 1431.52,1194.32 1485.27,1094.5 1539.02,1096.26 1592.77,994.294 1646.51,852.748 1700.26,1009.71 1754.01,708.347 1807.76,1096.68 1861.5,1447.87 1915.25,1404.16 1969,1157.06 2022.75,1192.67 2076.49,1171.09 2130.24,948.375 2183.99,876.634 2237.74,1105.9 2291.48,968.406 \"/>\n",
       "<polyline clip-path=\"url(#clip042)\" style=\"stroke:#e26f46; stroke-linecap:round; stroke-linejoin:round; stroke-width:4; stroke-opacity:1; fill:none\" points=\"249.075,1078.29 302.823,1021.59 356.571,885.444 410.318,924.661 464.066,903.771 517.813,856.374 571.561,960.978 625.309,853.485 679.056,742.05 732.804,620.857 786.551,515.607 840.299,485.99 894.046,360.519 947.794,1178.72 1001.54,1044.53 1055.29,958.535 1109.04,874.326 1162.78,739.987 1216.53,670.477 1270.28,659.134 1324.03,556.214 1377.77,1216.43 1431.52,1080.19 1485.27,964.196 1539.02,914.705 1592.77,802.844 1646.51,679.686 1700.26,676.61 1754.01,506.951 1807.76,556.643 1861.5,1235.77 1915.25,1131.29 1969,938.313 2022.75,883.026 2076.49,785.433 2130.24,646.06 2183.99,545.821 2237.74,595.763 2291.48,404.662 \"/>\n",
       "<polyline clip-path=\"url(#clip042)\" style=\"stroke:#3da44d; stroke-linecap:round; stroke-linejoin:round; stroke-width:4; stroke-opacity:1; fill:none\" points=\"249.075,898.269 302.823,777.528 356.571,638.16 410.318,544.072 464.066,454.514 517.813,354.091 571.561,1138.66 625.309,1011.68 679.056,879.526 732.804,759.491 786.551,622.117 840.299,527.25 894.046,421.597 947.794,1150.13 1001.54,1007.72 1055.29,903.139 1109.04,799.767 1162.78,672.599 1216.53,572.097 1270.28,493.403 1324.03,384.129 1377.77,1092.98 1431.52,949.203 1485.27,799.523 1539.02,686.55 1592.77,563.614 1646.51,458.428 1700.26,345.449 1754.01,257.857 1807.76,162.047 1861.5,1222.74 1915.25,1069.45 1969,911.991 2022.75,787.456 2076.49,656.883 2130.24,557.695 2183.99,441.653 2237.74,320.96 2291.48,228.606 \"/>\n",
       "<polyline clip-path=\"url(#clip042)\" style=\"stroke:#c271d2; stroke-linecap:round; stroke-linejoin:round; stroke-width:4; stroke-opacity:1; fill:none\" points=\"249.075,900.657 302.823,780.123 356.571,640.802 410.318,547.511 464.066,458.512 517.813,358.098 571.561,1141.02 625.309,1013.1 679.056,880.463 732.804,760.796 786.551,622.607 840.299,527.84 894.046,421.879 947.794,1155.46 1001.54,1013.29 1055.29,908.666 1109.04,805.663 1162.78,678.527 1216.53,577.581 1270.28,499.027 1324.03,389.099 1377.77,1095.55 1431.52,951.424 1485.27,801.881 1539.02,688.3 1592.77,565.307 1646.51,460.255 1700.26,346.943 1754.01,259.461 1807.76,163.278 1861.5,1222.73 1915.25,1070.55 1969,912.307 2022.75,787.866 2076.49,657.249 2130.24,557.962 2183.99,441.91 2237.74,321.296 2291.48,230.219 \"/>\n",
       "<path clip-path=\"url(#clip040)\" d=\"M1934.56 428.105 L2280.59 428.105 L2280.59 168.905 L1934.56 168.905  Z\" fill=\"#ffffff\" fill-rule=\"evenodd\" fill-opacity=\"1\"/>\n",
       "<polyline clip-path=\"url(#clip040)\" style=\"stroke:#000000; stroke-linecap:round; stroke-linejoin:round; stroke-width:4; stroke-opacity:1; fill:none\" points=\"1934.56,428.105 2280.59,428.105 2280.59,168.905 1934.56,168.905 1934.56,428.105 \"/>\n",
       "<polyline clip-path=\"url(#clip040)\" style=\"stroke:#009af9; stroke-linecap:round; stroke-linejoin:round; stroke-width:4; stroke-opacity:1; fill:none\" points=\"1958.61,220.745 2102.94,220.745 \"/>\n",
       "<path clip-path=\"url(#clip040)\" d=\"M2131.68 207.307 L2131.68 234.182 L2137.32 234.182 Q2144.48 234.182 2147.79 230.941 Q2151.12 227.701 2151.12 220.71 Q2151.12 213.766 2147.79 210.548 Q2144.48 207.307 2137.32 207.307 L2131.68 207.307 M2127 203.465 L2136.61 203.465 Q2146.65 203.465 2151.35 207.654 Q2156.05 211.821 2156.05 220.71 Q2156.05 229.645 2151.33 233.835 Q2146.61 238.025 2136.61 238.025 L2127 238.025 L2127 203.465 Z\" fill=\"#000000\" fill-rule=\"nonzero\" fill-opacity=\"1\" /><path clip-path=\"url(#clip040)\" d=\"M2161.47 212.099 L2181.7 212.099 L2181.7 215.988 L2165.68 234.622 L2181.7 234.622 L2181.7 238.025 L2160.89 238.025 L2160.89 234.136 L2176.91 215.502 L2161.47 215.502 L2161.47 212.099 Z\" fill=\"#000000\" fill-rule=\"nonzero\" fill-opacity=\"1\" /><polyline clip-path=\"url(#clip040)\" style=\"stroke:#e26f46; stroke-linecap:round; stroke-linejoin:round; stroke-width:4; stroke-opacity:1; fill:none\" points=\"1958.61,272.585 2102.94,272.585 \"/>\n",
       "<path clip-path=\"url(#clip040)\" d=\"M2127 255.305 L2131.72 255.305 L2138.99 284.517 L2146.24 255.305 L2151.49 255.305 L2158.76 284.517 L2166 255.305 L2170.75 255.305 L2162.07 289.865 L2156.19 289.865 L2148.9 259.865 L2141.54 289.865 L2135.66 289.865 L2127 255.305 Z\" fill=\"#000000\" fill-rule=\"nonzero\" fill-opacity=\"1\" /><path clip-path=\"url(#clip040)\" d=\"M2174.92 263.939 L2195.15 263.939 L2195.15 267.828 L2179.13 286.462 L2195.15 286.462 L2195.15 289.865 L2174.34 289.865 L2174.34 285.976 L2190.36 267.342 L2174.92 267.342 L2174.92 263.939 Z\" fill=\"#000000\" fill-rule=\"nonzero\" fill-opacity=\"1\" /><path clip-path=\"url(#clip040)\" d=\"M2206.51 259.147 L2206.51 286.022 L2212.16 286.022 Q2219.31 286.022 2222.62 282.781 Q2225.96 279.541 2225.96 272.55 Q2225.96 265.606 2222.62 262.388 Q2219.31 259.147 2212.16 259.147 L2206.51 259.147 M2201.84 255.305 L2211.44 255.305 Q2221.49 255.305 2226.19 259.494 Q2230.89 263.661 2230.89 272.55 Q2230.89 281.485 2226.17 285.675 Q2221.44 289.865 2211.44 289.865 L2201.84 289.865 L2201.84 255.305 Z\" fill=\"#000000\" fill-rule=\"nonzero\" fill-opacity=\"1\" /><path clip-path=\"url(#clip040)\" d=\"M2236.3 263.939 L2256.54 263.939 L2256.54 267.828 L2240.52 286.462 L2256.54 286.462 L2256.54 289.865 L2235.73 289.865 L2235.73 285.976 L2251.74 267.342 L2236.3 267.342 L2236.3 263.939 Z\" fill=\"#000000\" fill-rule=\"nonzero\" fill-opacity=\"1\" /><polyline clip-path=\"url(#clip040)\" style=\"stroke:#3da44d; stroke-linecap:round; stroke-linejoin:round; stroke-width:4; stroke-opacity:1; fill:none\" points=\"1958.61,324.425 2102.94,324.425 \"/>\n",
       "<path clip-path=\"url(#clip040)\" d=\"M2131.68 310.987 L2131.68 323.973 L2137.55 323.973 Q2140.82 323.973 2142.6 322.283 Q2144.38 320.594 2144.38 317.469 Q2144.38 314.367 2142.6 312.677 Q2140.82 310.987 2137.55 310.987 L2131.68 310.987 M2127 307.145 L2137.55 307.145 Q2143.37 307.145 2146.33 309.784 Q2149.31 312.399 2149.31 317.469 Q2149.31 322.584 2146.33 325.2 Q2143.37 327.816 2137.55 327.816 L2131.68 327.816 L2131.68 341.705 L2127 341.705 L2127 307.145 Z\" fill=\"#000000\" fill-rule=\"nonzero\" fill-opacity=\"1\" /><path clip-path=\"url(#clip040)\" d=\"M2181.47 309.807 L2181.47 314.737 Q2179.11 312.538 2176.42 311.45 Q2173.76 310.362 2170.75 310.362 Q2164.82 310.362 2161.68 313.996 Q2158.53 317.608 2158.53 324.459 Q2158.53 331.288 2161.68 334.922 Q2164.82 338.533 2170.75 338.533 Q2173.76 338.533 2176.42 337.445 Q2179.11 336.357 2181.47 334.158 L2181.47 339.043 Q2179.01 340.709 2176.26 341.543 Q2173.53 342.376 2170.47 342.376 Q2162.62 342.376 2158.11 337.584 Q2153.6 332.77 2153.6 324.459 Q2153.6 316.126 2158.11 311.334 Q2162.62 306.52 2170.47 306.52 Q2173.57 306.52 2176.3 307.353 Q2179.06 308.163 2181.47 309.807 Z\" fill=\"#000000\" fill-rule=\"nonzero\" fill-opacity=\"1\" /><path clip-path=\"url(#clip040)\" d=\"M2200.24 311.751 L2193.9 328.95 L2206.61 328.95 L2200.24 311.751 M2197.6 307.145 L2202.9 307.145 L2216.07 341.705 L2211.21 341.705 L2208.06 332.839 L2192.49 332.839 L2189.34 341.705 L2184.41 341.705 L2197.6 307.145 Z\" fill=\"#000000\" fill-rule=\"nonzero\" fill-opacity=\"1\" /><polyline clip-path=\"url(#clip040)\" style=\"stroke:#c271d2; stroke-linecap:round; stroke-linejoin:round; stroke-width:4; stroke-opacity:1; fill:none\" points=\"1958.61,376.265 2102.94,376.265 \"/>\n",
       "<path clip-path=\"url(#clip040)\" d=\"M2152.55 388.614 L2152.55 379.332 L2144.92 379.332 L2144.92 375.489 L2157.18 375.489 L2157.18 390.327 Q2154.48 392.248 2151.21 393.244 Q2147.95 394.216 2144.24 394.216 Q2136.14 394.216 2131.56 389.494 Q2127 384.748 2127 376.299 Q2127 367.827 2131.56 363.105 Q2136.14 358.36 2144.24 358.36 Q2147.62 358.36 2150.66 359.193 Q2153.71 360.026 2156.28 361.647 L2156.28 366.623 Q2153.69 364.424 2150.77 363.313 Q2147.86 362.202 2144.64 362.202 Q2138.3 362.202 2135.1 365.744 Q2131.93 369.286 2131.93 376.299 Q2131.93 383.29 2135.1 386.832 Q2138.3 390.373 2144.64 390.373 Q2147.12 390.373 2149.06 389.957 Q2151 389.517 2152.55 388.614 Z\" fill=\"#000000\" fill-rule=\"nonzero\" fill-opacity=\"1\" /><path clip-path=\"url(#clip040)\" d=\"M2170.4 362.827 L2170.4 375.813 L2176.28 375.813 Q2179.55 375.813 2181.33 374.123 Q2183.11 372.434 2183.11 369.309 Q2183.11 366.207 2181.33 364.517 Q2179.55 362.827 2176.28 362.827 L2170.4 362.827 M2165.73 358.985 L2176.28 358.985 Q2182.09 358.985 2185.05 361.624 Q2188.04 364.239 2188.04 369.309 Q2188.04 374.424 2185.05 377.04 Q2182.09 379.656 2176.28 379.656 L2170.4 379.656 L2170.4 393.545 L2165.73 393.545 L2165.73 358.985 Z\" fill=\"#000000\" fill-rule=\"nonzero\" fill-opacity=\"1\" /></svg>\n"
      ]
     },
     "execution_count": 20,
     "metadata": {},
     "output_type": "execute_result"
    }
   ],
   "source": [
    "plot(diag(Cmod_dz) ./ diag(meta.cov), label=\"Dz\", yscale=:log10, title=\"3x2\")\n",
    "plot!(diag(Cmod_wzdz) ./ diag(meta.cov), label=\"WzDz\", yscale=:log10, title=\"3x2\")\n",
    "plot!(diag(Cmod_pca) ./ diag(meta.cov), label=\"PCA\", yscale=:log10, title=\"3x2\")\n",
    "plot!(diag(Cmod_gp) ./ diag(meta.cov), label=\"GP\", yscale=:log10, title=\"3x2\")"
   ]
  },
  {
   "cell_type": "markdown",
   "id": "99c7d3bf",
   "metadata": {},
   "source": [
    "## Save"
   ]
  },
  {
   "cell_type": "code",
   "execution_count": 21,
   "id": "24092f5f",
   "metadata": {},
   "outputs": [],
   "source": [
    "using NPZ\n",
    "npzwrite(\"../covs/COSMODC2/comp_gcgc_covs.npz\",\n",
    "        Dict(\n",
    "        \"cov\"     => meta.cov,\n",
    "        \"TT_dz\"   => Symmetric(meta.cov + Cmod_dz),\n",
    "        \"TT_wzdz\" => Symmetric(meta.cov + Cmod_wzdz),\n",
    "        \"TT_pca\"  => Symmetric(meta.cov + Cmod_pca),\n",
    "        \"TT_gp\"   => Symmetric(meta.cov + Cmod_gp)))"
   ]
  }
 ],
 "metadata": {
  "kernelspec": {
   "display_name": "Julia (10 threads) 1.11.0",
   "language": "julia",
   "name": "julia-_10-threads_-1.11"
  },
  "language_info": {
   "file_extension": ".jl",
   "mimetype": "application/julia",
   "name": "julia",
   "version": "1.11.0"
  }
 },
 "nbformat": 4,
 "nbformat_minor": 5
}
