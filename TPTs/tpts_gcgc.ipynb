{
 "cells": [
  {
   "cell_type": "code",
   "execution_count": 1,
   "id": "10e5764a",
   "metadata": {},
   "outputs": [
    {
     "name": "stderr",
     "output_type": "stream",
     "text": [
      "\u001b[32m\u001b[1m  Activating\u001b[22m\u001b[39m project at `~/Documents/UCL/3x2_analytical`\n"
     ]
    }
   ],
   "source": [
    "using Pkg\n",
    "Pkg.activate(\"../\")\n",
    "#Pkg.instantiate()"
   ]
  },
  {
   "cell_type": "code",
   "execution_count": 2,
   "id": "02df9ee7",
   "metadata": {},
   "outputs": [],
   "source": [
    "using LinearAlgebra\n",
    "using ForwardDiff\n",
    "using Plots\n",
    "using LimberJack\n",
    "using CSV\n",
    "using YAML\n",
    "using NPZ\n",
    "using DataFrames\n",
    "using PythonCall\n",
    "using Statistics\n",
    "using Interpolations\n",
    "using SparseArrays\n",
    "sacc = pyimport(\"sacc\");"
   ]
  },
  {
   "cell_type": "markdown",
   "id": "9cc48b85",
   "metadata": {},
   "source": [
    "# Judith's Chain"
   ]
  },
  {
   "cell_type": "code",
   "execution_count": 3,
   "id": "07117090",
   "metadata": {},
   "outputs": [
    {
     "data": {
      "text/plain": [
       "make_Cmod (generic function with 1 method)"
      ]
     },
     "execution_count": 3,
     "metadata": {},
     "output_type": "execute_result"
    }
   ],
   "source": [
    "function make_Cmod(m, model)\n",
    "    T = ForwardDiff.jacobian(model, zeros(m))\n",
    "    return T * T'\n",
    "end"
   ]
  },
  {
   "cell_type": "markdown",
   "metadata": {},
   "source": [
    "## Data"
   ]
  },
  {
   "cell_type": "code",
   "execution_count": 4,
   "id": "69e20555",
   "metadata": {},
   "outputs": [
    {
     "name": "stdout",
     "output_type": "stream",
     "text": [
      "lens_0 lens_0 6\n",
      "lens_1 lens_1 7\n",
      "lens_2 lens_2 8\n",
      "lens_3 lens_3 9\n",
      "lens_4 lens_4 9\n",
      "using custom nz for nz_lens_0\n",
      "using custom nz for nz_lens_1\n",
      "using custom nz for nz_lens_2\n",
      "using custom nz for nz_lens_3\n",
      "using custom nz for nz_lens_4\n"
     ]
    }
   ],
   "source": [
    "method = \"lognormal\" # \"bpz\" or \"sompz\"\n",
    "sacc_path = \"../data/CosmoDC2/summary_statistics_fourier_tjpcov.sacc\"\n",
    "yaml_path = \"../data/CosmoDC2/gcgc.yml\"\n",
    "nz_path = string(\"../data/CosmoDC2/image_dz_\", method, \"_priors/\")\n",
    "\n",
    "sacc_file = sacc.Sacc().load_fits(sacc_path)\n",
    "yaml_file = YAML.load_file(yaml_path)\n",
    "\n",
    "nz_lens_0 = npzread(string(nz_path, \"dz_lens_0.npz\"))\n",
    "nz_lens_1 = npzread(string(nz_path, \"dz_lens_1.npz\"))\n",
    "nz_lens_2 = npzread(string(nz_path, \"dz_lens_2.npz\"))\n",
    "nz_lens_3 = npzread(string(nz_path, \"dz_lens_3.npz\"))\n",
    "nz_lens_4 = npzread(string(nz_path, \"dz_lens_4.npz\"))\n",
    "\n",
    "meta, files = make_data(sacc_file, yaml_file;\n",
    "    nz_lens_0=nz_lens_0,\n",
    "    nz_lens_1=nz_lens_1,\n",
    "    nz_lens_2=nz_lens_2,\n",
    "    nz_lens_3=nz_lens_3,\n",
    "    nz_lens_4=nz_lens_4)\n",
    "\n",
    "meta.types = [ \n",
    "    \"galaxy_density\",\n",
    "    \"galaxy_density\",\n",
    "    \"galaxy_density\",\n",
    "    \"galaxy_density\",\n",
    "    \"galaxy_density\"];"
   ]
  },
  {
   "cell_type": "markdown",
   "id": "197767da",
   "metadata": {},
   "source": [
    "## dZ"
   ]
  },
  {
   "cell_type": "code",
   "execution_count": 5,
   "id": "ac4483a7",
   "metadata": {},
   "outputs": [],
   "source": [
    "nz_path = string(\"../data/CosmoDC2/image_dz_\", method, \"_priors/\")\n",
    "nz_lens_0 = npzread(string(nz_path, \"dz_lens_0.npz\"))\n",
    "nz_lens_1 = npzread(string(nz_path, \"dz_lens_1.npz\"))\n",
    "nz_lens_2 = npzread(string(nz_path, \"dz_lens_2.npz\"))\n",
    "nz_lens_3 = npzread(string(nz_path, \"dz_lens_3.npz\"))\n",
    "nz_lens_4 = npzread(string(nz_path, \"dz_lens_4.npz\"))\n",
    "zs_k0, nz_k0 = nz_lens_0[\"z\"], nz_lens_0[\"dndz\"]\n",
    "zs_k1, nz_k1 = nz_lens_1[\"z\"], nz_lens_1[\"dndz\"]\n",
    "zs_k2, nz_k2 = nz_lens_2[\"z\"], nz_lens_2[\"dndz\"]\n",
    "zs_k3, nz_k3 = nz_lens_3[\"z\"], nz_lens_3[\"dndz\"]\n",
    "zs_k4, nz_k4 = nz_lens_4[\"z\"], nz_lens_4[\"dndz\"]\n",
    "chol_lens_0 = nz_lens_0[\"chol\"]\n",
    "chol_lens_1 = nz_lens_1[\"chol\"]\n",
    "chol_lens_2 = nz_lens_2[\"chol\"]\n",
    "chol_lens_3 = nz_lens_3[\"chol\"]\n",
    "chol_lens_4 = nz_lens_4[\"chol\"];"
   ]
  },
  {
   "cell_type": "code",
   "execution_count": 6,
   "id": "a6215897",
   "metadata": {},
   "outputs": [],
   "source": [
    "function model_dz(alphas; \n",
    "    Ωm=0.27347, σ8=0.779007, Ωb=0.04217, h=0.71899, ns=0.99651,\n",
    "    lens_0_b=0.879118, \n",
    "    lens_1_b=1.05894, \n",
    "    lens_2_b=1.22145, \n",
    "    lens_3_b=1.35065, \n",
    "    lens_4_b=1.58909,\n",
    "    meta=meta, files=files)\n",
    "\n",
    "    dz_lens_0 = chol_lens_0 * alphas[1]\n",
    "    dz_lens_1 = chol_lens_1 * alphas[2]\n",
    "    dz_lens_2 = chol_lens_2 * alphas[3]\n",
    "    dz_lens_3 = chol_lens_3 * alphas[4]\n",
    "    dz_lens_4 = chol_lens_4 * alphas[5]\n",
    "\n",
    "    lens_0_zs   = @.(zs_k0 + dz_lens_0)\n",
    "    lens_1_zs   = @.(zs_k1 + dz_lens_1)\n",
    "    lens_2_zs   = @.(zs_k2 + dz_lens_2)\n",
    "    lens_3_zs   = @.(zs_k3 + dz_lens_3)\n",
    "    lens_4_zs   = @.(zs_k4 + dz_lens_4)\n",
    "\n",
    "    nuisances = Dict(\n",
    "    \"lens_0_b\"    => lens_0_b,\n",
    "    \"lens_1_b\"    => lens_1_b,\n",
    "    \"lens_2_b\"    => lens_2_b,\n",
    "    \"lens_3_b\"    => lens_3_b,\n",
    "    \"lens_4_b\"    => lens_4_b,\n",
    "    \"lens_0_zs\"   => lens_0_zs,\n",
    "    \"lens_1_zs\"   => lens_1_zs,\n",
    "    \"lens_2_zs\"   => lens_2_zs,\n",
    "    \"lens_3_zs\"   => lens_3_zs,\n",
    "    \"lens_4_zs\"   => lens_4_zs)\n",
    "        \n",
    "    cosmo = Cosmology(Ωm=Ωm, Ωb=Ωb, h=h, ns=ns, σ8=σ8,\n",
    "        tk_mode=:EisHu,\n",
    "        pk_mode=:Halofit)\n",
    "\n",
    "    cosmo.settings.cosmo_type = eltype(valtype(alphas))\n",
    "    return Theory(cosmo, meta, files; Nuisances=nuisances)\n",
    "end;"
   ]
  },
  {
   "cell_type": "code",
   "execution_count": 7,
   "id": "f1afeda2",
   "metadata": {},
   "outputs": [],
   "source": [
    "Cmod_dz = make_Cmod(10, model_dz);"
   ]
  },
  {
   "cell_type": "markdown",
   "id": "e22b75b0",
   "metadata": {},
   "source": [
    "## wzdz"
   ]
  },
  {
   "cell_type": "code",
   "execution_count": 8,
   "id": "e7be8345",
   "metadata": {},
   "outputs": [],
   "source": [
    "nz_path = string(\"../data/CosmoDC2/image_wzdz_\", method, \"_priors/\")\n",
    "nz_lens_0 = npzread(string(nz_path, \"wzdz_lens_0.npz\"))\n",
    "nz_lens_1 = npzread(string(nz_path, \"wzdz_lens_1.npz\"))\n",
    "nz_lens_2 = npzread(string(nz_path, \"wzdz_lens_2.npz\"))\n",
    "nz_lens_3 = npzread(string(nz_path, \"wzdz_lens_3.npz\"))\n",
    "nz_lens_4 = npzread(string(nz_path, \"wzdz_lens_4.npz\"))\n",
    "\n",
    "zs_k0, nz_k0 = nz_lens_0[\"z\"], nz_lens_0[\"dndz\"]\n",
    "zs_k1, nz_k1 = nz_lens_1[\"z\"], nz_lens_1[\"dndz\"]\n",
    "zs_k2, nz_k2 = nz_lens_2[\"z\"], nz_lens_2[\"dndz\"]\n",
    "zs_k3, nz_k3 = nz_lens_3[\"z\"], nz_lens_3[\"dndz\"]\n",
    "zs_k4, nz_k4 = nz_lens_4[\"z\"], nz_lens_4[\"dndz\"]\n",
    "\n",
    "mu_k0 = sum(zs_k0 .* nz_k0) / sum(nz_k0)\n",
    "mu_k1 = sum(zs_k1 .* nz_k1) / sum(nz_k1)\n",
    "mu_k2 = sum(zs_k2 .* nz_k2) / sum(nz_k2)\n",
    "mu_k3 = sum(zs_k3 .* nz_k3) / sum(nz_k3)\n",
    "mu_k4 = sum(zs_k4 .* nz_k4) / sum(nz_k4)\n",
    "\n",
    "chol_lens_0 = nz_lens_0[\"chol\"]\n",
    "chol_lens_1 = nz_lens_1[\"chol\"]\n",
    "chol_lens_2 = nz_lens_2[\"chol\"]\n",
    "chol_lens_3 = nz_lens_3[\"chol\"]\n",
    "chol_lens_4 = nz_lens_4[\"chol\"];"
   ]
  },
  {
   "cell_type": "code",
   "execution_count": 9,
   "id": "f53abe3b",
   "metadata": {},
   "outputs": [],
   "source": [
    "function model_wzdz(alphas; \n",
    "    Ωm=0.27347, σ8=0.779007, Ωb=0.04217, h=0.71899, ns=0.99651,\n",
    "    lens_0_b=0.879118, \n",
    "    lens_1_b=1.05894, \n",
    "    lens_2_b=1.22145, \n",
    "    lens_3_b=1.35065, \n",
    "    lens_4_b=1.58909,\n",
    "    meta=meta, files=files)\n",
    "\n",
    "    snw_lens_0 = chol_lens_0 * alphas[1:2]\n",
    "    dz_lens_0 = snw_lens_0[1]\n",
    "    wz_lens_0 = 1 + snw_lens_0[2]\n",
    "\n",
    "    snw_lens_1 = chol_lens_1 * alphas[3:4]\n",
    "    dz_lens_1 = snw_lens_1[1]\n",
    "    wz_lens_1 = 1 + snw_lens_1[2]\n",
    "\n",
    "    snw_lens_2 = chol_lens_2 * alphas[5:6]\n",
    "    dz_lens_2 = snw_lens_2[1]\n",
    "    wz_lens_2 = 1 + snw_lens_2[2]\n",
    "\n",
    "    snw_lens_3 = chol_lens_3 * alphas[7:8]\n",
    "    dz_lens_3 = snw_lens_3[1]\n",
    "    wz_lens_3 = 1 + snw_lens_3[2]\n",
    "\n",
    "    snw_lens_4 = chol_lens_4 * alphas[9:10]\n",
    "    dz_lens_4 = snw_lens_4[1]\n",
    "    wz_lens_4 = 1 + snw_lens_4[2]\n",
    "\n",
    "    lens_0_zs   = @.((zs_k0-mu_k0)/wz_lens_0 + dz_lens_0/wz_lens_0 + mu_k0)\n",
    "    lens_1_zs   = @.((zs_k1-mu_k1)/wz_lens_1 + dz_lens_1/wz_lens_1 + mu_k1)\n",
    "    lens_2_zs   = @.((zs_k2-mu_k2)/wz_lens_2 + dz_lens_2/wz_lens_2 + mu_k2)\n",
    "    lens_3_zs   = @.((zs_k3-mu_k3)/wz_lens_3 + dz_lens_3/wz_lens_3 + mu_k3)\n",
    "    lens_4_zs   = @.((zs_k4-mu_k4)/wz_lens_4 + dz_lens_4/wz_lens_4 + mu_k4)\n",
    "\n",
    "    nuisances = Dict(\n",
    "        \"lens_0_b\"    => lens_0_b,\n",
    "        \"lens_1_b\"    => lens_1_b,\n",
    "        \"lens_2_b\"    => lens_2_b,\n",
    "        \"lens_3_b\"    => lens_3_b,\n",
    "        \"lens_4_b\"    => lens_4_b,\n",
    "        \"lens_0_zs\"   => lens_0_zs,\n",
    "        \"lens_1_zs\"   => lens_1_zs,\n",
    "        \"lens_2_zs\"   => lens_2_zs,\n",
    "        \"lens_3_zs\"   => lens_3_zs,\n",
    "        \"lens_4_zs\"   => lens_4_zs)\n",
    "        \n",
    "    cosmo = Cosmology(Ωm=Ωm, Ωb=Ωb, h=h, ns=ns, σ8=σ8,\n",
    "        tk_mode=:EisHu,\n",
    "        pk_mode=:Halofit)\n",
    "\n",
    "    cosmo.settings.cosmo_type = eltype(valtype(alphas))\n",
    "    return Theory(cosmo, meta, files; Nuisances=nuisances)\n",
    "end;"
   ]
  },
  {
   "cell_type": "code",
   "execution_count": 10,
   "id": "04a97087",
   "metadata": {},
   "outputs": [],
   "source": [
    "Cmod_wzdz = make_Cmod(20, model_wzdz);"
   ]
  },
  {
   "cell_type": "markdown",
   "id": "a9018bf5",
   "metadata": {},
   "source": [
    "## PCA"
   ]
  },
  {
   "cell_type": "code",
   "execution_count": 11,
   "id": "af80c968",
   "metadata": {},
   "outputs": [],
   "source": [
    "nz_path = string(\"../data/CosmoDC2/image_PCA_\", method, \"_priors/\")\n",
    "nz_lens_0 = npzread(string(nz_path, \"PCA_lens_0.npz\"))\n",
    "nz_lens_1 = npzread(string(nz_path, \"PCA_lens_1.npz\"))\n",
    "nz_lens_2 = npzread(string(nz_path, \"PCA_lens_2.npz\"))\n",
    "nz_lens_3 = npzread(string(nz_path, \"PCA_lens_3.npz\"))\n",
    "nz_lens_4 = npzread(string(nz_path, \"PCA_lens_4.npz\"))\n",
    "zs_k0, nz_k0 = nz_lens_0[\"z\"], nz_lens_0[\"dndz\"]\n",
    "zs_k1, nz_k1 = nz_lens_1[\"z\"], nz_lens_1[\"dndz\"]\n",
    "zs_k2, nz_k2 = nz_lens_2[\"z\"], nz_lens_2[\"dndz\"]\n",
    "zs_k3, nz_k3 = nz_lens_3[\"z\"], nz_lens_3[\"dndz\"]\n",
    "zs_k4, nz_k4 = nz_lens_4[\"z\"], nz_lens_4[\"dndz\"]\n",
    "W_lens_0 = nz_lens_0[\"W\"]\n",
    "W_lens_1 = nz_lens_1[\"W\"]\n",
    "W_lens_2 = nz_lens_2[\"W\"]\n",
    "W_lens_3 = nz_lens_3[\"W\"]\n",
    "W_lens_4 = nz_lens_4[\"W\"];"
   ]
  },
  {
   "cell_type": "code",
   "execution_count": 12,
   "metadata": {},
   "outputs": [],
   "source": [
    "function model_pca(alphas; \n",
    "    Ωm=0.27347, σ8=0.779007, Ωb=0.04217, h=0.71899, ns=0.99651,\n",
    "    lens_0_b=0.879118, \n",
    "    lens_1_b=1.05894, \n",
    "    lens_2_b=1.22145, \n",
    "    lens_3_b=1.35065, \n",
    "    lens_4_b=1.58909,\n",
    "    meta=meta, files=files)\n",
    "\n",
    "    nz_lens_0 = nz_k0 + W_lens_0 * alphas[1:5]\n",
    "    nz_lens_1 = nz_k1 + W_lens_1 * alphas[6:10]\n",
    "    nz_lens_2 = nz_k2 + W_lens_2 * alphas[11:15]\n",
    "    nz_lens_3 = nz_k3 + W_lens_3 * alphas[16:20]\n",
    "    nz_lens_4 = nz_k4 + W_lens_4 * alphas[21:25]\n",
    "\n",
    "    nuisances = Dict(\n",
    "        \"lens_0_b\"    => lens_0_b,\n",
    "        \"lens_1_b\"    => lens_1_b,\n",
    "        \"lens_2_b\"    => lens_2_b,\n",
    "        \"lens_3_b\"    => lens_3_b,\n",
    "        \"lens_4_b\"    => lens_4_b,\n",
    "        \"lens_0_nz\"   => nz_lens_0,\n",
    "        \"lens_1_nz\"   => nz_lens_1,\n",
    "        \"lens_2_nz\"   => nz_lens_2,\n",
    "        \"lens_3_nz\"   => nz_lens_3,\n",
    "        \"lens_4_nz\"   => nz_lens_4)\n",
    "        \n",
    "    cosmo = Cosmology(Ωm=Ωm, Ωb=Ωb, h=h, ns=ns, σ8=σ8,\n",
    "        tk_mode=:EisHu,\n",
    "        pk_mode=:Halofit)\n",
    "\n",
    "    cosmo.settings.cosmo_type = eltype(valtype(alphas))\n",
    "    return Theory(cosmo, meta, files; Nuisances=nuisances)\n",
    "end;"
   ]
  },
  {
   "cell_type": "code",
   "execution_count": 13,
   "id": "a60a2d10",
   "metadata": {},
   "outputs": [],
   "source": [
    "Cmod_pca = make_Cmod(50, model_pca);"
   ]
  },
  {
   "cell_type": "markdown",
   "id": "b15a3fc0",
   "metadata": {},
   "source": [
    "## GP"
   ]
  },
  {
   "cell_type": "code",
   "execution_count": 14,
   "id": "b6085804",
   "metadata": {},
   "outputs": [],
   "source": [
    "nz_path = string(\"../data/CosmoDC2/image_gp_\", method, \"_priors/\")\n",
    "\n",
    "nz_lens_0 = npzread(string(nz_path, \"gp_lens_0.npz\"))\n",
    "nz_lens_1 = npzread(string(nz_path, \"gp_lens_1.npz\"))\n",
    "nz_lens_2 = npzread(string(nz_path, \"gp_lens_2.npz\"))\n",
    "nz_lens_3 = npzread(string(nz_path, \"gp_lens_3.npz\"))\n",
    "nz_lens_4 = npzread(string(nz_path, \"gp_lens_4.npz\"))\n",
    "zs_k0, nz_k0 = nz_lens_0[\"z\"], nz_lens_0[\"dndz\"]\n",
    "zs_k1, nz_k1 = nz_lens_1[\"z\"], nz_lens_1[\"dndz\"]\n",
    "zs_k2, nz_k2 = nz_lens_2[\"z\"], nz_lens_2[\"dndz\"]\n",
    "zs_k3, nz_k3 = nz_lens_3[\"z\"], nz_lens_3[\"dndz\"]\n",
    "zs_k4, nz_k4 = nz_lens_4[\"z\"], nz_lens_4[\"dndz\"]\n",
    "W_lens_0 = nz_lens_0[\"W\"]\n",
    "W_lens_1 = nz_lens_1[\"W\"]\n",
    "W_lens_2 = nz_lens_2[\"W\"]\n",
    "W_lens_3 = nz_lens_3[\"W\"]\n",
    "W_lens_4 = nz_lens_4[\"W\"];\n"
   ]
  },
  {
   "cell_type": "code",
   "execution_count": 15,
   "id": "ba20d3ae",
   "metadata": {},
   "outputs": [],
   "source": [
    "function nz_itp(q, nq, z)\n",
    "    dq = mean(q[2:end] - q[1:end-1])\n",
    "    q_range = q[1]:dq:q[end]\n",
    "    nz_int = cubic_spline_interpolation(q_range, nq;\n",
    "        extrapolation_bc=Line())\n",
    "    return nz_int(z)\n",
    "end\n",
    "\n",
    "function model_gp(alphas; \n",
    "    Ωm=0.27347, σ8=0.779007, Ωb=0.04217, h=0.71899, ns=0.99651,\n",
    "    lens_0_b=0.879118, \n",
    "    lens_1_b=1.05894, \n",
    "    lens_2_b=1.22145, \n",
    "    lens_3_b=1.35065, \n",
    "    lens_4_b=1.58909,\n",
    "    meta=meta, files=files)\n",
    "\n",
    "    nz_lens_0 = nz_k0 + W_lens_0 * alphas[1:5]\n",
    "    nz_lens_1 = nz_k1 + W_lens_1 * alphas[6:10]\n",
    "    nz_lens_2 = nz_k2 + W_lens_2 * alphas[11:15]\n",
    "    nz_lens_3 = nz_k3 + W_lens_3 * alphas[16:20]\n",
    "    nz_lens_4 = nz_k4 + W_lens_4 * alphas[21:25]\n",
    "\n",
    "    nuisances = Dict(\n",
    "        \"lens_0_b\"    => lens_0_b,\n",
    "        \"lens_1_b\"    => lens_1_b,\n",
    "        \"lens_2_b\"    => lens_2_b,\n",
    "        \"lens_3_b\"    => lens_3_b,\n",
    "        \"lens_4_b\"    => lens_4_b,\n",
    "        \"lens_0_nz\"   => nz_lens_0,\n",
    "        \"lens_1_nz\"   => nz_lens_1,\n",
    "        \"lens_2_nz\"   => nz_lens_2,\n",
    "        \"lens_3_nz\"   => nz_lens_3,\n",
    "        \"lens_4_nz\"   => nz_lens_4)\n",
    "        \n",
    "    cosmo = Cosmology(Ωm=Ωm, Ωb=Ωb, h=h, ns=ns, σ8=σ8,\n",
    "        tk_mode=:EisHu,\n",
    "        pk_mode=:Halofit)\n",
    "\n",
    "    cosmo.settings.cosmo_type = eltype(valtype(alphas))\n",
    "    return Theory(cosmo, meta, files; Nuisances=nuisances)\n",
    "end;"
   ]
  },
  {
   "cell_type": "code",
   "execution_count": 16,
   "id": "af8dc9ad",
   "metadata": {},
   "outputs": [],
   "source": [
    "Cmod_gp = make_Cmod(50, model_gp);"
   ]
  },
  {
   "cell_type": "markdown",
   "id": "0477d696",
   "metadata": {},
   "source": [
    "# Comp"
   ]
  },
  {
   "cell_type": "code",
   "execution_count": 17,
   "id": "89afb751",
   "metadata": {},
   "outputs": [
    {
     "name": "stdout",
     "output_type": "stream",
     "text": [
      "0.009178850667344538\n",
      "0.42852063864075224\n",
      "1.0696162668446167\n",
      "0.8570719898209657\n"
     ]
    }
   ],
   "source": [
    "println(mean(diag(Cmod_dz) ./ diag(meta.cov)))\n",
    "println(mean(diag(Cmod_wzdz) ./ diag(meta.cov)))\n",
    "println(mean(diag(Cmod_pca) ./ diag(meta.cov)))\n",
    "println(mean(diag(Cmod_gp) ./ diag(meta.cov)))"
   ]
  },
  {
   "cell_type": "code",
   "execution_count": 18,
   "id": "9cb7607e",
   "metadata": {},
   "outputs": [
    {
     "data": {
      "text/plain": [
       "0.7021490406510154"
      ]
     },
     "execution_count": 18,
     "metadata": {},
     "output_type": "execute_result"
    }
   ],
   "source": [
    "0.03819137556867058\n",
    "0.19889108636993824\n",
    "0.7225113796096673\n",
    "0.7021490406510154"
   ]
  },
  {
   "cell_type": "code",
   "execution_count": 19,
   "id": "c0b52321",
   "metadata": {},
   "outputs": [
    {
     "data": {
      "image/png": "[encoded data removed]",
      "image/svg+xml": [
       "<?xml version=\"1.0\" encoding=\"utf-8\"?>\n",
       "<svg xmlns=\"http://www.w3.org/2000/svg\" xmlns:xlink=\"http://www.w3.org/1999/xlink\" width=\"600\" height=\"400\" viewBox=\"0 0 2400 1600\">\n",
       "<defs>\n",
       "  <clipPath id=\"clip960\">\n",
       "    <rect x=\"0\" y=\"0\" width=\"2400\" height=\"1600\"/>\n",
       "  </clipPath>\n",
       "</defs>\n",
       "<path clip-path=\"url(#clip960)\" d=\"M0 1600 L2400 1600 L2400 0 L0 0  Z\" fill=\"#ffffff\" fill-rule=\"evenodd\" fill-opacity=\"1\"/>\n",
       "<defs>\n",
       "  <clipPath id=\"clip961\">\n",
       "    <rect x=\"480\" y=\"0\" width=\"1681\" height=\"1600\"/>\n",
       "  </clipPath>\n",
       "</defs>\n",
       "<path clip-path=\"url(#clip960)\" d=\"M188.574 1486.45 L2352.76 1486.45 L2352.76 123.472 L188.574 123.472  Z\" fill=\"#ffffff\" fill-rule=\"evenodd\" fill-opacity=\"1\"/>\n",
       "<defs>\n",
       "  <clipPath id=\"clip962\">\n",
       "    <rect x=\"188\" y=\"123\" width=\"2165\" height=\"1364\"/>\n",
       "  </clipPath>\n",
       "</defs>\n",
       "<polyline clip-path=\"url(#clip962)\" style=\"stroke:#000000; stroke-linecap:round; stroke-linejoin:round; stroke-width:2; stroke-opacity:0.1; fill:none\" points=\"196.096,1486.45 196.096,123.472 \"/>\n",
       "<polyline clip-path=\"url(#clip962)\" style=\"stroke:#000000; stroke-linecap:round; stroke-linejoin:round; stroke-width:2; stroke-opacity:0.1; fill:none\" points=\"733.381,1486.45 733.381,123.472 \"/>\n",
       "<polyline clip-path=\"url(#clip962)\" style=\"stroke:#000000; stroke-linecap:round; stroke-linejoin:round; stroke-width:2; stroke-opacity:0.1; fill:none\" points=\"1270.67,1486.45 1270.67,123.472 \"/>\n",
       "<polyline clip-path=\"url(#clip962)\" style=\"stroke:#000000; stroke-linecap:round; stroke-linejoin:round; stroke-width:2; stroke-opacity:0.1; fill:none\" points=\"1807.95,1486.45 1807.95,123.472 \"/>\n",
       "<polyline clip-path=\"url(#clip962)\" style=\"stroke:#000000; stroke-linecap:round; stroke-linejoin:round; stroke-width:2; stroke-opacity:0.1; fill:none\" points=\"2345.23,1486.45 2345.23,123.472 \"/>\n",
       "<polyline clip-path=\"url(#clip962)\" style=\"stroke:#000000; stroke-linecap:round; stroke-linejoin:round; stroke-width:2; stroke-opacity:0.1; fill:none\" points=\"188.574,1117.63 2352.76,1117.63 \"/>\n",
       "<polyline clip-path=\"url(#clip962)\" style=\"stroke:#000000; stroke-linecap:round; stroke-linejoin:round; stroke-width:2; stroke-opacity:0.1; fill:none\" points=\"188.574,389.992 2352.76,389.992 \"/>\n",
       "<polyline clip-path=\"url(#clip960)\" style=\"stroke:#000000; stroke-linecap:round; stroke-linejoin:round; stroke-width:4; stroke-opacity:1; fill:none\" points=\"188.574,1486.45 2352.76,1486.45 \"/>\n",
       "<polyline clip-path=\"url(#clip960)\" style=\"stroke:#000000; stroke-linecap:round; stroke-linejoin:round; stroke-width:4; stroke-opacity:1; fill:none\" points=\"196.096,1486.45 196.096,1467.55 \"/>\n",
       "<polyline clip-path=\"url(#clip960)\" style=\"stroke:#000000; stroke-linecap:round; stroke-linejoin:round; stroke-width:4; stroke-opacity:1; fill:none\" points=\"733.381,1486.45 733.381,1467.55 \"/>\n",
       "<polyline clip-path=\"url(#clip960)\" style=\"stroke:#000000; stroke-linecap:round; stroke-linejoin:round; stroke-width:4; stroke-opacity:1; fill:none\" points=\"1270.67,1486.45 1270.67,1467.55 \"/>\n",
       "<polyline clip-path=\"url(#clip960)\" style=\"stroke:#000000; stroke-linecap:round; stroke-linejoin:round; stroke-width:4; stroke-opacity:1; fill:none\" points=\"1807.95,1486.45 1807.95,1467.55 \"/>\n",
       "<polyline clip-path=\"url(#clip960)\" style=\"stroke:#000000; stroke-linecap:round; stroke-linejoin:round; stroke-width:4; stroke-opacity:1; fill:none\" points=\"2345.23,1486.45 2345.23,1467.55 \"/>\n",
       "<path clip-path=\"url(#clip960)\" d=\"M196.096 1517.37 Q192.485 1517.37 190.657 1520.93 Q188.851 1524.47 188.851 1531.6 Q188.851 1538.71 190.657 1542.27 Q192.485 1545.82 196.096 1545.82 Q199.731 1545.82 201.536 1542.27 Q203.365 1538.71 203.365 1531.6 Q203.365 1524.47 201.536 1520.93 Q199.731 1517.37 196.096 1517.37 M196.096 1513.66 Q201.906 1513.66 204.962 1518.27 Q208.041 1522.85 208.041 1531.6 Q208.041 1540.33 204.962 1544.94 Q201.906 1549.52 196.096 1549.52 Q190.286 1549.52 187.207 1544.94 Q184.152 1540.33 184.152 1531.6 Q184.152 1522.85 187.207 1518.27 Q190.286 1513.66 196.096 1513.66 Z\" fill=\"#000000\" fill-rule=\"nonzero\" fill-opacity=\"1\" /><path clip-path=\"url(#clip960)\" d=\"M708.068 1544.91 L715.707 1544.91 L715.707 1518.55 L707.397 1520.21 L707.397 1515.95 L715.661 1514.29 L720.337 1514.29 L720.337 1544.91 L727.976 1544.91 L727.976 1548.85 L708.068 1548.85 L708.068 1544.91 Z\" fill=\"#000000\" fill-rule=\"nonzero\" fill-opacity=\"1\" /><path clip-path=\"url(#clip960)\" d=\"M747.42 1517.37 Q743.809 1517.37 741.98 1520.93 Q740.175 1524.47 740.175 1531.6 Q740.175 1538.71 741.98 1542.27 Q743.809 1545.82 747.42 1545.82 Q751.054 1545.82 752.86 1542.27 Q754.688 1538.71 754.688 1531.6 Q754.688 1524.47 752.86 1520.93 Q751.054 1517.37 747.42 1517.37 M747.42 1513.66 Q753.23 1513.66 756.286 1518.27 Q759.364 1522.85 759.364 1531.6 Q759.364 1540.33 756.286 1544.94 Q753.23 1549.52 747.42 1549.52 Q741.61 1549.52 738.531 1544.94 Q735.476 1540.33 735.476 1531.6 Q735.476 1522.85 738.531 1518.27 Q741.61 1513.66 747.42 1513.66 Z\" fill=\"#000000\" fill-rule=\"nonzero\" fill-opacity=\"1\" /><path clip-path=\"url(#clip960)\" d=\"M1249.44 1544.91 L1265.76 1544.91 L1265.76 1548.85 L1243.81 1548.85 L1243.81 1544.91 Q1246.48 1542.16 1251.06 1537.53 Q1255.67 1532.88 1256.85 1531.53 Q1259.09 1529.01 1259.97 1527.27 Q1260.87 1525.51 1260.87 1523.82 Q1260.87 1521.07 1258.93 1519.33 Q1257.01 1517.6 1253.91 1517.6 Q1251.71 1517.6 1249.25 1518.36 Q1246.82 1519.13 1244.04 1520.68 L1244.04 1515.95 Q1246.87 1514.82 1249.32 1514.24 Q1251.78 1513.66 1253.81 1513.66 Q1259.18 1513.66 1262.38 1516.35 Q1265.57 1519.03 1265.57 1523.52 Q1265.57 1525.65 1264.76 1527.57 Q1263.98 1529.47 1261.87 1532.07 Q1261.29 1532.74 1258.19 1535.95 Q1255.09 1539.15 1249.44 1544.91 Z\" fill=\"#000000\" fill-rule=\"nonzero\" fill-opacity=\"1\" /><path clip-path=\"url(#clip960)\" d=\"M1285.57 1517.37 Q1281.96 1517.37 1280.13 1520.93 Q1278.33 1524.47 1278.33 1531.6 Q1278.33 1538.71 1280.13 1542.27 Q1281.96 1545.82 1285.57 1545.82 Q1289.21 1545.82 1291.01 1542.27 Q1292.84 1538.71 1292.84 1531.6 Q1292.84 1524.47 1291.01 1520.93 Q1289.21 1517.37 1285.57 1517.37 M1285.57 1513.66 Q1291.38 1513.66 1294.44 1518.27 Q1297.52 1522.85 1297.52 1531.6 Q1297.52 1540.33 1294.44 1544.94 Q1291.38 1549.52 1285.57 1549.52 Q1279.76 1549.52 1276.68 1544.94 Q1273.63 1540.33 1273.63 1531.6 Q1273.63 1522.85 1276.68 1518.27 Q1279.76 1513.66 1285.57 1513.66 Z\" fill=\"#000000\" fill-rule=\"nonzero\" fill-opacity=\"1\" /><path clip-path=\"url(#clip960)\" d=\"M1796.79 1530.21 Q1800.15 1530.93 1802.02 1533.2 Q1803.92 1535.47 1803.92 1538.8 Q1803.92 1543.92 1800.4 1546.72 Q1796.88 1549.52 1790.4 1549.52 Q1788.23 1549.52 1785.91 1549.08 Q1783.62 1548.66 1781.17 1547.81 L1781.17 1543.29 Q1783.11 1544.43 1785.43 1545.01 Q1787.74 1545.58 1790.26 1545.58 Q1794.66 1545.58 1796.95 1543.85 Q1799.27 1542.11 1799.27 1538.8 Q1799.27 1535.75 1797.12 1534.03 Q1794.99 1532.3 1791.17 1532.3 L1787.14 1532.3 L1787.14 1528.45 L1791.35 1528.45 Q1794.8 1528.45 1796.63 1527.09 Q1798.46 1525.7 1798.46 1523.11 Q1798.46 1520.45 1796.56 1519.03 Q1794.69 1517.6 1791.17 1517.6 Q1789.25 1517.6 1787.05 1518.01 Q1784.85 1518.43 1782.21 1519.31 L1782.21 1515.14 Q1784.87 1514.4 1787.19 1514.03 Q1789.52 1513.66 1791.58 1513.66 Q1796.91 1513.66 1800.01 1516.09 Q1803.11 1518.5 1803.11 1522.62 Q1803.11 1525.49 1801.47 1527.48 Q1799.82 1529.45 1796.79 1530.21 Z\" fill=\"#000000\" fill-rule=\"nonzero\" fill-opacity=\"1\" /><path clip-path=\"url(#clip960)\" d=\"M1822.79 1517.37 Q1819.18 1517.37 1817.35 1520.93 Q1815.54 1524.47 1815.54 1531.6 Q1815.54 1538.71 1817.35 1542.27 Q1819.18 1545.82 1822.79 1545.82 Q1826.42 1545.82 1828.23 1542.27 Q1830.06 1538.71 1830.06 1531.6 Q1830.06 1524.47 1828.23 1520.93 Q1826.42 1517.37 1822.79 1517.37 M1822.79 1513.66 Q1828.6 1513.66 1831.65 1518.27 Q1834.73 1522.85 1834.73 1531.6 Q1834.73 1540.33 1831.65 1544.94 Q1828.6 1549.52 1822.79 1549.52 Q1816.98 1549.52 1813.9 1544.94 Q1810.84 1540.33 1810.84 1531.6 Q1810.84 1522.85 1813.9 1518.27 Q1816.98 1513.66 1822.79 1513.66 Z\" fill=\"#000000\" fill-rule=\"nonzero\" fill-opacity=\"1\" /><path clip-path=\"url(#clip960)\" d=\"M2333.41 1518.36 L2321.6 1536.81 L2333.41 1536.81 L2333.41 1518.36 M2332.18 1514.29 L2338.06 1514.29 L2338.06 1536.81 L2342.99 1536.81 L2342.99 1540.7 L2338.06 1540.7 L2338.06 1548.85 L2333.41 1548.85 L2333.41 1540.7 L2317.8 1540.7 L2317.8 1536.19 L2332.18 1514.29 Z\" fill=\"#000000\" fill-rule=\"nonzero\" fill-opacity=\"1\" /><path clip-path=\"url(#clip960)\" d=\"M2360.72 1517.37 Q2357.11 1517.37 2355.28 1520.93 Q2353.47 1524.47 2353.47 1531.6 Q2353.47 1538.71 2355.28 1542.27 Q2357.11 1545.82 2360.72 1545.82 Q2364.35 1545.82 2366.16 1542.27 Q2367.99 1538.71 2367.99 1531.6 Q2367.99 1524.47 2366.16 1520.93 Q2364.35 1517.37 2360.72 1517.37 M2360.72 1513.66 Q2366.53 1513.66 2369.59 1518.27 Q2372.66 1522.85 2372.66 1531.6 Q2372.66 1540.33 2369.59 1544.94 Q2366.53 1549.52 2360.72 1549.52 Q2354.91 1549.52 2351.83 1544.94 Q2348.78 1540.33 2348.78 1531.6 Q2348.78 1522.85 2351.83 1518.27 Q2354.91 1513.66 2360.72 1513.66 Z\" fill=\"#000000\" fill-rule=\"nonzero\" fill-opacity=\"1\" /><polyline clip-path=\"url(#clip960)\" style=\"stroke:#000000; stroke-linecap:round; stroke-linejoin:round; stroke-width:4; stroke-opacity:1; fill:none\" points=\"188.574,1486.45 188.574,123.472 \"/>\n",
       "<polyline clip-path=\"url(#clip960)\" style=\"stroke:#000000; stroke-linecap:round; stroke-linejoin:round; stroke-width:4; stroke-opacity:1; fill:none\" points=\"188.574,1117.63 207.472,1117.63 \"/>\n",
       "<polyline clip-path=\"url(#clip960)\" style=\"stroke:#000000; stroke-linecap:round; stroke-linejoin:round; stroke-width:4; stroke-opacity:1; fill:none\" points=\"188.574,389.992 207.472,389.992 \"/>\n",
       "<path clip-path=\"url(#clip960)\" d=\"M51.6634 1137.43 L59.3023 1137.43 L59.3023 1111.06 L50.9921 1112.73 L50.9921 1108.47 L59.256 1106.8 L63.9319 1106.8 L63.9319 1137.43 L71.5707 1137.43 L71.5707 1141.36 L51.6634 1141.36 L51.6634 1137.43 Z\" fill=\"#000000\" fill-rule=\"nonzero\" fill-opacity=\"1\" /><path clip-path=\"url(#clip960)\" d=\"M91.0151 1109.88 Q87.404 1109.88 85.5753 1113.45 Q83.7697 1116.99 83.7697 1124.12 Q83.7697 1131.22 85.5753 1134.79 Q87.404 1138.33 91.0151 1138.33 Q94.6493 1138.33 96.4548 1134.79 Q98.2835 1131.22 98.2835 1124.12 Q98.2835 1116.99 96.4548 1113.45 Q94.6493 1109.88 91.0151 1109.88 M91.0151 1106.18 Q96.8252 1106.18 99.8808 1110.78 Q102.959 1115.37 102.959 1124.12 Q102.959 1132.84 99.8808 1137.45 Q96.8252 1142.03 91.0151 1142.03 Q85.2049 1142.03 82.1262 1137.45 Q79.0707 1132.84 79.0707 1124.12 Q79.0707 1115.37 82.1262 1110.78 Q85.2049 1106.18 91.0151 1106.18 Z\" fill=\"#000000\" fill-rule=\"nonzero\" fill-opacity=\"1\" /><path clip-path=\"url(#clip960)\" d=\"M102.959 1100.28 L127.071 1100.28 L127.071 1103.48 L102.959 1103.48 L102.959 1100.28 Z\" fill=\"#000000\" fill-rule=\"nonzero\" fill-opacity=\"1\" /><path clip-path=\"url(#clip960)\" d=\"M146.782 1098.81 Q149.509 1099.39 151.032 1101.24 Q152.574 1103.08 152.574 1105.79 Q152.574 1109.95 149.716 1112.22 Q146.857 1114.5 141.591 1114.5 Q139.823 1114.5 137.942 1114.14 Q136.08 1113.8 134.086 1113.11 L134.086 1109.44 Q135.666 1110.36 137.547 1110.83 Q139.428 1111.3 141.478 1111.3 Q145.051 1111.3 146.913 1109.89 Q148.794 1108.48 148.794 1105.79 Q148.794 1103.31 147.045 1101.92 Q145.315 1100.5 142.211 1100.5 L138.939 1100.5 L138.939 1097.38 L142.362 1097.38 Q145.164 1097.38 146.65 1096.27 Q148.136 1095.14 148.136 1093.04 Q148.136 1090.88 146.593 1089.73 Q145.07 1088.56 142.211 1088.56 Q140.65 1088.56 138.863 1088.9 Q137.077 1089.24 134.933 1089.95 L134.933 1086.57 Q137.096 1085.97 138.976 1085.67 Q140.876 1085.36 142.55 1085.36 Q146.876 1085.36 149.396 1087.34 Q151.916 1089.3 151.916 1092.64 Q151.916 1094.98 150.581 1096.59 Q149.245 1098.19 146.782 1098.81 Z\" fill=\"#000000\" fill-rule=\"nonzero\" fill-opacity=\"1\" /><path clip-path=\"url(#clip960)\" d=\"M81.8687 409.784 L89.5075 409.784 L89.5075 383.419 L81.1974 385.086 L81.1974 380.826 L89.4612 379.16 L94.1371 379.16 L94.1371 409.784 L101.776 409.784 L101.776 413.72 L81.8687 413.72 L81.8687 409.784 Z\" fill=\"#000000\" fill-rule=\"nonzero\" fill-opacity=\"1\" /><path clip-path=\"url(#clip960)\" d=\"M121.22 382.238 Q117.609 382.238 115.781 385.803 Q113.975 389.345 113.975 396.474 Q113.975 403.581 115.781 407.146 Q117.609 410.687 121.22 410.687 Q124.855 410.687 126.66 407.146 Q128.489 403.581 128.489 396.474 Q128.489 389.345 126.66 385.803 Q124.855 382.238 121.22 382.238 M121.22 378.535 Q127.03 378.535 130.086 383.141 Q133.165 387.724 133.165 396.474 Q133.165 405.201 130.086 409.808 Q127.03 414.391 121.22 414.391 Q115.41 414.391 112.331 409.808 Q109.276 405.201 109.276 396.474 Q109.276 387.724 112.331 383.141 Q115.41 378.535 121.22 378.535 Z\" fill=\"#000000\" fill-rule=\"nonzero\" fill-opacity=\"1\" /><path clip-path=\"url(#clip960)\" d=\"M142.87 360.731 Q139.936 360.731 138.45 363.627 Q136.983 366.505 136.983 372.297 Q136.983 378.071 138.45 380.968 Q139.936 383.845 142.87 383.845 Q145.822 383.845 147.289 380.968 Q148.775 378.071 148.775 372.297 Q148.775 366.505 147.289 363.627 Q145.822 360.731 142.87 360.731 M142.87 357.721 Q147.59 357.721 150.073 361.464 Q152.574 365.188 152.574 372.297 Q152.574 379.388 150.073 383.131 Q147.59 386.855 142.87 386.855 Q138.149 386.855 135.647 383.131 Q133.165 379.388 133.165 372.297 Q133.165 365.188 135.647 361.464 Q138.149 357.721 142.87 357.721 Z\" fill=\"#000000\" fill-rule=\"nonzero\" fill-opacity=\"1\" /><path clip-path=\"url(#clip960)\" d=\"M1197.75 63.9476 L1197.75 47.7034 L1184.38 47.7034 L1184.38 40.9789 L1205.85 40.9789 L1205.85 66.9452 Q1201.11 70.3075 1195.4 72.0494 Q1189.69 73.7508 1183.21 73.7508 Q1169.03 73.7508 1161.01 65.4869 Q1153.03 57.1826 1153.03 42.3968 Q1153.03 27.5705 1161.01 19.3066 Q1169.03 11.0023 1183.21 11.0023 Q1189.12 11.0023 1194.43 12.4606 Q1199.77 13.9189 1204.27 16.7545 L1204.27 25.464 Q1199.73 21.6156 1194.63 19.6712 Q1189.53 17.7268 1183.89 17.7268 Q1172.8 17.7268 1167.21 23.9246 Q1161.66 30.1225 1161.66 42.3968 Q1161.66 54.6305 1167.21 60.8284 Q1172.8 67.0263 1183.89 67.0263 Q1188.23 67.0263 1191.63 66.2971 Q1195.03 65.5274 1197.75 63.9476 Z\" fill=\"#000000\" fill-rule=\"nonzero\" fill-opacity=\"1\" /><path clip-path=\"url(#clip960)\" d=\"M1266.09 16.7545 L1266.09 25.383 Q1261.96 21.5346 1257.26 19.6307 Q1252.6 17.7268 1247.33 17.7268 Q1236.96 17.7268 1231.45 24.0867 Q1225.94 30.4061 1225.94 42.3968 Q1225.94 54.3469 1231.45 60.7069 Q1236.96 67.0263 1247.33 67.0263 Q1252.6 67.0263 1257.26 65.1223 Q1261.96 63.2184 1266.09 59.3701 L1266.09 67.9175 Q1261.79 70.8341 1256.97 72.2924 Q1252.19 73.7508 1246.85 73.7508 Q1233.11 73.7508 1225.21 65.3654 Q1217.31 56.9395 1217.31 42.3968 Q1217.31 27.8135 1225.21 19.4281 Q1233.11 11.0023 1246.85 11.0023 Q1252.27 11.0023 1257.05 12.4606 Q1261.87 13.8784 1266.09 16.7545 Z\" fill=\"#000000\" fill-rule=\"nonzero\" fill-opacity=\"1\" /><path clip-path=\"url(#clip960)\" d=\"M1319.96 63.9476 L1319.96 47.7034 L1306.6 47.7034 L1306.6 40.9789 L1328.07 40.9789 L1328.07 66.9452 Q1323.33 70.3075 1317.62 72.0494 Q1311.9 73.7508 1305.42 73.7508 Q1291.24 73.7508 1283.22 65.4869 Q1275.24 57.1826 1275.24 42.3968 Q1275.24 27.5705 1283.22 19.3066 Q1291.24 11.0023 1305.42 11.0023 Q1311.34 11.0023 1316.64 12.4606 Q1321.99 13.9189 1326.49 16.7545 L1326.49 25.464 Q1321.95 21.6156 1316.85 19.6712 Q1311.74 17.7268 1306.11 17.7268 Q1295.01 17.7268 1289.42 23.9246 Q1283.87 30.1225 1283.87 42.3968 Q1283.87 54.6305 1289.42 60.8284 Q1295.01 67.0263 1306.11 67.0263 Q1310.45 67.0263 1313.85 66.2971 Q1317.25 65.5274 1319.96 63.9476 Z\" fill=\"#000000\" fill-rule=\"nonzero\" fill-opacity=\"1\" /><path clip-path=\"url(#clip960)\" d=\"M1388.3 16.7545 L1388.3 25.383 Q1384.17 21.5346 1379.47 19.6307 Q1374.81 17.7268 1369.55 17.7268 Q1359.18 17.7268 1353.67 24.0867 Q1348.16 30.4061 1348.16 42.3968 Q1348.16 54.3469 1353.67 60.7069 Q1359.18 67.0263 1369.55 67.0263 Q1374.81 67.0263 1379.47 65.1223 Q1384.17 63.2184 1388.3 59.3701 L1388.3 67.9175 Q1384.01 70.8341 1379.19 72.2924 Q1374.41 73.7508 1369.06 73.7508 Q1355.33 73.7508 1347.43 65.3654 Q1339.53 56.9395 1339.53 42.3968 Q1339.53 27.8135 1347.43 19.4281 Q1355.33 11.0023 1369.06 11.0023 Q1374.49 11.0023 1379.27 12.4606 Q1384.09 13.8784 1388.3 16.7545 Z\" fill=\"#000000\" fill-rule=\"nonzero\" fill-opacity=\"1\" /><polyline clip-path=\"url(#clip962)\" style=\"stroke:#009af9; stroke-linecap:round; stroke-linejoin:round; stroke-width:4; stroke-opacity:1; fill:none\" points=\"249.825,1063.26 303.553,983.486 357.282,889.028 411.01,871.938 464.739,830.389 518.467,763.672 572.195,1093.37 625.924,1035.35 679.652,972.687 733.381,875.287 787.109,827.931 840.838,871.794 894.566,765.644 948.294,1121.3 1002.02,1046.63 1055.75,986.488 1109.48,946.663 1163.21,838.586 1216.94,811.859 1270.67,877.872 1324.39,806.461 1378.12,1156.26 1431.85,1067.47 1485.58,988.368 1539.31,995.743 1593.04,913.057 1646.76,809.397 1700.49,902.368 1754.22,719.218 1807.95,884.338 1861.68,1236.47 1915.41,1147.47 1969.13,1072.88 2022.86,1033.04 2076.59,1012.94 2130.32,897.025 2184.05,844.977 2237.78,1447.87 2291.51,797.564 \"/>\n",
       "<polyline clip-path=\"url(#clip962)\" style=\"stroke:#e26f46; stroke-linecap:round; stroke-linejoin:round; stroke-width:4; stroke-opacity:1; fill:none\" points=\"249.825,1061.37 303.553,965.247 357.282,852.471 411.01,748.708 464.739,666.185 518.467,588.388 572.195,1125.6 625.924,1011.55 679.652,899.077 733.381,815.479 787.109,697.868 840.838,612.992 894.566,530.48 948.294,1023.12 1002.02,908.45 1055.75,793.421 1109.48,703.455 1163.21,613.997 1216.94,523.094 1270.67,444.484 1324.39,359.801 1378.12,1026.43 1431.85,908.616 1485.58,790.831 1539.31,687.341 1593.04,593.319 1646.76,518.709 1700.49,413.697 1754.22,359.182 1807.95,270.391 1861.68,967.559 1915.41,852.971 1969.13,741.124 2022.86,649.5 2076.59,556.666 2130.32,479.061 2184.05,394.992 2237.78,320.645 2291.51,240.911 \"/>\n",
       "<polyline clip-path=\"url(#clip962)\" style=\"stroke:#3da44d; stroke-linecap:round; stroke-linejoin:round; stroke-width:4; stroke-opacity:1; fill:none\" points=\"249.825,893.445 303.553,801.426 357.282,691.617 411.01,607.348 464.739,541.598 518.467,464.065 572.195,903.399 625.924,804.306 679.652,707.443 733.381,620.247 787.109,526.681 840.838,472.746 894.566,386.098 948.294,882.096 1002.02,776.645 1055.75,677.396 1109.48,598.115 1163.21,504.685 1216.94,425.468 1270.67,371.846 1324.39,283.162 1378.12,834.685 1431.85,724.673 1485.58,619.073 1539.31,537.259 1593.04,447.439 1646.76,366.914 1700.49,291.874 1754.22,222.962 1807.95,162.047 1861.68,891.895 1915.41,777.284 1969.13,666.717 2022.86,577.279 2076.59,484.549 2130.32,406.982 2184.05,322.161 2237.78,250.108 2291.51,170.931 \"/>\n",
       "<polyline clip-path=\"url(#clip962)\" style=\"stroke:#c271d2; stroke-linecap:round; stroke-linejoin:round; stroke-width:4; stroke-opacity:1; fill:none\" points=\"249.825,955.846 303.553,863.437 357.282,753.405 411.01,661.67 464.739,602.998 518.467,522.129 572.195,939.155 625.924,836.7 679.652,737.233 733.381,650.324 787.109,555.624 840.838,496.298 894.566,412.39 948.294,927.571 1002.02,821.487 1055.75,721.591 1109.48,642.478 1163.21,549.463 1216.94,468.555 1270.67,417.739 1324.39,325.579 1378.12,851.754 1431.85,741.151 1485.58,635.029 1539.31,552.521 1593.04,462.464 1646.76,382.252 1700.49,306.034 1754.22,237.686 1807.95,175.796 1861.68,914.774 1915.41,800.256 1969.13,690.011 2022.86,601.322 2076.59,509.384 2130.32,431.614 2184.05,346.924 2237.78,277.986 2291.51,197.107 \"/>\n",
       "<path clip-path=\"url(#clip960)\" d=\"M1934.66 428.105 L2280.62 428.105 L2280.62 168.905 L1934.66 168.905  Z\" fill=\"#ffffff\" fill-rule=\"evenodd\" fill-opacity=\"1\"/>\n",
       "<polyline clip-path=\"url(#clip960)\" style=\"stroke:#000000; stroke-linecap:round; stroke-linejoin:round; stroke-width:4; stroke-opacity:1; fill:none\" points=\"1934.66,428.105 2280.62,428.105 2280.62,168.905 1934.66,168.905 1934.66,428.105 \"/>\n",
       "<polyline clip-path=\"url(#clip960)\" style=\"stroke:#009af9; stroke-linecap:round; stroke-linejoin:round; stroke-width:4; stroke-opacity:1; fill:none\" points=\"1958.71,220.745 2102.99,220.745 \"/>\n",
       "<path clip-path=\"url(#clip960)\" d=\"M2131.71 207.307 L2131.71 234.182 L2137.36 234.182 Q2144.51 234.182 2147.82 230.941 Q2151.15 227.701 2151.15 220.71 Q2151.15 213.766 2147.82 210.548 Q2144.51 207.307 2137.36 207.307 L2131.71 207.307 M2127.03 203.465 L2136.64 203.465 Q2146.69 203.465 2151.39 207.654 Q2156.08 211.821 2156.08 220.71 Q2156.08 229.645 2151.36 233.835 Q2146.64 238.025 2136.64 238.025 L2127.03 238.025 L2127.03 203.465 Z\" fill=\"#000000\" fill-rule=\"nonzero\" fill-opacity=\"1\" /><path clip-path=\"url(#clip960)\" d=\"M2161.5 212.099 L2181.73 212.099 L2181.73 215.988 L2165.71 234.622 L2181.73 234.622 L2181.73 238.025 L2160.92 238.025 L2160.92 234.136 L2176.94 215.502 L2161.5 215.502 L2161.5 212.099 Z\" fill=\"#000000\" fill-rule=\"nonzero\" fill-opacity=\"1\" /><polyline clip-path=\"url(#clip960)\" style=\"stroke:#e26f46; stroke-linecap:round; stroke-linejoin:round; stroke-width:4; stroke-opacity:1; fill:none\" points=\"1958.71,272.585 2102.99,272.585 \"/>\n",
       "<path clip-path=\"url(#clip960)\" d=\"M2127.03 255.305 L2131.76 255.305 L2139.02 284.517 L2146.27 255.305 L2151.52 255.305 L2158.79 284.517 L2166.04 255.305 L2170.78 255.305 L2162.1 289.865 L2156.22 289.865 L2148.93 259.865 L2141.57 289.865 L2135.69 289.865 L2127.03 255.305 Z\" fill=\"#000000\" fill-rule=\"nonzero\" fill-opacity=\"1\" /><path clip-path=\"url(#clip960)\" d=\"M2174.95 263.939 L2195.18 263.939 L2195.18 267.828 L2179.16 286.462 L2195.18 286.462 L2195.18 289.865 L2174.37 289.865 L2174.37 285.976 L2190.39 267.342 L2174.95 267.342 L2174.95 263.939 Z\" fill=\"#000000\" fill-rule=\"nonzero\" fill-opacity=\"1\" /><path clip-path=\"url(#clip960)\" d=\"M2206.55 259.147 L2206.55 286.022 L2212.2 286.022 Q2219.35 286.022 2222.66 282.781 Q2225.99 279.541 2225.99 272.55 Q2225.99 265.606 2222.66 262.388 Q2219.35 259.147 2212.2 259.147 L2206.55 259.147 M2201.87 255.305 L2211.48 255.305 Q2221.52 255.305 2226.22 259.494 Q2230.92 263.661 2230.92 272.55 Q2230.92 281.485 2226.2 285.675 Q2221.48 289.865 2211.48 289.865 L2201.87 289.865 L2201.87 255.305 Z\" fill=\"#000000\" fill-rule=\"nonzero\" fill-opacity=\"1\" /><path clip-path=\"url(#clip960)\" d=\"M2236.34 263.939 L2256.57 263.939 L2256.57 267.828 L2240.55 286.462 L2256.57 286.462 L2256.57 289.865 L2235.76 289.865 L2235.76 285.976 L2251.78 267.342 L2236.34 267.342 L2236.34 263.939 Z\" fill=\"#000000\" fill-rule=\"nonzero\" fill-opacity=\"1\" /><polyline clip-path=\"url(#clip960)\" style=\"stroke:#3da44d; stroke-linecap:round; stroke-linejoin:round; stroke-width:4; stroke-opacity:1; fill:none\" points=\"1958.71,324.425 2102.99,324.425 \"/>\n",
       "<path clip-path=\"url(#clip960)\" d=\"M2131.71 310.987 L2131.71 323.973 L2137.59 323.973 Q2140.85 323.973 2142.64 322.283 Q2144.42 320.594 2144.42 317.469 Q2144.42 314.367 2142.64 312.677 Q2140.85 310.987 2137.59 310.987 L2131.71 310.987 M2127.03 307.145 L2137.59 307.145 Q2143.4 307.145 2146.36 309.784 Q2149.35 312.399 2149.35 317.469 Q2149.35 322.584 2146.36 325.2 Q2143.4 327.816 2137.59 327.816 L2131.71 327.816 L2131.71 341.705 L2127.03 341.705 L2127.03 307.145 Z\" fill=\"#000000\" fill-rule=\"nonzero\" fill-opacity=\"1\" /><path clip-path=\"url(#clip960)\" d=\"M2181.5 309.807 L2181.5 314.737 Q2179.14 312.538 2176.45 311.45 Q2173.79 310.362 2170.78 310.362 Q2164.86 310.362 2161.71 313.996 Q2158.56 317.608 2158.56 324.459 Q2158.56 331.288 2161.71 334.922 Q2164.86 338.533 2170.78 338.533 Q2173.79 338.533 2176.45 337.445 Q2179.14 336.357 2181.5 334.158 L2181.5 339.043 Q2179.05 340.709 2176.29 341.543 Q2173.56 342.376 2170.51 342.376 Q2162.66 342.376 2158.14 337.584 Q2153.63 332.77 2153.63 324.459 Q2153.63 316.126 2158.14 311.334 Q2162.66 306.52 2170.51 306.52 Q2173.61 306.52 2176.34 307.353 Q2179.09 308.163 2181.5 309.807 Z\" fill=\"#000000\" fill-rule=\"nonzero\" fill-opacity=\"1\" /><path clip-path=\"url(#clip960)\" d=\"M2200.27 311.751 L2193.93 328.95 L2206.64 328.95 L2200.27 311.751 M2197.64 307.145 L2202.94 307.145 L2216.11 341.705 L2211.25 341.705 L2208.1 332.839 L2192.52 332.839 L2189.37 341.705 L2184.44 341.705 L2197.64 307.145 Z\" fill=\"#000000\" fill-rule=\"nonzero\" fill-opacity=\"1\" /><polyline clip-path=\"url(#clip960)\" style=\"stroke:#c271d2; stroke-linecap:round; stroke-linejoin:round; stroke-width:4; stroke-opacity:1; fill:none\" points=\"1958.71,376.265 2102.99,376.265 \"/>\n",
       "<path clip-path=\"url(#clip960)\" d=\"M2152.59 388.614 L2152.59 379.332 L2144.95 379.332 L2144.95 375.489 L2157.22 375.489 L2157.22 390.327 Q2154.51 392.248 2151.25 393.244 Q2147.98 394.216 2144.28 394.216 Q2136.18 394.216 2131.59 389.494 Q2127.03 384.748 2127.03 376.299 Q2127.03 367.827 2131.59 363.105 Q2136.18 358.36 2144.28 358.36 Q2147.66 358.36 2150.69 359.193 Q2153.75 360.026 2156.32 361.647 L2156.32 366.623 Q2153.72 364.424 2150.81 363.313 Q2147.89 362.202 2144.67 362.202 Q2138.33 362.202 2135.14 365.744 Q2131.96 369.286 2131.96 376.299 Q2131.96 383.29 2135.14 386.832 Q2138.33 390.373 2144.67 390.373 Q2147.15 390.373 2149.09 389.957 Q2151.04 389.517 2152.59 388.614 Z\" fill=\"#000000\" fill-rule=\"nonzero\" fill-opacity=\"1\" /><path clip-path=\"url(#clip960)\" d=\"M2170.44 362.827 L2170.44 375.813 L2176.32 375.813 Q2179.58 375.813 2181.36 374.123 Q2183.14 372.434 2183.14 369.309 Q2183.14 366.207 2181.36 364.517 Q2179.58 362.827 2176.32 362.827 L2170.44 362.827 M2165.76 358.985 L2176.32 358.985 Q2182.13 358.985 2185.09 361.624 Q2188.08 364.239 2188.08 369.309 Q2188.08 374.424 2185.09 377.04 Q2182.13 379.656 2176.32 379.656 L2170.44 379.656 L2170.44 393.545 L2165.76 393.545 L2165.76 358.985 Z\" fill=\"#000000\" fill-rule=\"nonzero\" fill-opacity=\"1\" /></svg>\n"
      ],
      "text/html": [
       "<?xml version=\"1.0\" encoding=\"utf-8\"?>\n",
       "<svg xmlns=\"http://www.w3.org/2000/svg\" xmlns:xlink=\"http://www.w3.org/1999/xlink\" width=\"600\" height=\"400\" viewBox=\"0 0 2400 1600\">\n",
       "<defs>\n",
       "  <clipPath id=\"clip010\">\n",
       "    <rect x=\"0\" y=\"0\" width=\"2400\" height=\"1600\"/>\n",
       "  </clipPath>\n",
       "</defs>\n",
       "<path clip-path=\"url(#clip010)\" d=\"M0 1600 L2400 1600 L2400 0 L0 0  Z\" fill=\"#ffffff\" fill-rule=\"evenodd\" fill-opacity=\"1\"/>\n",
       "<defs>\n",
       "  <clipPath id=\"clip011\">\n",
       "    <rect x=\"480\" y=\"0\" width=\"1681\" height=\"1600\"/>\n",
       "  </clipPath>\n",
       "</defs>\n",
       "<path clip-path=\"url(#clip010)\" d=\"M188.574 1486.45 L2352.76 1486.45 L2352.76 123.472 L188.574 123.472  Z\" fill=\"#ffffff\" fill-rule=\"evenodd\" fill-opacity=\"1\"/>\n",
       "<defs>\n",
       "  <clipPath id=\"clip012\">\n",
       "    <rect x=\"188\" y=\"123\" width=\"2165\" height=\"1364\"/>\n",
       "  </clipPath>\n",
       "</defs>\n",
       "<polyline clip-path=\"url(#clip012)\" style=\"stroke:#000000; stroke-linecap:round; stroke-linejoin:round; stroke-width:2; stroke-opacity:0.1; fill:none\" points=\"196.096,1486.45 196.096,123.472 \"/>\n",
       "<polyline clip-path=\"url(#clip012)\" style=\"stroke:#000000; stroke-linecap:round; stroke-linejoin:round; stroke-width:2; stroke-opacity:0.1; fill:none\" points=\"733.381,1486.45 733.381,123.472 \"/>\n",
       "<polyline clip-path=\"url(#clip012)\" style=\"stroke:#000000; stroke-linecap:round; stroke-linejoin:round; stroke-width:2; stroke-opacity:0.1; fill:none\" points=\"1270.67,1486.45 1270.67,123.472 \"/>\n",
       "<polyline clip-path=\"url(#clip012)\" style=\"stroke:#000000; stroke-linecap:round; stroke-linejoin:round; stroke-width:2; stroke-opacity:0.1; fill:none\" points=\"1807.95,1486.45 1807.95,123.472 \"/>\n",
       "<polyline clip-path=\"url(#clip012)\" style=\"stroke:#000000; stroke-linecap:round; stroke-linejoin:round; stroke-width:2; stroke-opacity:0.1; fill:none\" points=\"2345.23,1486.45 2345.23,123.472 \"/>\n",
       "<polyline clip-path=\"url(#clip012)\" style=\"stroke:#000000; stroke-linecap:round; stroke-linejoin:round; stroke-width:2; stroke-opacity:0.1; fill:none\" points=\"188.574,1117.63 2352.76,1117.63 \"/>\n",
       "<polyline clip-path=\"url(#clip012)\" style=\"stroke:#000000; stroke-linecap:round; stroke-linejoin:round; stroke-width:2; stroke-opacity:0.1; fill:none\" points=\"188.574,389.992 2352.76,389.992 \"/>\n",
       "<polyline clip-path=\"url(#clip010)\" style=\"stroke:#000000; stroke-linecap:round; stroke-linejoin:round; stroke-width:4; stroke-opacity:1; fill:none\" points=\"188.574,1486.45 2352.76,1486.45 \"/>\n",
       "<polyline clip-path=\"url(#clip010)\" style=\"stroke:#000000; stroke-linecap:round; stroke-linejoin:round; stroke-width:4; stroke-opacity:1; fill:none\" points=\"196.096,1486.45 196.096,1467.55 \"/>\n",
       "<polyline clip-path=\"url(#clip010)\" style=\"stroke:#000000; stroke-linecap:round; stroke-linejoin:round; stroke-width:4; stroke-opacity:1; fill:none\" points=\"733.381,1486.45 733.381,1467.55 \"/>\n",
       "<polyline clip-path=\"url(#clip010)\" style=\"stroke:#000000; stroke-linecap:round; stroke-linejoin:round; stroke-width:4; stroke-opacity:1; fill:none\" points=\"1270.67,1486.45 1270.67,1467.55 \"/>\n",
       "<polyline clip-path=\"url(#clip010)\" style=\"stroke:#000000; stroke-linecap:round; stroke-linejoin:round; stroke-width:4; stroke-opacity:1; fill:none\" points=\"1807.95,1486.45 1807.95,1467.55 \"/>\n",
       "<polyline clip-path=\"url(#clip010)\" style=\"stroke:#000000; stroke-linecap:round; stroke-linejoin:round; stroke-width:4; stroke-opacity:1; fill:none\" points=\"2345.23,1486.45 2345.23,1467.55 \"/>\n",
       "<path clip-path=\"url(#clip010)\" d=\"M196.096 1517.37 Q192.485 1517.37 190.657 1520.93 Q188.851 1524.47 188.851 1531.6 Q188.851 1538.71 190.657 1542.27 Q192.485 1545.82 196.096 1545.82 Q199.731 1545.82 201.536 1542.27 Q203.365 1538.71 203.365 1531.6 Q203.365 1524.47 201.536 1520.93 Q199.731 1517.37 196.096 1517.37 M196.096 1513.66 Q201.906 1513.66 204.962 1518.27 Q208.041 1522.85 208.041 1531.6 Q208.041 1540.33 204.962 1544.94 Q201.906 1549.52 196.096 1549.52 Q190.286 1549.52 187.207 1544.94 Q184.152 1540.33 184.152 1531.6 Q184.152 1522.85 187.207 1518.27 Q190.286 1513.66 196.096 1513.66 Z\" fill=\"#000000\" fill-rule=\"nonzero\" fill-opacity=\"1\" /><path clip-path=\"url(#clip010)\" d=\"M708.068 1544.91 L715.707 1544.91 L715.707 1518.55 L707.397 1520.21 L707.397 1515.95 L715.661 1514.29 L720.337 1514.29 L720.337 1544.91 L727.976 1544.91 L727.976 1548.85 L708.068 1548.85 L708.068 1544.91 Z\" fill=\"#000000\" fill-rule=\"nonzero\" fill-opacity=\"1\" /><path clip-path=\"url(#clip010)\" d=\"M747.42 1517.37 Q743.809 1517.37 741.98 1520.93 Q740.175 1524.47 740.175 1531.6 Q740.175 1538.71 741.98 1542.27 Q743.809 1545.82 747.42 1545.82 Q751.054 1545.82 752.86 1542.27 Q754.688 1538.71 754.688 1531.6 Q754.688 1524.47 752.86 1520.93 Q751.054 1517.37 747.42 1517.37 M747.42 1513.66 Q753.23 1513.66 756.286 1518.27 Q759.364 1522.85 759.364 1531.6 Q759.364 1540.33 756.286 1544.94 Q753.23 1549.52 747.42 1549.52 Q741.61 1549.52 738.531 1544.94 Q735.476 1540.33 735.476 1531.6 Q735.476 1522.85 738.531 1518.27 Q741.61 1513.66 747.42 1513.66 Z\" fill=\"#000000\" fill-rule=\"nonzero\" fill-opacity=\"1\" /><path clip-path=\"url(#clip010)\" d=\"M1249.44 1544.91 L1265.76 1544.91 L1265.76 1548.85 L1243.81 1548.85 L1243.81 1544.91 Q1246.48 1542.16 1251.06 1537.53 Q1255.67 1532.88 1256.85 1531.53 Q1259.09 1529.01 1259.97 1527.27 Q1260.87 1525.51 1260.87 1523.82 Q1260.87 1521.07 1258.93 1519.33 Q1257.01 1517.6 1253.91 1517.6 Q1251.71 1517.6 1249.25 1518.36 Q1246.82 1519.13 1244.04 1520.68 L1244.04 1515.95 Q1246.87 1514.82 1249.32 1514.24 Q1251.78 1513.66 1253.81 1513.66 Q1259.18 1513.66 1262.38 1516.35 Q1265.57 1519.03 1265.57 1523.52 Q1265.57 1525.65 1264.76 1527.57 Q1263.98 1529.47 1261.87 1532.07 Q1261.29 1532.74 1258.19 1535.95 Q1255.09 1539.15 1249.44 1544.91 Z\" fill=\"#000000\" fill-rule=\"nonzero\" fill-opacity=\"1\" /><path clip-path=\"url(#clip010)\" d=\"M1285.57 1517.37 Q1281.96 1517.37 1280.13 1520.93 Q1278.33 1524.47 1278.33 1531.6 Q1278.33 1538.71 1280.13 1542.27 Q1281.96 1545.82 1285.57 1545.82 Q1289.21 1545.82 1291.01 1542.27 Q1292.84 1538.71 1292.84 1531.6 Q1292.84 1524.47 1291.01 1520.93 Q1289.21 1517.37 1285.57 1517.37 M1285.57 1513.66 Q1291.38 1513.66 1294.44 1518.27 Q1297.52 1522.85 1297.52 1531.6 Q1297.52 1540.33 1294.44 1544.94 Q1291.38 1549.52 1285.57 1549.52 Q1279.76 1549.52 1276.68 1544.94 Q1273.63 1540.33 1273.63 1531.6 Q1273.63 1522.85 1276.68 1518.27 Q1279.76 1513.66 1285.57 1513.66 Z\" fill=\"#000000\" fill-rule=\"nonzero\" fill-opacity=\"1\" /><path clip-path=\"url(#clip010)\" d=\"M1796.79 1530.21 Q1800.15 1530.93 1802.02 1533.2 Q1803.92 1535.47 1803.92 1538.8 Q1803.92 1543.92 1800.4 1546.72 Q1796.88 1549.52 1790.4 1549.52 Q1788.23 1549.52 1785.91 1549.08 Q1783.62 1548.66 1781.17 1547.81 L1781.17 1543.29 Q1783.11 1544.43 1785.43 1545.01 Q1787.74 1545.58 1790.26 1545.58 Q1794.66 1545.58 1796.95 1543.85 Q1799.27 1542.11 1799.27 1538.8 Q1799.27 1535.75 1797.12 1534.03 Q1794.99 1532.3 1791.17 1532.3 L1787.14 1532.3 L1787.14 1528.45 L1791.35 1528.45 Q1794.8 1528.45 1796.63 1527.09 Q1798.46 1525.7 1798.46 1523.11 Q1798.46 1520.45 1796.56 1519.03 Q1794.69 1517.6 1791.17 1517.6 Q1789.25 1517.6 1787.05 1518.01 Q1784.85 1518.43 1782.21 1519.31 L1782.21 1515.14 Q1784.87 1514.4 1787.19 1514.03 Q1789.52 1513.66 1791.58 1513.66 Q1796.91 1513.66 1800.01 1516.09 Q1803.11 1518.5 1803.11 1522.62 Q1803.11 1525.49 1801.47 1527.48 Q1799.82 1529.45 1796.79 1530.21 Z\" fill=\"#000000\" fill-rule=\"nonzero\" fill-opacity=\"1\" /><path clip-path=\"url(#clip010)\" d=\"M1822.79 1517.37 Q1819.18 1517.37 1817.35 1520.93 Q1815.54 1524.47 1815.54 1531.6 Q1815.54 1538.71 1817.35 1542.27 Q1819.18 1545.82 1822.79 1545.82 Q1826.42 1545.82 1828.23 1542.27 Q1830.06 1538.71 1830.06 1531.6 Q1830.06 1524.47 1828.23 1520.93 Q1826.42 1517.37 1822.79 1517.37 M1822.79 1513.66 Q1828.6 1513.66 1831.65 1518.27 Q1834.73 1522.85 1834.73 1531.6 Q1834.73 1540.33 1831.65 1544.94 Q1828.6 1549.52 1822.79 1549.52 Q1816.98 1549.52 1813.9 1544.94 Q1810.84 1540.33 1810.84 1531.6 Q1810.84 1522.85 1813.9 1518.27 Q1816.98 1513.66 1822.79 1513.66 Z\" fill=\"#000000\" fill-rule=\"nonzero\" fill-opacity=\"1\" /><path clip-path=\"url(#clip010)\" d=\"M2333.41 1518.36 L2321.6 1536.81 L2333.41 1536.81 L2333.41 1518.36 M2332.18 1514.29 L2338.06 1514.29 L2338.06 1536.81 L2342.99 1536.81 L2342.99 1540.7 L2338.06 1540.7 L2338.06 1548.85 L2333.41 1548.85 L2333.41 1540.7 L2317.8 1540.7 L2317.8 1536.19 L2332.18 1514.29 Z\" fill=\"#000000\" fill-rule=\"nonzero\" fill-opacity=\"1\" /><path clip-path=\"url(#clip010)\" d=\"M2360.72 1517.37 Q2357.11 1517.37 2355.28 1520.93 Q2353.47 1524.47 2353.47 1531.6 Q2353.47 1538.71 2355.28 1542.27 Q2357.11 1545.82 2360.72 1545.82 Q2364.35 1545.82 2366.16 1542.27 Q2367.99 1538.71 2367.99 1531.6 Q2367.99 1524.47 2366.16 1520.93 Q2364.35 1517.37 2360.72 1517.37 M2360.72 1513.66 Q2366.53 1513.66 2369.59 1518.27 Q2372.66 1522.85 2372.66 1531.6 Q2372.66 1540.33 2369.59 1544.94 Q2366.53 1549.52 2360.72 1549.52 Q2354.91 1549.52 2351.83 1544.94 Q2348.78 1540.33 2348.78 1531.6 Q2348.78 1522.85 2351.83 1518.27 Q2354.91 1513.66 2360.72 1513.66 Z\" fill=\"#000000\" fill-rule=\"nonzero\" fill-opacity=\"1\" /><polyline clip-path=\"url(#clip010)\" style=\"stroke:#000000; stroke-linecap:round; stroke-linejoin:round; stroke-width:4; stroke-opacity:1; fill:none\" points=\"188.574,1486.45 188.574,123.472 \"/>\n",
       "<polyline clip-path=\"url(#clip010)\" style=\"stroke:#000000; stroke-linecap:round; stroke-linejoin:round; stroke-width:4; stroke-opacity:1; fill:none\" points=\"188.574,1117.63 207.472,1117.63 \"/>\n",
       "<polyline clip-path=\"url(#clip010)\" style=\"stroke:#000000; stroke-linecap:round; stroke-linejoin:round; stroke-width:4; stroke-opacity:1; fill:none\" points=\"188.574,389.992 207.472,389.992 \"/>\n",
       "<path clip-path=\"url(#clip010)\" d=\"M51.6634 1137.43 L59.3023 1137.43 L59.3023 1111.06 L50.9921 1112.73 L50.9921 1108.47 L59.256 1106.8 L63.9319 1106.8 L63.9319 1137.43 L71.5707 1137.43 L71.5707 1141.36 L51.6634 1141.36 L51.6634 1137.43 Z\" fill=\"#000000\" fill-rule=\"nonzero\" fill-opacity=\"1\" /><path clip-path=\"url(#clip010)\" d=\"M91.0151 1109.88 Q87.404 1109.88 85.5753 1113.45 Q83.7697 1116.99 83.7697 1124.12 Q83.7697 1131.22 85.5753 1134.79 Q87.404 1138.33 91.0151 1138.33 Q94.6493 1138.33 96.4548 1134.79 Q98.2835 1131.22 98.2835 1124.12 Q98.2835 1116.99 96.4548 1113.45 Q94.6493 1109.88 91.0151 1109.88 M91.0151 1106.18 Q96.8252 1106.18 99.8808 1110.78 Q102.959 1115.37 102.959 1124.12 Q102.959 1132.84 99.8808 1137.45 Q96.8252 1142.03 91.0151 1142.03 Q85.2049 1142.03 82.1262 1137.45 Q79.0707 1132.84 79.0707 1124.12 Q79.0707 1115.37 82.1262 1110.78 Q85.2049 1106.18 91.0151 1106.18 Z\" fill=\"#000000\" fill-rule=\"nonzero\" fill-opacity=\"1\" /><path clip-path=\"url(#clip010)\" d=\"M102.959 1100.28 L127.071 1100.28 L127.071 1103.48 L102.959 1103.48 L102.959 1100.28 Z\" fill=\"#000000\" fill-rule=\"nonzero\" fill-opacity=\"1\" /><path clip-path=\"url(#clip010)\" d=\"M146.782 1098.81 Q149.509 1099.39 151.032 1101.24 Q152.574 1103.08 152.574 1105.79 Q152.574 1109.95 149.716 1112.22 Q146.857 1114.5 141.591 1114.5 Q139.823 1114.5 137.942 1114.14 Q136.08 1113.8 134.086 1113.11 L134.086 1109.44 Q135.666 1110.36 137.547 1110.83 Q139.428 1111.3 141.478 1111.3 Q145.051 1111.3 146.913 1109.89 Q148.794 1108.48 148.794 1105.79 Q148.794 1103.31 147.045 1101.92 Q145.315 1100.5 142.211 1100.5 L138.939 1100.5 L138.939 1097.38 L142.362 1097.38 Q145.164 1097.38 146.65 1096.27 Q148.136 1095.14 148.136 1093.04 Q148.136 1090.88 146.593 1089.73 Q145.07 1088.56 142.211 1088.56 Q140.65 1088.56 138.863 1088.9 Q137.077 1089.24 134.933 1089.95 L134.933 1086.57 Q137.096 1085.97 138.976 1085.67 Q140.876 1085.36 142.55 1085.36 Q146.876 1085.36 149.396 1087.34 Q151.916 1089.3 151.916 1092.64 Q151.916 1094.98 150.581 1096.59 Q149.245 1098.19 146.782 1098.81 Z\" fill=\"#000000\" fill-rule=\"nonzero\" fill-opacity=\"1\" /><path clip-path=\"url(#clip010)\" d=\"M81.8687 409.784 L89.5075 409.784 L89.5075 383.419 L81.1974 385.086 L81.1974 380.826 L89.4612 379.16 L94.1371 379.16 L94.1371 409.784 L101.776 409.784 L101.776 413.72 L81.8687 413.72 L81.8687 409.784 Z\" fill=\"#000000\" fill-rule=\"nonzero\" fill-opacity=\"1\" /><path clip-path=\"url(#clip010)\" d=\"M121.22 382.238 Q117.609 382.238 115.781 385.803 Q113.975 389.345 113.975 396.474 Q113.975 403.581 115.781 407.146 Q117.609 410.687 121.22 410.687 Q124.855 410.687 126.66 407.146 Q128.489 403.581 128.489 396.474 Q128.489 389.345 126.66 385.803 Q124.855 382.238 121.22 382.238 M121.22 378.535 Q127.03 378.535 130.086 383.141 Q133.165 387.724 133.165 396.474 Q133.165 405.201 130.086 409.808 Q127.03 414.391 121.22 414.391 Q115.41 414.391 112.331 409.808 Q109.276 405.201 109.276 396.474 Q109.276 387.724 112.331 383.141 Q115.41 378.535 121.22 378.535 Z\" fill=\"#000000\" fill-rule=\"nonzero\" fill-opacity=\"1\" /><path clip-path=\"url(#clip010)\" d=\"M142.87 360.731 Q139.936 360.731 138.45 363.627 Q136.983 366.505 136.983 372.297 Q136.983 378.071 138.45 380.968 Q139.936 383.845 142.87 383.845 Q145.822 383.845 147.289 380.968 Q148.775 378.071 148.775 372.297 Q148.775 366.505 147.289 363.627 Q145.822 360.731 142.87 360.731 M142.87 357.721 Q147.59 357.721 150.073 361.464 Q152.574 365.188 152.574 372.297 Q152.574 379.388 150.073 383.131 Q147.59 386.855 142.87 386.855 Q138.149 386.855 135.647 383.131 Q133.165 379.388 133.165 372.297 Q133.165 365.188 135.647 361.464 Q138.149 357.721 142.87 357.721 Z\" fill=\"#000000\" fill-rule=\"nonzero\" fill-opacity=\"1\" /><path clip-path=\"url(#clip010)\" d=\"M1197.75 63.9476 L1197.75 47.7034 L1184.38 47.7034 L1184.38 40.9789 L1205.85 40.9789 L1205.85 66.9452 Q1201.11 70.3075 1195.4 72.0494 Q1189.69 73.7508 1183.21 73.7508 Q1169.03 73.7508 1161.01 65.4869 Q1153.03 57.1826 1153.03 42.3968 Q1153.03 27.5705 1161.01 19.3066 Q1169.03 11.0023 1183.21 11.0023 Q1189.12 11.0023 1194.43 12.4606 Q1199.77 13.9189 1204.27 16.7545 L1204.27 25.464 Q1199.73 21.6156 1194.63 19.6712 Q1189.53 17.7268 1183.89 17.7268 Q1172.8 17.7268 1167.21 23.9246 Q1161.66 30.1225 1161.66 42.3968 Q1161.66 54.6305 1167.21 60.8284 Q1172.8 67.0263 1183.89 67.0263 Q1188.23 67.0263 1191.63 66.2971 Q1195.03 65.5274 1197.75 63.9476 Z\" fill=\"#000000\" fill-rule=\"nonzero\" fill-opacity=\"1\" /><path clip-path=\"url(#clip010)\" d=\"M1266.09 16.7545 L1266.09 25.383 Q1261.96 21.5346 1257.26 19.6307 Q1252.6 17.7268 1247.33 17.7268 Q1236.96 17.7268 1231.45 24.0867 Q1225.94 30.4061 1225.94 42.3968 Q1225.94 54.3469 1231.45 60.7069 Q1236.96 67.0263 1247.33 67.0263 Q1252.6 67.0263 1257.26 65.1223 Q1261.96 63.2184 1266.09 59.3701 L1266.09 67.9175 Q1261.79 70.8341 1256.97 72.2924 Q1252.19 73.7508 1246.85 73.7508 Q1233.11 73.7508 1225.21 65.3654 Q1217.31 56.9395 1217.31 42.3968 Q1217.31 27.8135 1225.21 19.4281 Q1233.11 11.0023 1246.85 11.0023 Q1252.27 11.0023 1257.05 12.4606 Q1261.87 13.8784 1266.09 16.7545 Z\" fill=\"#000000\" fill-rule=\"nonzero\" fill-opacity=\"1\" /><path clip-path=\"url(#clip010)\" d=\"M1319.96 63.9476 L1319.96 47.7034 L1306.6 47.7034 L1306.6 40.9789 L1328.07 40.9789 L1328.07 66.9452 Q1323.33 70.3075 1317.62 72.0494 Q1311.9 73.7508 1305.42 73.7508 Q1291.24 73.7508 1283.22 65.4869 Q1275.24 57.1826 1275.24 42.3968 Q1275.24 27.5705 1283.22 19.3066 Q1291.24 11.0023 1305.42 11.0023 Q1311.34 11.0023 1316.64 12.4606 Q1321.99 13.9189 1326.49 16.7545 L1326.49 25.464 Q1321.95 21.6156 1316.85 19.6712 Q1311.74 17.7268 1306.11 17.7268 Q1295.01 17.7268 1289.42 23.9246 Q1283.87 30.1225 1283.87 42.3968 Q1283.87 54.6305 1289.42 60.8284 Q1295.01 67.0263 1306.11 67.0263 Q1310.45 67.0263 1313.85 66.2971 Q1317.25 65.5274 1319.96 63.9476 Z\" fill=\"#000000\" fill-rule=\"nonzero\" fill-opacity=\"1\" /><path clip-path=\"url(#clip010)\" d=\"M1388.3 16.7545 L1388.3 25.383 Q1384.17 21.5346 1379.47 19.6307 Q1374.81 17.7268 1369.55 17.7268 Q1359.18 17.7268 1353.67 24.0867 Q1348.16 30.4061 1348.16 42.3968 Q1348.16 54.3469 1353.67 60.7069 Q1359.18 67.0263 1369.55 67.0263 Q1374.81 67.0263 1379.47 65.1223 Q1384.17 63.2184 1388.3 59.3701 L1388.3 67.9175 Q1384.01 70.8341 1379.19 72.2924 Q1374.41 73.7508 1369.06 73.7508 Q1355.33 73.7508 1347.43 65.3654 Q1339.53 56.9395 1339.53 42.3968 Q1339.53 27.8135 1347.43 19.4281 Q1355.33 11.0023 1369.06 11.0023 Q1374.49 11.0023 1379.27 12.4606 Q1384.09 13.8784 1388.3 16.7545 Z\" fill=\"#000000\" fill-rule=\"nonzero\" fill-opacity=\"1\" /><polyline clip-path=\"url(#clip012)\" style=\"stroke:#009af9; stroke-linecap:round; stroke-linejoin:round; stroke-width:4; stroke-opacity:1; fill:none\" points=\"249.825,1063.26 303.553,983.486 357.282,889.028 411.01,871.938 464.739,830.389 518.467,763.672 572.195,1093.37 625.924,1035.35 679.652,972.687 733.381,875.287 787.109,827.931 840.838,871.794 894.566,765.644 948.294,1121.3 1002.02,1046.63 1055.75,986.488 1109.48,946.663 1163.21,838.586 1216.94,811.859 1270.67,877.872 1324.39,806.461 1378.12,1156.26 1431.85,1067.47 1485.58,988.368 1539.31,995.743 1593.04,913.057 1646.76,809.397 1700.49,902.368 1754.22,719.218 1807.95,884.338 1861.68,1236.47 1915.41,1147.47 1969.13,1072.88 2022.86,1033.04 2076.59,1012.94 2130.32,897.025 2184.05,844.977 2237.78,1447.87 2291.51,797.564 \"/>\n",
       "<polyline clip-path=\"url(#clip012)\" style=\"stroke:#e26f46; stroke-linecap:round; stroke-linejoin:round; stroke-width:4; stroke-opacity:1; fill:none\" points=\"249.825,1061.37 303.553,965.247 357.282,852.471 411.01,748.708 464.739,666.185 518.467,588.388 572.195,1125.6 625.924,1011.55 679.652,899.077 733.381,815.479 787.109,697.868 840.838,612.992 894.566,530.48 948.294,1023.12 1002.02,908.45 1055.75,793.421 1109.48,703.455 1163.21,613.997 1216.94,523.094 1270.67,444.484 1324.39,359.801 1378.12,1026.43 1431.85,908.616 1485.58,790.831 1539.31,687.341 1593.04,593.319 1646.76,518.709 1700.49,413.697 1754.22,359.182 1807.95,270.391 1861.68,967.559 1915.41,852.971 1969.13,741.124 2022.86,649.5 2076.59,556.666 2130.32,479.061 2184.05,394.992 2237.78,320.645 2291.51,240.911 \"/>\n",
       "<polyline clip-path=\"url(#clip012)\" style=\"stroke:#3da44d; stroke-linecap:round; stroke-linejoin:round; stroke-width:4; stroke-opacity:1; fill:none\" points=\"249.825,893.445 303.553,801.426 357.282,691.617 411.01,607.348 464.739,541.598 518.467,464.065 572.195,903.399 625.924,804.306 679.652,707.443 733.381,620.247 787.109,526.681 840.838,472.746 894.566,386.098 948.294,882.096 1002.02,776.645 1055.75,677.396 1109.48,598.115 1163.21,504.685 1216.94,425.468 1270.67,371.846 1324.39,283.162 1378.12,834.685 1431.85,724.673 1485.58,619.073 1539.31,537.259 1593.04,447.439 1646.76,366.914 1700.49,291.874 1754.22,222.962 1807.95,162.047 1861.68,891.895 1915.41,777.284 1969.13,666.717 2022.86,577.279 2076.59,484.549 2130.32,406.982 2184.05,322.161 2237.78,250.108 2291.51,170.931 \"/>\n",
       "<polyline clip-path=\"url(#clip012)\" style=\"stroke:#c271d2; stroke-linecap:round; stroke-linejoin:round; stroke-width:4; stroke-opacity:1; fill:none\" points=\"249.825,955.846 303.553,863.437 357.282,753.405 411.01,661.67 464.739,602.998 518.467,522.129 572.195,939.155 625.924,836.7 679.652,737.233 733.381,650.324 787.109,555.624 840.838,496.298 894.566,412.39 948.294,927.571 1002.02,821.487 1055.75,721.591 1109.48,642.478 1163.21,549.463 1216.94,468.555 1270.67,417.739 1324.39,325.579 1378.12,851.754 1431.85,741.151 1485.58,635.029 1539.31,552.521 1593.04,462.464 1646.76,382.252 1700.49,306.034 1754.22,237.686 1807.95,175.796 1861.68,914.774 1915.41,800.256 1969.13,690.011 2022.86,601.322 2076.59,509.384 2130.32,431.614 2184.05,346.924 2237.78,277.986 2291.51,197.107 \"/>\n",
       "<path clip-path=\"url(#clip010)\" d=\"M1934.66 428.105 L2280.62 428.105 L2280.62 168.905 L1934.66 168.905  Z\" fill=\"#ffffff\" fill-rule=\"evenodd\" fill-opacity=\"1\"/>\n",
       "<polyline clip-path=\"url(#clip010)\" style=\"stroke:#000000; stroke-linecap:round; stroke-linejoin:round; stroke-width:4; stroke-opacity:1; fill:none\" points=\"1934.66,428.105 2280.62,428.105 2280.62,168.905 1934.66,168.905 1934.66,428.105 \"/>\n",
       "<polyline clip-path=\"url(#clip010)\" style=\"stroke:#009af9; stroke-linecap:round; stroke-linejoin:round; stroke-width:4; stroke-opacity:1; fill:none\" points=\"1958.71,220.745 2102.99,220.745 \"/>\n",
       "<path clip-path=\"url(#clip010)\" d=\"M2131.71 207.307 L2131.71 234.182 L2137.36 234.182 Q2144.51 234.182 2147.82 230.941 Q2151.15 227.701 2151.15 220.71 Q2151.15 213.766 2147.82 210.548 Q2144.51 207.307 2137.36 207.307 L2131.71 207.307 M2127.03 203.465 L2136.64 203.465 Q2146.69 203.465 2151.39 207.654 Q2156.08 211.821 2156.08 220.71 Q2156.08 229.645 2151.36 233.835 Q2146.64 238.025 2136.64 238.025 L2127.03 238.025 L2127.03 203.465 Z\" fill=\"#000000\" fill-rule=\"nonzero\" fill-opacity=\"1\" /><path clip-path=\"url(#clip010)\" d=\"M2161.5 212.099 L2181.73 212.099 L2181.73 215.988 L2165.71 234.622 L2181.73 234.622 L2181.73 238.025 L2160.92 238.025 L2160.92 234.136 L2176.94 215.502 L2161.5 215.502 L2161.5 212.099 Z\" fill=\"#000000\" fill-rule=\"nonzero\" fill-opacity=\"1\" /><polyline clip-path=\"url(#clip010)\" style=\"stroke:#e26f46; stroke-linecap:round; stroke-linejoin:round; stroke-width:4; stroke-opacity:1; fill:none\" points=\"1958.71,272.585 2102.99,272.585 \"/>\n",
       "<path clip-path=\"url(#clip010)\" d=\"M2127.03 255.305 L2131.76 255.305 L2139.02 284.517 L2146.27 255.305 L2151.52 255.305 L2158.79 284.517 L2166.04 255.305 L2170.78 255.305 L2162.1 289.865 L2156.22 289.865 L2148.93 259.865 L2141.57 289.865 L2135.69 289.865 L2127.03 255.305 Z\" fill=\"#000000\" fill-rule=\"nonzero\" fill-opacity=\"1\" /><path clip-path=\"url(#clip010)\" d=\"M2174.95 263.939 L2195.18 263.939 L2195.18 267.828 L2179.16 286.462 L2195.18 286.462 L2195.18 289.865 L2174.37 289.865 L2174.37 285.976 L2190.39 267.342 L2174.95 267.342 L2174.95 263.939 Z\" fill=\"#000000\" fill-rule=\"nonzero\" fill-opacity=\"1\" /><path clip-path=\"url(#clip010)\" d=\"M2206.55 259.147 L2206.55 286.022 L2212.2 286.022 Q2219.35 286.022 2222.66 282.781 Q2225.99 279.541 2225.99 272.55 Q2225.99 265.606 2222.66 262.388 Q2219.35 259.147 2212.2 259.147 L2206.55 259.147 M2201.87 255.305 L2211.48 255.305 Q2221.52 255.305 2226.22 259.494 Q2230.92 263.661 2230.92 272.55 Q2230.92 281.485 2226.2 285.675 Q2221.48 289.865 2211.48 289.865 L2201.87 289.865 L2201.87 255.305 Z\" fill=\"#000000\" fill-rule=\"nonzero\" fill-opacity=\"1\" /><path clip-path=\"url(#clip010)\" d=\"M2236.34 263.939 L2256.57 263.939 L2256.57 267.828 L2240.55 286.462 L2256.57 286.462 L2256.57 289.865 L2235.76 289.865 L2235.76 285.976 L2251.78 267.342 L2236.34 267.342 L2236.34 263.939 Z\" fill=\"#000000\" fill-rule=\"nonzero\" fill-opacity=\"1\" /><polyline clip-path=\"url(#clip010)\" style=\"stroke:#3da44d; stroke-linecap:round; stroke-linejoin:round; stroke-width:4; stroke-opacity:1; fill:none\" points=\"1958.71,324.425 2102.99,324.425 \"/>\n",
       "<path clip-path=\"url(#clip010)\" d=\"M2131.71 310.987 L2131.71 323.973 L2137.59 323.973 Q2140.85 323.973 2142.64 322.283 Q2144.42 320.594 2144.42 317.469 Q2144.42 314.367 2142.64 312.677 Q2140.85 310.987 2137.59 310.987 L2131.71 310.987 M2127.03 307.145 L2137.59 307.145 Q2143.4 307.145 2146.36 309.784 Q2149.35 312.399 2149.35 317.469 Q2149.35 322.584 2146.36 325.2 Q2143.4 327.816 2137.59 327.816 L2131.71 327.816 L2131.71 341.705 L2127.03 341.705 L2127.03 307.145 Z\" fill=\"#000000\" fill-rule=\"nonzero\" fill-opacity=\"1\" /><path clip-path=\"url(#clip010)\" d=\"M2181.5 309.807 L2181.5 314.737 Q2179.14 312.538 2176.45 311.45 Q2173.79 310.362 2170.78 310.362 Q2164.86 310.362 2161.71 313.996 Q2158.56 317.608 2158.56 324.459 Q2158.56 331.288 2161.71 334.922 Q2164.86 338.533 2170.78 338.533 Q2173.79 338.533 2176.45 337.445 Q2179.14 336.357 2181.5 334.158 L2181.5 339.043 Q2179.05 340.709 2176.29 341.543 Q2173.56 342.376 2170.51 342.376 Q2162.66 342.376 2158.14 337.584 Q2153.63 332.77 2153.63 324.459 Q2153.63 316.126 2158.14 311.334 Q2162.66 306.52 2170.51 306.52 Q2173.61 306.52 2176.34 307.353 Q2179.09 308.163 2181.5 309.807 Z\" fill=\"#000000\" fill-rule=\"nonzero\" fill-opacity=\"1\" /><path clip-path=\"url(#clip010)\" d=\"M2200.27 311.751 L2193.93 328.95 L2206.64 328.95 L2200.27 311.751 M2197.64 307.145 L2202.94 307.145 L2216.11 341.705 L2211.25 341.705 L2208.1 332.839 L2192.52 332.839 L2189.37 341.705 L2184.44 341.705 L2197.64 307.145 Z\" fill=\"#000000\" fill-rule=\"nonzero\" fill-opacity=\"1\" /><polyline clip-path=\"url(#clip010)\" style=\"stroke:#c271d2; stroke-linecap:round; stroke-linejoin:round; stroke-width:4; stroke-opacity:1; fill:none\" points=\"1958.71,376.265 2102.99,376.265 \"/>\n",
       "<path clip-path=\"url(#clip010)\" d=\"M2152.59 388.614 L2152.59 379.332 L2144.95 379.332 L2144.95 375.489 L2157.22 375.489 L2157.22 390.327 Q2154.51 392.248 2151.25 393.244 Q2147.98 394.216 2144.28 394.216 Q2136.18 394.216 2131.59 389.494 Q2127.03 384.748 2127.03 376.299 Q2127.03 367.827 2131.59 363.105 Q2136.18 358.36 2144.28 358.36 Q2147.66 358.36 2150.69 359.193 Q2153.75 360.026 2156.32 361.647 L2156.32 366.623 Q2153.72 364.424 2150.81 363.313 Q2147.89 362.202 2144.67 362.202 Q2138.33 362.202 2135.14 365.744 Q2131.96 369.286 2131.96 376.299 Q2131.96 383.29 2135.14 386.832 Q2138.33 390.373 2144.67 390.373 Q2147.15 390.373 2149.09 389.957 Q2151.04 389.517 2152.59 388.614 Z\" fill=\"#000000\" fill-rule=\"nonzero\" fill-opacity=\"1\" /><path clip-path=\"url(#clip010)\" d=\"M2170.44 362.827 L2170.44 375.813 L2176.32 375.813 Q2179.58 375.813 2181.36 374.123 Q2183.14 372.434 2183.14 369.309 Q2183.14 366.207 2181.36 364.517 Q2179.58 362.827 2176.32 362.827 L2170.44 362.827 M2165.76 358.985 L2176.32 358.985 Q2182.13 358.985 2185.09 361.624 Q2188.08 364.239 2188.08 369.309 Q2188.08 374.424 2185.09 377.04 Q2182.13 379.656 2176.32 379.656 L2170.44 379.656 L2170.44 393.545 L2165.76 393.545 L2165.76 358.985 Z\" fill=\"#000000\" fill-rule=\"nonzero\" fill-opacity=\"1\" /></svg>\n"
      ]
     },
     "execution_count": 19,
     "metadata": {},
     "output_type": "execute_result"
    }
   ],
   "source": [
    "plot(diag(Cmod_dz) ./ diag(meta.cov), label=\"Dz\", yscale=:log10)\n",
    "plot!(diag(Cmod_wzdz) ./ diag(meta.cov), label=\"WzDz\", yscale=:log10)\n",
    "plot!(diag(Cmod_pca) ./ diag(meta.cov), label=\"PCA\", yscale=:log10)\n",
    "plot!(diag(Cmod_gp) ./ diag(meta.cov), label=\"GP\", yscale=:log10, title=\"GCGC\")"
   ]
  },
  {
   "cell_type": "markdown",
   "id": "99c7d3bf",
   "metadata": {},
   "source": [
    "## Save"
   ]
  },
  {
   "cell_type": "code",
   "execution_count": 20,
   "id": "24092f5f",
   "metadata": {},
   "outputs": [],
   "source": [
    "using NPZ\n",
    "npzwrite(string(\"../covs/COSMODC2/\", method, \"_gcgc_tpts_covs.npz\"),\n",
    "        Dict(\n",
    "        \"cov\"     => meta.cov,\n",
    "        \"TT_dz\"   => Symmetric(meta.cov + Cmod_dz),\n",
    "        \"TT_wzdz\" => Symmetric(meta.cov + Cmod_wzdz),\n",
    "        \"TT_pca\"  => Symmetric(meta.cov + Cmod_pca),\n",
    "        \"TT_gp\"   => Symmetric(meta.cov + Cmod_gp)))"
   ]
  }
 ],
 "metadata": {
  "kernelspec": {
   "display_name": "Julia (10 threads) 1.11.0",
   "language": "julia",
   "name": "julia-_10-threads_-1.11"
  },
  "language_info": {
   "file_extension": ".jl",
   "mimetype": "application/julia",
   "name": "julia",
   "version": "1.11.0"
  }
 },
 "nbformat": 4,
 "nbformat_minor": 5
}
