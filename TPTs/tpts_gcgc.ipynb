{
 "cells": [
  {
   "cell_type": "code",
   "execution_count": 1,
   "id": "10e5764a",
   "metadata": {},
   "outputs": [
    {
     "name": "stderr",
     "output_type": "stream",
     "text": [
      "\u001b[32m\u001b[1m  Activating\u001b[22m\u001b[39m project at `~/Documents/UCL/3x2_analytical`\n"
     ]
    }
   ],
   "source": [
    "using Pkg\n",
    "Pkg.activate(\"../\")\n",
    "#Pkg.instantiate()"
   ]
  },
  {
   "cell_type": "code",
   "execution_count": 2,
   "id": "02df9ee7",
   "metadata": {},
   "outputs": [],
   "source": [
    "using LinearAlgebra\n",
    "using ForwardDiff\n",
    "using Plots\n",
    "using LimberJack\n",
    "using CSV\n",
    "using YAML\n",
    "using NPZ\n",
    "using DataFrames\n",
    "using PythonCall\n",
    "using Statistics\n",
    "using Interpolations\n",
    "using SparseArrays\n",
    "sacc = pyimport(\"sacc\");"
   ]
  },
  {
   "cell_type": "markdown",
   "id": "9cc48b85",
   "metadata": {},
   "source": [
    "# Judith's Chain"
   ]
  },
  {
   "cell_type": "code",
   "execution_count": 3,
   "id": "95021235",
   "metadata": {},
   "outputs": [],
   "source": [
    "#using DelimitedFiles\n",
    "#chain = readdlm(\"/home/jaimerzp/Documents/UCL/3x2_analytical/data/CosmoDC2/cosmodc2_3x2pt_fourier_lcdm.txt\");"
   ]
  },
  {
   "cell_type": "code",
   "execution_count": 4,
   "id": "8d035461",
   "metadata": {},
   "outputs": [],
   "source": [
    "#chain_vals = chain[200:end, :]\n",
    "#param_names = chain[1, :];\n",
    "\n",
    "#post = chain_vals[:, 32]\n",
    "#index_of_min = argmax(post)\n",
    "#row_with_min = chain_vals[index_of_min, :]\n",
    "#Wm = row_with_min[1]+row_with_min[2]\n",
    "#Wb = row_with_min[2]\n",
    "#h0 = row_with_min[5]\n",
    "#ns = row_with_min[3]\n",
    "#s8 = row_with_min[29]\n",
    "#best_params = [Wm, Wb, h0, s8, ns]\n",
    "#print(best_params)\n",
    "\n",
    "#nuisances = Dict(\n",
    "#    \"lens_0_b\" => row_with_min[13],\n",
    "#    \"lens_1_b\" => row_with_min[14],\n",
    "#    \"lens_2_b\" => row_with_min[15],\n",
    "#    \"lens_3_b\" => row_with_min[16],\n",
    "#    \"lens_4_b\" => row_with_min[17],\n",
    "#    \"source_0_m\" => row_with_min[8],\n",
    "#    \"source_1_m\" => row_with_min[9],\n",
    "#    \"source_2_m\" => row_with_min[10],\n",
    "#    \"source_3_m\" => row_with_min[11],\n",
    "#    \"source_4_m\" => row_with_min[12])"
   ]
  },
  {
   "cell_type": "code",
   "execution_count": 5,
   "id": "07117090",
   "metadata": {},
   "outputs": [
    {
     "data": {
      "text/plain": [
       "make_Cmod (generic function with 1 method)"
      ]
     },
     "execution_count": 5,
     "metadata": {},
     "output_type": "execute_result"
    }
   ],
   "source": [
    "function make_Cmod(m, model)\n",
    "    T = ForwardDiff.jacobian(model, zeros(m))\n",
    "    return T * T'\n",
    "end"
   ]
  },
  {
   "cell_type": "markdown",
   "metadata": {},
   "source": [
    "## Data"
   ]
  },
  {
   "cell_type": "code",
   "execution_count": 6,
   "id": "69e20555",
   "metadata": {},
   "outputs": [
    {
     "name": "stdout",
     "output_type": "stream",
     "text": [
      "lens_0 lens_0 6\n",
      "lens_1 lens_1 7\n",
      "lens_2 lens_2 8\n",
      "lens_3 lens_3 9\n",
      "lens_4 lens_4 9\n",
      "using custom nz for nz_lens_0\n",
      "using custom nz for nz_lens_1\n",
      "using custom nz for nz_lens_2\n",
      "using custom nz for nz_lens_3\n",
      "using custom nz for nz_lens_4\n"
     ]
    }
   ],
   "source": [
    "method = \"sompz\" # \"bpz\" or \"sompz\"\n",
    "sacc_path = \"../data/CosmoDC2/summary_statistics_fourier_tjpcov.sacc\"\n",
    "yaml_path = \"../data/CosmoDC2/gcgc.yml\"\n",
    "nz_path = string(\"../data/CosmoDC2/image_dz_\", method, \"_priors/\")\n",
    "\n",
    "sacc_file = sacc.Sacc().load_fits(sacc_path)\n",
    "yaml_file = YAML.load_file(yaml_path)\n",
    "\n",
    "nz_lens_0 = npzread(string(nz_path, \"dz_lens_0.npz\"))\n",
    "nz_lens_1 = npzread(string(nz_path, \"dz_lens_1.npz\"))\n",
    "nz_lens_2 = npzread(string(nz_path, \"dz_lens_2.npz\"))\n",
    "nz_lens_3 = npzread(string(nz_path, \"dz_lens_3.npz\"))\n",
    "nz_lens_4 = npzread(string(nz_path, \"dz_lens_4.npz\"))\n",
    "\n",
    "meta, files = make_data(sacc_file, yaml_file;\n",
    "    nz_lens_0=nz_lens_0,\n",
    "    nz_lens_1=nz_lens_1,\n",
    "    nz_lens_2=nz_lens_2,\n",
    "    nz_lens_3=nz_lens_3,\n",
    "    nz_lens_4=nz_lens_4)\n",
    "\n",
    "meta.types = [ \n",
    "    \"galaxy_density\",\n",
    "    \"galaxy_density\",\n",
    "    \"galaxy_density\",\n",
    "    \"galaxy_density\",\n",
    "    \"galaxy_density\"];"
   ]
  },
  {
   "cell_type": "markdown",
   "id": "197767da",
   "metadata": {},
   "source": [
    "## dZ"
   ]
  },
  {
   "cell_type": "code",
   "execution_count": 7,
   "id": "ac4483a7",
   "metadata": {},
   "outputs": [],
   "source": [
    "nz_path = string(\"../data/CosmoDC2/image_dz_\", method, \"_priors/\")\n",
    "nz_lens_0 = npzread(string(nz_path, \"dz_lens_0.npz\"))\n",
    "nz_lens_1 = npzread(string(nz_path, \"dz_lens_1.npz\"))\n",
    "nz_lens_2 = npzread(string(nz_path, \"dz_lens_2.npz\"))\n",
    "nz_lens_3 = npzread(string(nz_path, \"dz_lens_3.npz\"))\n",
    "nz_lens_4 = npzread(string(nz_path, \"dz_lens_4.npz\"))\n",
    "zs_k0, nz_k0 = nz_lens_0[\"z\"], nz_lens_0[\"dndz\"]\n",
    "zs_k1, nz_k1 = nz_lens_1[\"z\"], nz_lens_1[\"dndz\"]\n",
    "zs_k2, nz_k2 = nz_lens_2[\"z\"], nz_lens_2[\"dndz\"]\n",
    "zs_k3, nz_k3 = nz_lens_3[\"z\"], nz_lens_3[\"dndz\"]\n",
    "zs_k4, nz_k4 = nz_lens_4[\"z\"], nz_lens_4[\"dndz\"]\n",
    "chol_lens_0 = nz_lens_0[\"chol\"]\n",
    "chol_lens_1 = nz_lens_1[\"chol\"]\n",
    "chol_lens_2 = nz_lens_2[\"chol\"]\n",
    "chol_lens_3 = nz_lens_3[\"chol\"]\n",
    "chol_lens_4 = nz_lens_4[\"chol\"];"
   ]
  },
  {
   "cell_type": "code",
   "execution_count": 8,
   "id": "a6215897",
   "metadata": {},
   "outputs": [],
   "source": [
    "function model_dz(alphas; \n",
    "    Ωm=0.27347, σ8=0.779007, Ωb=0.04217, h=0.71899, ns=0.99651,\n",
    "    lens_0_b=0.879118, \n",
    "    lens_1_b=1.05894, \n",
    "    lens_2_b=1.22145, \n",
    "    lens_3_b=1.35065, \n",
    "    lens_4_b=1.58909,\n",
    "    meta=meta, files=files)\n",
    "\n",
    "    dz_lens_0 = chol_lens_0 * alphas[1]\n",
    "    dz_lens_1 = chol_lens_1 * alphas[2]\n",
    "    dz_lens_2 = chol_lens_2 * alphas[3]\n",
    "    dz_lens_3 = chol_lens_3 * alphas[4]\n",
    "    dz_lens_4 = chol_lens_4 * alphas[5]\n",
    "\n",
    "    lens_0_zs   = @.(zs_k0 + dz_lens_0)\n",
    "    lens_1_zs   = @.(zs_k1 + dz_lens_1)\n",
    "    lens_2_zs   = @.(zs_k2 + dz_lens_2)\n",
    "    lens_3_zs   = @.(zs_k3 + dz_lens_3)\n",
    "    lens_4_zs   = @.(zs_k4 + dz_lens_4)\n",
    "\n",
    "    nuisances = Dict(\n",
    "    \"lens_0_b\"    => lens_0_b,\n",
    "    \"lens_1_b\"    => lens_1_b,\n",
    "    \"lens_2_b\"    => lens_2_b,\n",
    "    \"lens_3_b\"    => lens_3_b,\n",
    "    \"lens_4_b\"    => lens_4_b,\n",
    "    \"lens_0_zs\"   => lens_0_zs,\n",
    "    \"lens_1_zs\"   => lens_1_zs,\n",
    "    \"lens_2_zs\"   => lens_2_zs,\n",
    "    \"lens_3_zs\"   => lens_3_zs,\n",
    "    \"lens_4_zs\"   => lens_4_zs)\n",
    "        \n",
    "    cosmo = Cosmology(Ωm=Ωm, Ωb=Ωb, h=h, ns=ns, σ8=σ8,\n",
    "        tk_mode=:EisHu,\n",
    "        pk_mode=:Halofit)\n",
    "\n",
    "    cosmo.settings.cosmo_type = eltype(valtype(alphas))\n",
    "    return Theory(cosmo, meta, files; Nuisances=nuisances)\n",
    "end;"
   ]
  },
  {
   "cell_type": "code",
   "execution_count": 9,
   "id": "f1afeda2",
   "metadata": {},
   "outputs": [],
   "source": [
    "Cmod_dz = make_Cmod(10, model_dz);"
   ]
  },
  {
   "cell_type": "markdown",
   "id": "e22b75b0",
   "metadata": {},
   "source": [
    "## wzdz"
   ]
  },
  {
   "cell_type": "code",
   "execution_count": 10,
   "id": "e7be8345",
   "metadata": {},
   "outputs": [],
   "source": [
    "nz_path = string(\"../data/CosmoDC2/image_wzdz_\", method, \"_priors/\")\n",
    "nz_lens_0 = npzread(string(nz_path, \"wzdz_lens_0.npz\"))\n",
    "nz_lens_1 = npzread(string(nz_path, \"wzdz_lens_1.npz\"))\n",
    "nz_lens_2 = npzread(string(nz_path, \"wzdz_lens_2.npz\"))\n",
    "nz_lens_3 = npzread(string(nz_path, \"wzdz_lens_3.npz\"))\n",
    "nz_lens_4 = npzread(string(nz_path, \"wzdz_lens_4.npz\"))\n",
    "\n",
    "zs_k0, nz_k0 = nz_lens_0[\"z\"], nz_lens_0[\"dndz\"]\n",
    "zs_k1, nz_k1 = nz_lens_1[\"z\"], nz_lens_1[\"dndz\"]\n",
    "zs_k2, nz_k2 = nz_lens_2[\"z\"], nz_lens_2[\"dndz\"]\n",
    "zs_k3, nz_k3 = nz_lens_3[\"z\"], nz_lens_3[\"dndz\"]\n",
    "zs_k4, nz_k4 = nz_lens_4[\"z\"], nz_lens_4[\"dndz\"]\n",
    "\n",
    "mu_k0 = sum(zs_k0 .* nz_k0) / sum(nz_k0)\n",
    "mu_k1 = sum(zs_k1 .* nz_k1) / sum(nz_k1)\n",
    "mu_k2 = sum(zs_k2 .* nz_k2) / sum(nz_k2)\n",
    "mu_k3 = sum(zs_k3 .* nz_k3) / sum(nz_k3)\n",
    "mu_k4 = sum(zs_k4 .* nz_k4) / sum(nz_k4)\n",
    "\n",
    "chol_lens_0 = nz_lens_0[\"chol\"]\n",
    "chol_lens_1 = nz_lens_1[\"chol\"]\n",
    "chol_lens_2 = nz_lens_2[\"chol\"]\n",
    "chol_lens_3 = nz_lens_3[\"chol\"]\n",
    "chol_lens_4 = nz_lens_4[\"chol\"];"
   ]
  },
  {
   "cell_type": "code",
   "execution_count": 11,
   "id": "f53abe3b",
   "metadata": {},
   "outputs": [],
   "source": [
    "function model_wzdz(alphas; \n",
    "    Ωm=0.27347, σ8=0.779007, Ωb=0.04217, h=0.71899, ns=0.99651,\n",
    "    lens_0_b=0.879118, \n",
    "    lens_1_b=1.05894, \n",
    "    lens_2_b=1.22145, \n",
    "    lens_3_b=1.35065, \n",
    "    lens_4_b=1.58909,\n",
    "    meta=meta, files=files)\n",
    "\n",
    "    snw_lens_0 = chol_lens_0 * alphas[1:2]\n",
    "    dz_lens_0 = snw_lens_0[1]\n",
    "    wz_lens_0 = 1 + snw_lens_0[2]\n",
    "\n",
    "    snw_lens_1 = chol_lens_1 * alphas[3:4]\n",
    "    dz_lens_1 = snw_lens_1[1]\n",
    "    wz_lens_1 = 1 + snw_lens_1[2]\n",
    "\n",
    "    snw_lens_2 = chol_lens_2 * alphas[5:6]\n",
    "    dz_lens_2 = snw_lens_2[1]\n",
    "    wz_lens_2 = 1 + snw_lens_2[2]\n",
    "\n",
    "    snw_lens_3 = chol_lens_3 * alphas[7:8]\n",
    "    dz_lens_3 = snw_lens_3[1]\n",
    "    wz_lens_3 = 1 + snw_lens_3[2]\n",
    "\n",
    "    snw_lens_4 = chol_lens_4 * alphas[9:10]\n",
    "    dz_lens_4 = snw_lens_4[1]\n",
    "    wz_lens_4 = 1 + snw_lens_4[2]\n",
    "\n",
    "    lens_0_zs   = @.((zs_k0-mu_k0)/wz_lens_0 + dz_lens_0/wz_lens_0 + mu_k0)\n",
    "    lens_1_zs   = @.((zs_k1-mu_k1)/wz_lens_1 + dz_lens_1/wz_lens_1 + mu_k1)\n",
    "    lens_2_zs   = @.((zs_k2-mu_k2)/wz_lens_2 + dz_lens_2/wz_lens_2 + mu_k2)\n",
    "    lens_3_zs   = @.((zs_k3-mu_k3)/wz_lens_3 + dz_lens_3/wz_lens_3 + mu_k3)\n",
    "    lens_4_zs   = @.((zs_k4-mu_k4)/wz_lens_4 + dz_lens_4/wz_lens_4 + mu_k4)\n",
    "\n",
    "    nuisances = Dict(\n",
    "        \"lens_0_b\"    => lens_0_b,\n",
    "        \"lens_1_b\"    => lens_1_b,\n",
    "        \"lens_2_b\"    => lens_2_b,\n",
    "        \"lens_3_b\"    => lens_3_b,\n",
    "        \"lens_4_b\"    => lens_4_b,\n",
    "        \"lens_0_zs\"   => lens_0_zs,\n",
    "        \"lens_1_zs\"   => lens_1_zs,\n",
    "        \"lens_2_zs\"   => lens_2_zs,\n",
    "        \"lens_3_zs\"   => lens_3_zs,\n",
    "        \"lens_4_zs\"   => lens_4_zs)\n",
    "        \n",
    "    cosmo = Cosmology(Ωm=Ωm, Ωb=Ωb, h=h, ns=ns, σ8=σ8,\n",
    "        tk_mode=:EisHu,\n",
    "        pk_mode=:Halofit)\n",
    "\n",
    "    cosmo.settings.cosmo_type = eltype(valtype(alphas))\n",
    "    return Theory(cosmo, meta, files; Nuisances=nuisances)\n",
    "end;"
   ]
  },
  {
   "cell_type": "code",
   "execution_count": 12,
   "id": "04a97087",
   "metadata": {},
   "outputs": [],
   "source": [
    "Cmod_wzdz = make_Cmod(20, model_wzdz);"
   ]
  },
  {
   "cell_type": "markdown",
   "id": "a9018bf5",
   "metadata": {},
   "source": [
    "## PCA"
   ]
  },
  {
   "cell_type": "code",
   "execution_count": 13,
   "id": "af80c968",
   "metadata": {},
   "outputs": [],
   "source": [
    "nz_path = string(\"../data/CosmoDC2/image_PCA_\", method, \"_priors/\")\n",
    "nz_lens_0 = npzread(string(nz_path, \"PCA_lens_0.npz\"))\n",
    "nz_lens_1 = npzread(string(nz_path, \"PCA_lens_1.npz\"))\n",
    "nz_lens_2 = npzread(string(nz_path, \"PCA_lens_2.npz\"))\n",
    "nz_lens_3 = npzread(string(nz_path, \"PCA_lens_3.npz\"))\n",
    "nz_lens_4 = npzread(string(nz_path, \"PCA_lens_4.npz\"))\n",
    "zs_k0, nz_k0 = nz_lens_0[\"z\"], nz_lens_0[\"dndz\"]\n",
    "zs_k1, nz_k1 = nz_lens_1[\"z\"], nz_lens_1[\"dndz\"]\n",
    "zs_k2, nz_k2 = nz_lens_2[\"z\"], nz_lens_2[\"dndz\"]\n",
    "zs_k3, nz_k3 = nz_lens_3[\"z\"], nz_lens_3[\"dndz\"]\n",
    "zs_k4, nz_k4 = nz_lens_4[\"z\"], nz_lens_4[\"dndz\"]\n",
    "W_lens_0 = nz_lens_0[\"W\"]\n",
    "W_lens_1 = nz_lens_1[\"W\"]\n",
    "W_lens_2 = nz_lens_2[\"W\"]\n",
    "W_lens_3 = nz_lens_3[\"W\"]\n",
    "W_lens_4 = nz_lens_4[\"W\"];"
   ]
  },
  {
   "cell_type": "code",
   "execution_count": 14,
   "metadata": {},
   "outputs": [],
   "source": [
    "function model_pca(alphas; \n",
    "    Ωm=0.27347, σ8=0.779007, Ωb=0.04217, h=0.71899, ns=0.99651,\n",
    "    lens_0_b=0.879118, \n",
    "    lens_1_b=1.05894, \n",
    "    lens_2_b=1.22145, \n",
    "    lens_3_b=1.35065, \n",
    "    lens_4_b=1.58909,\n",
    "    meta=meta, files=files)\n",
    "\n",
    "    nz_lens_0 = nz_k0 + W_lens_0 * alphas[1:5]\n",
    "    nz_lens_1 = nz_k1 + W_lens_1 * alphas[6:10]\n",
    "    nz_lens_2 = nz_k2 + W_lens_2 * alphas[11:15]\n",
    "    nz_lens_3 = nz_k3 + W_lens_3 * alphas[16:20]\n",
    "    nz_lens_4 = nz_k4 + W_lens_4 * alphas[21:25]\n",
    "\n",
    "    nuisances = Dict(\n",
    "        \"lens_0_b\"    => lens_0_b,\n",
    "        \"lens_1_b\"    => lens_1_b,\n",
    "        \"lens_2_b\"    => lens_2_b,\n",
    "        \"lens_3_b\"    => lens_3_b,\n",
    "        \"lens_4_b\"    => lens_4_b,\n",
    "        \"lens_0_nz\"   => nz_lens_0,\n",
    "        \"lens_1_nz\"   => nz_lens_1,\n",
    "        \"lens_2_nz\"   => nz_lens_2,\n",
    "        \"lens_3_nz\"   => nz_lens_3,\n",
    "        \"lens_4_nz\"   => nz_lens_4)\n",
    "        \n",
    "    cosmo = Cosmology(Ωm=Ωm, Ωb=Ωb, h=h, ns=ns, σ8=σ8,\n",
    "        tk_mode=:EisHu,\n",
    "        pk_mode=:Halofit)\n",
    "\n",
    "    cosmo.settings.cosmo_type = eltype(valtype(alphas))\n",
    "    return Theory(cosmo, meta, files; Nuisances=nuisances)\n",
    "end;"
   ]
  },
  {
   "cell_type": "code",
   "execution_count": 15,
   "id": "a60a2d10",
   "metadata": {},
   "outputs": [],
   "source": [
    "Cmod_pca = make_Cmod(50, model_pca);"
   ]
  },
  {
   "cell_type": "markdown",
   "id": "b15a3fc0",
   "metadata": {},
   "source": [
    "## GP"
   ]
  },
  {
   "cell_type": "code",
   "execution_count": 16,
   "id": "b6085804",
   "metadata": {},
   "outputs": [],
   "source": [
    "nz_path = string(\"../data/CosmoDC2/image_gp_\", method, \"_priors/\")\n",
    "\n",
    "nz_lens_0 = npzread(string(nz_path, \"gp_lens_0.npz\"))\n",
    "nz_lens_1 = npzread(string(nz_path, \"gp_lens_1.npz\"))\n",
    "nz_lens_2 = npzread(string(nz_path, \"gp_lens_2.npz\"))\n",
    "nz_lens_3 = npzread(string(nz_path, \"gp_lens_3.npz\"))\n",
    "nz_lens_4 = npzread(string(nz_path, \"gp_lens_4.npz\"))\n",
    "zs_k0, nz_k0 = nz_lens_0[\"z\"], nz_lens_0[\"dndz\"]\n",
    "zs_k1, nz_k1 = nz_lens_1[\"z\"], nz_lens_1[\"dndz\"]\n",
    "zs_k2, nz_k2 = nz_lens_2[\"z\"], nz_lens_2[\"dndz\"]\n",
    "zs_k3, nz_k3 = nz_lens_3[\"z\"], nz_lens_3[\"dndz\"]\n",
    "zs_k4, nz_k4 = nz_lens_4[\"z\"], nz_lens_4[\"dndz\"]\n",
    "W_lens_0 = nz_lens_0[\"W\"]\n",
    "W_lens_1 = nz_lens_1[\"W\"]\n",
    "W_lens_2 = nz_lens_2[\"W\"]\n",
    "W_lens_3 = nz_lens_3[\"W\"]\n",
    "W_lens_4 = nz_lens_4[\"W\"];\n"
   ]
  },
  {
   "cell_type": "code",
   "execution_count": 17,
   "id": "ba20d3ae",
   "metadata": {},
   "outputs": [],
   "source": [
    "function nz_itp(q, nq, z)\n",
    "    dq = mean(q[2:end] - q[1:end-1])\n",
    "    q_range = q[1]:dq:q[end]\n",
    "    nz_int = cubic_spline_interpolation(q_range, nq;\n",
    "        extrapolation_bc=Line())\n",
    "    return nz_int(z)\n",
    "end\n",
    "\n",
    "function model_gp(alphas; \n",
    "    Ωm=0.27347, σ8=0.779007, Ωb=0.04217, h=0.71899, ns=0.99651,\n",
    "    lens_0_b=0.879118, \n",
    "    lens_1_b=1.05894, \n",
    "    lens_2_b=1.22145, \n",
    "    lens_3_b=1.35065, \n",
    "    lens_4_b=1.58909,\n",
    "    meta=meta, files=files)\n",
    "\n",
    "    nz_lens_0 = nz_k0 + W_lens_0 * alphas[1:5]\n",
    "    nz_lens_1 = nz_k1 + W_lens_1 * alphas[6:10]\n",
    "    nz_lens_2 = nz_k2 + W_lens_2 * alphas[11:15]\n",
    "    nz_lens_3 = nz_k3 + W_lens_3 * alphas[16:20]\n",
    "    nz_lens_4 = nz_k4 + W_lens_4 * alphas[21:25]\n",
    "\n",
    "    nuisances = Dict(\n",
    "        \"lens_0_b\"    => lens_0_b,\n",
    "        \"lens_1_b\"    => lens_1_b,\n",
    "        \"lens_2_b\"    => lens_2_b,\n",
    "        \"lens_3_b\"    => lens_3_b,\n",
    "        \"lens_4_b\"    => lens_4_b,\n",
    "        \"lens_0_nz\"   => nz_lens_0,\n",
    "        \"lens_1_nz\"   => nz_lens_1,\n",
    "        \"lens_2_nz\"   => nz_lens_2,\n",
    "        \"lens_3_nz\"   => nz_lens_3,\n",
    "        \"lens_4_nz\"   => nz_lens_4)\n",
    "        \n",
    "    cosmo = Cosmology(Ωm=Ωm, Ωb=Ωb, h=h, ns=ns, σ8=σ8,\n",
    "        tk_mode=:EisHu,\n",
    "        pk_mode=:Halofit)\n",
    "\n",
    "    cosmo.settings.cosmo_type = eltype(valtype(alphas))\n",
    "    return Theory(cosmo, meta, files; Nuisances=nuisances)\n",
    "end;"
   ]
  },
  {
   "cell_type": "code",
   "execution_count": 18,
   "id": "af8dc9ad",
   "metadata": {},
   "outputs": [],
   "source": [
    "Cmod_gp = make_Cmod(50, model_gp);"
   ]
  },
  {
   "cell_type": "markdown",
   "id": "0477d696",
   "metadata": {},
   "source": [
    "# Comp"
   ]
  },
  {
   "cell_type": "code",
   "execution_count": 19,
   "id": "89afb751",
   "metadata": {},
   "outputs": [
    {
     "name": "stdout",
     "output_type": "stream",
     "text": [
      "[-4.629218248413557, -4.199843772196671, -3.776012924973161, -3.423640193890494, -3.087550266437952, -2.7992101738402715, -4.469265110314675, -3.986922489043431, -3.6076172971788023, -3.247663383547557, -2.7962111141589694, -2.56005730554303, -2.195713214905693, -4.542110737587637, -3.992998325421771, -3.6717296192406645, -3.327868707885658, -2.9454372490108867, -2.625636628972352, -2.339962140397333, -2.0048237295405307, -4.615304146410716, -4.016415314954935, -3.7030652243572533, -3.288443264524764, -2.895173029343803, -2.613720658095165, -2.1884733948329487, -1.968329007636488, -1.6284419043659044, -3.9443512889827494, -3.530065528534418, -3.0744427811015256, -2.7537722795298634, -2.261613489049407, -1.9699805831294466, -1.590039807952222, -1.1671406791500907, -0.8934725535867967]"
     ]
    }
   ],
   "source": [
    "print(log10.(diag(Cmod_wzdz) ./ diag(meta.cov)))"
   ]
  },
  {
   "cell_type": "code",
   "execution_count": 20,
   "id": "c0b52321",
   "metadata": {},
   "outputs": [
    {
     "data": {
      "image/png": "[encoded data removed]",
      "image/svg+xml": [
       "<?xml version=\"1.0\" encoding=\"utf-8\"?>\n",
       "<svg xmlns=\"http://www.w3.org/2000/svg\" xmlns:xlink=\"http://www.w3.org/1999/xlink\" width=\"600\" height=\"400\" viewBox=\"0 0 2400 1600\">\n",
       "<defs>\n",
       "  <clipPath id=\"clip870\">\n",
       "    <rect x=\"0\" y=\"0\" width=\"2400\" height=\"1600\"/>\n",
       "  </clipPath>\n",
       "</defs>\n",
       "<path clip-path=\"url(#clip870)\" d=\"M0 1600 L2400 1600 L2400 0 L0 0  Z\" fill=\"#ffffff\" fill-rule=\"evenodd\" fill-opacity=\"1\"/>\n",
       "<defs>\n",
       "  <clipPath id=\"clip871\">\n",
       "    <rect x=\"480\" y=\"0\" width=\"1681\" height=\"1600\"/>\n",
       "  </clipPath>\n",
       "</defs>\n",
       "<path clip-path=\"url(#clip870)\" d=\"M189.233 1486.45 L2352.76 1486.45 L2352.76 123.472 L189.233 123.472  Z\" fill=\"#ffffff\" fill-rule=\"evenodd\" fill-opacity=\"1\"/>\n",
       "<defs>\n",
       "  <clipPath id=\"clip872\">\n",
       "    <rect x=\"189\" y=\"123\" width=\"2165\" height=\"1364\"/>\n",
       "  </clipPath>\n",
       "</defs>\n",
       "<polyline clip-path=\"url(#clip872)\" style=\"stroke:#000000; stroke-linecap:round; stroke-linejoin:round; stroke-width:2; stroke-opacity:0.1; fill:none\" points=\"196.752,1486.45 196.752,123.472 \"/>\n",
       "<polyline clip-path=\"url(#clip872)\" style=\"stroke:#000000; stroke-linecap:round; stroke-linejoin:round; stroke-width:2; stroke-opacity:0.1; fill:none\" points=\"733.873,1486.45 733.873,123.472 \"/>\n",
       "<polyline clip-path=\"url(#clip872)\" style=\"stroke:#000000; stroke-linecap:round; stroke-linejoin:round; stroke-width:2; stroke-opacity:0.1; fill:none\" points=\"1270.99,1486.45 1270.99,123.472 \"/>\n",
       "<polyline clip-path=\"url(#clip872)\" style=\"stroke:#000000; stroke-linecap:round; stroke-linejoin:round; stroke-width:2; stroke-opacity:0.1; fill:none\" points=\"1808.12,1486.45 1808.12,123.472 \"/>\n",
       "<polyline clip-path=\"url(#clip872)\" style=\"stroke:#000000; stroke-linecap:round; stroke-linejoin:round; stroke-width:2; stroke-opacity:0.1; fill:none\" points=\"2345.24,1486.45 2345.24,123.472 \"/>\n",
       "<polyline clip-path=\"url(#clip872)\" style=\"stroke:#000000; stroke-linecap:round; stroke-linejoin:round; stroke-width:2; stroke-opacity:0.1; fill:none\" points=\"189.233,1120.96 2352.76,1120.96 \"/>\n",
       "<polyline clip-path=\"url(#clip872)\" style=\"stroke:#000000; stroke-linecap:round; stroke-linejoin:round; stroke-width:2; stroke-opacity:0.1; fill:none\" points=\"189.233,577.863 2352.76,577.863 \"/>\n",
       "<polyline clip-path=\"url(#clip870)\" style=\"stroke:#000000; stroke-linecap:round; stroke-linejoin:round; stroke-width:4; stroke-opacity:1; fill:none\" points=\"189.233,1486.45 2352.76,1486.45 \"/>\n",
       "<polyline clip-path=\"url(#clip870)\" style=\"stroke:#000000; stroke-linecap:round; stroke-linejoin:round; stroke-width:4; stroke-opacity:1; fill:none\" points=\"196.752,1486.45 196.752,1467.55 \"/>\n",
       "<polyline clip-path=\"url(#clip870)\" style=\"stroke:#000000; stroke-linecap:round; stroke-linejoin:round; stroke-width:4; stroke-opacity:1; fill:none\" points=\"733.873,1486.45 733.873,1467.55 \"/>\n",
       "<polyline clip-path=\"url(#clip870)\" style=\"stroke:#000000; stroke-linecap:round; stroke-linejoin:round; stroke-width:4; stroke-opacity:1; fill:none\" points=\"1270.99,1486.45 1270.99,1467.55 \"/>\n",
       "<polyline clip-path=\"url(#clip870)\" style=\"stroke:#000000; stroke-linecap:round; stroke-linejoin:round; stroke-width:4; stroke-opacity:1; fill:none\" points=\"1808.12,1486.45 1808.12,1467.55 \"/>\n",
       "<polyline clip-path=\"url(#clip870)\" style=\"stroke:#000000; stroke-linecap:round; stroke-linejoin:round; stroke-width:4; stroke-opacity:1; fill:none\" points=\"2345.24,1486.45 2345.24,1467.55 \"/>\n",
       "<path clip-path=\"url(#clip870)\" d=\"M196.752 1517.37 Q193.141 1517.37 191.313 1520.93 Q189.507 1524.47 189.507 1531.6 Q189.507 1538.71 191.313 1542.27 Q193.141 1545.82 196.752 1545.82 Q200.387 1545.82 202.192 1542.27 Q204.021 1538.71 204.021 1531.6 Q204.021 1524.47 202.192 1520.93 Q200.387 1517.37 196.752 1517.37 M196.752 1513.66 Q202.562 1513.66 205.618 1518.27 Q208.697 1522.85 208.697 1531.6 Q208.697 1540.33 205.618 1544.94 Q202.562 1549.52 196.752 1549.52 Q190.942 1549.52 187.863 1544.94 Q184.808 1540.33 184.808 1531.6 Q184.808 1522.85 187.863 1518.27 Q190.942 1513.66 196.752 1513.66 Z\" fill=\"#000000\" fill-rule=\"nonzero\" fill-opacity=\"1\" /><path clip-path=\"url(#clip870)\" d=\"M708.561 1544.91 L716.2 1544.91 L716.2 1518.55 L707.89 1520.21 L707.89 1515.95 L716.153 1514.29 L720.829 1514.29 L720.829 1544.91 L728.468 1544.91 L728.468 1548.85 L708.561 1548.85 L708.561 1544.91 Z\" fill=\"#000000\" fill-rule=\"nonzero\" fill-opacity=\"1\" /><path clip-path=\"url(#clip870)\" d=\"M747.913 1517.37 Q744.301 1517.37 742.473 1520.93 Q740.667 1524.47 740.667 1531.6 Q740.667 1538.71 742.473 1542.27 Q744.301 1545.82 747.913 1545.82 Q751.547 1545.82 753.352 1542.27 Q755.181 1538.71 755.181 1531.6 Q755.181 1524.47 753.352 1520.93 Q751.547 1517.37 747.913 1517.37 M747.913 1513.66 Q753.723 1513.66 756.778 1518.27 Q759.857 1522.85 759.857 1531.6 Q759.857 1540.33 756.778 1544.94 Q753.723 1549.52 747.913 1549.52 Q742.102 1549.52 739.024 1544.94 Q735.968 1540.33 735.968 1531.6 Q735.968 1522.85 739.024 1518.27 Q742.102 1513.66 747.913 1513.66 Z\" fill=\"#000000\" fill-rule=\"nonzero\" fill-opacity=\"1\" /><path clip-path=\"url(#clip870)\" d=\"M1249.77 1544.91 L1266.09 1544.91 L1266.09 1548.85 L1244.14 1548.85 L1244.14 1544.91 Q1246.8 1542.16 1251.39 1537.53 Q1255.99 1532.88 1257.17 1531.53 Q1259.42 1529.01 1260.3 1527.27 Q1261.2 1525.51 1261.2 1523.82 Q1261.2 1521.07 1259.26 1519.33 Q1257.34 1517.6 1254.24 1517.6 Q1252.04 1517.6 1249.58 1518.36 Q1247.15 1519.13 1244.37 1520.68 L1244.37 1515.95 Q1247.2 1514.82 1249.65 1514.24 Q1252.11 1513.66 1254.14 1513.66 Q1259.51 1513.66 1262.71 1516.35 Q1265.9 1519.03 1265.9 1523.52 Q1265.9 1525.65 1265.09 1527.57 Q1264.3 1529.47 1262.2 1532.07 Q1261.62 1532.74 1258.52 1535.95 Q1255.42 1539.15 1249.77 1544.91 Z\" fill=\"#000000\" fill-rule=\"nonzero\" fill-opacity=\"1\" /><path clip-path=\"url(#clip870)\" d=\"M1285.9 1517.37 Q1282.29 1517.37 1280.46 1520.93 Q1278.66 1524.47 1278.66 1531.6 Q1278.66 1538.71 1280.46 1542.27 Q1282.29 1545.82 1285.9 1545.82 Q1289.54 1545.82 1291.34 1542.27 Q1293.17 1538.71 1293.17 1531.6 Q1293.17 1524.47 1291.34 1520.93 Q1289.54 1517.37 1285.9 1517.37 M1285.9 1513.66 Q1291.71 1513.66 1294.77 1518.27 Q1297.85 1522.85 1297.85 1531.6 Q1297.85 1540.33 1294.77 1544.94 Q1291.71 1549.52 1285.9 1549.52 Q1280.09 1549.52 1277.01 1544.94 Q1273.96 1540.33 1273.96 1531.6 Q1273.96 1522.85 1277.01 1518.27 Q1280.09 1513.66 1285.9 1513.66 Z\" fill=\"#000000\" fill-rule=\"nonzero\" fill-opacity=\"1\" /><path clip-path=\"url(#clip870)\" d=\"M1796.96 1530.21 Q1800.31 1530.93 1802.19 1533.2 Q1804.09 1535.47 1804.09 1538.8 Q1804.09 1543.92 1800.57 1546.72 Q1797.05 1549.52 1790.57 1549.52 Q1788.39 1549.52 1786.08 1549.08 Q1783.79 1548.66 1781.33 1547.81 L1781.33 1543.29 Q1783.28 1544.43 1785.59 1545.01 Q1787.91 1545.58 1790.43 1545.58 Q1794.83 1545.58 1797.12 1543.85 Q1799.43 1542.11 1799.43 1538.8 Q1799.43 1535.75 1797.28 1534.03 Q1795.15 1532.3 1791.33 1532.3 L1787.31 1532.3 L1787.31 1528.45 L1791.52 1528.45 Q1794.97 1528.45 1796.8 1527.09 Q1798.62 1525.7 1798.62 1523.11 Q1798.62 1520.45 1796.73 1519.03 Q1794.85 1517.6 1791.33 1517.6 Q1789.41 1517.6 1787.21 1518.01 Q1785.01 1518.43 1782.37 1519.31 L1782.37 1515.14 Q1785.04 1514.4 1787.35 1514.03 Q1789.69 1513.66 1791.75 1513.66 Q1797.07 1513.66 1800.18 1516.09 Q1803.28 1518.5 1803.28 1522.62 Q1803.28 1525.49 1801.63 1527.48 Q1799.99 1529.45 1796.96 1530.21 Z\" fill=\"#000000\" fill-rule=\"nonzero\" fill-opacity=\"1\" /><path clip-path=\"url(#clip870)\" d=\"M1822.95 1517.37 Q1819.34 1517.37 1817.51 1520.93 Q1815.71 1524.47 1815.71 1531.6 Q1815.71 1538.71 1817.51 1542.27 Q1819.34 1545.82 1822.95 1545.82 Q1826.59 1545.82 1828.39 1542.27 Q1830.22 1538.71 1830.22 1531.6 Q1830.22 1524.47 1828.39 1520.93 Q1826.59 1517.37 1822.95 1517.37 M1822.95 1513.66 Q1828.76 1513.66 1831.82 1518.27 Q1834.9 1522.85 1834.9 1531.6 Q1834.9 1540.33 1831.82 1544.94 Q1828.76 1549.52 1822.95 1549.52 Q1817.14 1549.52 1814.06 1544.94 Q1811.01 1540.33 1811.01 1531.6 Q1811.01 1522.85 1814.06 1518.27 Q1817.14 1513.66 1822.95 1513.66 Z\" fill=\"#000000\" fill-rule=\"nonzero\" fill-opacity=\"1\" /><path clip-path=\"url(#clip870)\" d=\"M2333.41 1518.36 L2321.6 1536.81 L2333.41 1536.81 L2333.41 1518.36 M2332.18 1514.29 L2338.06 1514.29 L2338.06 1536.81 L2342.99 1536.81 L2342.99 1540.7 L2338.06 1540.7 L2338.06 1548.85 L2333.41 1548.85 L2333.41 1540.7 L2317.81 1540.7 L2317.81 1536.19 L2332.18 1514.29 Z\" fill=\"#000000\" fill-rule=\"nonzero\" fill-opacity=\"1\" /><path clip-path=\"url(#clip870)\" d=\"M2360.72 1517.37 Q2357.11 1517.37 2355.28 1520.93 Q2353.48 1524.47 2353.48 1531.6 Q2353.48 1538.71 2355.28 1542.27 Q2357.11 1545.82 2360.72 1545.82 Q2364.36 1545.82 2366.16 1542.27 Q2367.99 1538.71 2367.99 1531.6 Q2367.99 1524.47 2366.16 1520.93 Q2364.36 1517.37 2360.72 1517.37 M2360.72 1513.66 Q2366.53 1513.66 2369.59 1518.27 Q2372.67 1522.85 2372.67 1531.6 Q2372.67 1540.33 2369.59 1544.94 Q2366.53 1549.52 2360.72 1549.52 Q2354.91 1549.52 2351.83 1544.94 Q2348.78 1540.33 2348.78 1531.6 Q2348.78 1522.85 2351.83 1518.27 Q2354.91 1513.66 2360.72 1513.66 Z\" fill=\"#000000\" fill-rule=\"nonzero\" fill-opacity=\"1\" /><polyline clip-path=\"url(#clip870)\" style=\"stroke:#000000; stroke-linecap:round; stroke-linejoin:round; stroke-width:4; stroke-opacity:1; fill:none\" points=\"189.233,1486.45 189.233,123.472 \"/>\n",
       "<polyline clip-path=\"url(#clip870)\" style=\"stroke:#000000; stroke-linecap:round; stroke-linejoin:round; stroke-width:4; stroke-opacity:1; fill:none\" points=\"189.233,1120.96 208.13,1120.96 \"/>\n",
       "<polyline clip-path=\"url(#clip870)\" style=\"stroke:#000000; stroke-linecap:round; stroke-linejoin:round; stroke-width:4; stroke-opacity:1; fill:none\" points=\"189.233,577.863 208.13,577.863 \"/>\n",
       "<path clip-path=\"url(#clip870)\" d=\"M51.6634 1140.75 L59.3023 1140.75 L59.3023 1114.38 L50.9921 1116.05 L50.9921 1111.79 L59.256 1110.12 L63.9319 1110.12 L63.9319 1140.75 L71.5707 1140.75 L71.5707 1144.68 L51.6634 1144.68 L51.6634 1140.75 Z\" fill=\"#000000\" fill-rule=\"nonzero\" fill-opacity=\"1\" /><path clip-path=\"url(#clip870)\" d=\"M91.0151 1113.2 Q87.404 1113.2 85.5753 1116.77 Q83.7697 1120.31 83.7697 1127.44 Q83.7697 1134.54 85.5753 1138.11 Q87.404 1141.65 91.0151 1141.65 Q94.6493 1141.65 96.4548 1138.11 Q98.2835 1134.54 98.2835 1127.44 Q98.2835 1120.31 96.4548 1116.77 Q94.6493 1113.2 91.0151 1113.2 M91.0151 1109.5 Q96.8252 1109.5 99.8808 1114.1 Q102.959 1118.69 102.959 1127.44 Q102.959 1136.16 99.8808 1140.77 Q96.8252 1145.35 91.0151 1145.35 Q85.2049 1145.35 82.1262 1140.77 Q79.0707 1136.16 79.0707 1127.44 Q79.0707 1118.69 82.1262 1114.1 Q85.2049 1109.5 91.0151 1109.5 Z\" fill=\"#000000\" fill-rule=\"nonzero\" fill-opacity=\"1\" /><path clip-path=\"url(#clip870)\" d=\"M102.959 1103.6 L127.071 1103.6 L127.071 1106.8 L102.959 1106.8 L102.959 1103.6 Z\" fill=\"#000000\" fill-rule=\"nonzero\" fill-opacity=\"1\" /><path clip-path=\"url(#clip870)\" d=\"M143.866 1101.72 Q141.308 1101.72 139.804 1103.47 Q138.318 1105.22 138.318 1108.26 Q138.318 1111.29 139.804 1113.06 Q141.308 1114.81 143.866 1114.81 Q146.424 1114.81 147.91 1113.06 Q149.415 1111.29 149.415 1108.26 Q149.415 1105.22 147.91 1103.47 Q146.424 1101.72 143.866 1101.72 M151.408 1089.81 L151.408 1093.27 Q149.979 1092.6 148.512 1092.24 Q147.064 1091.88 145.634 1091.88 Q141.873 1091.88 139.879 1094.42 Q137.904 1096.96 137.622 1102.1 Q138.732 1100.46 140.406 1099.59 Q142.08 1098.71 144.092 1098.71 Q148.324 1098.71 150.769 1101.29 Q153.233 1103.84 153.233 1108.26 Q153.233 1112.59 150.675 1115.2 Q148.117 1117.82 143.866 1117.82 Q138.995 1117.82 136.418 1114.09 Q133.842 1110.35 133.842 1103.26 Q133.842 1096.6 137.002 1092.65 Q140.161 1088.69 145.484 1088.69 Q146.913 1088.69 148.361 1088.97 Q149.828 1089.25 151.408 1089.81 Z\" fill=\"#000000\" fill-rule=\"nonzero\" fill-opacity=\"1\" /><path clip-path=\"url(#clip870)\" d=\"M52.3217 597.655 L59.9605 597.655 L59.9605 571.29 L51.6504 572.956 L51.6504 568.697 L59.9142 567.03 L64.5901 567.03 L64.5901 597.655 L72.229 597.655 L72.229 601.59 L52.3217 601.59 L52.3217 597.655 Z\" fill=\"#000000\" fill-rule=\"nonzero\" fill-opacity=\"1\" /><path clip-path=\"url(#clip870)\" d=\"M91.6733 570.109 Q88.0622 570.109 86.2335 573.674 Q84.428 577.216 84.428 584.345 Q84.428 591.452 86.2335 595.016 Q88.0622 598.558 91.6733 598.558 Q95.3076 598.558 97.1131 595.016 Q98.9418 591.452 98.9418 584.345 Q98.9418 577.216 97.1131 573.674 Q95.3076 570.109 91.6733 570.109 M91.6733 566.405 Q97.4835 566.405 100.539 571.012 Q103.618 575.595 103.618 584.345 Q103.618 593.072 100.539 597.678 Q97.4835 602.262 91.6733 602.262 Q85.8632 602.262 82.7845 597.678 Q79.729 593.072 79.729 584.345 Q79.729 575.595 82.7845 571.012 Q85.8632 566.405 91.6733 566.405 Z\" fill=\"#000000\" fill-rule=\"nonzero\" fill-opacity=\"1\" /><path clip-path=\"url(#clip870)\" d=\"M103.618 560.507 L127.729 560.507 L127.729 563.704 L103.618 563.704 L103.618 560.507 Z\" fill=\"#000000\" fill-rule=\"nonzero\" fill-opacity=\"1\" /><path clip-path=\"url(#clip870)\" d=\"M147.44 559.04 Q150.167 559.623 151.69 561.466 Q153.233 563.309 153.233 566.017 Q153.233 570.174 150.374 572.45 Q147.515 574.725 142.249 574.725 Q140.481 574.725 138.6 574.368 Q136.738 574.03 134.745 573.334 L134.745 569.666 Q136.324 570.588 138.205 571.058 Q140.086 571.528 142.136 571.528 Q145.71 571.528 147.571 570.118 Q149.452 568.707 149.452 566.017 Q149.452 563.535 147.703 562.143 Q145.973 560.732 142.87 560.732 L139.597 560.732 L139.597 557.61 L143.02 557.61 Q145.822 557.61 147.308 556.501 Q148.794 555.372 148.794 553.266 Q148.794 551.103 147.252 549.956 Q145.728 548.79 142.87 548.79 Q141.308 548.79 139.522 549.128 Q137.735 549.467 135.591 550.181 L135.591 546.796 Q137.754 546.194 139.635 545.893 Q141.534 545.592 143.208 545.592 Q147.534 545.592 150.054 547.567 Q152.574 549.523 152.574 552.871 Q152.574 555.203 151.239 556.82 Q149.904 558.419 147.44 559.04 Z\" fill=\"#000000\" fill-rule=\"nonzero\" fill-opacity=\"1\" /><path clip-path=\"url(#clip870)\" d=\"M1198.08 63.9476 L1198.08 47.7034 L1184.71 47.7034 L1184.71 40.9789 L1206.18 40.9789 L1206.18 66.9452 Q1201.44 70.3075 1195.73 72.0494 Q1190.02 73.7508 1183.54 73.7508 Q1169.36 73.7508 1161.34 65.4869 Q1153.36 57.1826 1153.36 42.3968 Q1153.36 27.5705 1161.34 19.3066 Q1169.36 11.0023 1183.54 11.0023 Q1189.45 11.0023 1194.76 12.4606 Q1200.1 13.9189 1204.6 16.7545 L1204.6 25.464 Q1200.06 21.6156 1194.96 19.6712 Q1189.85 17.7268 1184.22 17.7268 Q1173.12 17.7268 1167.53 23.9246 Q1161.98 30.1225 1161.98 42.3968 Q1161.98 54.6305 1167.53 60.8284 Q1173.12 67.0263 1184.22 67.0263 Q1188.56 67.0263 1191.96 66.2971 Q1195.36 65.5274 1198.08 63.9476 Z\" fill=\"#000000\" fill-rule=\"nonzero\" fill-opacity=\"1\" /><path clip-path=\"url(#clip870)\" d=\"M1266.42 16.7545 L1266.42 25.383 Q1262.28 21.5346 1257.59 19.6307 Q1252.93 17.7268 1247.66 17.7268 Q1237.29 17.7268 1231.78 24.0867 Q1226.27 30.4061 1226.27 42.3968 Q1226.27 54.3469 1231.78 60.7069 Q1237.29 67.0263 1247.66 67.0263 Q1252.93 67.0263 1257.59 65.1223 Q1262.28 63.2184 1266.42 59.3701 L1266.42 67.9175 Q1262.12 70.8341 1257.3 72.2924 Q1252.52 73.7508 1247.17 73.7508 Q1233.44 73.7508 1225.54 65.3654 Q1217.64 56.9395 1217.64 42.3968 Q1217.64 27.8135 1225.54 19.4281 Q1233.44 11.0023 1247.17 11.0023 Q1252.6 11.0023 1257.38 12.4606 Q1262.2 13.8784 1266.42 16.7545 Z\" fill=\"#000000\" fill-rule=\"nonzero\" fill-opacity=\"1\" /><path clip-path=\"url(#clip870)\" d=\"M1320.29 63.9476 L1320.29 47.7034 L1306.93 47.7034 L1306.93 40.9789 L1328.4 40.9789 L1328.4 66.9452 Q1323.66 70.3075 1317.94 72.0494 Q1312.23 73.7508 1305.75 73.7508 Q1291.57 73.7508 1283.55 65.4869 Q1275.57 57.1826 1275.57 42.3968 Q1275.57 27.5705 1283.55 19.3066 Q1291.57 11.0023 1305.75 11.0023 Q1311.67 11.0023 1316.97 12.4606 Q1322.32 13.9189 1326.82 16.7545 L1326.82 25.464 Q1322.28 21.6156 1317.17 19.6712 Q1312.07 17.7268 1306.44 17.7268 Q1295.34 17.7268 1289.75 23.9246 Q1284.2 30.1225 1284.2 42.3968 Q1284.2 54.6305 1289.75 60.8284 Q1295.34 67.0263 1306.44 67.0263 Q1310.77 67.0263 1314.18 66.2971 Q1317.58 65.5274 1320.29 63.9476 Z\" fill=\"#000000\" fill-rule=\"nonzero\" fill-opacity=\"1\" /><path clip-path=\"url(#clip870)\" d=\"M1388.63 16.7545 L1388.63 25.383 Q1384.5 21.5346 1379.8 19.6307 Q1375.14 17.7268 1369.88 17.7268 Q1359.51 17.7268 1354 24.0867 Q1348.49 30.4061 1348.49 42.3968 Q1348.49 54.3469 1354 60.7069 Q1359.51 67.0263 1369.88 67.0263 Q1375.14 67.0263 1379.8 65.1223 Q1384.5 63.2184 1388.63 59.3701 L1388.63 67.9175 Q1384.34 70.8341 1379.52 72.2924 Q1374.74 73.7508 1369.39 73.7508 Q1355.66 73.7508 1347.76 65.3654 Q1339.86 56.9395 1339.86 42.3968 Q1339.86 27.8135 1347.76 19.4281 Q1355.66 11.0023 1369.39 11.0023 Q1374.82 11.0023 1379.6 12.4606 Q1384.42 13.8784 1388.63 16.7545 Z\" fill=\"#000000\" fill-rule=\"nonzero\" fill-opacity=\"1\" /><polyline clip-path=\"url(#clip872)\" style=\"stroke:#009af9; stroke-linecap:round; stroke-linejoin:round; stroke-width:4; stroke-opacity:1; fill:none\" points=\"250.464,905.684 304.176,800.555 357.889,756.481 411.601,827.783 465.313,751.995 519.025,693.749 572.737,944.364 626.449,968.082 680.161,869.785 733.873,807.859 787.585,752.596 841.297,868.871 895.01,738.712 948.722,1020.79 1002.43,885.095 1056.15,915.185 1109.86,871.069 1163.57,782.362 1217.28,797.626 1270.99,843.56 1324.71,871.109 1378.42,1057.92 1432.13,1447.87 1485.84,938.257 1539.55,964.901 1593.27,884.899 1646.98,776.588 1700.69,987.252 1754.4,689.266 1808.12,894.539 1861.83,1019.16 1915.54,855.717 1969.25,761.828 2022.96,711.423 2076.68,749.386 2130.39,661.012 2184.1,648.086 2237.81,625.258 2291.52,695.917 \"/>\n",
       "<polyline clip-path=\"url(#clip872)\" style=\"stroke:#e26f46; stroke-linecap:round; stroke-linejoin:round; stroke-width:4; stroke-opacity:1; fill:none\" points=\"250.464,872.802 304.176,795.072 357.889,718.345 411.601,654.555 465.313,593.712 519.025,541.514 572.737,843.845 626.449,756.526 680.161,687.86 733.873,622.698 787.585,540.971 841.297,498.22 895.01,432.262 948.722,857.033 1002.43,757.626 1056.15,699.467 1109.86,637.217 1163.57,567.985 1217.28,510.091 1270.99,458.376 1324.71,397.705 1378.42,870.283 1432.13,761.865 1485.84,705.139 1539.55,630.08 1593.27,558.886 1646.98,507.934 1700.69,430.951 1754.4,391.098 1808.12,329.568 1861.83,748.82 1915.54,673.821 1969.25,591.339 2022.96,533.288 2076.68,444.192 2130.39,391.397 2184.1,322.616 2237.81,246.059 2291.52,196.516 \"/>\n",
       "<polyline clip-path=\"url(#clip872)\" style=\"stroke:#3da44d; stroke-linecap:round; stroke-linejoin:round; stroke-width:4; stroke-opacity:1; fill:none\" points=\"250.464,760.324 304.176,696.213 357.889,609.401 411.601,582.877 465.313,520.433 519.025,484.291 572.737,857.985 626.449,794.27 680.161,729.05 733.873,664.943 787.585,589.521 841.297,559.777 895.01,480.9 948.722,951.474 1002.43,879.478 1056.15,803.121 1109.86,735.855 1163.57,668.533 1217.28,600.432 1270.99,545.658 1324.71,473.806 1378.42,864.291 1432.13,788.439 1485.84,707.24 1539.55,656.443 1593.27,591.495 1646.98,530.217 1700.69,480.621 1754.4,427.525 1808.12,402.08 1861.83,670.48 1915.54,589.921 1969.25,506.547 2022.96,448.187 2076.68,385.144 2130.39,324.371 2184.1,266.67 2237.81,228.757 2291.52,162.047 \"/>\n",
       "<polyline clip-path=\"url(#clip872)\" style=\"stroke:#c271d2; stroke-linecap:round; stroke-linejoin:round; stroke-width:4; stroke-opacity:1; fill:none\" points=\"250.464,828.347 304.176,765.036 357.889,677.488 411.601,660.713 465.313,594.206 519.025,554.399 572.737,946.646 626.449,887.03 680.161,841.176 733.873,767.231 787.585,694.265 841.297,692.374 895.01,604.589 948.722,1031.34 1002.43,985.328 1056.15,903.669 1109.86,857.273 1163.57,790.775 1217.28,716.788 1270.99,651.155 1324.71,575.572 1378.42,907.11 1432.13,832.418 1485.84,768.5 1539.55,708.202 1593.27,643.607 1646.98,581.765 1700.69,539.863 1754.4,480.948 1808.12,442.088 1861.83,691.231 1915.54,604.327 1969.25,529.148 2022.96,467.986 2076.68,404.334 2130.39,344.924 2184.1,283.79 2237.81,245.947 2291.52,181.929 \"/>\n",
       "<path clip-path=\"url(#clip870)\" d=\"M1934.75 428.105 L2280.64 428.105 L2280.64 168.905 L1934.75 168.905  Z\" fill=\"#ffffff\" fill-rule=\"evenodd\" fill-opacity=\"1\"/>\n",
       "<polyline clip-path=\"url(#clip870)\" style=\"stroke:#000000; stroke-linecap:round; stroke-linejoin:round; stroke-width:4; stroke-opacity:1; fill:none\" points=\"1934.75,428.105 2280.64,428.105 2280.64,168.905 1934.75,168.905 1934.75,428.105 \"/>\n",
       "<polyline clip-path=\"url(#clip870)\" style=\"stroke:#009af9; stroke-linecap:round; stroke-linejoin:round; stroke-width:4; stroke-opacity:1; fill:none\" points=\"1958.79,220.745 2103.02,220.745 \"/>\n",
       "<path clip-path=\"url(#clip870)\" d=\"M2131.74 207.307 L2131.74 234.182 L2137.39 234.182 Q2144.54 234.182 2147.85 230.941 Q2151.18 227.701 2151.18 220.71 Q2151.18 213.766 2147.85 210.548 Q2144.54 207.307 2137.39 207.307 L2131.74 207.307 M2127.06 203.465 L2136.67 203.465 Q2146.72 203.465 2151.41 207.654 Q2156.11 211.821 2156.11 220.71 Q2156.11 229.645 2151.39 233.835 Q2146.67 238.025 2136.67 238.025 L2127.06 238.025 L2127.06 203.465 Z\" fill=\"#000000\" fill-rule=\"nonzero\" fill-opacity=\"1\" /><path clip-path=\"url(#clip870)\" d=\"M2161.53 212.099 L2181.76 212.099 L2181.76 215.988 L2165.74 234.622 L2181.76 234.622 L2181.76 238.025 L2160.95 238.025 L2160.95 234.136 L2176.97 215.502 L2161.53 215.502 L2161.53 212.099 Z\" fill=\"#000000\" fill-rule=\"nonzero\" fill-opacity=\"1\" /><polyline clip-path=\"url(#clip870)\" style=\"stroke:#e26f46; stroke-linecap:round; stroke-linejoin:round; stroke-width:4; stroke-opacity:1; fill:none\" points=\"1958.79,272.585 2103.02,272.585 \"/>\n",
       "<path clip-path=\"url(#clip870)\" d=\"M2127.06 255.305 L2131.79 255.305 L2139.05 284.517 L2146.3 255.305 L2151.55 255.305 L2158.82 284.517 L2166.07 255.305 L2170.81 255.305 L2162.13 289.865 L2156.25 289.865 L2148.96 259.865 L2141.6 289.865 L2135.72 289.865 L2127.06 255.305 Z\" fill=\"#000000\" fill-rule=\"nonzero\" fill-opacity=\"1\" /><path clip-path=\"url(#clip870)\" d=\"M2174.98 263.939 L2195.21 263.939 L2195.21 267.828 L2179.19 286.462 L2195.21 286.462 L2195.21 289.865 L2174.4 289.865 L2174.4 285.976 L2190.42 267.342 L2174.98 267.342 L2174.98 263.939 Z\" fill=\"#000000\" fill-rule=\"nonzero\" fill-opacity=\"1\" /><path clip-path=\"url(#clip870)\" d=\"M2206.58 259.147 L2206.58 286.022 L2212.22 286.022 Q2219.38 286.022 2222.69 282.781 Q2226.02 279.541 2226.02 272.55 Q2226.02 265.606 2222.69 262.388 Q2219.38 259.147 2212.22 259.147 L2206.58 259.147 M2201.9 255.305 L2211.51 255.305 Q2221.55 255.305 2226.25 259.494 Q2230.95 263.661 2230.95 272.55 Q2230.95 281.485 2226.23 285.675 Q2221.51 289.865 2211.51 289.865 L2201.9 289.865 L2201.9 255.305 Z\" fill=\"#000000\" fill-rule=\"nonzero\" fill-opacity=\"1\" /><path clip-path=\"url(#clip870)\" d=\"M2236.37 263.939 L2256.6 263.939 L2256.6 267.828 L2240.58 286.462 L2256.6 286.462 L2256.6 289.865 L2235.79 289.865 L2235.79 285.976 L2251.81 267.342 L2236.37 267.342 L2236.37 263.939 Z\" fill=\"#000000\" fill-rule=\"nonzero\" fill-opacity=\"1\" /><polyline clip-path=\"url(#clip870)\" style=\"stroke:#3da44d; stroke-linecap:round; stroke-linejoin:round; stroke-width:4; stroke-opacity:1; fill:none\" points=\"1958.79,324.425 2103.02,324.425 \"/>\n",
       "<path clip-path=\"url(#clip870)\" d=\"M2131.74 310.987 L2131.74 323.973 L2137.62 323.973 Q2140.88 323.973 2142.66 322.283 Q2144.45 320.594 2144.45 317.469 Q2144.45 314.367 2142.66 312.677 Q2140.88 310.987 2137.62 310.987 L2131.74 310.987 M2127.06 307.145 L2137.62 307.145 Q2143.43 307.145 2146.39 309.784 Q2149.38 312.399 2149.38 317.469 Q2149.38 322.584 2146.39 325.2 Q2143.43 327.816 2137.62 327.816 L2131.74 327.816 L2131.74 341.705 L2127.06 341.705 L2127.06 307.145 Z\" fill=\"#000000\" fill-rule=\"nonzero\" fill-opacity=\"1\" /><path clip-path=\"url(#clip870)\" d=\"M2181.53 309.807 L2181.53 314.737 Q2179.17 312.538 2176.48 311.45 Q2173.82 310.362 2170.81 310.362 Q2164.89 310.362 2161.74 313.996 Q2158.59 317.608 2158.59 324.459 Q2158.59 331.288 2161.74 334.922 Q2164.89 338.533 2170.81 338.533 Q2173.82 338.533 2176.48 337.445 Q2179.17 336.357 2181.53 334.158 L2181.53 339.043 Q2179.08 340.709 2176.32 341.543 Q2173.59 342.376 2170.53 342.376 Q2162.69 342.376 2158.17 337.584 Q2153.66 332.77 2153.66 324.459 Q2153.66 316.126 2158.17 311.334 Q2162.69 306.52 2170.53 306.52 Q2173.64 306.52 2176.37 307.353 Q2179.12 308.163 2181.53 309.807 Z\" fill=\"#000000\" fill-rule=\"nonzero\" fill-opacity=\"1\" /><path clip-path=\"url(#clip870)\" d=\"M2200.3 311.751 L2193.96 328.95 L2206.67 328.95 L2200.3 311.751 M2197.66 307.145 L2202.97 307.145 L2216.14 341.705 L2211.28 341.705 L2208.13 332.839 L2192.55 332.839 L2189.4 341.705 L2184.47 341.705 L2197.66 307.145 Z\" fill=\"#000000\" fill-rule=\"nonzero\" fill-opacity=\"1\" /><polyline clip-path=\"url(#clip870)\" style=\"stroke:#c271d2; stroke-linecap:round; stroke-linejoin:round; stroke-width:4; stroke-opacity:1; fill:none\" points=\"1958.79,376.265 2103.02,376.265 \"/>\n",
       "<path clip-path=\"url(#clip870)\" d=\"M2152.62 388.614 L2152.62 379.332 L2144.98 379.332 L2144.98 375.489 L2157.25 375.489 L2157.25 390.327 Q2154.54 392.248 2151.28 393.244 Q2148.01 394.216 2144.31 394.216 Q2136.21 394.216 2131.62 389.494 Q2127.06 384.748 2127.06 376.299 Q2127.06 367.827 2131.62 363.105 Q2136.21 358.36 2144.31 358.36 Q2147.69 358.36 2150.72 359.193 Q2153.78 360.026 2156.35 361.647 L2156.35 366.623 Q2153.75 364.424 2150.84 363.313 Q2147.92 362.202 2144.7 362.202 Q2138.36 362.202 2135.16 365.744 Q2131.99 369.286 2131.99 376.299 Q2131.99 383.29 2135.16 386.832 Q2138.36 390.373 2144.7 390.373 Q2147.18 390.373 2149.12 389.957 Q2151.07 389.517 2152.62 388.614 Z\" fill=\"#000000\" fill-rule=\"nonzero\" fill-opacity=\"1\" /><path clip-path=\"url(#clip870)\" d=\"M2170.47 362.827 L2170.47 375.813 L2176.35 375.813 Q2179.61 375.813 2181.39 374.123 Q2183.17 372.434 2183.17 369.309 Q2183.17 366.207 2181.39 364.517 Q2179.61 362.827 2176.35 362.827 L2170.47 362.827 M2165.79 358.985 L2176.35 358.985 Q2182.16 358.985 2185.12 361.624 Q2188.1 364.239 2188.1 369.309 Q2188.1 374.424 2185.12 377.04 Q2182.16 379.656 2176.35 379.656 L2170.47 379.656 L2170.47 393.545 L2165.79 393.545 L2165.79 358.985 Z\" fill=\"#000000\" fill-rule=\"nonzero\" fill-opacity=\"1\" /></svg>\n"
      ],
      "text/html": [
       "<?xml version=\"1.0\" encoding=\"utf-8\"?>\n",
       "<svg xmlns=\"http://www.w3.org/2000/svg\" xmlns:xlink=\"http://www.w3.org/1999/xlink\" width=\"600\" height=\"400\" viewBox=\"0 0 2400 1600\">\n",
       "<defs>\n",
       "  <clipPath id=\"clip920\">\n",
       "    <rect x=\"0\" y=\"0\" width=\"2400\" height=\"1600\"/>\n",
       "  </clipPath>\n",
       "</defs>\n",
       "<path clip-path=\"url(#clip920)\" d=\"M0 1600 L2400 1600 L2400 0 L0 0  Z\" fill=\"#ffffff\" fill-rule=\"evenodd\" fill-opacity=\"1\"/>\n",
       "<defs>\n",
       "  <clipPath id=\"clip921\">\n",
       "    <rect x=\"480\" y=\"0\" width=\"1681\" height=\"1600\"/>\n",
       "  </clipPath>\n",
       "</defs>\n",
       "<path clip-path=\"url(#clip920)\" d=\"M189.233 1486.45 L2352.76 1486.45 L2352.76 123.472 L189.233 123.472  Z\" fill=\"#ffffff\" fill-rule=\"evenodd\" fill-opacity=\"1\"/>\n",
       "<defs>\n",
       "  <clipPath id=\"clip922\">\n",
       "    <rect x=\"189\" y=\"123\" width=\"2165\" height=\"1364\"/>\n",
       "  </clipPath>\n",
       "</defs>\n",
       "<polyline clip-path=\"url(#clip922)\" style=\"stroke:#000000; stroke-linecap:round; stroke-linejoin:round; stroke-width:2; stroke-opacity:0.1; fill:none\" points=\"196.752,1486.45 196.752,123.472 \"/>\n",
       "<polyline clip-path=\"url(#clip922)\" style=\"stroke:#000000; stroke-linecap:round; stroke-linejoin:round; stroke-width:2; stroke-opacity:0.1; fill:none\" points=\"733.873,1486.45 733.873,123.472 \"/>\n",
       "<polyline clip-path=\"url(#clip922)\" style=\"stroke:#000000; stroke-linecap:round; stroke-linejoin:round; stroke-width:2; stroke-opacity:0.1; fill:none\" points=\"1270.99,1486.45 1270.99,123.472 \"/>\n",
       "<polyline clip-path=\"url(#clip922)\" style=\"stroke:#000000; stroke-linecap:round; stroke-linejoin:round; stroke-width:2; stroke-opacity:0.1; fill:none\" points=\"1808.12,1486.45 1808.12,123.472 \"/>\n",
       "<polyline clip-path=\"url(#clip922)\" style=\"stroke:#000000; stroke-linecap:round; stroke-linejoin:round; stroke-width:2; stroke-opacity:0.1; fill:none\" points=\"2345.24,1486.45 2345.24,123.472 \"/>\n",
       "<polyline clip-path=\"url(#clip922)\" style=\"stroke:#000000; stroke-linecap:round; stroke-linejoin:round; stroke-width:2; stroke-opacity:0.1; fill:none\" points=\"189.233,1120.96 2352.76,1120.96 \"/>\n",
       "<polyline clip-path=\"url(#clip922)\" style=\"stroke:#000000; stroke-linecap:round; stroke-linejoin:round; stroke-width:2; stroke-opacity:0.1; fill:none\" points=\"189.233,577.863 2352.76,577.863 \"/>\n",
       "<polyline clip-path=\"url(#clip920)\" style=\"stroke:#000000; stroke-linecap:round; stroke-linejoin:round; stroke-width:4; stroke-opacity:1; fill:none\" points=\"189.233,1486.45 2352.76,1486.45 \"/>\n",
       "<polyline clip-path=\"url(#clip920)\" style=\"stroke:#000000; stroke-linecap:round; stroke-linejoin:round; stroke-width:4; stroke-opacity:1; fill:none\" points=\"196.752,1486.45 196.752,1467.55 \"/>\n",
       "<polyline clip-path=\"url(#clip920)\" style=\"stroke:#000000; stroke-linecap:round; stroke-linejoin:round; stroke-width:4; stroke-opacity:1; fill:none\" points=\"733.873,1486.45 733.873,1467.55 \"/>\n",
       "<polyline clip-path=\"url(#clip920)\" style=\"stroke:#000000; stroke-linecap:round; stroke-linejoin:round; stroke-width:4; stroke-opacity:1; fill:none\" points=\"1270.99,1486.45 1270.99,1467.55 \"/>\n",
       "<polyline clip-path=\"url(#clip920)\" style=\"stroke:#000000; stroke-linecap:round; stroke-linejoin:round; stroke-width:4; stroke-opacity:1; fill:none\" points=\"1808.12,1486.45 1808.12,1467.55 \"/>\n",
       "<polyline clip-path=\"url(#clip920)\" style=\"stroke:#000000; stroke-linecap:round; stroke-linejoin:round; stroke-width:4; stroke-opacity:1; fill:none\" points=\"2345.24,1486.45 2345.24,1467.55 \"/>\n",
       "<path clip-path=\"url(#clip920)\" d=\"M196.752 1517.37 Q193.141 1517.37 191.313 1520.93 Q189.507 1524.47 189.507 1531.6 Q189.507 1538.71 191.313 1542.27 Q193.141 1545.82 196.752 1545.82 Q200.387 1545.82 202.192 1542.27 Q204.021 1538.71 204.021 1531.6 Q204.021 1524.47 202.192 1520.93 Q200.387 1517.37 196.752 1517.37 M196.752 1513.66 Q202.562 1513.66 205.618 1518.27 Q208.697 1522.85 208.697 1531.6 Q208.697 1540.33 205.618 1544.94 Q202.562 1549.52 196.752 1549.52 Q190.942 1549.52 187.863 1544.94 Q184.808 1540.33 184.808 1531.6 Q184.808 1522.85 187.863 1518.27 Q190.942 1513.66 196.752 1513.66 Z\" fill=\"#000000\" fill-rule=\"nonzero\" fill-opacity=\"1\" /><path clip-path=\"url(#clip920)\" d=\"M708.561 1544.91 L716.2 1544.91 L716.2 1518.55 L707.89 1520.21 L707.89 1515.95 L716.153 1514.29 L720.829 1514.29 L720.829 1544.91 L728.468 1544.91 L728.468 1548.85 L708.561 1548.85 L708.561 1544.91 Z\" fill=\"#000000\" fill-rule=\"nonzero\" fill-opacity=\"1\" /><path clip-path=\"url(#clip920)\" d=\"M747.913 1517.37 Q744.301 1517.37 742.473 1520.93 Q740.667 1524.47 740.667 1531.6 Q740.667 1538.71 742.473 1542.27 Q744.301 1545.82 747.913 1545.82 Q751.547 1545.82 753.352 1542.27 Q755.181 1538.71 755.181 1531.6 Q755.181 1524.47 753.352 1520.93 Q751.547 1517.37 747.913 1517.37 M747.913 1513.66 Q753.723 1513.66 756.778 1518.27 Q759.857 1522.85 759.857 1531.6 Q759.857 1540.33 756.778 1544.94 Q753.723 1549.52 747.913 1549.52 Q742.102 1549.52 739.024 1544.94 Q735.968 1540.33 735.968 1531.6 Q735.968 1522.85 739.024 1518.27 Q742.102 1513.66 747.913 1513.66 Z\" fill=\"#000000\" fill-rule=\"nonzero\" fill-opacity=\"1\" /><path clip-path=\"url(#clip920)\" d=\"M1249.77 1544.91 L1266.09 1544.91 L1266.09 1548.85 L1244.14 1548.85 L1244.14 1544.91 Q1246.8 1542.16 1251.39 1537.53 Q1255.99 1532.88 1257.17 1531.53 Q1259.42 1529.01 1260.3 1527.27 Q1261.2 1525.51 1261.2 1523.82 Q1261.2 1521.07 1259.26 1519.33 Q1257.34 1517.6 1254.24 1517.6 Q1252.04 1517.6 1249.58 1518.36 Q1247.15 1519.13 1244.37 1520.68 L1244.37 1515.95 Q1247.2 1514.82 1249.65 1514.24 Q1252.11 1513.66 1254.14 1513.66 Q1259.51 1513.66 1262.71 1516.35 Q1265.9 1519.03 1265.9 1523.52 Q1265.9 1525.65 1265.09 1527.57 Q1264.3 1529.47 1262.2 1532.07 Q1261.62 1532.74 1258.52 1535.95 Q1255.42 1539.15 1249.77 1544.91 Z\" fill=\"#000000\" fill-rule=\"nonzero\" fill-opacity=\"1\" /><path clip-path=\"url(#clip920)\" d=\"M1285.9 1517.37 Q1282.29 1517.37 1280.46 1520.93 Q1278.66 1524.47 1278.66 1531.6 Q1278.66 1538.71 1280.46 1542.27 Q1282.29 1545.82 1285.9 1545.82 Q1289.54 1545.82 1291.34 1542.27 Q1293.17 1538.71 1293.17 1531.6 Q1293.17 1524.47 1291.34 1520.93 Q1289.54 1517.37 1285.9 1517.37 M1285.9 1513.66 Q1291.71 1513.66 1294.77 1518.27 Q1297.85 1522.85 1297.85 1531.6 Q1297.85 1540.33 1294.77 1544.94 Q1291.71 1549.52 1285.9 1549.52 Q1280.09 1549.52 1277.01 1544.94 Q1273.96 1540.33 1273.96 1531.6 Q1273.96 1522.85 1277.01 1518.27 Q1280.09 1513.66 1285.9 1513.66 Z\" fill=\"#000000\" fill-rule=\"nonzero\" fill-opacity=\"1\" /><path clip-path=\"url(#clip920)\" d=\"M1796.96 1530.21 Q1800.31 1530.93 1802.19 1533.2 Q1804.09 1535.47 1804.09 1538.8 Q1804.09 1543.92 1800.57 1546.72 Q1797.05 1549.52 1790.57 1549.52 Q1788.39 1549.52 1786.08 1549.08 Q1783.79 1548.66 1781.33 1547.81 L1781.33 1543.29 Q1783.28 1544.43 1785.59 1545.01 Q1787.91 1545.58 1790.43 1545.58 Q1794.83 1545.58 1797.12 1543.85 Q1799.43 1542.11 1799.43 1538.8 Q1799.43 1535.75 1797.28 1534.03 Q1795.15 1532.3 1791.33 1532.3 L1787.31 1532.3 L1787.31 1528.45 L1791.52 1528.45 Q1794.97 1528.45 1796.8 1527.09 Q1798.62 1525.7 1798.62 1523.11 Q1798.62 1520.45 1796.73 1519.03 Q1794.85 1517.6 1791.33 1517.6 Q1789.41 1517.6 1787.21 1518.01 Q1785.01 1518.43 1782.37 1519.31 L1782.37 1515.14 Q1785.04 1514.4 1787.35 1514.03 Q1789.69 1513.66 1791.75 1513.66 Q1797.07 1513.66 1800.18 1516.09 Q1803.28 1518.5 1803.28 1522.62 Q1803.28 1525.49 1801.63 1527.48 Q1799.99 1529.45 1796.96 1530.21 Z\" fill=\"#000000\" fill-rule=\"nonzero\" fill-opacity=\"1\" /><path clip-path=\"url(#clip920)\" d=\"M1822.95 1517.37 Q1819.34 1517.37 1817.51 1520.93 Q1815.71 1524.47 1815.71 1531.6 Q1815.71 1538.71 1817.51 1542.27 Q1819.34 1545.82 1822.95 1545.82 Q1826.59 1545.82 1828.39 1542.27 Q1830.22 1538.71 1830.22 1531.6 Q1830.22 1524.47 1828.39 1520.93 Q1826.59 1517.37 1822.95 1517.37 M1822.95 1513.66 Q1828.76 1513.66 1831.82 1518.27 Q1834.9 1522.85 1834.9 1531.6 Q1834.9 1540.33 1831.82 1544.94 Q1828.76 1549.52 1822.95 1549.52 Q1817.14 1549.52 1814.06 1544.94 Q1811.01 1540.33 1811.01 1531.6 Q1811.01 1522.85 1814.06 1518.27 Q1817.14 1513.66 1822.95 1513.66 Z\" fill=\"#000000\" fill-rule=\"nonzero\" fill-opacity=\"1\" /><path clip-path=\"url(#clip920)\" d=\"M2333.41 1518.36 L2321.6 1536.81 L2333.41 1536.81 L2333.41 1518.36 M2332.18 1514.29 L2338.06 1514.29 L2338.06 1536.81 L2342.99 1536.81 L2342.99 1540.7 L2338.06 1540.7 L2338.06 1548.85 L2333.41 1548.85 L2333.41 1540.7 L2317.81 1540.7 L2317.81 1536.19 L2332.18 1514.29 Z\" fill=\"#000000\" fill-rule=\"nonzero\" fill-opacity=\"1\" /><path clip-path=\"url(#clip920)\" d=\"M2360.72 1517.37 Q2357.11 1517.37 2355.28 1520.93 Q2353.48 1524.47 2353.48 1531.6 Q2353.48 1538.71 2355.28 1542.27 Q2357.11 1545.82 2360.72 1545.82 Q2364.36 1545.82 2366.16 1542.27 Q2367.99 1538.71 2367.99 1531.6 Q2367.99 1524.47 2366.16 1520.93 Q2364.36 1517.37 2360.72 1517.37 M2360.72 1513.66 Q2366.53 1513.66 2369.59 1518.27 Q2372.67 1522.85 2372.67 1531.6 Q2372.67 1540.33 2369.59 1544.94 Q2366.53 1549.52 2360.72 1549.52 Q2354.91 1549.52 2351.83 1544.94 Q2348.78 1540.33 2348.78 1531.6 Q2348.78 1522.85 2351.83 1518.27 Q2354.91 1513.66 2360.72 1513.66 Z\" fill=\"#000000\" fill-rule=\"nonzero\" fill-opacity=\"1\" /><polyline clip-path=\"url(#clip920)\" style=\"stroke:#000000; stroke-linecap:round; stroke-linejoin:round; stroke-width:4; stroke-opacity:1; fill:none\" points=\"189.233,1486.45 189.233,123.472 \"/>\n",
       "<polyline clip-path=\"url(#clip920)\" style=\"stroke:#000000; stroke-linecap:round; stroke-linejoin:round; stroke-width:4; stroke-opacity:1; fill:none\" points=\"189.233,1120.96 208.13,1120.96 \"/>\n",
       "<polyline clip-path=\"url(#clip920)\" style=\"stroke:#000000; stroke-linecap:round; stroke-linejoin:round; stroke-width:4; stroke-opacity:1; fill:none\" points=\"189.233,577.863 208.13,577.863 \"/>\n",
       "<path clip-path=\"url(#clip920)\" d=\"M51.6634 1140.75 L59.3023 1140.75 L59.3023 1114.38 L50.9921 1116.05 L50.9921 1111.79 L59.256 1110.12 L63.9319 1110.12 L63.9319 1140.75 L71.5707 1140.75 L71.5707 1144.68 L51.6634 1144.68 L51.6634 1140.75 Z\" fill=\"#000000\" fill-rule=\"nonzero\" fill-opacity=\"1\" /><path clip-path=\"url(#clip920)\" d=\"M91.0151 1113.2 Q87.404 1113.2 85.5753 1116.77 Q83.7697 1120.31 83.7697 1127.44 Q83.7697 1134.54 85.5753 1138.11 Q87.404 1141.65 91.0151 1141.65 Q94.6493 1141.65 96.4548 1138.11 Q98.2835 1134.54 98.2835 1127.44 Q98.2835 1120.31 96.4548 1116.77 Q94.6493 1113.2 91.0151 1113.2 M91.0151 1109.5 Q96.8252 1109.5 99.8808 1114.1 Q102.959 1118.69 102.959 1127.44 Q102.959 1136.16 99.8808 1140.77 Q96.8252 1145.35 91.0151 1145.35 Q85.2049 1145.35 82.1262 1140.77 Q79.0707 1136.16 79.0707 1127.44 Q79.0707 1118.69 82.1262 1114.1 Q85.2049 1109.5 91.0151 1109.5 Z\" fill=\"#000000\" fill-rule=\"nonzero\" fill-opacity=\"1\" /><path clip-path=\"url(#clip920)\" d=\"M102.959 1103.6 L127.071 1103.6 L127.071 1106.8 L102.959 1106.8 L102.959 1103.6 Z\" fill=\"#000000\" fill-rule=\"nonzero\" fill-opacity=\"1\" /><path clip-path=\"url(#clip920)\" d=\"M143.866 1101.72 Q141.308 1101.72 139.804 1103.47 Q138.318 1105.22 138.318 1108.26 Q138.318 1111.29 139.804 1113.06 Q141.308 1114.81 143.866 1114.81 Q146.424 1114.81 147.91 1113.06 Q149.415 1111.29 149.415 1108.26 Q149.415 1105.22 147.91 1103.47 Q146.424 1101.72 143.866 1101.72 M151.408 1089.81 L151.408 1093.27 Q149.979 1092.6 148.512 1092.24 Q147.064 1091.88 145.634 1091.88 Q141.873 1091.88 139.879 1094.42 Q137.904 1096.96 137.622 1102.1 Q138.732 1100.46 140.406 1099.59 Q142.08 1098.71 144.092 1098.71 Q148.324 1098.71 150.769 1101.29 Q153.233 1103.84 153.233 1108.26 Q153.233 1112.59 150.675 1115.2 Q148.117 1117.82 143.866 1117.82 Q138.995 1117.82 136.418 1114.09 Q133.842 1110.35 133.842 1103.26 Q133.842 1096.6 137.002 1092.65 Q140.161 1088.69 145.484 1088.69 Q146.913 1088.69 148.361 1088.97 Q149.828 1089.25 151.408 1089.81 Z\" fill=\"#000000\" fill-rule=\"nonzero\" fill-opacity=\"1\" /><path clip-path=\"url(#clip920)\" d=\"M52.3217 597.655 L59.9605 597.655 L59.9605 571.29 L51.6504 572.956 L51.6504 568.697 L59.9142 567.03 L64.5901 567.03 L64.5901 597.655 L72.229 597.655 L72.229 601.59 L52.3217 601.59 L52.3217 597.655 Z\" fill=\"#000000\" fill-rule=\"nonzero\" fill-opacity=\"1\" /><path clip-path=\"url(#clip920)\" d=\"M91.6733 570.109 Q88.0622 570.109 86.2335 573.674 Q84.428 577.216 84.428 584.345 Q84.428 591.452 86.2335 595.016 Q88.0622 598.558 91.6733 598.558 Q95.3076 598.558 97.1131 595.016 Q98.9418 591.452 98.9418 584.345 Q98.9418 577.216 97.1131 573.674 Q95.3076 570.109 91.6733 570.109 M91.6733 566.405 Q97.4835 566.405 100.539 571.012 Q103.618 575.595 103.618 584.345 Q103.618 593.072 100.539 597.678 Q97.4835 602.262 91.6733 602.262 Q85.8632 602.262 82.7845 597.678 Q79.729 593.072 79.729 584.345 Q79.729 575.595 82.7845 571.012 Q85.8632 566.405 91.6733 566.405 Z\" fill=\"#000000\" fill-rule=\"nonzero\" fill-opacity=\"1\" /><path clip-path=\"url(#clip920)\" d=\"M103.618 560.507 L127.729 560.507 L127.729 563.704 L103.618 563.704 L103.618 560.507 Z\" fill=\"#000000\" fill-rule=\"nonzero\" fill-opacity=\"1\" /><path clip-path=\"url(#clip920)\" d=\"M147.44 559.04 Q150.167 559.623 151.69 561.466 Q153.233 563.309 153.233 566.017 Q153.233 570.174 150.374 572.45 Q147.515 574.725 142.249 574.725 Q140.481 574.725 138.6 574.368 Q136.738 574.03 134.745 573.334 L134.745 569.666 Q136.324 570.588 138.205 571.058 Q140.086 571.528 142.136 571.528 Q145.71 571.528 147.571 570.118 Q149.452 568.707 149.452 566.017 Q149.452 563.535 147.703 562.143 Q145.973 560.732 142.87 560.732 L139.597 560.732 L139.597 557.61 L143.02 557.61 Q145.822 557.61 147.308 556.501 Q148.794 555.372 148.794 553.266 Q148.794 551.103 147.252 549.956 Q145.728 548.79 142.87 548.79 Q141.308 548.79 139.522 549.128 Q137.735 549.467 135.591 550.181 L135.591 546.796 Q137.754 546.194 139.635 545.893 Q141.534 545.592 143.208 545.592 Q147.534 545.592 150.054 547.567 Q152.574 549.523 152.574 552.871 Q152.574 555.203 151.239 556.82 Q149.904 558.419 147.44 559.04 Z\" fill=\"#000000\" fill-rule=\"nonzero\" fill-opacity=\"1\" /><path clip-path=\"url(#clip920)\" d=\"M1198.08 63.9476 L1198.08 47.7034 L1184.71 47.7034 L1184.71 40.9789 L1206.18 40.9789 L1206.18 66.9452 Q1201.44 70.3075 1195.73 72.0494 Q1190.02 73.7508 1183.54 73.7508 Q1169.36 73.7508 1161.34 65.4869 Q1153.36 57.1826 1153.36 42.3968 Q1153.36 27.5705 1161.34 19.3066 Q1169.36 11.0023 1183.54 11.0023 Q1189.45 11.0023 1194.76 12.4606 Q1200.1 13.9189 1204.6 16.7545 L1204.6 25.464 Q1200.06 21.6156 1194.96 19.6712 Q1189.85 17.7268 1184.22 17.7268 Q1173.12 17.7268 1167.53 23.9246 Q1161.98 30.1225 1161.98 42.3968 Q1161.98 54.6305 1167.53 60.8284 Q1173.12 67.0263 1184.22 67.0263 Q1188.56 67.0263 1191.96 66.2971 Q1195.36 65.5274 1198.08 63.9476 Z\" fill=\"#000000\" fill-rule=\"nonzero\" fill-opacity=\"1\" /><path clip-path=\"url(#clip920)\" d=\"M1266.42 16.7545 L1266.42 25.383 Q1262.28 21.5346 1257.59 19.6307 Q1252.93 17.7268 1247.66 17.7268 Q1237.29 17.7268 1231.78 24.0867 Q1226.27 30.4061 1226.27 42.3968 Q1226.27 54.3469 1231.78 60.7069 Q1237.29 67.0263 1247.66 67.0263 Q1252.93 67.0263 1257.59 65.1223 Q1262.28 63.2184 1266.42 59.3701 L1266.42 67.9175 Q1262.12 70.8341 1257.3 72.2924 Q1252.52 73.7508 1247.17 73.7508 Q1233.44 73.7508 1225.54 65.3654 Q1217.64 56.9395 1217.64 42.3968 Q1217.64 27.8135 1225.54 19.4281 Q1233.44 11.0023 1247.17 11.0023 Q1252.6 11.0023 1257.38 12.4606 Q1262.2 13.8784 1266.42 16.7545 Z\" fill=\"#000000\" fill-rule=\"nonzero\" fill-opacity=\"1\" /><path clip-path=\"url(#clip920)\" d=\"M1320.29 63.9476 L1320.29 47.7034 L1306.93 47.7034 L1306.93 40.9789 L1328.4 40.9789 L1328.4 66.9452 Q1323.66 70.3075 1317.94 72.0494 Q1312.23 73.7508 1305.75 73.7508 Q1291.57 73.7508 1283.55 65.4869 Q1275.57 57.1826 1275.57 42.3968 Q1275.57 27.5705 1283.55 19.3066 Q1291.57 11.0023 1305.75 11.0023 Q1311.67 11.0023 1316.97 12.4606 Q1322.32 13.9189 1326.82 16.7545 L1326.82 25.464 Q1322.28 21.6156 1317.17 19.6712 Q1312.07 17.7268 1306.44 17.7268 Q1295.34 17.7268 1289.75 23.9246 Q1284.2 30.1225 1284.2 42.3968 Q1284.2 54.6305 1289.75 60.8284 Q1295.34 67.0263 1306.44 67.0263 Q1310.77 67.0263 1314.18 66.2971 Q1317.58 65.5274 1320.29 63.9476 Z\" fill=\"#000000\" fill-rule=\"nonzero\" fill-opacity=\"1\" /><path clip-path=\"url(#clip920)\" d=\"M1388.63 16.7545 L1388.63 25.383 Q1384.5 21.5346 1379.8 19.6307 Q1375.14 17.7268 1369.88 17.7268 Q1359.51 17.7268 1354 24.0867 Q1348.49 30.4061 1348.49 42.3968 Q1348.49 54.3469 1354 60.7069 Q1359.51 67.0263 1369.88 67.0263 Q1375.14 67.0263 1379.8 65.1223 Q1384.5 63.2184 1388.63 59.3701 L1388.63 67.9175 Q1384.34 70.8341 1379.52 72.2924 Q1374.74 73.7508 1369.39 73.7508 Q1355.66 73.7508 1347.76 65.3654 Q1339.86 56.9395 1339.86 42.3968 Q1339.86 27.8135 1347.76 19.4281 Q1355.66 11.0023 1369.39 11.0023 Q1374.82 11.0023 1379.6 12.4606 Q1384.42 13.8784 1388.63 16.7545 Z\" fill=\"#000000\" fill-rule=\"nonzero\" fill-opacity=\"1\" /><polyline clip-path=\"url(#clip922)\" style=\"stroke:#009af9; stroke-linecap:round; stroke-linejoin:round; stroke-width:4; stroke-opacity:1; fill:none\" points=\"250.464,905.684 304.176,800.555 357.889,756.481 411.601,827.783 465.313,751.995 519.025,693.749 572.737,944.364 626.449,968.082 680.161,869.785 733.873,807.859 787.585,752.596 841.297,868.871 895.01,738.712 948.722,1020.79 1002.43,885.095 1056.15,915.185 1109.86,871.069 1163.57,782.362 1217.28,797.626 1270.99,843.56 1324.71,871.109 1378.42,1057.92 1432.13,1447.87 1485.84,938.257 1539.55,964.901 1593.27,884.899 1646.98,776.588 1700.69,987.252 1754.4,689.266 1808.12,894.539 1861.83,1019.16 1915.54,855.717 1969.25,761.828 2022.96,711.423 2076.68,749.386 2130.39,661.012 2184.1,648.086 2237.81,625.258 2291.52,695.917 \"/>\n",
       "<polyline clip-path=\"url(#clip922)\" style=\"stroke:#e26f46; stroke-linecap:round; stroke-linejoin:round; stroke-width:4; stroke-opacity:1; fill:none\" points=\"250.464,872.802 304.176,795.072 357.889,718.345 411.601,654.555 465.313,593.712 519.025,541.514 572.737,843.845 626.449,756.526 680.161,687.86 733.873,622.698 787.585,540.971 841.297,498.22 895.01,432.262 948.722,857.033 1002.43,757.626 1056.15,699.467 1109.86,637.217 1163.57,567.985 1217.28,510.091 1270.99,458.376 1324.71,397.705 1378.42,870.283 1432.13,761.865 1485.84,705.139 1539.55,630.08 1593.27,558.886 1646.98,507.934 1700.69,430.951 1754.4,391.098 1808.12,329.568 1861.83,748.82 1915.54,673.821 1969.25,591.339 2022.96,533.288 2076.68,444.192 2130.39,391.397 2184.1,322.616 2237.81,246.059 2291.52,196.516 \"/>\n",
       "<polyline clip-path=\"url(#clip922)\" style=\"stroke:#3da44d; stroke-linecap:round; stroke-linejoin:round; stroke-width:4; stroke-opacity:1; fill:none\" points=\"250.464,760.324 304.176,696.213 357.889,609.401 411.601,582.877 465.313,520.433 519.025,484.291 572.737,857.985 626.449,794.27 680.161,729.05 733.873,664.943 787.585,589.521 841.297,559.777 895.01,480.9 948.722,951.474 1002.43,879.478 1056.15,803.121 1109.86,735.855 1163.57,668.533 1217.28,600.432 1270.99,545.658 1324.71,473.806 1378.42,864.291 1432.13,788.439 1485.84,707.24 1539.55,656.443 1593.27,591.495 1646.98,530.217 1700.69,480.621 1754.4,427.525 1808.12,402.08 1861.83,670.48 1915.54,589.921 1969.25,506.547 2022.96,448.187 2076.68,385.144 2130.39,324.371 2184.1,266.67 2237.81,228.757 2291.52,162.047 \"/>\n",
       "<polyline clip-path=\"url(#clip922)\" style=\"stroke:#c271d2; stroke-linecap:round; stroke-linejoin:round; stroke-width:4; stroke-opacity:1; fill:none\" points=\"250.464,828.347 304.176,765.036 357.889,677.488 411.601,660.713 465.313,594.206 519.025,554.399 572.737,946.646 626.449,887.03 680.161,841.176 733.873,767.231 787.585,694.265 841.297,692.374 895.01,604.589 948.722,1031.34 1002.43,985.328 1056.15,903.669 1109.86,857.273 1163.57,790.775 1217.28,716.788 1270.99,651.155 1324.71,575.572 1378.42,907.11 1432.13,832.418 1485.84,768.5 1539.55,708.202 1593.27,643.607 1646.98,581.765 1700.69,539.863 1754.4,480.948 1808.12,442.088 1861.83,691.231 1915.54,604.327 1969.25,529.148 2022.96,467.986 2076.68,404.334 2130.39,344.924 2184.1,283.79 2237.81,245.947 2291.52,181.929 \"/>\n",
       "<path clip-path=\"url(#clip920)\" d=\"M1934.75 428.105 L2280.64 428.105 L2280.64 168.905 L1934.75 168.905  Z\" fill=\"#ffffff\" fill-rule=\"evenodd\" fill-opacity=\"1\"/>\n",
       "<polyline clip-path=\"url(#clip920)\" style=\"stroke:#000000; stroke-linecap:round; stroke-linejoin:round; stroke-width:4; stroke-opacity:1; fill:none\" points=\"1934.75,428.105 2280.64,428.105 2280.64,168.905 1934.75,168.905 1934.75,428.105 \"/>\n",
       "<polyline clip-path=\"url(#clip920)\" style=\"stroke:#009af9; stroke-linecap:round; stroke-linejoin:round; stroke-width:4; stroke-opacity:1; fill:none\" points=\"1958.79,220.745 2103.02,220.745 \"/>\n",
       "<path clip-path=\"url(#clip920)\" d=\"M2131.74 207.307 L2131.74 234.182 L2137.39 234.182 Q2144.54 234.182 2147.85 230.941 Q2151.18 227.701 2151.18 220.71 Q2151.18 213.766 2147.85 210.548 Q2144.54 207.307 2137.39 207.307 L2131.74 207.307 M2127.06 203.465 L2136.67 203.465 Q2146.72 203.465 2151.41 207.654 Q2156.11 211.821 2156.11 220.71 Q2156.11 229.645 2151.39 233.835 Q2146.67 238.025 2136.67 238.025 L2127.06 238.025 L2127.06 203.465 Z\" fill=\"#000000\" fill-rule=\"nonzero\" fill-opacity=\"1\" /><path clip-path=\"url(#clip920)\" d=\"M2161.53 212.099 L2181.76 212.099 L2181.76 215.988 L2165.74 234.622 L2181.76 234.622 L2181.76 238.025 L2160.95 238.025 L2160.95 234.136 L2176.97 215.502 L2161.53 215.502 L2161.53 212.099 Z\" fill=\"#000000\" fill-rule=\"nonzero\" fill-opacity=\"1\" /><polyline clip-path=\"url(#clip920)\" style=\"stroke:#e26f46; stroke-linecap:round; stroke-linejoin:round; stroke-width:4; stroke-opacity:1; fill:none\" points=\"1958.79,272.585 2103.02,272.585 \"/>\n",
       "<path clip-path=\"url(#clip920)\" d=\"M2127.06 255.305 L2131.79 255.305 L2139.05 284.517 L2146.3 255.305 L2151.55 255.305 L2158.82 284.517 L2166.07 255.305 L2170.81 255.305 L2162.13 289.865 L2156.25 289.865 L2148.96 259.865 L2141.6 289.865 L2135.72 289.865 L2127.06 255.305 Z\" fill=\"#000000\" fill-rule=\"nonzero\" fill-opacity=\"1\" /><path clip-path=\"url(#clip920)\" d=\"M2174.98 263.939 L2195.21 263.939 L2195.21 267.828 L2179.19 286.462 L2195.21 286.462 L2195.21 289.865 L2174.4 289.865 L2174.4 285.976 L2190.42 267.342 L2174.98 267.342 L2174.98 263.939 Z\" fill=\"#000000\" fill-rule=\"nonzero\" fill-opacity=\"1\" /><path clip-path=\"url(#clip920)\" d=\"M2206.58 259.147 L2206.58 286.022 L2212.22 286.022 Q2219.38 286.022 2222.69 282.781 Q2226.02 279.541 2226.02 272.55 Q2226.02 265.606 2222.69 262.388 Q2219.38 259.147 2212.22 259.147 L2206.58 259.147 M2201.9 255.305 L2211.51 255.305 Q2221.55 255.305 2226.25 259.494 Q2230.95 263.661 2230.95 272.55 Q2230.95 281.485 2226.23 285.675 Q2221.51 289.865 2211.51 289.865 L2201.9 289.865 L2201.9 255.305 Z\" fill=\"#000000\" fill-rule=\"nonzero\" fill-opacity=\"1\" /><path clip-path=\"url(#clip920)\" d=\"M2236.37 263.939 L2256.6 263.939 L2256.6 267.828 L2240.58 286.462 L2256.6 286.462 L2256.6 289.865 L2235.79 289.865 L2235.79 285.976 L2251.81 267.342 L2236.37 267.342 L2236.37 263.939 Z\" fill=\"#000000\" fill-rule=\"nonzero\" fill-opacity=\"1\" /><polyline clip-path=\"url(#clip920)\" style=\"stroke:#3da44d; stroke-linecap:round; stroke-linejoin:round; stroke-width:4; stroke-opacity:1; fill:none\" points=\"1958.79,324.425 2103.02,324.425 \"/>\n",
       "<path clip-path=\"url(#clip920)\" d=\"M2131.74 310.987 L2131.74 323.973 L2137.62 323.973 Q2140.88 323.973 2142.66 322.283 Q2144.45 320.594 2144.45 317.469 Q2144.45 314.367 2142.66 312.677 Q2140.88 310.987 2137.62 310.987 L2131.74 310.987 M2127.06 307.145 L2137.62 307.145 Q2143.43 307.145 2146.39 309.784 Q2149.38 312.399 2149.38 317.469 Q2149.38 322.584 2146.39 325.2 Q2143.43 327.816 2137.62 327.816 L2131.74 327.816 L2131.74 341.705 L2127.06 341.705 L2127.06 307.145 Z\" fill=\"#000000\" fill-rule=\"nonzero\" fill-opacity=\"1\" /><path clip-path=\"url(#clip920)\" d=\"M2181.53 309.807 L2181.53 314.737 Q2179.17 312.538 2176.48 311.45 Q2173.82 310.362 2170.81 310.362 Q2164.89 310.362 2161.74 313.996 Q2158.59 317.608 2158.59 324.459 Q2158.59 331.288 2161.74 334.922 Q2164.89 338.533 2170.81 338.533 Q2173.82 338.533 2176.48 337.445 Q2179.17 336.357 2181.53 334.158 L2181.53 339.043 Q2179.08 340.709 2176.32 341.543 Q2173.59 342.376 2170.53 342.376 Q2162.69 342.376 2158.17 337.584 Q2153.66 332.77 2153.66 324.459 Q2153.66 316.126 2158.17 311.334 Q2162.69 306.52 2170.53 306.52 Q2173.64 306.52 2176.37 307.353 Q2179.12 308.163 2181.53 309.807 Z\" fill=\"#000000\" fill-rule=\"nonzero\" fill-opacity=\"1\" /><path clip-path=\"url(#clip920)\" d=\"M2200.3 311.751 L2193.96 328.95 L2206.67 328.95 L2200.3 311.751 M2197.66 307.145 L2202.97 307.145 L2216.14 341.705 L2211.28 341.705 L2208.13 332.839 L2192.55 332.839 L2189.4 341.705 L2184.47 341.705 L2197.66 307.145 Z\" fill=\"#000000\" fill-rule=\"nonzero\" fill-opacity=\"1\" /><polyline clip-path=\"url(#clip920)\" style=\"stroke:#c271d2; stroke-linecap:round; stroke-linejoin:round; stroke-width:4; stroke-opacity:1; fill:none\" points=\"1958.79,376.265 2103.02,376.265 \"/>\n",
       "<path clip-path=\"url(#clip920)\" d=\"M2152.62 388.614 L2152.62 379.332 L2144.98 379.332 L2144.98 375.489 L2157.25 375.489 L2157.25 390.327 Q2154.54 392.248 2151.28 393.244 Q2148.01 394.216 2144.31 394.216 Q2136.21 394.216 2131.62 389.494 Q2127.06 384.748 2127.06 376.299 Q2127.06 367.827 2131.62 363.105 Q2136.21 358.36 2144.31 358.36 Q2147.69 358.36 2150.72 359.193 Q2153.78 360.026 2156.35 361.647 L2156.35 366.623 Q2153.75 364.424 2150.84 363.313 Q2147.92 362.202 2144.7 362.202 Q2138.36 362.202 2135.16 365.744 Q2131.99 369.286 2131.99 376.299 Q2131.99 383.29 2135.16 386.832 Q2138.36 390.373 2144.7 390.373 Q2147.18 390.373 2149.12 389.957 Q2151.07 389.517 2152.62 388.614 Z\" fill=\"#000000\" fill-rule=\"nonzero\" fill-opacity=\"1\" /><path clip-path=\"url(#clip920)\" d=\"M2170.47 362.827 L2170.47 375.813 L2176.35 375.813 Q2179.61 375.813 2181.39 374.123 Q2183.17 372.434 2183.17 369.309 Q2183.17 366.207 2181.39 364.517 Q2179.61 362.827 2176.35 362.827 L2170.47 362.827 M2165.79 358.985 L2176.35 358.985 Q2182.16 358.985 2185.12 361.624 Q2188.1 364.239 2188.1 369.309 Q2188.1 374.424 2185.12 377.04 Q2182.16 379.656 2176.35 379.656 L2170.47 379.656 L2170.47 393.545 L2165.79 393.545 L2165.79 358.985 Z\" fill=\"#000000\" fill-rule=\"nonzero\" fill-opacity=\"1\" /></svg>\n"
      ]
     },
     "execution_count": 20,
     "metadata": {},
     "output_type": "execute_result"
    }
   ],
   "source": [
    "plot(diag(Cmod_dz) ./ diag(meta.cov), label=\"Dz\", yscale=:log10)\n",
    "plot!(diag(Cmod_wzdz) ./ diag(meta.cov), label=\"WzDz\", yscale=:log10)\n",
    "plot!(diag(Cmod_pca) ./ diag(meta.cov), label=\"PCA\", yscale=:log10)\n",
    "plot!(diag(Cmod_gp) ./ diag(meta.cov), label=\"GP\", yscale=:log10, title=\"GCGC\")"
   ]
  },
  {
   "cell_type": "markdown",
   "id": "99c7d3bf",
   "metadata": {},
   "source": [
    "## Save"
   ]
  },
  {
   "cell_type": "code",
   "execution_count": 21,
   "id": "24092f5f",
   "metadata": {},
   "outputs": [],
   "source": [
    "using NPZ\n",
    "npzwrite(string(\"../covs/COSMODC2/\", method, \"_gcgc_tpts_covs.npz\"),\n",
    "        Dict(\n",
    "        \"cov\"     => meta.cov,\n",
    "        \"TT_dz\"   => Symmetric(meta.cov + Cmod_dz),\n",
    "        \"TT_wzdz\" => Symmetric(meta.cov + Cmod_wzdz),\n",
    "        \"TT_pca\"  => Symmetric(meta.cov + Cmod_pca),\n",
    "        \"TT_gp\"   => Symmetric(meta.cov + Cmod_gp)))"
   ]
  }
 ],
 "metadata": {
  "kernelspec": {
   "display_name": "Julia (10 threads) 1.11.0",
   "language": "julia",
   "name": "julia-_10-threads_-1.11"
  },
  "language_info": {
   "file_extension": ".jl",
   "mimetype": "application/julia",
   "name": "julia",
   "version": "1.11.0"
  }
 },
 "nbformat": 4,
 "nbformat_minor": 5
}
