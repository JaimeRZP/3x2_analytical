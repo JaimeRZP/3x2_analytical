{
 "cells": [
  {
   "cell_type": "code",
   "execution_count": 1,
   "id": "10e5764a",
   "metadata": {},
   "outputs": [
    {
     "name": "stderr",
     "output_type": "stream",
     "text": [
      "\u001b[32m\u001b[1m  Activating\u001b[22m\u001b[39m project at `~/Documents/UCL/3x2_analytical`\n"
     ]
    }
   ],
   "source": [
    "using Pkg\n",
    "Pkg.activate(\"../\")\n",
    "#Pkg.instantiate()"
   ]
  },
  {
   "cell_type": "code",
   "execution_count": 2,
   "id": "02df9ee7",
   "metadata": {},
   "outputs": [],
   "source": [
    "using LinearAlgebra\n",
    "using ForwardDiff\n",
    "using Plots\n",
    "using LimberJack\n",
    "using CSV\n",
    "using YAML\n",
    "using NPZ\n",
    "using DataFrames\n",
    "using PythonCall\n",
    "using Statistics\n",
    "using Interpolations\n",
    "using SparseArrays\n",
    "sacc = pyimport(\"sacc\");"
   ]
  },
  {
   "cell_type": "markdown",
   "id": "9cc48b85",
   "metadata": {},
   "source": [
    "# Judith's Chain"
   ]
  },
  {
   "cell_type": "code",
   "execution_count": 3,
   "id": "07117090",
   "metadata": {},
   "outputs": [
    {
     "data": {
      "text/plain": [
       "make_Cmod (generic function with 1 method)"
      ]
     },
     "execution_count": 3,
     "metadata": {},
     "output_type": "execute_result"
    }
   ],
   "source": [
    "function make_Cmod(m, model)\n",
    "    T = ForwardDiff.jacobian(model, zeros(m))\n",
    "    return T * T'\n",
    "end"
   ]
  },
  {
   "cell_type": "markdown",
   "metadata": {},
   "source": [
    "## Data"
   ]
  },
  {
   "cell_type": "code",
   "execution_count": 4,
   "id": "69e20555",
   "metadata": {},
   "outputs": [
    {
     "name": "stdout",
     "output_type": "stream",
     "text": [
      "lens_0 lens_0 6\n",
      "lens_1 lens_1 7\n",
      "lens_2 lens_2 8\n",
      "lens_3 lens_3 9\n",
      "lens_4 lens_4 9\n",
      "using custom nz for nz_lens_0\n",
      "using custom nz for nz_lens_1\n",
      "using custom nz for nz_lens_2\n",
      "using custom nz for nz_lens_3\n",
      "using custom nz for nz_lens_4\n"
     ]
    }
   ],
   "source": [
    "method = \"sompz\" # \"bpz\", \"lognormal\" or \"sompz\"\n",
    "sacc_path = \"../data/CosmoDC2/summary_statistics_fourier_tjpcov.sacc\"\n",
    "yaml_path = \"../data/CosmoDC2/gcgc.yml\"\n",
    "nz_path = string(\"../data/CosmoDC2/nzs_\", method, \"/dz_priors/\")\n",
    "\n",
    "sacc_file = sacc.Sacc().load_fits(sacc_path)\n",
    "yaml_file = YAML.load_file(yaml_path)\n",
    "\n",
    "nz_lens_0 = npzread(string(nz_path, \"dz_lens_0.npz\"))\n",
    "nz_lens_1 = npzread(string(nz_path, \"dz_lens_1.npz\"))\n",
    "nz_lens_2 = npzread(string(nz_path, \"dz_lens_2.npz\"))\n",
    "nz_lens_3 = npzread(string(nz_path, \"dz_lens_3.npz\"))\n",
    "nz_lens_4 = npzread(string(nz_path, \"dz_lens_4.npz\"))\n",
    "\n",
    "meta, files = make_data(sacc_file, yaml_file;\n",
    "    nz_lens_0=nz_lens_0,\n",
    "    nz_lens_1=nz_lens_1,\n",
    "    nz_lens_2=nz_lens_2,\n",
    "    nz_lens_3=nz_lens_3,\n",
    "    nz_lens_4=nz_lens_4)\n",
    "\n",
    "meta.types = [ \n",
    "    \"galaxy_density\",\n",
    "    \"galaxy_density\",\n",
    "    \"galaxy_density\",\n",
    "    \"galaxy_density\",\n",
    "    \"galaxy_density\",\n",
    "    \"galaxy_shear\", \n",
    "    \"galaxy_shear\", \n",
    "    \"galaxy_shear\",\n",
    "    \"galaxy_shear\",\n",
    "    \"galaxy_shear\"];"
   ]
  },
  {
   "cell_type": "markdown",
   "id": "197767da",
   "metadata": {},
   "source": [
    "## dz"
   ]
  },
  {
   "cell_type": "code",
   "execution_count": 6,
   "id": "ac4483a7",
   "metadata": {},
   "outputs": [],
   "source": [
    "nz_path = string(\"../data/CosmoDC2/nzs_\", method, \"/dz_priors/\")\n",
    "nz_lens_0 = npzread(string(nz_path, \"dz_lens_0.npz\"))\n",
    "nz_lens_1 = npzread(string(nz_path, \"dz_lens_1.npz\"))\n",
    "nz_lens_2 = npzread(string(nz_path, \"dz_lens_2.npz\"))\n",
    "nz_lens_3 = npzread(string(nz_path, \"dz_lens_3.npz\"))\n",
    "nz_lens_4 = npzread(string(nz_path, \"dz_lens_4.npz\"))\n",
    "\n",
    "zs_k0, nz_k0 = nz_lens_0[\"z\"], nz_lens_0[\"dndz\"]\n",
    "zs_k1, nz_k1 = nz_lens_1[\"z\"], nz_lens_1[\"dndz\"]\n",
    "zs_k2, nz_k2 = nz_lens_2[\"z\"], nz_lens_2[\"dndz\"]\n",
    "zs_k3, nz_k3 = nz_lens_3[\"z\"], nz_lens_3[\"dndz\"]\n",
    "zs_k4, nz_k4 = nz_lens_4[\"z\"], nz_lens_4[\"dndz\"]\n",
    "\n",
    "chol_lens_0 = nz_lens_0[\"chol\"]\n",
    "chol_lens_1 = nz_lens_1[\"chol\"]\n",
    "chol_lens_2 = nz_lens_2[\"chol\"]\n",
    "chol_lens_3 = nz_lens_3[\"chol\"]\n",
    "chol_lens_4 = nz_lens_4[\"chol\"];"
   ]
  },
  {
   "cell_type": "code",
   "execution_count": 7,
   "id": "a6215897",
   "metadata": {},
   "outputs": [],
   "source": [
    "function model_dz(alphas; \n",
    "    Ωm=0.27347, σ8=0.779007, Ωb=0.04217, h=0.71899, ns=0.99651,\n",
    "    lens_0_b=0.879118, \n",
    "    lens_1_b=1.05894, \n",
    "    lens_2_b=1.22145, \n",
    "    lens_3_b=1.35065, \n",
    "    lens_4_b=1.58909,\n",
    "    meta=meta, files=files)\n",
    "\n",
    "    dz_lens_0 = chol_lens_0 * alphas[1]\n",
    "    dz_lens_1 = chol_lens_1 * alphas[2]\n",
    "    dz_lens_2 = chol_lens_2 * alphas[3]\n",
    "    dz_lens_3 = chol_lens_3 * alphas[4]\n",
    "    dz_lens_4 = chol_lens_4 * alphas[5]\n",
    "\n",
    "    lens_0_zs   = @.(zs_k0 + dz_lens_0)\n",
    "    lens_1_zs   = @.(zs_k1 + dz_lens_1)\n",
    "    lens_2_zs   = @.(zs_k2 + dz_lens_2)\n",
    "    lens_3_zs   = @.(zs_k3 + dz_lens_3)\n",
    "    lens_4_zs   = @.(zs_k4 + dz_lens_4)\n",
    "\n",
    "    nuisances = Dict(\n",
    "    \"lens_0_b\"    => lens_0_b,\n",
    "    \"lens_1_b\"    => lens_1_b,\n",
    "    \"lens_2_b\"    => lens_2_b,\n",
    "    \"lens_3_b\"    => lens_3_b,\n",
    "    \"lens_4_b\"    => lens_4_b,\n",
    "    \"lens_0_zs\"   => lens_0_zs,\n",
    "    \"lens_1_zs\"   => lens_1_zs,\n",
    "    \"lens_2_zs\"   => lens_2_zs,\n",
    "    \"lens_3_zs\"   => lens_3_zs,\n",
    "    \"lens_4_zs\"   => lens_4_zs)\n",
    "        \n",
    "    cosmo = Cosmology(Ωm=Ωm, Ωb=Ωb, h=h, ns=ns, σ8=σ8,\n",
    "        tk_mode=:EisHu,\n",
    "        pk_mode=:Halofit)\n",
    "\n",
    "    cosmo.settings.cosmo_type = eltype(valtype(alphas))\n",
    "    return Theory(cosmo, meta, files; Nuisances=nuisances)\n",
    "end;"
   ]
  },
  {
   "cell_type": "code",
   "execution_count": 8,
   "id": "f1afeda2",
   "metadata": {},
   "outputs": [],
   "source": [
    "Cmod_dz = make_Cmod(10, model_dz);"
   ]
  },
  {
   "cell_type": "markdown",
   "id": "e22b75b0",
   "metadata": {},
   "source": [
    "## wzdz"
   ]
  },
  {
   "cell_type": "code",
   "execution_count": 9,
   "id": "e7be8345",
   "metadata": {},
   "outputs": [],
   "source": [
    "nz_path = string(\"../data/CosmoDC2/nzs_\", method, \"/wzdz_priors/\")\n",
    "\n",
    "nz_lens_0 = npzread(string(nz_path, \"wzdz_lens_0.npz\"))\n",
    "nz_lens_1 = npzread(string(nz_path, \"wzdz_lens_1.npz\"))\n",
    "nz_lens_2 = npzread(string(nz_path, \"wzdz_lens_2.npz\"))\n",
    "nz_lens_3 = npzread(string(nz_path, \"wzdz_lens_3.npz\"))\n",
    "nz_lens_4 = npzread(string(nz_path, \"wzdz_lens_4.npz\"))\n",
    "\n",
    "zs_k0, nz_k0 = nz_lens_0[\"z\"], nz_lens_0[\"dndz\"]\n",
    "zs_k1, nz_k1 = nz_lens_1[\"z\"], nz_lens_1[\"dndz\"]\n",
    "zs_k2, nz_k2 = nz_lens_2[\"z\"], nz_lens_2[\"dndz\"]\n",
    "zs_k3, nz_k3 = nz_lens_3[\"z\"], nz_lens_3[\"dndz\"]\n",
    "zs_k4, nz_k4 = nz_lens_4[\"z\"], nz_lens_4[\"dndz\"]\n",
    "\n",
    "mu_k0 = sum(zs_k0 .* nz_k0) / sum(nz_k0)\n",
    "mu_k1 = sum(zs_k1 .* nz_k1) / sum(nz_k1)\n",
    "mu_k2 = sum(zs_k2 .* nz_k2) / sum(nz_k2)\n",
    "mu_k3 = sum(zs_k3 .* nz_k3) / sum(nz_k3)\n",
    "mu_k4 = sum(zs_k4 .* nz_k4) / sum(nz_k4)\n",
    "\n",
    "chol_lens_0 = nz_lens_0[\"chol\"]\n",
    "chol_lens_1 = nz_lens_1[\"chol\"]\n",
    "chol_lens_2 = nz_lens_2[\"chol\"]\n",
    "chol_lens_3 = nz_lens_3[\"chol\"]\n",
    "chol_lens_4 = nz_lens_4[\"chol\"];"
   ]
  },
  {
   "cell_type": "code",
   "execution_count": 10,
   "id": "f53abe3b",
   "metadata": {},
   "outputs": [],
   "source": [
    "function model_wzdz(alphas; \n",
    "    Ωm=0.27347, σ8=0.779007, Ωb=0.04217, h=0.71899, ns=0.99651,\n",
    "    lens_0_b=0.879118, \n",
    "    lens_1_b=1.05894, \n",
    "    lens_2_b=1.22145, \n",
    "    lens_3_b=1.35065, \n",
    "    lens_4_b=1.58909,\n",
    "    meta=meta, files=files)\n",
    "\n",
    "    snw_lens_0 = chol_lens_0 * alphas[1:2]\n",
    "    dz_lens_0 = snw_lens_0[1]\n",
    "    wz_lens_0 = 1 + snw_lens_0[2]\n",
    "\n",
    "    snw_lens_1 = chol_lens_1 * alphas[3:4]\n",
    "    dz_lens_1 = snw_lens_1[1]\n",
    "    wz_lens_1 = 1 + snw_lens_1[2]\n",
    "\n",
    "    snw_lens_2 = chol_lens_2 * alphas[5:6]\n",
    "    dz_lens_2 = snw_lens_2[1]\n",
    "    wz_lens_2 = 1 + snw_lens_2[2]\n",
    "\n",
    "    snw_lens_3 = chol_lens_3 * alphas[7:8]\n",
    "    dz_lens_3 = snw_lens_3[1]\n",
    "    wz_lens_3 = 1 + snw_lens_3[2]\n",
    "\n",
    "    snw_lens_4 = chol_lens_4 * alphas[9:10]\n",
    "    dz_lens_4 = snw_lens_4[1]\n",
    "    wz_lens_4 = 1 + snw_lens_4[2]\n",
    "    \n",
    "    lens_0_zs   = @.((zs_k0 - mu_k0 + dz_lens_0) / wz_lens_0 + mu_k0)\n",
    "    lens_1_zs   = @.((zs_k1 - mu_k1 + dz_lens_1) / wz_lens_1 + mu_k1)\n",
    "    lens_2_zs   = @.((zs_k2 - mu_k2 + dz_lens_2) / wz_lens_2 + mu_k2)\n",
    "    lens_3_zs   = @.((zs_k3 - mu_k3 + dz_lens_3) / wz_lens_3 + mu_k3)\n",
    "    lens_4_zs   = @.((zs_k4 - mu_k4 + dz_lens_4) / wz_lens_4 + mu_k4)\n",
    "\n",
    "\n",
    "    nuisances = Dict(\n",
    "        \"lens_0_b\"    => lens_0_b,\n",
    "        \"lens_1_b\"    => lens_1_b,\n",
    "        \"lens_2_b\"    => lens_2_b,\n",
    "        \"lens_3_b\"    => lens_3_b,\n",
    "        \"lens_4_b\"    => lens_4_b,\n",
    "        \"lens_0_zs\"   => lens_0_zs,\n",
    "        \"lens_1_zs\"   => lens_1_zs,\n",
    "        \"lens_2_zs\"   => lens_2_zs,\n",
    "        \"lens_3_zs\"   => lens_3_zs,\n",
    "        \"lens_4_zs\"   => lens_4_zs)\n",
    "        \n",
    "    cosmo = Cosmology(Ωm=Ωm, Ωb=Ωb, h=h, ns=ns, σ8=σ8,\n",
    "        tk_mode=:EisHu,\n",
    "        pk_mode=:Halofit)\n",
    "\n",
    "    cosmo.settings.cosmo_type = eltype(valtype(alphas))\n",
    "    return Theory(cosmo, meta, files; Nuisances=nuisances)\n",
    "end;"
   ]
  },
  {
   "cell_type": "code",
   "execution_count": 11,
   "id": "04a97087",
   "metadata": {},
   "outputs": [],
   "source": [
    "Cmod_wzdz = make_Cmod(20, model_wzdz);"
   ]
  },
  {
   "cell_type": "markdown",
   "id": "a9018bf5",
   "metadata": {},
   "source": [
    "## PCA"
   ]
  },
  {
   "cell_type": "code",
   "execution_count": 12,
   "id": "af80c968",
   "metadata": {},
   "outputs": [],
   "source": [
    "nz_path = string(\"../data/CosmoDC2/nzs_\", method, \"/PCA_priors/\")\n",
    "nz_lens_0 = npzread(string(nz_path, \"PCA_lens_0.npz\"))\n",
    "nz_lens_1 = npzread(string(nz_path, \"PCA_lens_1.npz\"))\n",
    "nz_lens_2 = npzread(string(nz_path, \"PCA_lens_2.npz\"))\n",
    "nz_lens_3 = npzread(string(nz_path, \"PCA_lens_3.npz\"))\n",
    "nz_lens_4 = npzread(string(nz_path, \"PCA_lens_4.npz\"))\n",
    "\n",
    "zs_k0, nz_k0 = nz_lens_0[\"z\"], nz_lens_0[\"dndz\"]\n",
    "zs_k1, nz_k1 = nz_lens_1[\"z\"], nz_lens_1[\"dndz\"]\n",
    "zs_k2, nz_k2 = nz_lens_2[\"z\"], nz_lens_2[\"dndz\"]\n",
    "zs_k3, nz_k3 = nz_lens_3[\"z\"], nz_lens_3[\"dndz\"]\n",
    "zs_k4, nz_k4 = nz_lens_4[\"z\"], nz_lens_4[\"dndz\"]\n",
    "\n",
    "W_lens_0 = nz_lens_0[\"W\"]\n",
    "W_lens_1 = nz_lens_1[\"W\"]\n",
    "W_lens_2 = nz_lens_2[\"W\"]\n",
    "W_lens_3 = nz_lens_3[\"W\"]\n",
    "W_lens_4 = nz_lens_4[\"W\"];"
   ]
  },
  {
   "cell_type": "code",
   "execution_count": 13,
   "metadata": {},
   "outputs": [],
   "source": [
    "function model_pca(alphas; \n",
    "    Ωm=0.27347, σ8=0.779007, Ωb=0.04217, h=0.71899, ns=0.99651,\n",
    "    lens_0_b=0.879118, \n",
    "    lens_1_b=1.05894, \n",
    "    lens_2_b=1.22145, \n",
    "    lens_3_b=1.35065, \n",
    "    lens_4_b=1.58909,\n",
    "    meta=meta, files=files)\n",
    "\n",
    "    nz_lens_0 = nz_k0 + W_lens_0 * alphas[1:5]\n",
    "    nz_lens_1 = nz_k1 + W_lens_1 * alphas[6:10]\n",
    "    nz_lens_2 = nz_k2 + W_lens_2 * alphas[11:15]\n",
    "    nz_lens_3 = nz_k3 + W_lens_3 * alphas[16:20]\n",
    "    nz_lens_4 = nz_k4 + W_lens_4 * alphas[21:25]\n",
    "\n",
    "    nuisances = Dict(\n",
    "        \"lens_0_b\"    => lens_0_b,\n",
    "        \"lens_1_b\"    => lens_1_b,\n",
    "        \"lens_2_b\"    => lens_2_b,\n",
    "        \"lens_3_b\"    => lens_3_b,\n",
    "        \"lens_4_b\"    => lens_4_b,\n",
    "        \"lens_0_nz\"   => nz_lens_0,\n",
    "        \"lens_1_nz\"   => nz_lens_1,\n",
    "        \"lens_2_nz\"   => nz_lens_2,\n",
    "        \"lens_3_nz\"   => nz_lens_3,\n",
    "        \"lens_4_nz\"   => nz_lens_4)\n",
    "        \n",
    "    cosmo = Cosmology(Ωm=Ωm, Ωb=Ωb, h=h, ns=ns, σ8=σ8,\n",
    "        tk_mode=:EisHu,\n",
    "        pk_mode=:Halofit)\n",
    "\n",
    "    cosmo.settings.cosmo_type = eltype(valtype(alphas))\n",
    "    return Theory(cosmo, meta, files; Nuisances=nuisances)\n",
    "end;"
   ]
  },
  {
   "cell_type": "code",
   "execution_count": 14,
   "id": "a60a2d10",
   "metadata": {},
   "outputs": [],
   "source": [
    "Cmod_pca = make_Cmod(50, model_pca);"
   ]
  },
  {
   "cell_type": "markdown",
   "id": "b15a3fc0",
   "metadata": {},
   "source": [
    "## GP"
   ]
  },
  {
   "cell_type": "code",
   "execution_count": 15,
   "id": "b6085804",
   "metadata": {},
   "outputs": [],
   "source": [
    "nz_path = string(\"../data/CosmoDC2/nzs_\", method, \"/gp_priors/\")\n",
    "nz_lens_0 = npzread(string(nz_path, \"gp_lens_0.npz\"))\n",
    "nz_lens_1 = npzread(string(nz_path, \"gp_lens_1.npz\"))\n",
    "nz_lens_2 = npzread(string(nz_path, \"gp_lens_2.npz\"))\n",
    "nz_lens_3 = npzread(string(nz_path, \"gp_lens_3.npz\"))\n",
    "nz_lens_4 = npzread(string(nz_path, \"gp_lens_4.npz\"))\n",
    "\n",
    "zs_k0, nz_k0 = nz_lens_0[\"z\"], nz_lens_0[\"dndz\"]\n",
    "zs_k1, nz_k1 = nz_lens_1[\"z\"], nz_lens_1[\"dndz\"]\n",
    "zs_k2, nz_k2 = nz_lens_2[\"z\"], nz_lens_2[\"dndz\"]\n",
    "zs_k3, nz_k3 = nz_lens_3[\"z\"], nz_lens_3[\"dndz\"]\n",
    "zs_k4, nz_k4 = nz_lens_4[\"z\"], nz_lens_4[\"dndz\"]\n",
    "\n",
    "W_lens_0 = nz_lens_0[\"W\"]\n",
    "W_lens_1 = nz_lens_1[\"W\"]\n",
    "W_lens_2 = nz_lens_2[\"W\"]\n",
    "W_lens_3 = nz_lens_3[\"W\"]\n",
    "W_lens_4 = nz_lens_4[\"W\"];\n"
   ]
  },
  {
   "cell_type": "code",
   "execution_count": 16,
   "id": "ba20d3ae",
   "metadata": {},
   "outputs": [],
   "source": [
    "function nz_itp(q, nq, z)\n",
    "    dq = mean(q[2:end] - q[1:end-1])\n",
    "    q_range = q[1]:dq:q[end]\n",
    "    nz_int = cubic_spline_interpolation(q_range, nq;\n",
    "        extrapolation_bc=Line())\n",
    "    return nz_int(z)\n",
    "end\n",
    "\n",
    "function model_gp(alphas; \n",
    "    Ωm=0.27347, σ8=0.779007, Ωb=0.04217, h=0.71899, ns=0.99651,\n",
    "    lens_0_b=0.879118, \n",
    "    lens_1_b=1.05894, \n",
    "    lens_2_b=1.22145, \n",
    "    lens_3_b=1.35065, \n",
    "    lens_4_b=1.58909,\n",
    "    meta=meta, files=files)\n",
    "\n",
    "    nz_lens_0 = nz_k0 + W_lens_0 * alphas[1:5]\n",
    "    nz_lens_1 = nz_k1 + W_lens_1 * alphas[6:10]\n",
    "    nz_lens_2 = nz_k2 + W_lens_2 * alphas[11:15]\n",
    "    nz_lens_3 = nz_k3 + W_lens_3 * alphas[16:20]\n",
    "    nz_lens_4 = nz_k4 + W_lens_4 * alphas[21:25]\n",
    "\n",
    "    nuisances = Dict(\n",
    "        \"lens_0_b\"    => lens_0_b,\n",
    "        \"lens_1_b\"    => lens_1_b,\n",
    "        \"lens_2_b\"    => lens_2_b,\n",
    "        \"lens_3_b\"    => lens_3_b,\n",
    "        \"lens_4_b\"    => lens_4_b,\n",
    "        \"lens_0_nz\"   => nz_lens_0,\n",
    "        \"lens_1_nz\"   => nz_lens_1,\n",
    "        \"lens_2_nz\"   => nz_lens_2,\n",
    "        \"lens_3_nz\"   => nz_lens_3,\n",
    "        \"lens_4_nz\"   => nz_lens_4)\n",
    "        \n",
    "    cosmo = Cosmology(Ωm=Ωm, Ωb=Ωb, h=h, ns=ns, σ8=σ8,\n",
    "        tk_mode=:EisHu,\n",
    "        pk_mode=:Halofit)\n",
    "\n",
    "    cosmo.settings.cosmo_type = eltype(valtype(alphas))\n",
    "    return Theory(cosmo, meta, files; Nuisances=nuisances)\n",
    "end;"
   ]
  },
  {
   "cell_type": "code",
   "execution_count": 17,
   "id": "af8dc9ad",
   "metadata": {},
   "outputs": [],
   "source": [
    "Cmod_gp = make_Cmod(50, model_gp);"
   ]
  },
  {
   "cell_type": "markdown",
   "id": "0477d696",
   "metadata": {},
   "source": [
    "# Comp"
   ]
  },
  {
   "cell_type": "code",
   "execution_count": 18,
   "id": "6458eee3",
   "metadata": {},
   "outputs": [],
   "source": [
    "cov = meta.cov\n",
    "if method == \"sompz\"\n",
    "    cov *= 0.03\n",
    "end\n",
    ";"
   ]
  },
  {
   "cell_type": "code",
   "execution_count": 19,
   "id": "ae93cd26",
   "metadata": {},
   "outputs": [
    {
     "name": "stdout",
     "output_type": "stream",
     "text": [
      "0.0022633741154889832\n",
      "0.2436089063505499\n",
      "0.3558546987488302\n",
      "0.31429776086697814\n"
     ]
    }
   ],
   "source": [
    "println(mean(diag(Cmod_dz) ./ diag(cov)))\n",
    "println(mean(diag(Cmod_wzdz) ./ diag(cov)))\n",
    "println(mean(diag(Cmod_pca) ./ diag(cov)))\n",
    "println(mean(diag(Cmod_gp) ./ diag(cov)))"
   ]
  },
  {
   "cell_type": "code",
   "execution_count": 20,
   "id": "400fe545",
   "metadata": {},
   "outputs": [
    {
     "data": {
      "text/plain": [
       "\"# Lognormal Y1\\n6.200300896439334\\n7.827457882076686\\n9.41116689060237\\n6.7362586812727345\\n\\n# Pathlogical Nz\\n0.3306897241224036\\n0.3629603435884084\\n0.3680708756027848\\n0.36197849438889784\\n\""
      ]
     },
     "execution_count": 20,
     "metadata": {},
     "output_type": "execute_result"
    }
   ],
   "source": [
    "\"\"\"\n",
    "# Lognormal Y1\n",
    "6.200300896439334\n",
    "7.827457882076686\n",
    "9.41116689060237\n",
    "6.7362586812727345\n",
    "\n",
    "# Pathlogical Nz\n",
    "0.3306897241224036\n",
    "0.3629603435884084\n",
    "0.3680708756027848\n",
    "0.36197849438889784\n",
    "\"\"\""
   ]
  },
  {
   "cell_type": "code",
   "execution_count": 21,
   "id": "c0b52321",
   "metadata": {},
   "outputs": [
    {
     "data": {
      "image/png": "[encoded data removed]",
      "image/svg+xml": [
       "<?xml version=\"1.0\" encoding=\"utf-8\"?>\n",
       "<svg xmlns=\"http://www.w3.org/2000/svg\" xmlns:xlink=\"http://www.w3.org/1999/xlink\" width=\"600\" height=\"400\" viewBox=\"0 0 2400 1600\">\n",
       "<defs>\n",
       "  <clipPath id=\"clip300\">\n",
       "    <rect x=\"0\" y=\"0\" width=\"2400\" height=\"1600\"/>\n",
       "  </clipPath>\n",
       "</defs>\n",
       "<path clip-path=\"url(#clip300)\" d=\"M0 1600 L2400 1600 L2400 0 L0 0  Z\" fill=\"#ffffff\" fill-rule=\"evenodd\" fill-opacity=\"1\"/>\n",
       "<defs>\n",
       "  <clipPath id=\"clip301\">\n",
       "    <rect x=\"480\" y=\"0\" width=\"1681\" height=\"1600\"/>\n",
       "  </clipPath>\n",
       "</defs>\n",
       "<path clip-path=\"url(#clip300)\" d=\"M189.496 1486.45 L2352.76 1486.45 L2352.76 123.472 L189.496 123.472  Z\" fill=\"#ffffff\" fill-rule=\"evenodd\" fill-opacity=\"1\"/>\n",
       "<defs>\n",
       "  <clipPath id=\"clip302\">\n",
       "    <rect x=\"189\" y=\"123\" width=\"2164\" height=\"1364\"/>\n",
       "  </clipPath>\n",
       "</defs>\n",
       "<polyline clip-path=\"url(#clip302)\" style=\"stroke:#000000; stroke-linecap:round; stroke-linejoin:round; stroke-width:2; stroke-opacity:0.1; fill:none\" points=\"197.015,1486.45 197.015,123.472 \"/>\n",
       "<polyline clip-path=\"url(#clip302)\" style=\"stroke:#000000; stroke-linecap:round; stroke-linejoin:round; stroke-width:2; stroke-opacity:0.1; fill:none\" points=\"734.07,1486.45 734.07,123.472 \"/>\n",
       "<polyline clip-path=\"url(#clip302)\" style=\"stroke:#000000; stroke-linecap:round; stroke-linejoin:round; stroke-width:2; stroke-opacity:0.1; fill:none\" points=\"1271.13,1486.45 1271.13,123.472 \"/>\n",
       "<polyline clip-path=\"url(#clip302)\" style=\"stroke:#000000; stroke-linecap:round; stroke-linejoin:round; stroke-width:2; stroke-opacity:0.1; fill:none\" points=\"1808.18,1486.45 1808.18,123.472 \"/>\n",
       "<polyline clip-path=\"url(#clip302)\" style=\"stroke:#000000; stroke-linecap:round; stroke-linejoin:round; stroke-width:2; stroke-opacity:0.1; fill:none\" points=\"2345.24,1486.45 2345.24,123.472 \"/>\n",
       "<polyline clip-path=\"url(#clip302)\" style=\"stroke:#000000; stroke-linecap:round; stroke-linejoin:round; stroke-width:2; stroke-opacity:0.1; fill:none\" points=\"189.496,1389.34 2352.76,1389.34 \"/>\n",
       "<polyline clip-path=\"url(#clip302)\" style=\"stroke:#000000; stroke-linecap:round; stroke-linejoin:round; stroke-width:2; stroke-opacity:0.1; fill:none\" points=\"189.496,1133.49 2352.76,1133.49 \"/>\n",
       "<polyline clip-path=\"url(#clip302)\" style=\"stroke:#000000; stroke-linecap:round; stroke-linejoin:round; stroke-width:2; stroke-opacity:0.1; fill:none\" points=\"189.496,877.651 2352.76,877.651 \"/>\n",
       "<polyline clip-path=\"url(#clip302)\" style=\"stroke:#000000; stroke-linecap:round; stroke-linejoin:round; stroke-width:2; stroke-opacity:0.1; fill:none\" points=\"189.496,621.807 2352.76,621.807 \"/>\n",
       "<polyline clip-path=\"url(#clip302)\" style=\"stroke:#000000; stroke-linecap:round; stroke-linejoin:round; stroke-width:2; stroke-opacity:0.1; fill:none\" points=\"189.496,365.964 2352.76,365.964 \"/>\n",
       "<polyline clip-path=\"url(#clip300)\" style=\"stroke:#000000; stroke-linecap:round; stroke-linejoin:round; stroke-width:4; stroke-opacity:1; fill:none\" points=\"189.496,1486.45 2352.76,1486.45 \"/>\n",
       "<polyline clip-path=\"url(#clip300)\" style=\"stroke:#000000; stroke-linecap:round; stroke-linejoin:round; stroke-width:4; stroke-opacity:1; fill:none\" points=\"197.015,1486.45 197.015,1467.55 \"/>\n",
       "<polyline clip-path=\"url(#clip300)\" style=\"stroke:#000000; stroke-linecap:round; stroke-linejoin:round; stroke-width:4; stroke-opacity:1; fill:none\" points=\"734.07,1486.45 734.07,1467.55 \"/>\n",
       "<polyline clip-path=\"url(#clip300)\" style=\"stroke:#000000; stroke-linecap:round; stroke-linejoin:round; stroke-width:4; stroke-opacity:1; fill:none\" points=\"1271.13,1486.45 1271.13,1467.55 \"/>\n",
       "<polyline clip-path=\"url(#clip300)\" style=\"stroke:#000000; stroke-linecap:round; stroke-linejoin:round; stroke-width:4; stroke-opacity:1; fill:none\" points=\"1808.18,1486.45 1808.18,1467.55 \"/>\n",
       "<polyline clip-path=\"url(#clip300)\" style=\"stroke:#000000; stroke-linecap:round; stroke-linejoin:round; stroke-width:4; stroke-opacity:1; fill:none\" points=\"2345.24,1486.45 2345.24,1467.55 \"/>\n",
       "<path clip-path=\"url(#clip300)\" d=\"M197.015 1517.37 Q193.404 1517.37 191.575 1520.93 Q189.769 1524.47 189.769 1531.6 Q189.769 1538.71 191.575 1542.27 Q193.404 1545.82 197.015 1545.82 Q200.649 1545.82 202.454 1542.27 Q204.283 1538.71 204.283 1531.6 Q204.283 1524.47 202.454 1520.93 Q200.649 1517.37 197.015 1517.37 M197.015 1513.66 Q202.825 1513.66 205.88 1518.27 Q208.959 1522.85 208.959 1531.6 Q208.959 1540.33 205.88 1544.94 Q202.825 1549.52 197.015 1549.52 Q191.205 1549.52 188.126 1544.94 Q185.07 1540.33 185.07 1531.6 Q185.07 1522.85 188.126 1518.27 Q191.205 1513.66 197.015 1513.66 Z\" fill=\"#000000\" fill-rule=\"nonzero\" fill-opacity=\"1\" /><path clip-path=\"url(#clip300)\" d=\"M708.758 1544.91 L716.397 1544.91 L716.397 1518.55 L708.087 1520.21 L708.087 1515.95 L716.35 1514.29 L721.026 1514.29 L721.026 1544.91 L728.665 1544.91 L728.665 1548.85 L708.758 1548.85 L708.758 1544.91 Z\" fill=\"#000000\" fill-rule=\"nonzero\" fill-opacity=\"1\" /><path clip-path=\"url(#clip300)\" d=\"M748.11 1517.37 Q744.498 1517.37 742.67 1520.93 Q740.864 1524.47 740.864 1531.6 Q740.864 1538.71 742.67 1542.27 Q744.498 1545.82 748.11 1545.82 Q751.744 1545.82 753.549 1542.27 Q755.378 1538.71 755.378 1531.6 Q755.378 1524.47 753.549 1520.93 Q751.744 1517.37 748.11 1517.37 M748.11 1513.66 Q753.92 1513.66 756.975 1518.27 Q760.054 1522.85 760.054 1531.6 Q760.054 1540.33 756.975 1544.94 Q753.92 1549.52 748.11 1549.52 Q742.299 1549.52 739.221 1544.94 Q736.165 1540.33 736.165 1531.6 Q736.165 1522.85 739.221 1518.27 Q742.299 1513.66 748.11 1513.66 Z\" fill=\"#000000\" fill-rule=\"nonzero\" fill-opacity=\"1\" /><path clip-path=\"url(#clip300)\" d=\"M1249.9 1544.91 L1266.22 1544.91 L1266.22 1548.85 L1244.27 1548.85 L1244.27 1544.91 Q1246.94 1542.16 1251.52 1537.53 Q1256.13 1532.88 1257.31 1531.53 Q1259.55 1529.01 1260.43 1527.27 Q1261.33 1525.51 1261.33 1523.82 Q1261.33 1521.07 1259.39 1519.33 Q1257.47 1517.6 1254.37 1517.6 Q1252.17 1517.6 1249.71 1518.36 Q1247.28 1519.13 1244.51 1520.68 L1244.51 1515.95 Q1247.33 1514.82 1249.78 1514.24 Q1252.24 1513.66 1254.27 1513.66 Q1259.64 1513.66 1262.84 1516.35 Q1266.03 1519.03 1266.03 1523.52 Q1266.03 1525.65 1265.22 1527.57 Q1264.44 1529.47 1262.33 1532.07 Q1261.75 1532.74 1258.65 1535.95 Q1255.55 1539.15 1249.9 1544.91 Z\" fill=\"#000000\" fill-rule=\"nonzero\" fill-opacity=\"1\" /><path clip-path=\"url(#clip300)\" d=\"M1286.03 1517.37 Q1282.42 1517.37 1280.59 1520.93 Q1278.79 1524.47 1278.79 1531.6 Q1278.79 1538.71 1280.59 1542.27 Q1282.42 1545.82 1286.03 1545.82 Q1289.67 1545.82 1291.47 1542.27 Q1293.3 1538.71 1293.3 1531.6 Q1293.3 1524.47 1291.47 1520.93 Q1289.67 1517.37 1286.03 1517.37 M1286.03 1513.66 Q1291.84 1513.66 1294.9 1518.27 Q1297.98 1522.85 1297.98 1531.6 Q1297.98 1540.33 1294.9 1544.94 Q1291.84 1549.52 1286.03 1549.52 Q1280.22 1549.52 1277.14 1544.94 Q1274.09 1540.33 1274.09 1531.6 Q1274.09 1522.85 1277.14 1518.27 Q1280.22 1513.66 1286.03 1513.66 Z\" fill=\"#000000\" fill-rule=\"nonzero\" fill-opacity=\"1\" /><path clip-path=\"url(#clip300)\" d=\"M1797.02 1530.21 Q1800.38 1530.93 1802.26 1533.2 Q1804.15 1535.47 1804.15 1538.8 Q1804.15 1543.92 1800.64 1546.72 Q1797.12 1549.52 1790.64 1549.52 Q1788.46 1549.52 1786.14 1549.08 Q1783.85 1548.66 1781.4 1547.81 L1781.4 1543.29 Q1783.34 1544.43 1785.66 1545.01 Q1787.97 1545.58 1790.5 1545.58 Q1794.89 1545.58 1797.19 1543.85 Q1799.5 1542.11 1799.5 1538.8 Q1799.5 1535.75 1797.35 1534.03 Q1795.22 1532.3 1791.4 1532.3 L1787.37 1532.3 L1787.37 1528.45 L1791.58 1528.45 Q1795.03 1528.45 1796.86 1527.09 Q1798.69 1525.7 1798.69 1523.11 Q1798.69 1520.45 1796.79 1519.03 Q1794.92 1517.6 1791.4 1517.6 Q1789.48 1517.6 1787.28 1518.01 Q1785.08 1518.43 1782.44 1519.31 L1782.44 1515.14 Q1785.1 1514.4 1787.42 1514.03 Q1789.76 1513.66 1791.82 1513.66 Q1797.14 1513.66 1800.24 1516.09 Q1803.34 1518.5 1803.34 1522.62 Q1803.34 1525.49 1801.7 1527.48 Q1800.06 1529.45 1797.02 1530.21 Z\" fill=\"#000000\" fill-rule=\"nonzero\" fill-opacity=\"1\" /><path clip-path=\"url(#clip300)\" d=\"M1823.02 1517.37 Q1819.41 1517.37 1817.58 1520.93 Q1815.77 1524.47 1815.77 1531.6 Q1815.77 1538.71 1817.58 1542.27 Q1819.41 1545.82 1823.02 1545.82 Q1826.65 1545.82 1828.46 1542.27 Q1830.29 1538.71 1830.29 1531.6 Q1830.29 1524.47 1828.46 1520.93 Q1826.65 1517.37 1823.02 1517.37 M1823.02 1513.66 Q1828.83 1513.66 1831.89 1518.27 Q1834.96 1522.85 1834.96 1531.6 Q1834.96 1540.33 1831.89 1544.94 Q1828.83 1549.52 1823.02 1549.52 Q1817.21 1549.52 1814.13 1544.94 Q1811.08 1540.33 1811.08 1531.6 Q1811.08 1522.85 1814.13 1518.27 Q1817.21 1513.66 1823.02 1513.66 Z\" fill=\"#000000\" fill-rule=\"nonzero\" fill-opacity=\"1\" /><path clip-path=\"url(#clip300)\" d=\"M2333.41 1518.36 L2321.6 1536.81 L2333.41 1536.81 L2333.41 1518.36 M2332.18 1514.29 L2338.06 1514.29 L2338.06 1536.81 L2342.99 1536.81 L2342.99 1540.7 L2338.06 1540.7 L2338.06 1548.85 L2333.41 1548.85 L2333.41 1540.7 L2317.81 1540.7 L2317.81 1536.19 L2332.18 1514.29 Z\" fill=\"#000000\" fill-rule=\"nonzero\" fill-opacity=\"1\" /><path clip-path=\"url(#clip300)\" d=\"M2360.72 1517.37 Q2357.11 1517.37 2355.28 1520.93 Q2353.48 1524.47 2353.48 1531.6 Q2353.48 1538.71 2355.28 1542.27 Q2357.11 1545.82 2360.72 1545.82 Q2364.36 1545.82 2366.16 1542.27 Q2367.99 1538.71 2367.99 1531.6 Q2367.99 1524.47 2366.16 1520.93 Q2364.36 1517.37 2360.72 1517.37 M2360.72 1513.66 Q2366.53 1513.66 2369.59 1518.27 Q2372.67 1522.85 2372.67 1531.6 Q2372.67 1540.33 2369.59 1544.94 Q2366.53 1549.52 2360.72 1549.52 Q2354.91 1549.52 2351.83 1544.94 Q2348.78 1540.33 2348.78 1531.6 Q2348.78 1522.85 2351.83 1518.27 Q2354.91 1513.66 2360.72 1513.66 Z\" fill=\"#000000\" fill-rule=\"nonzero\" fill-opacity=\"1\" /><polyline clip-path=\"url(#clip300)\" style=\"stroke:#000000; stroke-linecap:round; stroke-linejoin:round; stroke-width:4; stroke-opacity:1; fill:none\" points=\"189.496,1486.45 189.496,123.472 \"/>\n",
       "<polyline clip-path=\"url(#clip300)\" style=\"stroke:#000000; stroke-linecap:round; stroke-linejoin:round; stroke-width:4; stroke-opacity:1; fill:none\" points=\"189.496,1389.34 208.394,1389.34 \"/>\n",
       "<polyline clip-path=\"url(#clip300)\" style=\"stroke:#000000; stroke-linecap:round; stroke-linejoin:round; stroke-width:4; stroke-opacity:1; fill:none\" points=\"189.496,1133.49 208.394,1133.49 \"/>\n",
       "<polyline clip-path=\"url(#clip300)\" style=\"stroke:#000000; stroke-linecap:round; stroke-linejoin:round; stroke-width:4; stroke-opacity:1; fill:none\" points=\"189.496,877.651 208.394,877.651 \"/>\n",
       "<polyline clip-path=\"url(#clip300)\" style=\"stroke:#000000; stroke-linecap:round; stroke-linejoin:round; stroke-width:4; stroke-opacity:1; fill:none\" points=\"189.496,621.807 208.394,621.807 \"/>\n",
       "<polyline clip-path=\"url(#clip300)\" style=\"stroke:#000000; stroke-linecap:round; stroke-linejoin:round; stroke-width:4; stroke-opacity:1; fill:none\" points=\"189.496,365.964 208.394,365.964 \"/>\n",
       "<path clip-path=\"url(#clip300)\" d=\"M51.6634 1409.13 L59.3023 1409.13 L59.3023 1382.76 L50.9921 1384.43 L50.9921 1380.17 L59.256 1378.5 L63.9319 1378.5 L63.9319 1409.13 L71.5707 1409.13 L71.5707 1413.06 L51.6634 1413.06 L51.6634 1409.13 Z\" fill=\"#000000\" fill-rule=\"nonzero\" fill-opacity=\"1\" /><path clip-path=\"url(#clip300)\" d=\"M91.0151 1381.58 Q87.404 1381.58 85.5753 1385.15 Q83.7697 1388.69 83.7697 1395.82 Q83.7697 1402.93 85.5753 1406.49 Q87.404 1410.03 91.0151 1410.03 Q94.6493 1410.03 96.4548 1406.49 Q98.2835 1402.93 98.2835 1395.82 Q98.2835 1388.69 96.4548 1385.15 Q94.6493 1381.58 91.0151 1381.58 M91.0151 1377.88 Q96.8252 1377.88 99.8808 1382.49 Q102.959 1387.07 102.959 1395.82 Q102.959 1404.55 99.8808 1409.15 Q96.8252 1413.74 91.0151 1413.74 Q85.2049 1413.74 82.1262 1409.15 Q79.0707 1404.55 79.0707 1395.82 Q79.0707 1387.07 82.1262 1382.49 Q85.2049 1377.88 91.0151 1377.88 Z\" fill=\"#000000\" fill-rule=\"nonzero\" fill-opacity=\"1\" /><path clip-path=\"url(#clip300)\" d=\"M102.959 1371.98 L127.071 1371.98 L127.071 1375.18 L102.959 1375.18 L102.959 1371.98 Z\" fill=\"#000000\" fill-rule=\"nonzero\" fill-opacity=\"1\" /><path clip-path=\"url(#clip300)\" d=\"M145.71 1360.88 L136.118 1375.87 L145.71 1375.87 L145.71 1360.88 M144.713 1357.57 L149.49 1357.57 L149.49 1375.87 L153.496 1375.87 L153.496 1379.03 L149.49 1379.03 L149.49 1385.65 L145.71 1385.65 L145.71 1379.03 L133.033 1379.03 L133.033 1375.37 L144.713 1357.57 Z\" fill=\"#000000\" fill-rule=\"nonzero\" fill-opacity=\"1\" /><path clip-path=\"url(#clip300)\" d=\"M52.585 1153.29 L60.2238 1153.29 L60.2238 1126.92 L51.9137 1128.59 L51.9137 1124.33 L60.1776 1122.66 L64.8535 1122.66 L64.8535 1153.29 L72.4923 1153.29 L72.4923 1157.22 L52.585 1157.22 L52.585 1153.29 Z\" fill=\"#000000\" fill-rule=\"nonzero\" fill-opacity=\"1\" /><path clip-path=\"url(#clip300)\" d=\"M91.9366 1125.74 Q88.3255 1125.74 86.4969 1129.31 Q84.6913 1132.85 84.6913 1139.98 Q84.6913 1147.08 86.4969 1150.65 Q88.3255 1154.19 91.9366 1154.19 Q95.5709 1154.19 97.3764 1150.65 Q99.2051 1147.08 99.2051 1139.98 Q99.2051 1132.85 97.3764 1129.31 Q95.5709 1125.74 91.9366 1125.74 M91.9366 1122.04 Q97.7468 1122.04 100.802 1126.64 Q103.881 1131.23 103.881 1139.98 Q103.881 1148.7 100.802 1153.31 Q97.7468 1157.89 91.9366 1157.89 Q86.1265 1157.89 83.0478 1153.31 Q79.9923 1148.7 79.9923 1139.98 Q79.9923 1131.23 83.0478 1126.64 Q86.1265 1122.04 91.9366 1122.04 Z\" fill=\"#000000\" fill-rule=\"nonzero\" fill-opacity=\"1\" /><path clip-path=\"url(#clip300)\" d=\"M103.881 1116.14 L127.993 1116.14 L127.993 1119.34 L103.881 1119.34 L103.881 1116.14 Z\" fill=\"#000000\" fill-rule=\"nonzero\" fill-opacity=\"1\" /><path clip-path=\"url(#clip300)\" d=\"M147.703 1114.67 Q150.43 1115.25 151.954 1117.1 Q153.496 1118.94 153.496 1121.65 Q153.496 1125.81 150.637 1128.08 Q147.778 1130.36 142.512 1130.36 Q140.744 1130.36 138.863 1130 Q137.002 1129.66 135.008 1128.96 L135.008 1125.3 Q136.588 1126.22 138.469 1126.69 Q140.349 1127.16 142.399 1127.16 Q145.973 1127.16 147.835 1125.75 Q149.716 1124.34 149.716 1121.65 Q149.716 1119.17 147.966 1117.77 Q146.236 1116.36 143.133 1116.36 L139.86 1116.36 L139.86 1113.24 L143.283 1113.24 Q146.086 1113.24 147.571 1112.13 Q149.057 1111 149.057 1108.9 Q149.057 1106.73 147.515 1105.59 Q145.992 1104.42 143.133 1104.42 Q141.572 1104.42 139.785 1104.76 Q137.998 1105.1 135.854 1105.81 L135.854 1102.43 Q138.017 1101.83 139.898 1101.52 Q141.797 1101.22 143.471 1101.22 Q147.797 1101.22 150.317 1103.2 Q152.838 1105.15 152.838 1108.5 Q152.838 1110.83 151.502 1112.45 Q150.167 1114.05 147.703 1114.67 Z\" fill=\"#000000\" fill-rule=\"nonzero\" fill-opacity=\"1\" /><path clip-path=\"url(#clip300)\" d=\"M53.3561 897.443 L60.995 897.443 L60.995 871.078 L52.6848 872.744 L52.6848 868.485 L60.9487 866.818 L65.6246 866.818 L65.6246 897.443 L73.2634 897.443 L73.2634 901.378 L53.3561 901.378 L53.3561 897.443 Z\" fill=\"#000000\" fill-rule=\"nonzero\" fill-opacity=\"1\" /><path clip-path=\"url(#clip300)\" d=\"M92.7078 869.897 Q89.0967 869.897 87.268 873.462 Q85.4624 877.003 85.4624 884.133 Q85.4624 891.239 87.268 894.804 Q89.0967 898.346 92.7078 898.346 Q96.342 898.346 98.1475 894.804 Q99.9762 891.239 99.9762 884.133 Q99.9762 877.003 98.1475 873.462 Q96.342 869.897 92.7078 869.897 M92.7078 866.193 Q98.5179 866.193 101.573 870.8 Q104.652 875.383 104.652 884.133 Q104.652 892.86 101.573 897.466 Q98.5179 902.05 92.7078 902.05 Q86.8976 902.05 83.8189 897.466 Q80.7634 892.86 80.7634 884.133 Q80.7634 875.383 83.8189 870.8 Q86.8976 866.193 92.7078 866.193 Z\" fill=\"#000000\" fill-rule=\"nonzero\" fill-opacity=\"1\" /><path clip-path=\"url(#clip300)\" d=\"M104.652 860.295 L128.764 860.295 L128.764 863.492 L104.652 863.492 L104.652 860.295 Z\" fill=\"#000000\" fill-rule=\"nonzero\" fill-opacity=\"1\" /><path clip-path=\"url(#clip300)\" d=\"M140.236 870.771 L153.496 870.771 L153.496 873.968 L135.666 873.968 L135.666 870.771 Q137.829 868.532 141.553 864.771 Q145.296 860.991 146.255 859.9 Q148.079 857.85 148.794 856.439 Q149.527 855.01 149.527 853.637 Q149.527 851.399 147.948 849.988 Q146.387 848.577 143.866 848.577 Q142.08 848.577 140.086 849.198 Q138.111 849.819 135.854 851.079 L135.854 847.242 Q138.149 846.32 140.142 845.85 Q142.136 845.38 143.791 845.38 Q148.155 845.38 150.75 847.562 Q153.345 849.743 153.345 853.392 Q153.345 855.122 152.687 856.684 Q152.048 858.226 150.336 860.332 Q149.866 860.878 147.346 863.492 Q144.826 866.087 140.236 870.771 Z\" fill=\"#000000\" fill-rule=\"nonzero\" fill-opacity=\"1\" /><path clip-path=\"url(#clip300)\" d=\"M53.0552 641.6 L60.694 641.6 L60.694 615.234 L52.3839 616.901 L52.3839 612.642 L60.6477 610.975 L65.3236 610.975 L65.3236 641.6 L72.9625 641.6 L72.9625 645.535 L53.0552 645.535 L53.0552 641.6 Z\" fill=\"#000000\" fill-rule=\"nonzero\" fill-opacity=\"1\" /><path clip-path=\"url(#clip300)\" d=\"M92.4068 614.054 Q88.7957 614.054 86.967 617.619 Q85.1615 621.16 85.1615 628.29 Q85.1615 635.396 86.967 638.961 Q88.7957 642.503 92.4068 642.503 Q96.0411 642.503 97.8466 638.961 Q99.6753 635.396 99.6753 628.29 Q99.6753 621.16 97.8466 617.619 Q96.0411 614.054 92.4068 614.054 M92.4068 610.35 Q98.217 610.35 101.273 614.956 Q104.351 619.54 104.351 628.29 Q104.351 637.017 101.273 641.623 Q98.217 646.206 92.4068 646.206 Q86.5967 646.206 83.518 641.623 Q80.4625 637.017 80.4625 628.29 Q80.4625 619.54 83.518 614.956 Q86.5967 610.35 92.4068 610.35 Z\" fill=\"#000000\" fill-rule=\"nonzero\" fill-opacity=\"1\" /><path clip-path=\"url(#clip300)\" d=\"M104.351 604.451 L128.463 604.451 L128.463 607.649 L104.351 607.649 L104.351 604.451 Z\" fill=\"#000000\" fill-rule=\"nonzero\" fill-opacity=\"1\" /><path clip-path=\"url(#clip300)\" d=\"M137.321 614.927 L143.528 614.927 L143.528 593.505 L136.776 594.859 L136.776 591.399 L143.49 590.045 L147.289 590.045 L147.289 614.927 L153.496 614.927 L153.496 618.125 L137.321 618.125 L137.321 614.927 Z\" fill=\"#000000\" fill-rule=\"nonzero\" fill-opacity=\"1\" /><path clip-path=\"url(#clip300)\" d=\"M82.7903 385.757 L90.4291 385.757 L90.4291 359.391 L82.119 361.058 L82.119 356.798 L90.3828 355.132 L95.0587 355.132 L95.0587 385.757 L102.698 385.757 L102.698 389.692 L82.7903 389.692 L82.7903 385.757 Z\" fill=\"#000000\" fill-rule=\"nonzero\" fill-opacity=\"1\" /><path clip-path=\"url(#clip300)\" d=\"M122.142 358.21 Q118.531 358.21 116.702 361.775 Q114.897 365.317 114.897 372.446 Q114.897 379.553 116.702 383.118 Q118.531 386.659 122.142 386.659 Q125.776 386.659 127.582 383.118 Q129.41 379.553 129.41 372.446 Q129.41 365.317 127.582 361.775 Q125.776 358.21 122.142 358.21 M122.142 354.507 Q127.952 354.507 131.008 359.113 Q134.086 363.697 134.086 372.446 Q134.086 381.173 131.008 385.78 Q127.952 390.363 122.142 390.363 Q116.332 390.363 113.253 385.78 Q110.198 381.173 110.198 372.446 Q110.198 363.697 113.253 359.113 Q116.332 354.507 122.142 354.507 Z\" fill=\"#000000\" fill-rule=\"nonzero\" fill-opacity=\"1\" /><path clip-path=\"url(#clip300)\" d=\"M143.791 336.703 Q140.857 336.703 139.371 339.599 Q137.904 342.477 137.904 348.27 Q137.904 354.044 139.371 356.94 Q140.857 359.818 143.791 359.818 Q146.744 359.818 148.211 356.94 Q149.697 354.044 149.697 348.27 Q149.697 342.477 148.211 339.599 Q146.744 336.703 143.791 336.703 M143.791 333.694 Q148.512 333.694 150.994 337.436 Q153.496 341.16 153.496 348.27 Q153.496 355.36 150.994 359.103 Q148.512 362.827 143.791 362.827 Q139.07 362.827 136.569 359.103 Q134.086 355.36 134.086 348.27 Q134.086 341.16 136.569 337.436 Q139.07 333.694 143.791 333.694 Z\" fill=\"#000000\" fill-rule=\"nonzero\" fill-opacity=\"1\" /><path clip-path=\"url(#clip300)\" d=\"M1228.45 39.9662 Q1234.32 41.222 1237.6 45.1919 Q1240.93 49.1618 1240.93 54.9951 Q1240.93 63.9476 1234.77 68.8492 Q1228.61 73.7508 1217.27 73.7508 Q1213.46 73.7508 1209.41 72.9811 Q1205.4 72.2519 1201.11 70.7531 L1201.11 62.8538 Q1204.51 64.8388 1208.56 65.8515 Q1212.61 66.8642 1217.03 66.8642 Q1224.72 66.8642 1228.73 63.826 Q1232.78 60.7879 1232.78 54.9951 Q1232.78 49.6479 1229.02 46.6502 Q1225.29 43.612 1218.61 43.612 L1211.56 43.612 L1211.56 36.8875 L1218.93 36.8875 Q1224.97 36.8875 1228.17 34.4975 Q1231.37 32.067 1231.37 27.5299 Q1231.37 22.8714 1228.04 20.4004 Q1224.76 17.8888 1218.61 17.8888 Q1215.24 17.8888 1211.4 18.618 Q1207.55 19.3471 1202.93 20.8865 L1202.93 13.5948 Q1207.59 12.2985 1211.64 11.6504 Q1215.73 11.0023 1219.34 11.0023 Q1228.65 11.0023 1234.08 15.2557 Q1239.51 19.4686 1239.51 26.6793 Q1239.51 31.7024 1236.63 35.1862 Q1233.76 38.6294 1228.45 39.9662 Z\" fill=\"#000000\" fill-rule=\"nonzero\" fill-opacity=\"1\" /><path clip-path=\"url(#clip300)\" d=\"M1293.1 27.2059 L1276.7 49.2833 L1293.95 72.576 L1285.16 72.576 L1271.96 54.752 L1258.75 72.576 L1249.96 72.576 L1267.58 48.8377 L1251.46 27.2059 L1260.25 27.2059 L1272.28 43.369 L1284.31 27.2059 L1293.1 27.2059 Z\" fill=\"#000000\" fill-rule=\"nonzero\" fill-opacity=\"1\" /><path clip-path=\"url(#clip300)\" d=\"M1312.59 65.6895 L1341.15 65.6895 L1341.15 72.576 L1302.74 72.576 L1302.74 65.6895 Q1307.4 60.8689 1315.42 52.7671 Q1323.48 44.6248 1325.55 42.2752 Q1329.48 37.8598 1331.02 34.8216 Q1332.6 31.7429 1332.6 28.7857 Q1332.6 23.9651 1329.2 20.927 Q1325.83 17.8888 1320.41 17.8888 Q1316.56 17.8888 1312.26 19.2256 Q1308.01 20.5624 1303.15 23.2765 L1303.15 15.0127 Q1308.09 13.0277 1312.38 12.015 Q1316.68 11.0023 1320.24 11.0023 Q1329.64 11.0023 1335.23 15.7013 Q1340.82 20.4004 1340.82 28.2591 Q1340.82 31.9859 1339.4 35.3482 Q1338.03 38.6699 1334.34 43.2069 Q1333.33 44.3817 1327.9 50.0125 Q1322.47 55.6027 1312.59 65.6895 Z\" fill=\"#000000\" fill-rule=\"nonzero\" fill-opacity=\"1\" /><polyline clip-path=\"url(#clip302)\" style=\"stroke:#009af9; stroke-linecap:round; stroke-linejoin:round; stroke-width:4; stroke-opacity:1; fill:none\" points=\"250.72,1217.29 304.426,1102.51 358.131,1020.92 411.837,1062.33 465.542,968.076 519.248,900.86 572.954,1284.64 626.659,1239.28 680.365,1172.75 734.07,1056.19 787.776,997.424 841.481,1136.26 895.187,931.553 948.893,1392.93 1002.6,1272 1056.3,1234.46 1110.01,1210.16 1163.71,1079.96 1217.42,1052.87 1271.13,1145.71 1324.83,1095.7 1378.54,1447.87 1432.24,1357.14 1485.95,1260.28 1539.65,1225.99 1593.36,1165.87 1647.06,1037.12 1700.77,1262.63 1754.48,953.176 1808.18,1266.5 1861.89,1269.24 1915.59,1129.1 1969.3,1038.23 2023,996.758 2076.71,1022.41 2130.41,866.605 2184.12,837.971 2237.83,1009.35 2291.53,1353.72 \"/>\n",
       "<polyline clip-path=\"url(#clip302)\" style=\"stroke:#e26f46; stroke-linecap:round; stroke-linejoin:round; stroke-width:4; stroke-opacity:1; fill:none\" points=\"250.72,1175.04 304.426,1070.99 358.131,957.11 411.837,867.521 465.542,783.531 519.248,708.237 572.954,1129.96 626.659,1015.13 680.365,909.702 734.07,818.257 787.776,709.773 841.481,640.557 895.187,549.104 948.893,1153.01 1002.6,1032.72 1056.3,925.253 1110.01,839.991 1163.71,741.903 1217.42,656.103 1271.13,584.729 1324.83,497.647 1378.54,1163.8 1432.24,1041 1485.95,925.825 1539.65,827.348 1593.36,728.132 1647.06,650.978 1700.77,548.032 1754.48,487.284 1808.18,405.186 1861.89,1014.6 1915.59,893.161 1969.3,774.806 2023,680.996 2076.71,567.374 2130.41,492.176 2184.12,395.108 2237.83,291.037 2291.53,217.599 \"/>\n",
       "<polyline clip-path=\"url(#clip302)\" style=\"stroke:#3da44d; stroke-linecap:round; stroke-linejoin:round; stroke-width:4; stroke-opacity:1; fill:none\" points=\"250.72,1004.67 304.426,913.467 358.131,791.434 411.837,751.899 465.542,665.831 519.248,611.553 572.954,1124.38 626.659,1029.01 680.365,933.705 734.07,842.892 787.776,736.722 841.481,689.836 895.187,582.259 948.893,1238.54 1002.6,1126.32 1056.3,1021.33 1110.01,932.96 1163.71,837.35 1217.42,743.068 1271.13,669.644 1324.83,569.847 1378.54,1142.73 1432.24,1029.9 1485.95,922.714 1539.65,841.972 1593.36,748.721 1647.06,662.29 1700.77,588.342 1754.48,513.866 1808.18,458.131 1861.89,875.149 1915.59,762.486 1969.3,649.013 2023,565.71 2076.71,476.246 2130.41,391.326 2184.12,306.745 2237.83,254.826 2291.53,162.047 \"/>\n",
       "<polyline clip-path=\"url(#clip302)\" style=\"stroke:#c271d2; stroke-linecap:round; stroke-linejoin:round; stroke-width:4; stroke-opacity:1; fill:none\" points=\"250.72,1032.48 304.426,940.614 358.131,818.436 411.837,783.051 465.542,691.681 519.248,634.137 572.954,1199.03 626.659,1113.36 680.365,1027.72 734.07,933.842 787.776,830.168 841.481,808.24 895.187,693.688 948.893,1307.53 1002.6,1206.01 1056.3,1104.11 1110.01,1018.53 1163.71,922.667 1217.42,825.829 1271.13,752.087 1324.83,646.966 1378.54,1173.37 1432.24,1062.61 1485.95,958.136 1539.65,880.59 1593.36,788.983 1647.06,700.778 1700.77,634.978 1754.48,555.427 1808.18,508.539 1861.89,889.218 1915.59,774.233 1969.3,662.57 2023,577.274 2076.71,486.895 2130.41,402.468 2184.12,316.783 2237.83,262.669 2291.53,170.744 \"/>\n",
       "<path clip-path=\"url(#clip300)\" d=\"M1934.78 428.105 L2280.65 428.105 L2280.65 168.905 L1934.78 168.905  Z\" fill=\"#ffffff\" fill-rule=\"evenodd\" fill-opacity=\"1\"/>\n",
       "<polyline clip-path=\"url(#clip300)\" style=\"stroke:#000000; stroke-linecap:round; stroke-linejoin:round; stroke-width:4; stroke-opacity:1; fill:none\" points=\"1934.78,428.105 2280.65,428.105 2280.65,168.905 1934.78,168.905 1934.78,428.105 \"/>\n",
       "<polyline clip-path=\"url(#clip300)\" style=\"stroke:#009af9; stroke-linecap:round; stroke-linejoin:round; stroke-width:4; stroke-opacity:1; fill:none\" points=\"1958.82,220.745 2103.04,220.745 \"/>\n",
       "<path clip-path=\"url(#clip300)\" d=\"M2131.75 207.307 L2131.75 234.182 L2137.4 234.182 Q2144.55 234.182 2147.86 230.941 Q2151.19 227.701 2151.19 220.71 Q2151.19 213.766 2147.86 210.548 Q2144.55 207.307 2137.4 207.307 L2131.75 207.307 M2127.07 203.465 L2136.68 203.465 Q2146.73 203.465 2151.43 207.654 Q2156.13 211.821 2156.13 220.71 Q2156.13 229.645 2151.4 233.835 Q2146.68 238.025 2136.68 238.025 L2127.07 238.025 L2127.07 203.465 Z\" fill=\"#000000\" fill-rule=\"nonzero\" fill-opacity=\"1\" /><path clip-path=\"url(#clip300)\" d=\"M2161.54 212.099 L2181.77 212.099 L2181.77 215.988 L2165.76 234.622 L2181.77 234.622 L2181.77 238.025 L2160.96 238.025 L2160.96 234.136 L2176.98 215.502 L2161.54 215.502 L2161.54 212.099 Z\" fill=\"#000000\" fill-rule=\"nonzero\" fill-opacity=\"1\" /><polyline clip-path=\"url(#clip300)\" style=\"stroke:#e26f46; stroke-linecap:round; stroke-linejoin:round; stroke-width:4; stroke-opacity:1; fill:none\" points=\"1958.82,272.585 2103.04,272.585 \"/>\n",
       "<path clip-path=\"url(#clip300)\" d=\"M2127.07 255.305 L2131.8 255.305 L2139.07 284.517 L2146.31 255.305 L2151.57 255.305 L2158.83 284.517 L2166.08 255.305 L2170.82 255.305 L2162.14 289.865 L2156.26 289.865 L2148.97 259.865 L2141.61 289.865 L2135.73 289.865 L2127.07 255.305 Z\" fill=\"#000000\" fill-rule=\"nonzero\" fill-opacity=\"1\" /><path clip-path=\"url(#clip300)\" d=\"M2174.99 263.939 L2195.22 263.939 L2195.22 267.828 L2179.2 286.462 L2195.22 286.462 L2195.22 289.865 L2174.41 289.865 L2174.41 285.976 L2190.43 267.342 L2174.99 267.342 L2174.99 263.939 Z\" fill=\"#000000\" fill-rule=\"nonzero\" fill-opacity=\"1\" /><path clip-path=\"url(#clip300)\" d=\"M2206.59 259.147 L2206.59 286.022 L2212.24 286.022 Q2219.39 286.022 2222.7 282.781 Q2226.03 279.541 2226.03 272.55 Q2226.03 265.606 2222.7 262.388 Q2219.39 259.147 2212.24 259.147 L2206.59 259.147 M2201.91 255.305 L2211.52 255.305 Q2221.56 255.305 2226.26 259.494 Q2230.96 263.661 2230.96 272.55 Q2230.96 281.485 2226.24 285.675 Q2221.52 289.865 2211.52 289.865 L2201.91 289.865 L2201.91 255.305 Z\" fill=\"#000000\" fill-rule=\"nonzero\" fill-opacity=\"1\" /><path clip-path=\"url(#clip300)\" d=\"M2236.38 263.939 L2256.61 263.939 L2256.61 267.828 L2240.59 286.462 L2256.61 286.462 L2256.61 289.865 L2235.8 289.865 L2235.8 285.976 L2251.82 267.342 L2236.38 267.342 L2236.38 263.939 Z\" fill=\"#000000\" fill-rule=\"nonzero\" fill-opacity=\"1\" /><polyline clip-path=\"url(#clip300)\" style=\"stroke:#3da44d; stroke-linecap:round; stroke-linejoin:round; stroke-width:4; stroke-opacity:1; fill:none\" points=\"1958.82,324.425 2103.04,324.425 \"/>\n",
       "<path clip-path=\"url(#clip300)\" d=\"M2131.75 310.987 L2131.75 323.973 L2137.63 323.973 Q2140.89 323.973 2142.68 322.283 Q2144.46 320.594 2144.46 317.469 Q2144.46 314.367 2142.68 312.677 Q2140.89 310.987 2137.63 310.987 L2131.75 310.987 M2127.07 307.145 L2137.63 307.145 Q2143.44 307.145 2146.4 309.784 Q2149.39 312.399 2149.39 317.469 Q2149.39 322.584 2146.4 325.2 Q2143.44 327.816 2137.63 327.816 L2131.75 327.816 L2131.75 341.705 L2127.07 341.705 L2127.07 307.145 Z\" fill=\"#000000\" fill-rule=\"nonzero\" fill-opacity=\"1\" /><path clip-path=\"url(#clip300)\" d=\"M2181.54 309.807 L2181.54 314.737 Q2179.18 312.538 2176.5 311.45 Q2173.83 310.362 2170.82 310.362 Q2164.9 310.362 2161.75 313.996 Q2158.6 317.608 2158.6 324.459 Q2158.6 331.288 2161.75 334.922 Q2164.9 338.533 2170.82 338.533 Q2173.83 338.533 2176.5 337.445 Q2179.18 336.357 2181.54 334.158 L2181.54 339.043 Q2179.09 340.709 2176.33 341.543 Q2173.6 342.376 2170.55 342.376 Q2162.7 342.376 2158.19 337.584 Q2153.67 332.77 2153.67 324.459 Q2153.67 316.126 2158.19 311.334 Q2162.7 306.52 2170.55 306.52 Q2173.65 306.52 2176.38 307.353 Q2179.13 308.163 2181.54 309.807 Z\" fill=\"#000000\" fill-rule=\"nonzero\" fill-opacity=\"1\" /><path clip-path=\"url(#clip300)\" d=\"M2200.32 311.751 L2193.97 328.95 L2206.68 328.95 L2200.32 311.751 M2197.68 307.145 L2202.98 307.145 L2216.15 341.705 L2211.29 341.705 L2208.14 332.839 L2192.56 332.839 L2189.41 341.705 L2184.48 341.705 L2197.68 307.145 Z\" fill=\"#000000\" fill-rule=\"nonzero\" fill-opacity=\"1\" /><polyline clip-path=\"url(#clip300)\" style=\"stroke:#c271d2; stroke-linecap:round; stroke-linejoin:round; stroke-width:4; stroke-opacity:1; fill:none\" points=\"1958.82,376.265 2103.04,376.265 \"/>\n",
       "<path clip-path=\"url(#clip300)\" d=\"M2152.63 388.614 L2152.63 379.332 L2144.99 379.332 L2144.99 375.489 L2157.26 375.489 L2157.26 390.327 Q2154.55 392.248 2151.29 393.244 Q2148.02 394.216 2144.32 394.216 Q2136.22 394.216 2131.63 389.494 Q2127.07 384.748 2127.07 376.299 Q2127.07 367.827 2131.63 363.105 Q2136.22 358.36 2144.32 358.36 Q2147.7 358.36 2150.73 359.193 Q2153.79 360.026 2156.36 361.647 L2156.36 366.623 Q2153.76 364.424 2150.85 363.313 Q2147.93 362.202 2144.71 362.202 Q2138.37 362.202 2135.18 365.744 Q2132.01 369.286 2132.01 376.299 Q2132.01 383.29 2135.18 386.832 Q2138.37 390.373 2144.71 390.373 Q2147.19 390.373 2149.13 389.957 Q2151.08 389.517 2152.63 388.614 Z\" fill=\"#000000\" fill-rule=\"nonzero\" fill-opacity=\"1\" /><path clip-path=\"url(#clip300)\" d=\"M2170.48 362.827 L2170.48 375.813 L2176.36 375.813 Q2179.62 375.813 2181.4 374.123 Q2183.19 372.434 2183.19 369.309 Q2183.19 366.207 2181.4 364.517 Q2179.62 362.827 2176.36 362.827 L2170.48 362.827 M2165.8 358.985 L2176.36 358.985 Q2182.17 358.985 2185.13 361.624 Q2188.12 364.239 2188.12 369.309 Q2188.12 374.424 2185.13 377.04 Q2182.17 379.656 2176.36 379.656 L2170.48 379.656 L2170.48 393.545 L2165.8 393.545 L2165.8 358.985 Z\" fill=\"#000000\" fill-rule=\"nonzero\" fill-opacity=\"1\" /></svg>\n"
      ],
      "text/html": [
       "<?xml version=\"1.0\" encoding=\"utf-8\"?>\n",
       "<svg xmlns=\"http://www.w3.org/2000/svg\" xmlns:xlink=\"http://www.w3.org/1999/xlink\" width=\"600\" height=\"400\" viewBox=\"0 0 2400 1600\">\n",
       "<defs>\n",
       "  <clipPath id=\"clip350\">\n",
       "    <rect x=\"0\" y=\"0\" width=\"2400\" height=\"1600\"/>\n",
       "  </clipPath>\n",
       "</defs>\n",
       "<path clip-path=\"url(#clip350)\" d=\"M0 1600 L2400 1600 L2400 0 L0 0  Z\" fill=\"#ffffff\" fill-rule=\"evenodd\" fill-opacity=\"1\"/>\n",
       "<defs>\n",
       "  <clipPath id=\"clip351\">\n",
       "    <rect x=\"480\" y=\"0\" width=\"1681\" height=\"1600\"/>\n",
       "  </clipPath>\n",
       "</defs>\n",
       "<path clip-path=\"url(#clip350)\" d=\"M189.496 1486.45 L2352.76 1486.45 L2352.76 123.472 L189.496 123.472  Z\" fill=\"#ffffff\" fill-rule=\"evenodd\" fill-opacity=\"1\"/>\n",
       "<defs>\n",
       "  <clipPath id=\"clip352\">\n",
       "    <rect x=\"189\" y=\"123\" width=\"2164\" height=\"1364\"/>\n",
       "  </clipPath>\n",
       "</defs>\n",
       "<polyline clip-path=\"url(#clip352)\" style=\"stroke:#000000; stroke-linecap:round; stroke-linejoin:round; stroke-width:2; stroke-opacity:0.1; fill:none\" points=\"197.015,1486.45 197.015,123.472 \"/>\n",
       "<polyline clip-path=\"url(#clip352)\" style=\"stroke:#000000; stroke-linecap:round; stroke-linejoin:round; stroke-width:2; stroke-opacity:0.1; fill:none\" points=\"734.07,1486.45 734.07,123.472 \"/>\n",
       "<polyline clip-path=\"url(#clip352)\" style=\"stroke:#000000; stroke-linecap:round; stroke-linejoin:round; stroke-width:2; stroke-opacity:0.1; fill:none\" points=\"1271.13,1486.45 1271.13,123.472 \"/>\n",
       "<polyline clip-path=\"url(#clip352)\" style=\"stroke:#000000; stroke-linecap:round; stroke-linejoin:round; stroke-width:2; stroke-opacity:0.1; fill:none\" points=\"1808.18,1486.45 1808.18,123.472 \"/>\n",
       "<polyline clip-path=\"url(#clip352)\" style=\"stroke:#000000; stroke-linecap:round; stroke-linejoin:round; stroke-width:2; stroke-opacity:0.1; fill:none\" points=\"2345.24,1486.45 2345.24,123.472 \"/>\n",
       "<polyline clip-path=\"url(#clip352)\" style=\"stroke:#000000; stroke-linecap:round; stroke-linejoin:round; stroke-width:2; stroke-opacity:0.1; fill:none\" points=\"189.496,1389.34 2352.76,1389.34 \"/>\n",
       "<polyline clip-path=\"url(#clip352)\" style=\"stroke:#000000; stroke-linecap:round; stroke-linejoin:round; stroke-width:2; stroke-opacity:0.1; fill:none\" points=\"189.496,1133.49 2352.76,1133.49 \"/>\n",
       "<polyline clip-path=\"url(#clip352)\" style=\"stroke:#000000; stroke-linecap:round; stroke-linejoin:round; stroke-width:2; stroke-opacity:0.1; fill:none\" points=\"189.496,877.651 2352.76,877.651 \"/>\n",
       "<polyline clip-path=\"url(#clip352)\" style=\"stroke:#000000; stroke-linecap:round; stroke-linejoin:round; stroke-width:2; stroke-opacity:0.1; fill:none\" points=\"189.496,621.807 2352.76,621.807 \"/>\n",
       "<polyline clip-path=\"url(#clip352)\" style=\"stroke:#000000; stroke-linecap:round; stroke-linejoin:round; stroke-width:2; stroke-opacity:0.1; fill:none\" points=\"189.496,365.964 2352.76,365.964 \"/>\n",
       "<polyline clip-path=\"url(#clip350)\" style=\"stroke:#000000; stroke-linecap:round; stroke-linejoin:round; stroke-width:4; stroke-opacity:1; fill:none\" points=\"189.496,1486.45 2352.76,1486.45 \"/>\n",
       "<polyline clip-path=\"url(#clip350)\" style=\"stroke:#000000; stroke-linecap:round; stroke-linejoin:round; stroke-width:4; stroke-opacity:1; fill:none\" points=\"197.015,1486.45 197.015,1467.55 \"/>\n",
       "<polyline clip-path=\"url(#clip350)\" style=\"stroke:#000000; stroke-linecap:round; stroke-linejoin:round; stroke-width:4; stroke-opacity:1; fill:none\" points=\"734.07,1486.45 734.07,1467.55 \"/>\n",
       "<polyline clip-path=\"url(#clip350)\" style=\"stroke:#000000; stroke-linecap:round; stroke-linejoin:round; stroke-width:4; stroke-opacity:1; fill:none\" points=\"1271.13,1486.45 1271.13,1467.55 \"/>\n",
       "<polyline clip-path=\"url(#clip350)\" style=\"stroke:#000000; stroke-linecap:round; stroke-linejoin:round; stroke-width:4; stroke-opacity:1; fill:none\" points=\"1808.18,1486.45 1808.18,1467.55 \"/>\n",
       "<polyline clip-path=\"url(#clip350)\" style=\"stroke:#000000; stroke-linecap:round; stroke-linejoin:round; stroke-width:4; stroke-opacity:1; fill:none\" points=\"2345.24,1486.45 2345.24,1467.55 \"/>\n",
       "<path clip-path=\"url(#clip350)\" d=\"M197.015 1517.37 Q193.404 1517.37 191.575 1520.93 Q189.769 1524.47 189.769 1531.6 Q189.769 1538.71 191.575 1542.27 Q193.404 1545.82 197.015 1545.82 Q200.649 1545.82 202.454 1542.27 Q204.283 1538.71 204.283 1531.6 Q204.283 1524.47 202.454 1520.93 Q200.649 1517.37 197.015 1517.37 M197.015 1513.66 Q202.825 1513.66 205.88 1518.27 Q208.959 1522.85 208.959 1531.6 Q208.959 1540.33 205.88 1544.94 Q202.825 1549.52 197.015 1549.52 Q191.205 1549.52 188.126 1544.94 Q185.07 1540.33 185.07 1531.6 Q185.07 1522.85 188.126 1518.27 Q191.205 1513.66 197.015 1513.66 Z\" fill=\"#000000\" fill-rule=\"nonzero\" fill-opacity=\"1\" /><path clip-path=\"url(#clip350)\" d=\"M708.758 1544.91 L716.397 1544.91 L716.397 1518.55 L708.087 1520.21 L708.087 1515.95 L716.35 1514.29 L721.026 1514.29 L721.026 1544.91 L728.665 1544.91 L728.665 1548.85 L708.758 1548.85 L708.758 1544.91 Z\" fill=\"#000000\" fill-rule=\"nonzero\" fill-opacity=\"1\" /><path clip-path=\"url(#clip350)\" d=\"M748.11 1517.37 Q744.498 1517.37 742.67 1520.93 Q740.864 1524.47 740.864 1531.6 Q740.864 1538.71 742.67 1542.27 Q744.498 1545.82 748.11 1545.82 Q751.744 1545.82 753.549 1542.27 Q755.378 1538.71 755.378 1531.6 Q755.378 1524.47 753.549 1520.93 Q751.744 1517.37 748.11 1517.37 M748.11 1513.66 Q753.92 1513.66 756.975 1518.27 Q760.054 1522.85 760.054 1531.6 Q760.054 1540.33 756.975 1544.94 Q753.92 1549.52 748.11 1549.52 Q742.299 1549.52 739.221 1544.94 Q736.165 1540.33 736.165 1531.6 Q736.165 1522.85 739.221 1518.27 Q742.299 1513.66 748.11 1513.66 Z\" fill=\"#000000\" fill-rule=\"nonzero\" fill-opacity=\"1\" /><path clip-path=\"url(#clip350)\" d=\"M1249.9 1544.91 L1266.22 1544.91 L1266.22 1548.85 L1244.27 1548.85 L1244.27 1544.91 Q1246.94 1542.16 1251.52 1537.53 Q1256.13 1532.88 1257.31 1531.53 Q1259.55 1529.01 1260.43 1527.27 Q1261.33 1525.51 1261.33 1523.82 Q1261.33 1521.07 1259.39 1519.33 Q1257.47 1517.6 1254.37 1517.6 Q1252.17 1517.6 1249.71 1518.36 Q1247.28 1519.13 1244.51 1520.68 L1244.51 1515.95 Q1247.33 1514.82 1249.78 1514.24 Q1252.24 1513.66 1254.27 1513.66 Q1259.64 1513.66 1262.84 1516.35 Q1266.03 1519.03 1266.03 1523.52 Q1266.03 1525.65 1265.22 1527.57 Q1264.44 1529.47 1262.33 1532.07 Q1261.75 1532.74 1258.65 1535.95 Q1255.55 1539.15 1249.9 1544.91 Z\" fill=\"#000000\" fill-rule=\"nonzero\" fill-opacity=\"1\" /><path clip-path=\"url(#clip350)\" d=\"M1286.03 1517.37 Q1282.42 1517.37 1280.59 1520.93 Q1278.79 1524.47 1278.79 1531.6 Q1278.79 1538.71 1280.59 1542.27 Q1282.42 1545.82 1286.03 1545.82 Q1289.67 1545.82 1291.47 1542.27 Q1293.3 1538.71 1293.3 1531.6 Q1293.3 1524.47 1291.47 1520.93 Q1289.67 1517.37 1286.03 1517.37 M1286.03 1513.66 Q1291.84 1513.66 1294.9 1518.27 Q1297.98 1522.85 1297.98 1531.6 Q1297.98 1540.33 1294.9 1544.94 Q1291.84 1549.52 1286.03 1549.52 Q1280.22 1549.52 1277.14 1544.94 Q1274.09 1540.33 1274.09 1531.6 Q1274.09 1522.85 1277.14 1518.27 Q1280.22 1513.66 1286.03 1513.66 Z\" fill=\"#000000\" fill-rule=\"nonzero\" fill-opacity=\"1\" /><path clip-path=\"url(#clip350)\" d=\"M1797.02 1530.21 Q1800.38 1530.93 1802.26 1533.2 Q1804.15 1535.47 1804.15 1538.8 Q1804.15 1543.92 1800.64 1546.72 Q1797.12 1549.52 1790.64 1549.52 Q1788.46 1549.52 1786.14 1549.08 Q1783.85 1548.66 1781.4 1547.81 L1781.4 1543.29 Q1783.34 1544.43 1785.66 1545.01 Q1787.97 1545.58 1790.5 1545.58 Q1794.89 1545.58 1797.19 1543.85 Q1799.5 1542.11 1799.5 1538.8 Q1799.5 1535.75 1797.35 1534.03 Q1795.22 1532.3 1791.4 1532.3 L1787.37 1532.3 L1787.37 1528.45 L1791.58 1528.45 Q1795.03 1528.45 1796.86 1527.09 Q1798.69 1525.7 1798.69 1523.11 Q1798.69 1520.45 1796.79 1519.03 Q1794.92 1517.6 1791.4 1517.6 Q1789.48 1517.6 1787.28 1518.01 Q1785.08 1518.43 1782.44 1519.31 L1782.44 1515.14 Q1785.1 1514.4 1787.42 1514.03 Q1789.76 1513.66 1791.82 1513.66 Q1797.14 1513.66 1800.24 1516.09 Q1803.34 1518.5 1803.34 1522.62 Q1803.34 1525.49 1801.7 1527.48 Q1800.06 1529.45 1797.02 1530.21 Z\" fill=\"#000000\" fill-rule=\"nonzero\" fill-opacity=\"1\" /><path clip-path=\"url(#clip350)\" d=\"M1823.02 1517.37 Q1819.41 1517.37 1817.58 1520.93 Q1815.77 1524.47 1815.77 1531.6 Q1815.77 1538.71 1817.58 1542.27 Q1819.41 1545.82 1823.02 1545.82 Q1826.65 1545.82 1828.46 1542.27 Q1830.29 1538.71 1830.29 1531.6 Q1830.29 1524.47 1828.46 1520.93 Q1826.65 1517.37 1823.02 1517.37 M1823.02 1513.66 Q1828.83 1513.66 1831.89 1518.27 Q1834.96 1522.85 1834.96 1531.6 Q1834.96 1540.33 1831.89 1544.94 Q1828.83 1549.52 1823.02 1549.52 Q1817.21 1549.52 1814.13 1544.94 Q1811.08 1540.33 1811.08 1531.6 Q1811.08 1522.85 1814.13 1518.27 Q1817.21 1513.66 1823.02 1513.66 Z\" fill=\"#000000\" fill-rule=\"nonzero\" fill-opacity=\"1\" /><path clip-path=\"url(#clip350)\" d=\"M2333.41 1518.36 L2321.6 1536.81 L2333.41 1536.81 L2333.41 1518.36 M2332.18 1514.29 L2338.06 1514.29 L2338.06 1536.81 L2342.99 1536.81 L2342.99 1540.7 L2338.06 1540.7 L2338.06 1548.85 L2333.41 1548.85 L2333.41 1540.7 L2317.81 1540.7 L2317.81 1536.19 L2332.18 1514.29 Z\" fill=\"#000000\" fill-rule=\"nonzero\" fill-opacity=\"1\" /><path clip-path=\"url(#clip350)\" d=\"M2360.72 1517.37 Q2357.11 1517.37 2355.28 1520.93 Q2353.48 1524.47 2353.48 1531.6 Q2353.48 1538.71 2355.28 1542.27 Q2357.11 1545.82 2360.72 1545.82 Q2364.36 1545.82 2366.16 1542.27 Q2367.99 1538.71 2367.99 1531.6 Q2367.99 1524.47 2366.16 1520.93 Q2364.36 1517.37 2360.72 1517.37 M2360.72 1513.66 Q2366.53 1513.66 2369.59 1518.27 Q2372.67 1522.85 2372.67 1531.6 Q2372.67 1540.33 2369.59 1544.94 Q2366.53 1549.52 2360.72 1549.52 Q2354.91 1549.52 2351.83 1544.94 Q2348.78 1540.33 2348.78 1531.6 Q2348.78 1522.85 2351.83 1518.27 Q2354.91 1513.66 2360.72 1513.66 Z\" fill=\"#000000\" fill-rule=\"nonzero\" fill-opacity=\"1\" /><polyline clip-path=\"url(#clip350)\" style=\"stroke:#000000; stroke-linecap:round; stroke-linejoin:round; stroke-width:4; stroke-opacity:1; fill:none\" points=\"189.496,1486.45 189.496,123.472 \"/>\n",
       "<polyline clip-path=\"url(#clip350)\" style=\"stroke:#000000; stroke-linecap:round; stroke-linejoin:round; stroke-width:4; stroke-opacity:1; fill:none\" points=\"189.496,1389.34 208.394,1389.34 \"/>\n",
       "<polyline clip-path=\"url(#clip350)\" style=\"stroke:#000000; stroke-linecap:round; stroke-linejoin:round; stroke-width:4; stroke-opacity:1; fill:none\" points=\"189.496,1133.49 208.394,1133.49 \"/>\n",
       "<polyline clip-path=\"url(#clip350)\" style=\"stroke:#000000; stroke-linecap:round; stroke-linejoin:round; stroke-width:4; stroke-opacity:1; fill:none\" points=\"189.496,877.651 208.394,877.651 \"/>\n",
       "<polyline clip-path=\"url(#clip350)\" style=\"stroke:#000000; stroke-linecap:round; stroke-linejoin:round; stroke-width:4; stroke-opacity:1; fill:none\" points=\"189.496,621.807 208.394,621.807 \"/>\n",
       "<polyline clip-path=\"url(#clip350)\" style=\"stroke:#000000; stroke-linecap:round; stroke-linejoin:round; stroke-width:4; stroke-opacity:1; fill:none\" points=\"189.496,365.964 208.394,365.964 \"/>\n",
       "<path clip-path=\"url(#clip350)\" d=\"M51.6634 1409.13 L59.3023 1409.13 L59.3023 1382.76 L50.9921 1384.43 L50.9921 1380.17 L59.256 1378.5 L63.9319 1378.5 L63.9319 1409.13 L71.5707 1409.13 L71.5707 1413.06 L51.6634 1413.06 L51.6634 1409.13 Z\" fill=\"#000000\" fill-rule=\"nonzero\" fill-opacity=\"1\" /><path clip-path=\"url(#clip350)\" d=\"M91.0151 1381.58 Q87.404 1381.58 85.5753 1385.15 Q83.7697 1388.69 83.7697 1395.82 Q83.7697 1402.93 85.5753 1406.49 Q87.404 1410.03 91.0151 1410.03 Q94.6493 1410.03 96.4548 1406.49 Q98.2835 1402.93 98.2835 1395.82 Q98.2835 1388.69 96.4548 1385.15 Q94.6493 1381.58 91.0151 1381.58 M91.0151 1377.88 Q96.8252 1377.88 99.8808 1382.49 Q102.959 1387.07 102.959 1395.82 Q102.959 1404.55 99.8808 1409.15 Q96.8252 1413.74 91.0151 1413.74 Q85.2049 1413.74 82.1262 1409.15 Q79.0707 1404.55 79.0707 1395.82 Q79.0707 1387.07 82.1262 1382.49 Q85.2049 1377.88 91.0151 1377.88 Z\" fill=\"#000000\" fill-rule=\"nonzero\" fill-opacity=\"1\" /><path clip-path=\"url(#clip350)\" d=\"M102.959 1371.98 L127.071 1371.98 L127.071 1375.18 L102.959 1375.18 L102.959 1371.98 Z\" fill=\"#000000\" fill-rule=\"nonzero\" fill-opacity=\"1\" /><path clip-path=\"url(#clip350)\" d=\"M145.71 1360.88 L136.118 1375.87 L145.71 1375.87 L145.71 1360.88 M144.713 1357.57 L149.49 1357.57 L149.49 1375.87 L153.496 1375.87 L153.496 1379.03 L149.49 1379.03 L149.49 1385.65 L145.71 1385.65 L145.71 1379.03 L133.033 1379.03 L133.033 1375.37 L144.713 1357.57 Z\" fill=\"#000000\" fill-rule=\"nonzero\" fill-opacity=\"1\" /><path clip-path=\"url(#clip350)\" d=\"M52.585 1153.29 L60.2238 1153.29 L60.2238 1126.92 L51.9137 1128.59 L51.9137 1124.33 L60.1776 1122.66 L64.8535 1122.66 L64.8535 1153.29 L72.4923 1153.29 L72.4923 1157.22 L52.585 1157.22 L52.585 1153.29 Z\" fill=\"#000000\" fill-rule=\"nonzero\" fill-opacity=\"1\" /><path clip-path=\"url(#clip350)\" d=\"M91.9366 1125.74 Q88.3255 1125.74 86.4969 1129.31 Q84.6913 1132.85 84.6913 1139.98 Q84.6913 1147.08 86.4969 1150.65 Q88.3255 1154.19 91.9366 1154.19 Q95.5709 1154.19 97.3764 1150.65 Q99.2051 1147.08 99.2051 1139.98 Q99.2051 1132.85 97.3764 1129.31 Q95.5709 1125.74 91.9366 1125.74 M91.9366 1122.04 Q97.7468 1122.04 100.802 1126.64 Q103.881 1131.23 103.881 1139.98 Q103.881 1148.7 100.802 1153.31 Q97.7468 1157.89 91.9366 1157.89 Q86.1265 1157.89 83.0478 1153.31 Q79.9923 1148.7 79.9923 1139.98 Q79.9923 1131.23 83.0478 1126.64 Q86.1265 1122.04 91.9366 1122.04 Z\" fill=\"#000000\" fill-rule=\"nonzero\" fill-opacity=\"1\" /><path clip-path=\"url(#clip350)\" d=\"M103.881 1116.14 L127.993 1116.14 L127.993 1119.34 L103.881 1119.34 L103.881 1116.14 Z\" fill=\"#000000\" fill-rule=\"nonzero\" fill-opacity=\"1\" /><path clip-path=\"url(#clip350)\" d=\"M147.703 1114.67 Q150.43 1115.25 151.954 1117.1 Q153.496 1118.94 153.496 1121.65 Q153.496 1125.81 150.637 1128.08 Q147.778 1130.36 142.512 1130.36 Q140.744 1130.36 138.863 1130 Q137.002 1129.66 135.008 1128.96 L135.008 1125.3 Q136.588 1126.22 138.469 1126.69 Q140.349 1127.16 142.399 1127.16 Q145.973 1127.16 147.835 1125.75 Q149.716 1124.34 149.716 1121.65 Q149.716 1119.17 147.966 1117.77 Q146.236 1116.36 143.133 1116.36 L139.86 1116.36 L139.86 1113.24 L143.283 1113.24 Q146.086 1113.24 147.571 1112.13 Q149.057 1111 149.057 1108.9 Q149.057 1106.73 147.515 1105.59 Q145.992 1104.42 143.133 1104.42 Q141.572 1104.42 139.785 1104.76 Q137.998 1105.1 135.854 1105.81 L135.854 1102.43 Q138.017 1101.83 139.898 1101.52 Q141.797 1101.22 143.471 1101.22 Q147.797 1101.22 150.317 1103.2 Q152.838 1105.15 152.838 1108.5 Q152.838 1110.83 151.502 1112.45 Q150.167 1114.05 147.703 1114.67 Z\" fill=\"#000000\" fill-rule=\"nonzero\" fill-opacity=\"1\" /><path clip-path=\"url(#clip350)\" d=\"M53.3561 897.443 L60.995 897.443 L60.995 871.078 L52.6848 872.744 L52.6848 868.485 L60.9487 866.818 L65.6246 866.818 L65.6246 897.443 L73.2634 897.443 L73.2634 901.378 L53.3561 901.378 L53.3561 897.443 Z\" fill=\"#000000\" fill-rule=\"nonzero\" fill-opacity=\"1\" /><path clip-path=\"url(#clip350)\" d=\"M92.7078 869.897 Q89.0967 869.897 87.268 873.462 Q85.4624 877.003 85.4624 884.133 Q85.4624 891.239 87.268 894.804 Q89.0967 898.346 92.7078 898.346 Q96.342 898.346 98.1475 894.804 Q99.9762 891.239 99.9762 884.133 Q99.9762 877.003 98.1475 873.462 Q96.342 869.897 92.7078 869.897 M92.7078 866.193 Q98.5179 866.193 101.573 870.8 Q104.652 875.383 104.652 884.133 Q104.652 892.86 101.573 897.466 Q98.5179 902.05 92.7078 902.05 Q86.8976 902.05 83.8189 897.466 Q80.7634 892.86 80.7634 884.133 Q80.7634 875.383 83.8189 870.8 Q86.8976 866.193 92.7078 866.193 Z\" fill=\"#000000\" fill-rule=\"nonzero\" fill-opacity=\"1\" /><path clip-path=\"url(#clip350)\" d=\"M104.652 860.295 L128.764 860.295 L128.764 863.492 L104.652 863.492 L104.652 860.295 Z\" fill=\"#000000\" fill-rule=\"nonzero\" fill-opacity=\"1\" /><path clip-path=\"url(#clip350)\" d=\"M140.236 870.771 L153.496 870.771 L153.496 873.968 L135.666 873.968 L135.666 870.771 Q137.829 868.532 141.553 864.771 Q145.296 860.991 146.255 859.9 Q148.079 857.85 148.794 856.439 Q149.527 855.01 149.527 853.637 Q149.527 851.399 147.948 849.988 Q146.387 848.577 143.866 848.577 Q142.08 848.577 140.086 849.198 Q138.111 849.819 135.854 851.079 L135.854 847.242 Q138.149 846.32 140.142 845.85 Q142.136 845.38 143.791 845.38 Q148.155 845.38 150.75 847.562 Q153.345 849.743 153.345 853.392 Q153.345 855.122 152.687 856.684 Q152.048 858.226 150.336 860.332 Q149.866 860.878 147.346 863.492 Q144.826 866.087 140.236 870.771 Z\" fill=\"#000000\" fill-rule=\"nonzero\" fill-opacity=\"1\" /><path clip-path=\"url(#clip350)\" d=\"M53.0552 641.6 L60.694 641.6 L60.694 615.234 L52.3839 616.901 L52.3839 612.642 L60.6477 610.975 L65.3236 610.975 L65.3236 641.6 L72.9625 641.6 L72.9625 645.535 L53.0552 645.535 L53.0552 641.6 Z\" fill=\"#000000\" fill-rule=\"nonzero\" fill-opacity=\"1\" /><path clip-path=\"url(#clip350)\" d=\"M92.4068 614.054 Q88.7957 614.054 86.967 617.619 Q85.1615 621.16 85.1615 628.29 Q85.1615 635.396 86.967 638.961 Q88.7957 642.503 92.4068 642.503 Q96.0411 642.503 97.8466 638.961 Q99.6753 635.396 99.6753 628.29 Q99.6753 621.16 97.8466 617.619 Q96.0411 614.054 92.4068 614.054 M92.4068 610.35 Q98.217 610.35 101.273 614.956 Q104.351 619.54 104.351 628.29 Q104.351 637.017 101.273 641.623 Q98.217 646.206 92.4068 646.206 Q86.5967 646.206 83.518 641.623 Q80.4625 637.017 80.4625 628.29 Q80.4625 619.54 83.518 614.956 Q86.5967 610.35 92.4068 610.35 Z\" fill=\"#000000\" fill-rule=\"nonzero\" fill-opacity=\"1\" /><path clip-path=\"url(#clip350)\" d=\"M104.351 604.451 L128.463 604.451 L128.463 607.649 L104.351 607.649 L104.351 604.451 Z\" fill=\"#000000\" fill-rule=\"nonzero\" fill-opacity=\"1\" /><path clip-path=\"url(#clip350)\" d=\"M137.321 614.927 L143.528 614.927 L143.528 593.505 L136.776 594.859 L136.776 591.399 L143.49 590.045 L147.289 590.045 L147.289 614.927 L153.496 614.927 L153.496 618.125 L137.321 618.125 L137.321 614.927 Z\" fill=\"#000000\" fill-rule=\"nonzero\" fill-opacity=\"1\" /><path clip-path=\"url(#clip350)\" d=\"M82.7903 385.757 L90.4291 385.757 L90.4291 359.391 L82.119 361.058 L82.119 356.798 L90.3828 355.132 L95.0587 355.132 L95.0587 385.757 L102.698 385.757 L102.698 389.692 L82.7903 389.692 L82.7903 385.757 Z\" fill=\"#000000\" fill-rule=\"nonzero\" fill-opacity=\"1\" /><path clip-path=\"url(#clip350)\" d=\"M122.142 358.21 Q118.531 358.21 116.702 361.775 Q114.897 365.317 114.897 372.446 Q114.897 379.553 116.702 383.118 Q118.531 386.659 122.142 386.659 Q125.776 386.659 127.582 383.118 Q129.41 379.553 129.41 372.446 Q129.41 365.317 127.582 361.775 Q125.776 358.21 122.142 358.21 M122.142 354.507 Q127.952 354.507 131.008 359.113 Q134.086 363.697 134.086 372.446 Q134.086 381.173 131.008 385.78 Q127.952 390.363 122.142 390.363 Q116.332 390.363 113.253 385.78 Q110.198 381.173 110.198 372.446 Q110.198 363.697 113.253 359.113 Q116.332 354.507 122.142 354.507 Z\" fill=\"#000000\" fill-rule=\"nonzero\" fill-opacity=\"1\" /><path clip-path=\"url(#clip350)\" d=\"M143.791 336.703 Q140.857 336.703 139.371 339.599 Q137.904 342.477 137.904 348.27 Q137.904 354.044 139.371 356.94 Q140.857 359.818 143.791 359.818 Q146.744 359.818 148.211 356.94 Q149.697 354.044 149.697 348.27 Q149.697 342.477 148.211 339.599 Q146.744 336.703 143.791 336.703 M143.791 333.694 Q148.512 333.694 150.994 337.436 Q153.496 341.16 153.496 348.27 Q153.496 355.36 150.994 359.103 Q148.512 362.827 143.791 362.827 Q139.07 362.827 136.569 359.103 Q134.086 355.36 134.086 348.27 Q134.086 341.16 136.569 337.436 Q139.07 333.694 143.791 333.694 Z\" fill=\"#000000\" fill-rule=\"nonzero\" fill-opacity=\"1\" /><path clip-path=\"url(#clip350)\" d=\"M1228.45 39.9662 Q1234.32 41.222 1237.6 45.1919 Q1240.93 49.1618 1240.93 54.9951 Q1240.93 63.9476 1234.77 68.8492 Q1228.61 73.7508 1217.27 73.7508 Q1213.46 73.7508 1209.41 72.9811 Q1205.4 72.2519 1201.11 70.7531 L1201.11 62.8538 Q1204.51 64.8388 1208.56 65.8515 Q1212.61 66.8642 1217.03 66.8642 Q1224.72 66.8642 1228.73 63.826 Q1232.78 60.7879 1232.78 54.9951 Q1232.78 49.6479 1229.02 46.6502 Q1225.29 43.612 1218.61 43.612 L1211.56 43.612 L1211.56 36.8875 L1218.93 36.8875 Q1224.97 36.8875 1228.17 34.4975 Q1231.37 32.067 1231.37 27.5299 Q1231.37 22.8714 1228.04 20.4004 Q1224.76 17.8888 1218.61 17.8888 Q1215.24 17.8888 1211.4 18.618 Q1207.55 19.3471 1202.93 20.8865 L1202.93 13.5948 Q1207.59 12.2985 1211.64 11.6504 Q1215.73 11.0023 1219.34 11.0023 Q1228.65 11.0023 1234.08 15.2557 Q1239.51 19.4686 1239.51 26.6793 Q1239.51 31.7024 1236.63 35.1862 Q1233.76 38.6294 1228.45 39.9662 Z\" fill=\"#000000\" fill-rule=\"nonzero\" fill-opacity=\"1\" /><path clip-path=\"url(#clip350)\" d=\"M1293.1 27.2059 L1276.7 49.2833 L1293.95 72.576 L1285.16 72.576 L1271.96 54.752 L1258.75 72.576 L1249.96 72.576 L1267.58 48.8377 L1251.46 27.2059 L1260.25 27.2059 L1272.28 43.369 L1284.31 27.2059 L1293.1 27.2059 Z\" fill=\"#000000\" fill-rule=\"nonzero\" fill-opacity=\"1\" /><path clip-path=\"url(#clip350)\" d=\"M1312.59 65.6895 L1341.15 65.6895 L1341.15 72.576 L1302.74 72.576 L1302.74 65.6895 Q1307.4 60.8689 1315.42 52.7671 Q1323.48 44.6248 1325.55 42.2752 Q1329.48 37.8598 1331.02 34.8216 Q1332.6 31.7429 1332.6 28.7857 Q1332.6 23.9651 1329.2 20.927 Q1325.83 17.8888 1320.41 17.8888 Q1316.56 17.8888 1312.26 19.2256 Q1308.01 20.5624 1303.15 23.2765 L1303.15 15.0127 Q1308.09 13.0277 1312.38 12.015 Q1316.68 11.0023 1320.24 11.0023 Q1329.64 11.0023 1335.23 15.7013 Q1340.82 20.4004 1340.82 28.2591 Q1340.82 31.9859 1339.4 35.3482 Q1338.03 38.6699 1334.34 43.2069 Q1333.33 44.3817 1327.9 50.0125 Q1322.47 55.6027 1312.59 65.6895 Z\" fill=\"#000000\" fill-rule=\"nonzero\" fill-opacity=\"1\" /><polyline clip-path=\"url(#clip352)\" style=\"stroke:#009af9; stroke-linecap:round; stroke-linejoin:round; stroke-width:4; stroke-opacity:1; fill:none\" points=\"250.72,1217.29 304.426,1102.51 358.131,1020.92 411.837,1062.33 465.542,968.076 519.248,900.86 572.954,1284.64 626.659,1239.28 680.365,1172.75 734.07,1056.19 787.776,997.424 841.481,1136.26 895.187,931.553 948.893,1392.93 1002.6,1272 1056.3,1234.46 1110.01,1210.16 1163.71,1079.96 1217.42,1052.87 1271.13,1145.71 1324.83,1095.7 1378.54,1447.87 1432.24,1357.14 1485.95,1260.28 1539.65,1225.99 1593.36,1165.87 1647.06,1037.12 1700.77,1262.63 1754.48,953.176 1808.18,1266.5 1861.89,1269.24 1915.59,1129.1 1969.3,1038.23 2023,996.758 2076.71,1022.41 2130.41,866.605 2184.12,837.971 2237.83,1009.35 2291.53,1353.72 \"/>\n",
       "<polyline clip-path=\"url(#clip352)\" style=\"stroke:#e26f46; stroke-linecap:round; stroke-linejoin:round; stroke-width:4; stroke-opacity:1; fill:none\" points=\"250.72,1175.04 304.426,1070.99 358.131,957.11 411.837,867.521 465.542,783.531 519.248,708.237 572.954,1129.96 626.659,1015.13 680.365,909.702 734.07,818.257 787.776,709.773 841.481,640.557 895.187,549.104 948.893,1153.01 1002.6,1032.72 1056.3,925.253 1110.01,839.991 1163.71,741.903 1217.42,656.103 1271.13,584.729 1324.83,497.647 1378.54,1163.8 1432.24,1041 1485.95,925.825 1539.65,827.348 1593.36,728.132 1647.06,650.978 1700.77,548.032 1754.48,487.284 1808.18,405.186 1861.89,1014.6 1915.59,893.161 1969.3,774.806 2023,680.996 2076.71,567.374 2130.41,492.176 2184.12,395.108 2237.83,291.037 2291.53,217.599 \"/>\n",
       "<polyline clip-path=\"url(#clip352)\" style=\"stroke:#3da44d; stroke-linecap:round; stroke-linejoin:round; stroke-width:4; stroke-opacity:1; fill:none\" points=\"250.72,1004.67 304.426,913.467 358.131,791.434 411.837,751.899 465.542,665.831 519.248,611.553 572.954,1124.38 626.659,1029.01 680.365,933.705 734.07,842.892 787.776,736.722 841.481,689.836 895.187,582.259 948.893,1238.54 1002.6,1126.32 1056.3,1021.33 1110.01,932.96 1163.71,837.35 1217.42,743.068 1271.13,669.644 1324.83,569.847 1378.54,1142.73 1432.24,1029.9 1485.95,922.714 1539.65,841.972 1593.36,748.721 1647.06,662.29 1700.77,588.342 1754.48,513.866 1808.18,458.131 1861.89,875.149 1915.59,762.486 1969.3,649.013 2023,565.71 2076.71,476.246 2130.41,391.326 2184.12,306.745 2237.83,254.826 2291.53,162.047 \"/>\n",
       "<polyline clip-path=\"url(#clip352)\" style=\"stroke:#c271d2; stroke-linecap:round; stroke-linejoin:round; stroke-width:4; stroke-opacity:1; fill:none\" points=\"250.72,1032.48 304.426,940.614 358.131,818.436 411.837,783.051 465.542,691.681 519.248,634.137 572.954,1199.03 626.659,1113.36 680.365,1027.72 734.07,933.842 787.776,830.168 841.481,808.24 895.187,693.688 948.893,1307.53 1002.6,1206.01 1056.3,1104.11 1110.01,1018.53 1163.71,922.667 1217.42,825.829 1271.13,752.087 1324.83,646.966 1378.54,1173.37 1432.24,1062.61 1485.95,958.136 1539.65,880.59 1593.36,788.983 1647.06,700.778 1700.77,634.978 1754.48,555.427 1808.18,508.539 1861.89,889.218 1915.59,774.233 1969.3,662.57 2023,577.274 2076.71,486.895 2130.41,402.468 2184.12,316.783 2237.83,262.669 2291.53,170.744 \"/>\n",
       "<path clip-path=\"url(#clip350)\" d=\"M1934.78 428.105 L2280.65 428.105 L2280.65 168.905 L1934.78 168.905  Z\" fill=\"#ffffff\" fill-rule=\"evenodd\" fill-opacity=\"1\"/>\n",
       "<polyline clip-path=\"url(#clip350)\" style=\"stroke:#000000; stroke-linecap:round; stroke-linejoin:round; stroke-width:4; stroke-opacity:1; fill:none\" points=\"1934.78,428.105 2280.65,428.105 2280.65,168.905 1934.78,168.905 1934.78,428.105 \"/>\n",
       "<polyline clip-path=\"url(#clip350)\" style=\"stroke:#009af9; stroke-linecap:round; stroke-linejoin:round; stroke-width:4; stroke-opacity:1; fill:none\" points=\"1958.82,220.745 2103.04,220.745 \"/>\n",
       "<path clip-path=\"url(#clip350)\" d=\"M2131.75 207.307 L2131.75 234.182 L2137.4 234.182 Q2144.55 234.182 2147.86 230.941 Q2151.19 227.701 2151.19 220.71 Q2151.19 213.766 2147.86 210.548 Q2144.55 207.307 2137.4 207.307 L2131.75 207.307 M2127.07 203.465 L2136.68 203.465 Q2146.73 203.465 2151.43 207.654 Q2156.13 211.821 2156.13 220.71 Q2156.13 229.645 2151.4 233.835 Q2146.68 238.025 2136.68 238.025 L2127.07 238.025 L2127.07 203.465 Z\" fill=\"#000000\" fill-rule=\"nonzero\" fill-opacity=\"1\" /><path clip-path=\"url(#clip350)\" d=\"M2161.54 212.099 L2181.77 212.099 L2181.77 215.988 L2165.76 234.622 L2181.77 234.622 L2181.77 238.025 L2160.96 238.025 L2160.96 234.136 L2176.98 215.502 L2161.54 215.502 L2161.54 212.099 Z\" fill=\"#000000\" fill-rule=\"nonzero\" fill-opacity=\"1\" /><polyline clip-path=\"url(#clip350)\" style=\"stroke:#e26f46; stroke-linecap:round; stroke-linejoin:round; stroke-width:4; stroke-opacity:1; fill:none\" points=\"1958.82,272.585 2103.04,272.585 \"/>\n",
       "<path clip-path=\"url(#clip350)\" d=\"M2127.07 255.305 L2131.8 255.305 L2139.07 284.517 L2146.31 255.305 L2151.57 255.305 L2158.83 284.517 L2166.08 255.305 L2170.82 255.305 L2162.14 289.865 L2156.26 289.865 L2148.97 259.865 L2141.61 289.865 L2135.73 289.865 L2127.07 255.305 Z\" fill=\"#000000\" fill-rule=\"nonzero\" fill-opacity=\"1\" /><path clip-path=\"url(#clip350)\" d=\"M2174.99 263.939 L2195.22 263.939 L2195.22 267.828 L2179.2 286.462 L2195.22 286.462 L2195.22 289.865 L2174.41 289.865 L2174.41 285.976 L2190.43 267.342 L2174.99 267.342 L2174.99 263.939 Z\" fill=\"#000000\" fill-rule=\"nonzero\" fill-opacity=\"1\" /><path clip-path=\"url(#clip350)\" d=\"M2206.59 259.147 L2206.59 286.022 L2212.24 286.022 Q2219.39 286.022 2222.7 282.781 Q2226.03 279.541 2226.03 272.55 Q2226.03 265.606 2222.7 262.388 Q2219.39 259.147 2212.24 259.147 L2206.59 259.147 M2201.91 255.305 L2211.52 255.305 Q2221.56 255.305 2226.26 259.494 Q2230.96 263.661 2230.96 272.55 Q2230.96 281.485 2226.24 285.675 Q2221.52 289.865 2211.52 289.865 L2201.91 289.865 L2201.91 255.305 Z\" fill=\"#000000\" fill-rule=\"nonzero\" fill-opacity=\"1\" /><path clip-path=\"url(#clip350)\" d=\"M2236.38 263.939 L2256.61 263.939 L2256.61 267.828 L2240.59 286.462 L2256.61 286.462 L2256.61 289.865 L2235.8 289.865 L2235.8 285.976 L2251.82 267.342 L2236.38 267.342 L2236.38 263.939 Z\" fill=\"#000000\" fill-rule=\"nonzero\" fill-opacity=\"1\" /><polyline clip-path=\"url(#clip350)\" style=\"stroke:#3da44d; stroke-linecap:round; stroke-linejoin:round; stroke-width:4; stroke-opacity:1; fill:none\" points=\"1958.82,324.425 2103.04,324.425 \"/>\n",
       "<path clip-path=\"url(#clip350)\" d=\"M2131.75 310.987 L2131.75 323.973 L2137.63 323.973 Q2140.89 323.973 2142.68 322.283 Q2144.46 320.594 2144.46 317.469 Q2144.46 314.367 2142.68 312.677 Q2140.89 310.987 2137.63 310.987 L2131.75 310.987 M2127.07 307.145 L2137.63 307.145 Q2143.44 307.145 2146.4 309.784 Q2149.39 312.399 2149.39 317.469 Q2149.39 322.584 2146.4 325.2 Q2143.44 327.816 2137.63 327.816 L2131.75 327.816 L2131.75 341.705 L2127.07 341.705 L2127.07 307.145 Z\" fill=\"#000000\" fill-rule=\"nonzero\" fill-opacity=\"1\" /><path clip-path=\"url(#clip350)\" d=\"M2181.54 309.807 L2181.54 314.737 Q2179.18 312.538 2176.5 311.45 Q2173.83 310.362 2170.82 310.362 Q2164.9 310.362 2161.75 313.996 Q2158.6 317.608 2158.6 324.459 Q2158.6 331.288 2161.75 334.922 Q2164.9 338.533 2170.82 338.533 Q2173.83 338.533 2176.5 337.445 Q2179.18 336.357 2181.54 334.158 L2181.54 339.043 Q2179.09 340.709 2176.33 341.543 Q2173.6 342.376 2170.55 342.376 Q2162.7 342.376 2158.19 337.584 Q2153.67 332.77 2153.67 324.459 Q2153.67 316.126 2158.19 311.334 Q2162.7 306.52 2170.55 306.52 Q2173.65 306.52 2176.38 307.353 Q2179.13 308.163 2181.54 309.807 Z\" fill=\"#000000\" fill-rule=\"nonzero\" fill-opacity=\"1\" /><path clip-path=\"url(#clip350)\" d=\"M2200.32 311.751 L2193.97 328.95 L2206.68 328.95 L2200.32 311.751 M2197.68 307.145 L2202.98 307.145 L2216.15 341.705 L2211.29 341.705 L2208.14 332.839 L2192.56 332.839 L2189.41 341.705 L2184.48 341.705 L2197.68 307.145 Z\" fill=\"#000000\" fill-rule=\"nonzero\" fill-opacity=\"1\" /><polyline clip-path=\"url(#clip350)\" style=\"stroke:#c271d2; stroke-linecap:round; stroke-linejoin:round; stroke-width:4; stroke-opacity:1; fill:none\" points=\"1958.82,376.265 2103.04,376.265 \"/>\n",
       "<path clip-path=\"url(#clip350)\" d=\"M2152.63 388.614 L2152.63 379.332 L2144.99 379.332 L2144.99 375.489 L2157.26 375.489 L2157.26 390.327 Q2154.55 392.248 2151.29 393.244 Q2148.02 394.216 2144.32 394.216 Q2136.22 394.216 2131.63 389.494 Q2127.07 384.748 2127.07 376.299 Q2127.07 367.827 2131.63 363.105 Q2136.22 358.36 2144.32 358.36 Q2147.7 358.36 2150.73 359.193 Q2153.79 360.026 2156.36 361.647 L2156.36 366.623 Q2153.76 364.424 2150.85 363.313 Q2147.93 362.202 2144.71 362.202 Q2138.37 362.202 2135.18 365.744 Q2132.01 369.286 2132.01 376.299 Q2132.01 383.29 2135.18 386.832 Q2138.37 390.373 2144.71 390.373 Q2147.19 390.373 2149.13 389.957 Q2151.08 389.517 2152.63 388.614 Z\" fill=\"#000000\" fill-rule=\"nonzero\" fill-opacity=\"1\" /><path clip-path=\"url(#clip350)\" d=\"M2170.48 362.827 L2170.48 375.813 L2176.36 375.813 Q2179.62 375.813 2181.4 374.123 Q2183.19 372.434 2183.19 369.309 Q2183.19 366.207 2181.4 364.517 Q2179.62 362.827 2176.36 362.827 L2170.48 362.827 M2165.8 358.985 L2176.36 358.985 Q2182.17 358.985 2185.13 361.624 Q2188.12 364.239 2188.12 369.309 Q2188.12 374.424 2185.13 377.04 Q2182.17 379.656 2176.36 379.656 L2170.48 379.656 L2170.48 393.545 L2165.8 393.545 L2165.8 358.985 Z\" fill=\"#000000\" fill-rule=\"nonzero\" fill-opacity=\"1\" /></svg>\n"
      ]
     },
     "execution_count": 21,
     "metadata": {},
     "output_type": "execute_result"
    }
   ],
   "source": [
    "plot(diag(Cmod_dz) ./ diag(cov), label=\"Dz\", yscale=:log10, title=\"3x2\")\n",
    "plot!(diag(Cmod_wzdz) ./ diag(cov), label=\"WzDz\")\n",
    "plot!(diag(Cmod_pca) ./ diag(cov), label=\"PCA\")\n",
    "plot!(diag(Cmod_gp) ./ diag(cov), label=\"GP\")"
   ]
  },
  {
   "cell_type": "markdown",
   "id": "99c7d3bf",
   "metadata": {},
   "source": [
    "## Save"
   ]
  },
  {
   "cell_type": "code",
   "execution_count": 22,
   "id": "24092f5f",
   "metadata": {},
   "outputs": [],
   "source": [
    "using NPZ\n",
    "npzwrite(string(\"../covs/COSMODC2/\", method, \"_gcgc_tpts_covs.npz\"),\n",
    "        Dict(\n",
    "        \"cov\"     => cov,\n",
    "        \"TT_dz\"   => Symmetric(cov + Cmod_dz),\n",
    "        \"TT_wzdz\" => Symmetric(cov + Cmod_wzdz),\n",
    "        \"TT_pca\"  => Symmetric(cov + Cmod_pca),\n",
    "        \"TT_gp\"   => Symmetric(cov + Cmod_gp)))"
   ]
  },
  {
   "cell_type": "code",
   "execution_count": null,
   "id": "df8c61ab",
   "metadata": {},
   "outputs": [],
   "source": []
  },
  {
   "cell_type": "code",
   "execution_count": null,
   "id": "deaef2b3",
   "metadata": {},
   "outputs": [],
   "source": []
  }
 ],
 "metadata": {
  "kernelspec": {
   "display_name": "Julia (10 threads) 1.11.0",
   "language": "julia",
   "name": "julia-_10-threads_-1.11"
  },
  "language_info": {
   "file_extension": ".jl",
   "mimetype": "application/julia",
   "name": "julia",
   "version": "1.11.0"
  }
 },
 "nbformat": 4,
 "nbformat_minor": 5
}
