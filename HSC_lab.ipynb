{
 "cells": [
  {
   "cell_type": "code",
   "execution_count": 2,
   "metadata": {},
   "outputs": [],
   "source": [
    "import numpy as np\n",
    "import sacc"
   ]
  },
  {
   "cell_type": "code",
   "execution_count": 4,
   "metadata": {},
   "outputs": [],
   "source": [
    "path = \"/home/jaimerz/Documents/UCL/HSC-PDR1-3x2pt-harmonic-methods/data/harmonic/txpipe/source_s16a_lens_dr1/all-fields/dndz/\"\n",
    "s = sacc.Sacc.load_fits(path+\"summary_statistics_fourier_all_SourcesS16A_LensesDR1_pz_mc_eab_HikageShearSC_DESC_GCandGGL_SC_kmax_0.15_1.471COVMAT.sacc\")\n"
   ]
  },
  {
   "cell_type": "code",
   "execution_count": 7,
   "metadata": {},
   "outputs": [
    {
     "data": {
      "text/plain": [
       "['galaxy_density_cl',\n",
       " 'galaxy_shearDensity_cl_b',\n",
       " 'galaxy_shearDensity_cl_e',\n",
       " 'galaxy_shear_cl_bb',\n",
       " 'galaxy_shear_cl_be',\n",
       " 'galaxy_shear_cl_eb',\n",
       " 'galaxy_shear_cl_ee']"
      ]
     },
     "execution_count": 7,
     "metadata": {},
     "output_type": "execute_result"
    }
   ],
   "source": [
    "s.get_data_types()"
   ]
  },
  {
   "cell_type": "code",
   "execution_count": 10,
   "metadata": {},
   "outputs": [
    {
     "name": "stdout",
     "output_type": "stream",
     "text": [
      "[('lens_0', 'lens_0'), ('lens_1', 'lens_0'), ('lens_1', 'lens_1'), ('lens_2', 'lens_0'), ('lens_2', 'lens_1'), ('lens_2', 'lens_2'), ('lens_3', 'lens_0'), ('lens_3', 'lens_1'), ('lens_3', 'lens_2'), ('lens_3', 'lens_3'), ('source_0', 'lens_0'), ('source_0', 'lens_1'), ('source_0', 'lens_2'), ('source_0', 'lens_3'), ('source_1', 'lens_0'), ('source_1', 'lens_1'), ('source_1', 'lens_2'), ('source_1', 'lens_3'), ('source_2', 'lens_0'), ('source_2', 'lens_1'), ('source_2', 'lens_2'), ('source_2', 'lens_3'), ('source_3', 'lens_0'), ('source_3', 'lens_1'), ('source_3', 'lens_2'), ('source_3', 'lens_3'), ('source_0', 'source_0'), ('source_1', 'source_0'), ('source_1', 'source_1'), ('source_2', 'source_0'), ('source_2', 'source_1'), ('source_2', 'source_2'), ('source_3', 'source_0'), ('source_3', 'source_1'), ('source_3', 'source_2'), ('source_3', 'source_3')]\n"
     ]
    }
   ],
   "source": [
    "print(s.get_tracer_combinations())"
   ]
  },
  {
   "cell_type": "code",
   "execution_count": 14,
   "metadata": {},
   "outputs": [
    {
     "data": {
      "text/plain": [
       "'generic'"
      ]
     },
     "execution_count": 14,
     "metadata": {},
     "output_type": "execute_result"
    }
   ],
   "source": [
    "s.tracers[\"lens_0\"].quantity"
   ]
  },
  {
   "cell_type": "code",
   "execution_count": null,
   "metadata": {},
   "outputs": [],
   "source": []
  }
 ],
 "metadata": {
  "kernelspec": {
   "display_name": "tutorials",
   "language": "python",
   "name": "python3"
  },
  "language_info": {
   "codemirror_mode": {
    "name": "ipython",
    "version": 3
   },
   "file_extension": ".py",
   "mimetype": "text/x-python",
   "name": "python",
   "nbconvert_exporter": "python",
   "pygments_lexer": "ipython3",
   "version": "3.9.17"
  }
 },
 "nbformat": 4,
 "nbformat_minor": 2
}
