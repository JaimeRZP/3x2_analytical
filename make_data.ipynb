{
 "cells": [
  {
   "cell_type": "code",
   "execution_count": 7,
   "metadata": {},
   "outputs": [
    {
     "name": "stderr",
     "output_type": "stream",
     "text": [
      "\u001b[32m\u001b[1m  Activating\u001b[22m\u001b[39m project at `~/Documents/UCL/3x2_analytical`\n",
      "\u001b[32m\u001b[1m   Resolving\u001b[22m\u001b[39m package versions...\n",
      "\u001b[32m\u001b[1m   Installed\u001b[22m\u001b[39m LERC_jll ───────────────────── v3.0.0+1\n",
      "\u001b[32m\u001b[1m   Installed\u001b[22m\u001b[39m Opus_jll ───────────────────── v1.3.2+0\n",
      "\u001b[32m\u001b[1m   Installed\u001b[22m\u001b[39m x265_jll ───────────────────── v3.5.0+0\n",
      "\u001b[32m\u001b[1m   Installed\u001b[22m\u001b[39m libfdk_aac_jll ─────────────── v2.0.2+0\n",
      "\u001b[32m\u001b[1m   Installed\u001b[22m\u001b[39m GR_jll ─────────────────────── v0.73.5+0\n",
      "\u001b[32m\u001b[1m   Installed\u001b[22m\u001b[39m JpegTurbo_jll ──────────────── v3.0.3+0\n",
      "\u001b[32m\u001b[1m   Installed\u001b[22m\u001b[39m LoggingExtras ──────────────── v1.0.3\n",
      "\u001b[32m\u001b[1m   Installed\u001b[22m\u001b[39m Libmount_jll ───────────────── v2.40.0+0\n",
      "\u001b[32m\u001b[1m   Installed\u001b[22m\u001b[39m Xorg_xkbcomp_jll ───────────── v1.4.6+0\n",
      "\u001b[32m\u001b[1m   Installed\u001b[22m\u001b[39m Measures ───────────────────── v0.3.2\n",
      "\u001b[32m\u001b[1m   Installed\u001b[22m\u001b[39m ConcurrentUtilities ────────── v2.4.1\n",
      "\u001b[32m\u001b[1m   Installed\u001b[22m\u001b[39m RelocatableFolders ─────────── v1.0.1\n",
      "\u001b[32m\u001b[1m   Installed\u001b[22m\u001b[39m Unitful ────────────────────── v1.19.0\n",
      "\u001b[32m\u001b[1m   Installed\u001b[22m\u001b[39m Contour ────────────────────── v0.6.3\n",
      "\u001b[32m\u001b[1m   Installed\u001b[22m\u001b[39m Xorg_xcb_util_wm_jll ───────── v0.4.1+1\n",
      "\u001b[32m\u001b[1m   Installed\u001b[22m\u001b[39m Xorg_xcb_util_image_jll ────── v0.4.0+1\n",
      "\u001b[32m\u001b[1m   Installed\u001b[22m\u001b[39m RecipesPipeline ────────────── v0.6.12\n",
      "\u001b[32m\u001b[1m   Installed\u001b[22m\u001b[39m Grisu ──────────────────────── v1.0.2\n",
      "\u001b[32m\u001b[1m   Installed\u001b[22m\u001b[39m PlotUtils ──────────────────── v1.4.1\n",
      "\u001b[32m\u001b[1m   Installed\u001b[22m\u001b[39m OpenSSL ────────────────────── v1.4.3\n",
      "\u001b[32m\u001b[1m   Installed\u001b[22m\u001b[39m Xorg_libpthread_stubs_jll ──── v0.1.1+0\n",
      "\u001b[32m\u001b[1m   Installed\u001b[22m\u001b[39m Cairo_jll ──────────────────── v1.18.0+1\n",
      "\u001b[32m\u001b[1m   Installed\u001b[22m\u001b[39m Xorg_libSM_jll ─────────────── v1.2.4+0\n",
      "\u001b[32m\u001b[1m   Installed\u001b[22m\u001b[39m DelimitedFiles ─────────────── v1.9.1\n",
      "\u001b[32m\u001b[1m   Installed\u001b[22m\u001b[39m Xorg_xcb_util_jll ──────────── v0.4.0+1\n",
      "\u001b[32m\u001b[1m   Installed\u001b[22m\u001b[39m HTTP ───────────────────────── v1.10.7\n",
      "\u001b[32m\u001b[1m   Installed\u001b[22m\u001b[39m Fontconfig_jll ─────────────── v2.13.96+0\n",
      "\u001b[32m\u001b[1m   Installed\u001b[22m\u001b[39m EpollShim_jll ──────────────── v0.0.20230411+0\n",
      "\u001b[32m\u001b[1m   Installed\u001b[22m\u001b[39m Xorg_libxkbfile_jll ────────── v1.1.2+0\n",
      "\u001b[32m\u001b[1m   Installed\u001b[22m\u001b[39m Xorg_libXau_jll ────────────── v1.0.11+0\n",
      "\u001b[32m\u001b[1m   Installed\u001b[22m\u001b[39m Xorg_libXinerama_jll ───────── v1.1.4+4\n",
      "\u001b[32m\u001b[1m   Installed\u001b[22m\u001b[39m Libgpg_error_jll ───────────── v1.49.0+0\n",
      "\u001b[32m\u001b[1m   Installed\u001b[22m\u001b[39m FFMPEG ─────────────────────── v0.4.1\n",
      "\u001b[32m\u001b[1m   Installed\u001b[22m\u001b[39m Xorg_xcb_util_keysyms_jll ──── v0.4.0+1\n",
      "\u001b[32m\u001b[1m   Installed\u001b[22m\u001b[39m Bzip2_jll ──────────────────── v1.0.8+1\n",
      "\u001b[32m\u001b[1m   Installed\u001b[22m\u001b[39m SimpleBufferStream ─────────── v1.1.0\n",
      "\u001b[32m\u001b[1m   Installed\u001b[22m\u001b[39m xkbcommon_jll ──────────────── v1.4.1+1\n",
      "\u001b[32m\u001b[1m   Installed\u001b[22m\u001b[39m Pipe ───────────────────────── v1.3.0\n",
      "\u001b[32m\u001b[1m   Installed\u001b[22m\u001b[39m Showoff ────────────────────── v1.0.3\n",
      "\u001b[32m\u001b[1m   Installed\u001b[22m\u001b[39m XZ_jll ─────────────────────── v5.4.6+0\n",
      "\u001b[32m\u001b[1m   Installed\u001b[22m\u001b[39m FriBidi_jll ────────────────── v1.0.14+0\n",
      "\u001b[32m\u001b[1m   Installed\u001b[22m\u001b[39m fzf_jll ────────────────────── v0.43.0+0\n",
      "\u001b[32m\u001b[1m   Installed\u001b[22m\u001b[39m PlotThemes ─────────────────── v3.1.0\n",
      "\u001b[32m\u001b[1m   Installed\u001b[22m\u001b[39m HarfBuzz_jll ───────────────── v2.8.1+1\n",
      "\u001b[32m\u001b[1m   Installed\u001b[22m\u001b[39m GR ─────────────────────────── v0.73.5\n",
      "\u001b[32m\u001b[1m   Installed\u001b[22m\u001b[39m LZO_jll ────────────────────── v2.10.2+0\n",
      "\u001b[32m\u001b[1m   Installed\u001b[22m\u001b[39m JLFzf ──────────────────────── v0.1.7\n",
      "\u001b[32m\u001b[1m   Installed\u001b[22m\u001b[39m GLFW_jll ───────────────────── v3.3.9+0\n",
      "\u001b[32m\u001b[1m   Installed\u001b[22m\u001b[39m ColorSchemes ───────────────── v3.25.0\n",
      "\u001b[32m\u001b[1m   Installed\u001b[22m\u001b[39m x264_jll ───────────────────── v2021.5.5+0\n",
      "\u001b[32m\u001b[1m   Installed\u001b[22m\u001b[39m FreeType2_jll ──────────────── v2.13.1+0\n",
      "\u001b[32m\u001b[1m   Installed\u001b[22m\u001b[39m StatsAPI ───────────────────── v1.7.0\n",
      "\u001b[32m\u001b[1m   Installed\u001b[22m\u001b[39m UnicodeFun ─────────────────── v0.4.1\n",
      "\u001b[32m\u001b[1m   Installed\u001b[22m\u001b[39m Colors ─────────────────────── v0.12.10\n",
      "\u001b[32m\u001b[1m   Installed\u001b[22m\u001b[39m Xorg_libxcb_jll ────────────── v1.15.0+0\n",
      "\u001b[32m\u001b[1m   Installed\u001b[22m\u001b[39m libpng_jll ─────────────────── v1.6.43+1\n",
      "\u001b[32m\u001b[1m   Installed\u001b[22m\u001b[39m libaom_jll ─────────────────── v3.4.0+0\n",
      "\u001b[32m\u001b[1m   Installed\u001b[22m\u001b[39m mtdev_jll ──────────────────── v1.1.6+0\n",
      "\u001b[32m\u001b[1m   Installed\u001b[22m\u001b[39m gperf_jll ──────────────────── v3.1.1+0\n",
      "\u001b[32m\u001b[1m   Installed\u001b[22m\u001b[39m ExceptionUnwrapping ────────── v0.1.10\n",
      "\u001b[32m\u001b[1m   Installed\u001b[22m\u001b[39m ColorTypes ─────────────────── v0.11.5\n",
      "\u001b[32m\u001b[1m   Installed\u001b[22m\u001b[39m StatsBase ──────────────────── v0.34.3\n",
      "\u001b[32m\u001b[1m   Installed\u001b[22m\u001b[39m Xorg_libXext_jll ───────────── v1.3.6+0\n",
      "\u001b[32m\u001b[1m   Installed\u001b[22m\u001b[39m Zstd_jll ───────────────────── v1.5.6+0\n",
      "\u001b[32m\u001b[1m   Installed\u001b[22m\u001b[39m Xorg_xcb_util_cursor_jll ───── v0.1.4+0\n",
      "\u001b[32m\u001b[1m   Installed\u001b[22m\u001b[39m eudev_jll ──────────────────── v3.2.9+0\n",
      "\u001b[32m\u001b[1m   Installed\u001b[22m\u001b[39m Libtiff_jll ────────────────── v4.5.1+1\n",
      "\u001b[32m\u001b[1m   Installed\u001b[22m\u001b[39m Expat_jll ──────────────────── v2.6.2+0\n",
      "\u001b[32m\u001b[1m   Installed\u001b[22m\u001b[39m TensorCore ─────────────────── v0.1.1\n",
      "\u001b[32m\u001b[1m   Installed\u001b[22m\u001b[39m Plots ──────────────────────── v1.40.4\n",
      "\u001b[32m\u001b[1m   Installed\u001b[22m\u001b[39m Format ─────────────────────── v1.3.7\n",
      "\u001b[32m\u001b[1m   Installed\u001b[22m\u001b[39m libinput_jll ───────────────── v1.18.0+0\n",
      "\u001b[32m\u001b[1m   Installed\u001b[22m\u001b[39m Xorg_libXrender_jll ────────── v0.9.11+0\n",
      "\u001b[32m\u001b[1m   Installed\u001b[22m\u001b[39m libevdev_jll ───────────────── v1.11.0+0\n",
      "\u001b[32m\u001b[1m   Installed\u001b[22m\u001b[39m Ogg_jll ────────────────────── v1.3.5+1\n",
      "\u001b[32m\u001b[1m   Installed\u001b[22m\u001b[39m Libffi_jll ─────────────────── v3.2.2+1\n",
      "\u001b[32m\u001b[1m   Installed\u001b[22m\u001b[39m ColorVectorSpace ───────────── v0.10.0\n",
      "\u001b[32m\u001b[1m   Installed\u001b[22m\u001b[39m Xorg_libXi_jll ─────────────── v1.7.10+4\n",
      "\u001b[32m\u001b[1m   Installed\u001b[22m\u001b[39m Vulkan_Loader_jll ──────────── v1.3.243+0\n",
      "\u001b[32m\u001b[1m   Installed\u001b[22m\u001b[39m XSLT_jll ───────────────────── v1.1.34+0\n",
      "\u001b[32m\u001b[1m   Installed\u001b[22m\u001b[39m Xorg_libXcursor_jll ────────── v1.2.0+4\n",
      "\u001b[32m\u001b[1m   Installed\u001b[22m\u001b[39m Xorg_xcb_util_renderutil_jll ─ v0.3.9+1\n",
      "\u001b[32m\u001b[1m   Installed\u001b[22m\u001b[39m Graphite2_jll ──────────────── v1.3.14+0\n",
      "\u001b[32m\u001b[1m   Installed\u001b[22m\u001b[39m Libuuid_jll ────────────────── v2.40.0+0\n",
      "\u001b[32m\u001b[1m   Installed\u001b[22m\u001b[39m Wayland_protocols_jll ──────── v1.31.0+0\n",
      "\u001b[32m\u001b[1m   Installed\u001b[22m\u001b[39m libass_jll ─────────────────── v0.15.1+0\n",
      "\u001b[32m\u001b[1m   Installed\u001b[22m\u001b[39m Xorg_libICE_jll ────────────── v1.1.1+0\n",
      "\u001b[32m\u001b[1m   Installed\u001b[22m\u001b[39m Pixman_jll ─────────────────── v0.42.2+0\n",
      "\u001b[32m\u001b[1m   Installed\u001b[22m\u001b[39m Wayland_jll ────────────────── v1.21.0+1\n",
      "\u001b[32m\u001b[1m   Installed\u001b[22m\u001b[39m XML2_jll ───────────────────── v2.12.6+0\n",
      "\u001b[32m\u001b[1m   Installed\u001b[22m\u001b[39m Gettext_jll ────────────────── v0.21.0+0\n",
      "\u001b[32m\u001b[1m   Installed\u001b[22m\u001b[39m Xorg_xtrans_jll ────────────── v1.5.0+0\n",
      "\u001b[32m\u001b[1m   Installed\u001b[22m\u001b[39m Latexify ───────────────────── v0.16.3\n",
      "\u001b[32m\u001b[1m   Installed\u001b[22m\u001b[39m BitFlags ───────────────────── v0.1.8\n",
      "\u001b[32m\u001b[1m   Installed\u001b[22m\u001b[39m OpenSSL_jll ────────────────── v3.0.13+1\n",
      "\u001b[32m\u001b[1m   Installed\u001b[22m\u001b[39m Xorg_xkeyboard_config_jll ──── v2.39.0+0\n",
      "\u001b[32m\u001b[1m   Installed\u001b[22m\u001b[39m FFMPEG_jll ─────────────────── v4.4.4+1\n",
      "\u001b[32m\u001b[1m   Installed\u001b[22m\u001b[39m Libgcrypt_jll ──────────────── v1.8.11+0\n",
      "\u001b[32m\u001b[1m   Installed\u001b[22m\u001b[39m FixedPointNumbers ──────────── v0.8.4\n",
      "\u001b[32m\u001b[1m   Installed\u001b[22m\u001b[39m Xorg_libXrandr_jll ─────────── v1.5.2+4\n",
      "\u001b[32m\u001b[1m   Installed\u001b[22m\u001b[39m Xorg_libXfixes_jll ─────────── v5.0.3+4\n",
      "\u001b[32m\u001b[1m   Installed\u001b[22m\u001b[39m LLVMOpenMP_jll ─────────────── v15.0.7+0\n",
      "\u001b[32m\u001b[1m   Installed\u001b[22m\u001b[39m LAME_jll ───────────────────── v3.100.2+0\n",
      "\u001b[32m\u001b[1m   Installed\u001b[22m\u001b[39m Glib_jll ───────────────────── v2.80.0+0\n",
      "\u001b[32m\u001b[1m   Installed\u001b[22m\u001b[39m Qt6Base_jll ────────────────── v6.5.3+1\n",
      "\u001b[32m\u001b[1m   Installed\u001b[22m\u001b[39m URIs ───────────────────────── v1.5.1\n",
      "\u001b[32m\u001b[1m   Installed\u001b[22m\u001b[39m libvorbis_jll ──────────────── v1.3.7+1\n",
      "\u001b[32m\u001b[1m   Installed\u001b[22m\u001b[39m RecipesBase ────────────────── v1.3.4\n",
      "\u001b[32m\u001b[1m   Installed\u001b[22m\u001b[39m Libglvnd_jll ───────────────── v1.6.0+0\n",
      "\u001b[32m\u001b[1m   Installed\u001b[22m\u001b[39m Xorg_libX11_jll ────────────── v1.8.6+0\n",
      "\u001b[32m\u001b[1m   Installed\u001b[22m\u001b[39m Xorg_libXdmcp_jll ──────────── v1.1.4+0\n",
      "\u001b[32m\u001b[1m   Installed\u001b[22m\u001b[39m Unzip ──────────────────────── v0.2.0\n",
      "\u001b[32m\u001b[1m   Installed\u001b[22m\u001b[39m UnitfulLatexify ────────────── v1.6.3\n",
      "\u001b[32m\u001b[1m    Updating\u001b[22m\u001b[39m `~/Documents/UCL/3x2_analytical/Project.toml`\n",
      "  \u001b[90m[91a5bcdd] \u001b[39m\u001b[92m+ Plots v1.40.4\u001b[39m\n",
      "\u001b[32m\u001b[1m    Updating\u001b[22m\u001b[39m `~/Documents/UCL/3x2_analytical/Manifest.toml`\n",
      "  \u001b[90m[d1d4a3ce] \u001b[39m\u001b[92m+ BitFlags v0.1.8\u001b[39m\n",
      "  \u001b[90m[35d6a980] \u001b[39m\u001b[92m+ ColorSchemes v3.25.0\u001b[39m\n",
      "  \u001b[90m[3da002f7] \u001b[39m\u001b[92m+ ColorTypes v0.11.5\u001b[39m\n",
      "  \u001b[90m[c3611d14] \u001b[39m\u001b[92m+ ColorVectorSpace v0.10.0\u001b[39m\n",
      "  \u001b[90m[5ae59095] \u001b[39m\u001b[92m+ Colors v0.12.10\u001b[39m\n",
      "  \u001b[90m[f0e56b4a] \u001b[39m\u001b[92m+ ConcurrentUtilities v2.4.1\u001b[39m\n",
      "  \u001b[90m[d38c429a] \u001b[39m\u001b[92m+ Contour v0.6.3\u001b[39m\n",
      "  \u001b[90m[8bb1440f] \u001b[39m\u001b[92m+ DelimitedFiles v1.9.1\u001b[39m\n",
      "  \u001b[90m[460bff9d] \u001b[39m\u001b[92m+ ExceptionUnwrapping v0.1.10\u001b[39m\n",
      "  \u001b[90m[c87230d0] \u001b[39m\u001b[92m+ FFMPEG v0.4.1\u001b[39m\n",
      "  \u001b[90m[53c48c17] \u001b[39m\u001b[92m+ FixedPointNumbers v0.8.4\u001b[39m\n",
      "  \u001b[90m[1fa38f19] \u001b[39m\u001b[92m+ Format v1.3.7\u001b[39m\n",
      "  \u001b[90m[28b8d3ca] \u001b[39m\u001b[92m+ GR v0.73.5\u001b[39m\n",
      "  \u001b[90m[42e2da0e] \u001b[39m\u001b[92m+ Grisu v1.0.2\u001b[39m\n",
      "  \u001b[90m[cd3eb016] \u001b[39m\u001b[92m+ HTTP v1.10.7\u001b[39m\n",
      "  \u001b[90m[1019f520] \u001b[39m\u001b[92m+ JLFzf v0.1.7\u001b[39m\n",
      "  \u001b[90m[682c06a0] \u001b[39m\u001b[92m+ JSON v0.21.4\u001b[39m\n",
      "  \u001b[90m[23fbe1c1] \u001b[39m\u001b[92m+ Latexify v0.16.3\u001b[39m\n",
      "  \u001b[90m[e6f89c97] \u001b[39m\u001b[92m+ LoggingExtras v1.0.3\u001b[39m\n",
      "  \u001b[90m[739be429] \u001b[39m\u001b[92m+ MbedTLS v1.1.9\u001b[39m\n",
      "  \u001b[90m[442fdcdd] \u001b[39m\u001b[92m+ Measures v0.3.2\u001b[39m\n",
      "  \u001b[90m[4d8831e6] \u001b[39m\u001b[92m+ OpenSSL v1.4.3\u001b[39m\n",
      "  \u001b[90m[b98c9c47] \u001b[39m\u001b[92m+ Pipe v1.3.0\u001b[39m\n",
      "  \u001b[90m[ccf2f8ad] \u001b[39m\u001b[92m+ PlotThemes v3.1.0\u001b[39m\n",
      "  \u001b[90m[995b91a9] \u001b[39m\u001b[92m+ PlotUtils v1.4.1\u001b[39m\n",
      "  \u001b[90m[91a5bcdd] \u001b[39m\u001b[92m+ Plots v1.40.4\u001b[39m\n",
      "  \u001b[90m[3cdcf5f2] \u001b[39m\u001b[92m+ RecipesBase v1.3.4\u001b[39m\n",
      "  \u001b[90m[01d81517] \u001b[39m\u001b[92m+ RecipesPipeline v0.6.12\u001b[39m\n",
      "  \u001b[90m[05181044] \u001b[39m\u001b[92m+ RelocatableFolders v1.0.1\u001b[39m\n",
      "  \u001b[90m[992d4aef] \u001b[39m\u001b[92m+ Showoff v1.0.3\u001b[39m\n",
      "  \u001b[90m[777ac1f9] \u001b[39m\u001b[92m+ SimpleBufferStream v1.1.0\u001b[39m\n",
      "  \u001b[90m[82ae8749] \u001b[39m\u001b[92m+ StatsAPI v1.7.0\u001b[39m\n",
      "  \u001b[90m[2913bbd2] \u001b[39m\u001b[92m+ StatsBase v0.34.3\u001b[39m\n",
      "  \u001b[90m[62fd8b95] \u001b[39m\u001b[92m+ TensorCore v0.1.1\u001b[39m\n",
      "  \u001b[90m[5c2747f8] \u001b[39m\u001b[92m+ URIs v1.5.1\u001b[39m\n",
      "  \u001b[90m[1cfade01] \u001b[39m\u001b[92m+ UnicodeFun v0.4.1\u001b[39m\n",
      "  \u001b[90m[1986cc42] \u001b[39m\u001b[92m+ Unitful v1.19.0\u001b[39m\n",
      "  \u001b[90m[45397f5d] \u001b[39m\u001b[92m+ UnitfulLatexify v1.6.3\u001b[39m\n",
      "  \u001b[90m[41fe7b60] \u001b[39m\u001b[92m+ Unzip v0.2.0\u001b[39m\n",
      "  \u001b[90m[6e34b625] \u001b[39m\u001b[92m+ Bzip2_jll v1.0.8+1\u001b[39m\n",
      "  \u001b[90m[83423d85] \u001b[39m\u001b[92m+ Cairo_jll v1.18.0+1\u001b[39m\n",
      "  \u001b[90m[2702e6a9] \u001b[39m\u001b[92m+ EpollShim_jll v0.0.20230411+0\u001b[39m\n",
      "  \u001b[90m[2e619515] \u001b[39m\u001b[92m+ Expat_jll v2.6.2+0\u001b[39m\n",
      "\u001b[33m⌅\u001b[39m \u001b[90m[b22a6f82] \u001b[39m\u001b[92m+ FFMPEG_jll v4.4.4+1\u001b[39m\n",
      "  \u001b[90m[a3f928ae] \u001b[39m\u001b[92m+ Fontconfig_jll v2.13.96+0\u001b[39m\n",
      "  \u001b[90m[d7e528f0] \u001b[39m\u001b[92m+ FreeType2_jll v2.13.1+0\u001b[39m\n",
      "  \u001b[90m[559328eb] \u001b[39m\u001b[92m+ FriBidi_jll v1.0.14+0\u001b[39m\n",
      "  \u001b[90m[0656b61e] \u001b[39m\u001b[92m+ GLFW_jll v3.3.9+0\u001b[39m\n",
      "  \u001b[90m[d2c73de3] \u001b[39m\u001b[92m+ GR_jll v0.73.5+0\u001b[39m\n",
      "  \u001b[90m[78b55507] \u001b[39m\u001b[92m+ Gettext_jll v0.21.0+0\u001b[39m\n",
      "  \u001b[90m[7746bdde] \u001b[39m\u001b[92m+ Glib_jll v2.80.0+0\u001b[39m\n",
      "  \u001b[90m[3b182d85] \u001b[39m\u001b[92m+ Graphite2_jll v1.3.14+0\u001b[39m\n",
      "  \u001b[90m[2e76f6c2] \u001b[39m\u001b[92m+ HarfBuzz_jll v2.8.1+1\u001b[39m\n",
      "  \u001b[90m[aacddb02] \u001b[39m\u001b[92m+ JpegTurbo_jll v3.0.3+0\u001b[39m\n",
      "  \u001b[90m[c1c5ebd0] \u001b[39m\u001b[92m+ LAME_jll v3.100.2+0\u001b[39m\n",
      "\u001b[33m⌅\u001b[39m \u001b[90m[88015f11] \u001b[39m\u001b[92m+ LERC_jll v3.0.0+1\u001b[39m\n",
      "  \u001b[90m[1d63c593] \u001b[39m\u001b[92m+ LLVMOpenMP_jll v15.0.7+0\u001b[39m\n",
      "  \u001b[90m[dd4b983a] \u001b[39m\u001b[92m+ LZO_jll v2.10.2+0\u001b[39m\n",
      "\u001b[33m⌅\u001b[39m \u001b[90m[e9f186c6] \u001b[39m\u001b[92m+ Libffi_jll v3.2.2+1\u001b[39m\n",
      "  \u001b[90m[d4300ac3] \u001b[39m\u001b[92m+ Libgcrypt_jll v1.8.11+0\u001b[39m\n",
      "  \u001b[90m[7e76a0d4] \u001b[39m\u001b[92m+ Libglvnd_jll v1.6.0+0\u001b[39m\n",
      "  \u001b[90m[7add5ba3] \u001b[39m\u001b[92m+ Libgpg_error_jll v1.49.0+0\u001b[39m\n",
      "  \u001b[90m[4b2f31a3] \u001b[39m\u001b[92m+ Libmount_jll v2.40.0+0\u001b[39m\n",
      "\u001b[33m⌅\u001b[39m \u001b[90m[89763e89] \u001b[39m\u001b[92m+ Libtiff_jll v4.5.1+1\u001b[39m\n",
      "  \u001b[90m[38a345b3] \u001b[39m\u001b[92m+ Libuuid_jll v2.40.0+0\u001b[39m\n",
      "  \u001b[90m[e7412a2a] \u001b[39m\u001b[92m+ Ogg_jll v1.3.5+1\u001b[39m\n",
      "  \u001b[90m[458c3c95] \u001b[39m\u001b[92m+ OpenSSL_jll v3.0.13+1\u001b[39m\n",
      "  \u001b[90m[91d4177d] \u001b[39m\u001b[92m+ Opus_jll v1.3.2+0\u001b[39m\n",
      "  \u001b[90m[30392449] \u001b[39m\u001b[92m+ Pixman_jll v0.42.2+0\u001b[39m\n",
      "  \u001b[90m[c0090381] \u001b[39m\u001b[92m+ Qt6Base_jll v6.5.3+1\u001b[39m\n",
      "  \u001b[90m[a44049a8] \u001b[39m\u001b[92m+ Vulkan_Loader_jll v1.3.243+0\u001b[39m\n",
      "  \u001b[90m[a2964d1f] \u001b[39m\u001b[92m+ Wayland_jll v1.21.0+1\u001b[39m\n",
      "  \u001b[90m[2381bf8a] \u001b[39m\u001b[92m+ Wayland_protocols_jll v1.31.0+0\u001b[39m\n",
      "  \u001b[90m[02c8fc9c] \u001b[39m\u001b[92m+ XML2_jll v2.12.6+0\u001b[39m\n",
      "  \u001b[90m[aed1982a] \u001b[39m\u001b[92m+ XSLT_jll v1.1.34+0\u001b[39m\n",
      "  \u001b[90m[ffd25f8a] \u001b[39m\u001b[92m+ XZ_jll v5.4.6+0\u001b[39m\n",
      "  \u001b[90m[f67eecfb] \u001b[39m\u001b[92m+ Xorg_libICE_jll v1.1.1+0\u001b[39m\n",
      "  \u001b[90m[c834827a] \u001b[39m\u001b[92m+ Xorg_libSM_jll v1.2.4+0\u001b[39m\n",
      "  \u001b[90m[4f6342f7] \u001b[39m\u001b[92m+ Xorg_libX11_jll v1.8.6+0\u001b[39m\n",
      "  \u001b[90m[0c0b7dd1] \u001b[39m\u001b[92m+ Xorg_libXau_jll v1.0.11+0\u001b[39m\n",
      "  \u001b[90m[935fb764] \u001b[39m\u001b[92m+ Xorg_libXcursor_jll v1.2.0+4\u001b[39m\n",
      "  \u001b[90m[a3789734] \u001b[39m\u001b[92m+ Xorg_libXdmcp_jll v1.1.4+0\u001b[39m\n",
      "  \u001b[90m[1082639a] \u001b[39m\u001b[92m+ Xorg_libXext_jll v1.3.6+0\u001b[39m\n",
      "  \u001b[90m[d091e8ba] \u001b[39m\u001b[92m+ Xorg_libXfixes_jll v5.0.3+4\u001b[39m\n",
      "  \u001b[90m[a51aa0fd] \u001b[39m\u001b[92m+ Xorg_libXi_jll v1.7.10+4\u001b[39m\n",
      "  \u001b[90m[d1454406] \u001b[39m\u001b[92m+ Xorg_libXinerama_jll v1.1.4+4\u001b[39m\n",
      "  \u001b[90m[ec84b674] \u001b[39m\u001b[92m+ Xorg_libXrandr_jll v1.5.2+4\u001b[39m\n",
      "  \u001b[90m[ea2f1a96] \u001b[39m\u001b[92m+ Xorg_libXrender_jll v0.9.11+0\u001b[39m\n",
      "  \u001b[90m[14d82f49] \u001b[39m\u001b[92m+ Xorg_libpthread_stubs_jll v0.1.1+0\u001b[39m\n",
      "  \u001b[90m[c7cfdc94] \u001b[39m\u001b[92m+ Xorg_libxcb_jll v1.15.0+0\u001b[39m\n",
      "  \u001b[90m[cc61e674] \u001b[39m\u001b[92m+ Xorg_libxkbfile_jll v1.1.2+0\u001b[39m\n",
      "  \u001b[90m[e920d4aa] \u001b[39m\u001b[92m+ Xorg_xcb_util_cursor_jll v0.1.4+0\u001b[39m\n",
      "  \u001b[90m[12413925] \u001b[39m\u001b[92m+ Xorg_xcb_util_image_jll v0.4.0+1\u001b[39m\n",
      "  \u001b[90m[2def613f] \u001b[39m\u001b[92m+ Xorg_xcb_util_jll v0.4.0+1\u001b[39m\n",
      "  \u001b[90m[975044d2] \u001b[39m\u001b[92m+ Xorg_xcb_util_keysyms_jll v0.4.0+1\u001b[39m\n",
      "  \u001b[90m[0d47668e] \u001b[39m\u001b[92m+ Xorg_xcb_util_renderutil_jll v0.3.9+1\u001b[39m\n",
      "  \u001b[90m[c22f9ab0] \u001b[39m\u001b[92m+ Xorg_xcb_util_wm_jll v0.4.1+1\u001b[39m\n",
      "  \u001b[90m[35661453] \u001b[39m\u001b[92m+ Xorg_xkbcomp_jll v1.4.6+0\u001b[39m\n",
      "  \u001b[90m[33bec58e] \u001b[39m\u001b[92m+ Xorg_xkeyboard_config_jll v2.39.0+0\u001b[39m\n",
      "  \u001b[90m[c5fb5394] \u001b[39m\u001b[92m+ Xorg_xtrans_jll v1.5.0+0\u001b[39m\n",
      "  \u001b[90m[3161d3a3] \u001b[39m\u001b[92m+ Zstd_jll v1.5.6+0\u001b[39m\n",
      "  \u001b[90m[35ca27e7] \u001b[39m\u001b[92m+ eudev_jll v3.2.9+0\u001b[39m\n",
      "\u001b[33m⌅\u001b[39m \u001b[90m[214eeab7] \u001b[39m\u001b[92m+ fzf_jll v0.43.0+0\u001b[39m\n",
      "  \u001b[90m[1a1c6b14] \u001b[39m\u001b[92m+ gperf_jll v3.1.1+0\u001b[39m\n",
      "  \u001b[90m[a4ae2306] \u001b[39m\u001b[92m+ libaom_jll v3.4.0+0\u001b[39m\n",
      "  \u001b[90m[0ac62f75] \u001b[39m\u001b[92m+ libass_jll v0.15.1+0\u001b[39m\n",
      "  \u001b[90m[2db6ffa8] \u001b[39m\u001b[92m+ libevdev_jll v1.11.0+0\u001b[39m\n",
      "  \u001b[90m[f638f0a6] \u001b[39m\u001b[92m+ libfdk_aac_jll v2.0.2+0\u001b[39m\n",
      "  \u001b[90m[36db933b] \u001b[39m\u001b[92m+ libinput_jll v1.18.0+0\u001b[39m\n",
      "  \u001b[90m[b53b4c65] \u001b[39m\u001b[92m+ libpng_jll v1.6.43+1\u001b[39m\n",
      "  \u001b[90m[f27f6e37] \u001b[39m\u001b[92m+ libvorbis_jll v1.3.7+1\u001b[39m\n",
      "  \u001b[90m[009596ad] \u001b[39m\u001b[92m+ mtdev_jll v1.1.6+0\u001b[39m\n",
      "  \u001b[90m[1270edf5] \u001b[39m\u001b[92m+ x264_jll v2021.5.5+0\u001b[39m\n",
      "  \u001b[90m[dfaa095f] \u001b[39m\u001b[92m+ x265_jll v3.5.0+0\u001b[39m\n",
      "  \u001b[90m[d8fb68d0] \u001b[39m\u001b[92m+ xkbcommon_jll v1.4.1+1\u001b[39m\n",
      "  \u001b[90m[efcefdf7] \u001b[39m\u001b[92m+ PCRE2_jll v10.42.0+1\u001b[39m\n",
      "\u001b[36m\u001b[1m        Info\u001b[22m\u001b[39m Packages marked with \u001b[33m⌅\u001b[39m have new versions available but compatibility constraints restrict them from upgrading. To see why use `status --outdated -m`\n",
      "\u001b[32m\u001b[1mPrecompiling\u001b[22m\u001b[39m project...\n",
      "\u001b[32m  ✓ \u001b[39m\u001b[90mStatsAPI\u001b[39m\n",
      "\u001b[32m  ✓ \u001b[39m\u001b[90mExceptionUnwrapping\u001b[39m\n",
      "\u001b[32m  ✓ \u001b[39m\u001b[90mPipe\u001b[39m\n",
      "\u001b[32m  ✓ \u001b[39m\u001b[90mDelimitedFiles\u001b[39m\n",
      "\u001b[32m  ✓ \u001b[39m\u001b[90mTensorCore\u001b[39m\n",
      "\u001b[32m  ✓ \u001b[39m\u001b[90mBitFlags\u001b[39m\n",
      "\u001b[32m  ✓ \u001b[39m\u001b[90mSimpleBufferStream\u001b[39m\n",
      "\u001b[32m  ✓ \u001b[39m\u001b[90mContour\u001b[39m\n",
      "\u001b[32m  ✓ \u001b[39m\u001b[90mGrisu\u001b[39m\n",
      "\u001b[32m  ✓ \u001b[39m\u001b[90mMeasures\u001b[39m\n",
      "\u001b[32m  ✓ \u001b[39m\u001b[90mUnzip\u001b[39m\n",
      "\u001b[32m  ✓ \u001b[39m\u001b[90mConcurrentUtilities\u001b[39m\n",
      "\u001b[32m  ✓ \u001b[39m\u001b[90mURIs\u001b[39m\n",
      "\u001b[32m  ✓ \u001b[39m\u001b[90mLoggingExtras\u001b[39m\n",
      "\u001b[32m  ✓ \u001b[39m\u001b[90mRelocatableFolders\u001b[39m\n",
      "\u001b[32m  ✓ \u001b[39m\u001b[90mEpollShim_jll\u001b[39m\n",
      "\u001b[32m  ✓ \u001b[39m\u001b[90mOpenSSL_jll\u001b[39m\n",
      "\u001b[32m  ✓ \u001b[39m\u001b[90mGraphite2_jll\u001b[39m\n",
      "\u001b[32m  ✓ \u001b[39m\u001b[90mUnicodeFun\u001b[39m\n",
      "\u001b[32m  ✓ \u001b[39m\u001b[90mLibmount_jll\u001b[39m\n",
      "\u001b[32m  ✓ \u001b[39m\u001b[90mLLVMOpenMP_jll\u001b[39m\n",
      "\u001b[32m  ✓ \u001b[39m\u001b[90mBzip2_jll\u001b[39m\n",
      "\u001b[32m  ✓ \u001b[39m\u001b[90mFormat\u001b[39m\n",
      "\u001b[32m  ✓ \u001b[39m\u001b[90mXorg_libXau_jll\u001b[39m\n",
      "\u001b[32m  ✓ \u001b[39m\u001b[90mXorg_libICE_jll\u001b[39m\n",
      "\u001b[32m  ✓ \u001b[39m\u001b[90mlibfdk_aac_jll\u001b[39m\n",
      "\u001b[32m  ✓ \u001b[39m\u001b[90mlibpng_jll\u001b[39m\n",
      "\u001b[32m  ✓ \u001b[39m\u001b[90mLERC_jll\u001b[39m\n",
      "\u001b[32m  ✓ \u001b[39m\u001b[90mfzf_jll\u001b[39m\n",
      "\u001b[32m  ✓ \u001b[39m\u001b[90mLAME_jll\u001b[39m\n",
      "\u001b[32m  ✓ \u001b[39m\u001b[90mOgg_jll\u001b[39m\n",
      "\u001b[32m  ✓ \u001b[39m\u001b[90mJpegTurbo_jll\u001b[39m\n",
      "\u001b[32m  ✓ \u001b[39m\u001b[90mXZ_jll\u001b[39m\n",
      "\u001b[32m  ✓ \u001b[39m\u001b[90mmtdev_jll\u001b[39m\n",
      "\u001b[32m  ✓ \u001b[39m\u001b[90mXorg_libXdmcp_jll\u001b[39m\n",
      "\u001b[32m  ✓ \u001b[39m\u001b[90mgperf_jll\u001b[39m\n",
      "\u001b[32m  ✓ \u001b[39m\u001b[90mZstd_jll\u001b[39m\n",
      "\u001b[32m  ✓ \u001b[39m\u001b[90mlibaom_jll\u001b[39m\n",
      "\u001b[32m  ✓ \u001b[39m\u001b[90mx264_jll\u001b[39m\n",
      "\u001b[32m  ✓ \u001b[39m\u001b[90mx265_jll\u001b[39m\n",
      "\u001b[32m  ✓ \u001b[39m\u001b[90mRecipesBase\u001b[39m\n",
      "\u001b[32m  ✓ \u001b[39m\u001b[90mExpat_jll\u001b[39m\n",
      "\u001b[32m  ✓ \u001b[39m\u001b[90mLZO_jll\u001b[39m\n",
      "\u001b[32m  ✓ \u001b[39m\u001b[90mXorg_xtrans_jll\u001b[39m\n",
      "\u001b[32m  ✓ \u001b[39m\u001b[90mlibevdev_jll\u001b[39m\n",
      "\u001b[32m  ✓ \u001b[39m\u001b[90mWayland_protocols_jll\u001b[39m\n",
      "\u001b[32m  ✓ \u001b[39m\u001b[90mOpus_jll\u001b[39m\n",
      "\u001b[32m  ✓ \u001b[39m\u001b[90mLibgpg_error_jll\u001b[39m\n",
      "\u001b[32m  ✓ \u001b[39m\u001b[90mXorg_libpthread_stubs_jll\u001b[39m\n",
      "\u001b[32m  ✓ \u001b[39m\u001b[90mLibffi_jll\u001b[39m\n",
      "\u001b[32m  ✓ \u001b[39m\u001b[90mFriBidi_jll\u001b[39m\n",
      "\u001b[32m  ✓ \u001b[39m\u001b[90mShowoff\u001b[39m\n",
      "\u001b[32m  ✓ \u001b[39m\u001b[90mLibuuid_jll\u001b[39m\n",
      "\u001b[32m  ✓ \u001b[39m\u001b[90mXML2_jll\u001b[39m\n",
      "\u001b[32m  ✓ \u001b[39m\u001b[90mFreeType2_jll\u001b[39m\n",
      "\u001b[32m  ✓ \u001b[39m\u001b[90mPixman_jll\u001b[39m\n",
      "\u001b[32m  ✓ \u001b[39m\u001b[90mLibtiff_jll\u001b[39m\n",
      "\u001b[32m  ✓ \u001b[39m\u001b[90mXorg_libSM_jll\u001b[39m\n",
      "\u001b[32m  ✓ \u001b[39m\u001b[90mJLFzf\u001b[39m\n",
      "\u001b[32m  ✓ \u001b[39m\u001b[90mlibvorbis_jll\u001b[39m\n",
      "\u001b[32m  ✓ \u001b[39m\u001b[90meudev_jll\u001b[39m\n",
      "\u001b[32m  ✓ \u001b[39m\u001b[90mLibgcrypt_jll\u001b[39m\n",
      "\u001b[32m  ✓ \u001b[39m\u001b[90mGettext_jll\u001b[39m\n",
      "\u001b[32m  ✓ \u001b[39m\u001b[90mWayland_jll\u001b[39m\n",
      "\u001b[32m  ✓ \u001b[39m\u001b[90mFontconfig_jll\u001b[39m\n",
      "\u001b[32m  ✓ \u001b[39m\u001b[90mlibinput_jll\u001b[39m\n",
      "\u001b[32m  ✓ \u001b[39m\u001b[90mXSLT_jll\u001b[39m\n",
      "\u001b[32m  ✓ \u001b[39m\u001b[90mGlib_jll\u001b[39m\n",
      "\u001b[32m  ✓ \u001b[39m\u001b[90mOpenSSL\u001b[39m\n",
      "\u001b[32m  ✓ \u001b[39m\u001b[90mStatsBase\u001b[39m\n",
      "\u001b[32m  ✓ \u001b[39m\u001b[90mFixedPointNumbers\u001b[39m\n",
      "\u001b[32m  ✓ \u001b[39m\u001b[90mXorg_libxcb_jll\u001b[39m\n",
      "\u001b[32m  ✓ \u001b[39m\u001b[90mLatexify\u001b[39m\n",
      "\u001b[32m  ✓ \u001b[39m\u001b[90mXorg_xcb_util_jll\u001b[39m\n",
      "\u001b[32m  ✓ \u001b[39m\u001b[90mXorg_libX11_jll\u001b[39m\n",
      "\u001b[32m  ✓ \u001b[39m\u001b[90mRatios → RatiosFixedPointNumbersExt\u001b[39m\n",
      "\u001b[32m  ✓ \u001b[39m\u001b[90mXorg_xcb_util_keysyms_jll\u001b[39m\n",
      "\u001b[32m  ✓ \u001b[39m\u001b[90mXorg_xcb_util_image_jll\u001b[39m\n",
      "\u001b[32m  ✓ \u001b[39m\u001b[90mXorg_libXfixes_jll\u001b[39m\n",
      "\u001b[32m  ✓ \u001b[39m\u001b[90mXorg_libxkbfile_jll\u001b[39m\n",
      "\u001b[32m  ✓ \u001b[39m\u001b[90mXorg_libXext_jll\u001b[39m\n",
      "\u001b[32m  ✓ \u001b[39m\u001b[90mXorg_xcb_util_renderutil_jll\u001b[39m\n",
      "\u001b[32m  ✓ \u001b[39m\u001b[90mXorg_xcb_util_wm_jll\u001b[39m\n",
      "\u001b[32m  ✓ \u001b[39m\u001b[90mXorg_libXrender_jll\u001b[39m\n",
      "\u001b[32m  ✓ \u001b[39m\u001b[90mXorg_xkbcomp_jll\u001b[39m\n",
      "\u001b[32m  ✓ \u001b[39m\u001b[90mXorg_libXinerama_jll\u001b[39m\n",
      "\u001b[32m  ✓ \u001b[39m\u001b[90mXorg_xcb_util_cursor_jll\u001b[39m\n",
      "\u001b[32m  ✓ \u001b[39m\u001b[90mLibglvnd_jll\u001b[39m\n",
      "\u001b[32m  ✓ \u001b[39m\u001b[90mXorg_libXi_jll\u001b[39m\n",
      "\u001b[32m  ✓ \u001b[39m\u001b[90mXorg_libXrandr_jll\u001b[39m\n",
      "\u001b[32m  ✓ \u001b[39m\u001b[90mLatexify → DataFramesExt\u001b[39m\n",
      "\u001b[32m  ✓ \u001b[39m\u001b[90mXorg_libXcursor_jll\u001b[39m\n",
      "\u001b[32m  ✓ \u001b[39m\u001b[90mCairo_jll\u001b[39m\n",
      "\u001b[32m  ✓ \u001b[39m\u001b[90mXorg_xkeyboard_config_jll\u001b[39m\n",
      "\u001b[32m  ✓ \u001b[39m\u001b[90mGLFW_jll\u001b[39m\n",
      "\u001b[32m  ✓ \u001b[39m\u001b[90mColorTypes\u001b[39m\n",
      "\u001b[32m  ✓ \u001b[39m\u001b[90mHarfBuzz_jll\u001b[39m\n",
      "\u001b[32m  ✓ \u001b[39m\u001b[90mxkbcommon_jll\u001b[39m\n",
      "\u001b[32m  ✓ \u001b[39m\u001b[90mHTTP\u001b[39m\n",
      "\u001b[32m  ✓ \u001b[39m\u001b[90mlibass_jll\u001b[39m\n",
      "\u001b[32m  ✓ \u001b[39m\u001b[90mVulkan_Loader_jll\u001b[39m\n",
      "\u001b[32m  ✓ \u001b[39m\u001b[90mFFMPEG_jll\u001b[39m\n",
      "\u001b[32m  ✓ \u001b[39m\u001b[90mQt6Base_jll\u001b[39m\n",
      "\u001b[32m  ✓ \u001b[39m\u001b[90mFFMPEG\u001b[39m\n",
      "\u001b[32m  ✓ \u001b[39m\u001b[90mColorVectorSpace\u001b[39m\n",
      "\u001b[32m  ✓ \u001b[39m\u001b[90mGR_jll\u001b[39m\n",
      "\u001b[32m  ✓ \u001b[39m\u001b[90mColorVectorSpace → SpecialFunctionsExt\u001b[39m\n",
      "\u001b[32m  ✓ \u001b[39m\u001b[90mColors\u001b[39m\n",
      "\u001b[32m  ✓ \u001b[39m\u001b[90mGR\u001b[39m\n",
      "\u001b[32m  ✓ \u001b[39m\u001b[90mColorSchemes\u001b[39m\n",
      "\u001b[32m  ✓ \u001b[39m\u001b[90mUnitful\u001b[39m\n",
      "\u001b[32m  ✓ \u001b[39m\u001b[90mUnitfulLatexify\u001b[39m\n",
      "\u001b[32m  ✓ \u001b[39m\u001b[90mPlotUtils\u001b[39m\n",
      "\u001b[32m  ✓ \u001b[39m\u001b[90mPlotThemes\u001b[39m\n",
      "\u001b[32m  ✓ \u001b[39m\u001b[90mRecipesPipeline\u001b[39m\n",
      "\u001b[32m  ✓ \u001b[39mPlots\n",
      "\u001b[32m  ✓ \u001b[39m\u001b[90mPlots → FileIOExt\u001b[39m\n",
      "\u001b[32m  ✓ \u001b[39m\u001b[90mPlots → UnitfulExt\u001b[39m\n",
      "  118 dependencies successfully precompiled in 57 seconds. 93 already precompiled.\n"
     ]
    }
   ],
   "source": [
    "using Pkg\n",
    "Pkg.activate(\".\")\n",
    "Pkg.instantiate()"
   ]
  },
  {
   "cell_type": "code",
   "execution_count": 8,
   "metadata": {},
   "outputs": [
    {
     "name": "stderr",
     "output_type": "stream",
     "text": [
      "\u001b[36m\u001b[1m[ \u001b[22m\u001b[39m\u001b[36m\u001b[1mInfo: \u001b[22m\u001b[39mPrecompiling IJuliaExt [2f4121a4-3b3a-5ce6-9c5e-1f2673ce168a]\n"
     ]
    }
   ],
   "source": [
    "using LinearAlgebra\n",
    "using LimberJack\n",
    "using CSV\n",
    "using YAML\n",
    "using JLD2\n",
    "using PythonCall\n",
    "using DataFrames\n",
    "using NPZ\n",
    "using Plots\n",
    "sacc = pyimport(\"sacc\");"
   ]
  },
  {
   "cell_type": "code",
   "execution_count": 9,
   "metadata": {},
   "outputs": [
    {
     "name": "stdout",
     "output_type": "stream",
     "text": [
      "DESwl__0 DESwl__0 24\n",
      "DESwl__0 DESwl__1 24\n",
      "DESwl__0 DESwl__2 24\n",
      "DESwl__0 DESwl__3 24\n",
      "DESwl__1 DESwl__1 24\n",
      "DESwl__1 DESwl__2 24\n",
      "DESwl__1 DESwl__3 24\n",
      "DESwl__2 DESwl__2 24\n",
      "DESwl__2 DESwl__3 24\n",
      "DESwl__3 DESwl__3 24\n"
     ]
    },
    {
     "data": {
      "text/plain": [
       "(LimberJack.Instructions([\"DESwl__0\", \"DESwl__1\", \"DESwl__2\", \"DESwl__3\"], Any[[\"DESwl__0\", \"DESwl__0\"], [\"DESwl__0\", \"DESwl__1\"], [\"DESwl__0\", \"DESwl__2\"], [\"DESwl__0\", \"DESwl__3\"], [\"DESwl__1\", \"DESwl__1\"], [\"DESwl__1\", \"DESwl__2\"], [\"DESwl__1\", \"DESwl__3\"], [\"DESwl__2\", \"DESwl__2\"], [\"DESwl__2\", \"DESwl__3\"], [\"DESwl__3\", \"DESwl__3\"]], [\"galaxy_shear\", \"galaxy_shear\", \"galaxy_shear\", \"galaxy_shear\"], [0, 24, 48, 72, 96, 120, 144, 168, 192, 216, 240], [2.4659965589802277e-9, 1.937338987992683e-9, 6.992765360481148e-10, -4.9611713239579213e-11, 7.913395793306234e-10, 2.025477514463439e-10, 2.937251108461027e-10, 2.5800941836058233e-10, 3.588061352802992e-10, 6.231168353367879e-10  …  4.737458899576856e-10, 8.27594560926968e-10, 5.318332277673948e-10, 3.860067333751191e-10, 4.674884118894536e-10, 3.737344096265107e-10, 8.676072775051082e-11, 2.8609099937088954e-10, 2.0381853638647756e-10, 1.2493271614464064e-10], [1.470692645100043e-18 -9.214475828663469e-20 … -8.136848663040252e-24 -7.396176556455341e-24; -9.214475828663469e-20 5.20029441981929e-19 … -1.7979629019345104e-24 -1.882935881472213e-24; … ; -8.136848663040252e-24 -1.7979629019345104e-24 … 7.556370218000989e-21 2.2279648518603896e-23; -7.396176556455341e-24 -1.882935881472213e-24 … 2.2279648518603896e-23 5.836858676291568e-21], [1.2693032580480532e18 1.609124913868367e17 … -1.5885761482791672e15 -1.9360523232733905e15; 1.609124913868367e17 2.638093633406538e18 … -6.530085457750002e14 -7.992532457251422e14; … ; -1.5885761482791672e15 -6.530085457750002e14 … 1.3274677836649503e20 -2.8417569301467126e17; -1.9360523232733905e15 -7.992532457251422e14 … -2.8417569301467126e17 1.7190088221330322e20]), Dict{String, Vector}(\"ls_DESwl__0_DESwl__3\" => [44.500000000000014, 74.50000000000001, 104.50000000000003, 134.50000000000003, 164.50000000000009, 194.50000000000006, 224.50000000000006, 255.5, 290.00000000000017, 329.4999999999998  …  621.000000000001, 704.9999999999993, 800.5000000000011, 909.0000000000018, 1031.9999999999986, 1172.0000000000016, 1330.9999999999977, 1511.4999999999961, 1716.5000000000077, 1948.999999999992], \"nz_DESwl__2\" => [[0.0051, 0.015099999999999999, 0.0251, 0.035100000000000006, 0.0451, 0.0551, 0.0651, 0.07510000000000001, 0.0851, 0.0951  …  3.9051000000000005, 3.9151000000000002, 3.9251, 3.9351000000000003, 3.9451000000000005, 3.9551000000000003, 3.9651, 3.9751000000000003, 3.9851000000000005, 3.9951000000000003], [0.0037650656179527963, 0.008802463755075863, 0.013476338315293098, 0.01885129405954298, 0.025174007700725753, 0.03309362848331617, 0.04296069699933067, 0.05517768578034295, 0.06438262206699319, 0.08074118302775289  …  0.0, 0.0, 0.0, 0.0, 0.0, 0.0, 0.0, 0.0, 0.0, 0.0]], \"nz_DESwl__3\" => [[0.0051, 0.015099999999999999, 0.0251, 0.035100000000000006, 0.0451, 0.0551, 0.0651, 0.07510000000000001, 0.0851, 0.0951  …  3.9051000000000005, 3.9151000000000002, 3.9251, 3.9351000000000003, 3.9451000000000005, 3.9551000000000003, 3.9651, 3.9751000000000003, 3.9851000000000005, 3.9951000000000003], [0.006840606245547793, 0.019402909164880917, 0.029523954836732313, 0.04198453870408687, 0.05538602380224193, 0.0727799816905497, 0.08895331095511576, 0.11072118807849314, 0.13152273420807675, 0.15936832468716497  …  0.0, 0.0, 0.0, 0.0, 0.0, 0.0, 0.0, 0.0, 0.0, 0.0]], \"ls_DESwl__0_DESwl__0\" => [44.500000000000014, 74.50000000000001, 104.50000000000003, 134.50000000000003, 164.50000000000009, 194.50000000000006, 224.50000000000006, 255.5, 290.00000000000017, 329.4999999999998  …  621.000000000001, 704.9999999999993, 800.5000000000011, 909.0000000000018, 1031.9999999999986, 1172.0000000000016, 1330.9999999999977, 1511.4999999999961, 1716.5000000000077, 1948.999999999992], \"ls_DESwl__0_DESwl__1\" => [44.500000000000014, 74.50000000000001, 104.50000000000003, 134.50000000000003, 164.50000000000009, 194.50000000000006, 224.50000000000006, 255.5, 290.00000000000017, 329.4999999999998  …  621.000000000001, 704.9999999999993, 800.5000000000011, 909.0000000000018, 1031.9999999999986, 1172.0000000000016, 1330.9999999999977, 1511.4999999999961, 1716.5000000000077, 1948.999999999992], \"ls_DESwl__1_DESwl__3\" => [44.500000000000014, 74.50000000000001, 104.50000000000003, 134.50000000000003, 164.50000000000009, 194.50000000000006, 224.50000000000006, 255.5, 290.00000000000017, 329.4999999999998  …  621.000000000001, 704.9999999999993, 800.5000000000011, 909.0000000000018, 1031.9999999999986, 1172.0000000000016, 1330.9999999999977, 1511.4999999999961, 1716.5000000000077, 1948.999999999992], \"ls_DESwl__2_DESwl__3\" => [44.500000000000014, 74.50000000000001, 104.50000000000003, 134.50000000000003, 164.50000000000009, 194.50000000000006, 224.50000000000006, 255.5, 290.00000000000017, 329.4999999999998  …  621.000000000001, 704.9999999999993, 800.5000000000011, 909.0000000000018, 1031.9999999999986, 1172.0000000000016, 1330.9999999999977, 1511.4999999999961, 1716.5000000000077, 1948.999999999992], \"nz_DESwl__0\" => [[0.0051, 0.015099999999999999, 0.0251, 0.035100000000000006, 0.0451, 0.0551, 0.0651, 0.07510000000000001, 0.0851, 0.0951  …  3.9051000000000005, 3.9151000000000002, 3.9251, 3.9351000000000003, 3.9451000000000005, 3.9551000000000003, 3.9651, 3.9751000000000003, 3.9851000000000005, 3.9951000000000003], [0.010653785937730104, 0.03189172522536205, 0.05396525556693349, 0.08261210219949641, 0.11475450474104038, 0.15231432261562577, 0.19199097116019548, 0.2306649104400398, 0.27304330339233873, 0.3213126132749013  …  0.0, 0.0, 0.0, 0.0, 0.0, 0.0, 0.0, 0.0, 0.0, 0.0]], \"ls_DESwl__1_DESwl__1\" => [44.500000000000014, 74.50000000000001, 104.50000000000003, 134.50000000000003, 164.50000000000009, 194.50000000000006, 224.50000000000006, 255.5, 290.00000000000017, 329.4999999999998  …  621.000000000001, 704.9999999999993, 800.5000000000011, 909.0000000000018, 1031.9999999999986, 1172.0000000000016, 1330.9999999999977, 1511.4999999999961, 1716.5000000000077, 1948.999999999992], \"ls_DESwl__2_DESwl__2\" => [44.500000000000014, 74.50000000000001, 104.50000000000003, 134.50000000000003, 164.50000000000009, 194.50000000000006, 224.50000000000006, 255.5, 290.00000000000017, 329.4999999999998  …  621.000000000001, 704.9999999999993, 800.5000000000011, 909.0000000000018, 1031.9999999999986, 1172.0000000000016, 1330.9999999999977, 1511.4999999999961, 1716.5000000000077, 1948.999999999992]…))"
      ]
     },
     "execution_count": 9,
     "metadata": {},
     "output_type": "execute_result"
    }
   ],
   "source": [
    "sacc_path = \"../../PhD/LimberJack.jl/data/FD/cls_FD_covG.fits\"\n",
    "yaml_path_wlwl = \"data/DESY1/wlwl.yml\"\n",
    "sacc_wlwl = sacc.Sacc().load_fits(sacc_path)\n",
    "yaml_wlwl = YAML.load_file(yaml_path_wlwl)\n",
    "meta_wlwl, files_wlwl = make_data(sacc_wlwl, yaml_wlwl)"
   ]
  },
  {
   "cell_type": "code",
   "execution_count": 10,
   "metadata": {},
   "outputs": [
    {
     "name": "stdout",
     "output_type": "stream",
     "text": [
      "DESgc__0 DESgc__0 5\n",
      "DESgc__1 DESgc__1 8\n",
      "DESgc__2 DESgc__2 10\n",
      "DESgc__3 DESgc__3 11\n",
      "DESgc__4 DESgc__4 13\n"
     ]
    },
    {
     "data": {
      "text/plain": [
       "(LimberJack.Instructions([\"DESgc__0\", \"DESgc__1\", \"DESgc__2\", \"DESgc__3\", \"DESgc__4\"], Any[[\"DESgc__0\", \"DESgc__0\"], [\"DESgc__1\", \"DESgc__1\"], [\"DESgc__2\", \"DESgc__2\"], [\"DESgc__3\", \"DESgc__3\"], [\"DESgc__4\", \"DESgc__4\"]], [\"galaxy_density\", \"galaxy_density\", \"galaxy_density\", \"galaxy_density\", \"galaxy_density\"], [0, 5, 13, 23, 34, 47], [0.00019024248750512107, 7.391276663994371e-5, 4.261252890607883e-5, 2.22965965139283e-5, 2.176880112868429e-5, 8.240734039668606e-5, 8.421314587773898e-5, 2.6585137640401017e-5, 2.6033426315289483e-5, 1.6202481595102046e-5  …  1.720793463317388e-5, 1.876041365219758e-5, 1.1858834397319835e-5, 6.023987322753388e-6, 3.4894299563905405e-6, 7.420152296134288e-6, 4.729410691534381e-6, 4.317808418665961e-6, 4.736098712055406e-6, 2.545509196409628e-6], [3.503459378925734e-9 -2.6907237994012596e-10 … -1.8766243449428733e-32 -1.9859652134651026e-32; -2.6907237994012596e-10 2.4651642374142706e-10 … -4.810041560235908e-31 -4.501051455667023e-31; … ; -1.8766243449428733e-32 -4.810041560235908e-31 … 4.090879732948747e-13 -2.560009020495909e-14; -1.9859652134651026e-32 -4.501051455667023e-31 … -2.560009020495909e-14 2.8153344346569865e-13], [3.1253987732200265e8 3.4961815596782887e8 … -0.2569150056348863 -0.26460006957905424; 3.4961815596782887e8 4.586257089407715e9 … -1.7206576867960597 -1.8121262052417517; … ; -0.2569150056348863 -1.7206576867960597 … 2.4763223693000635e12 2.2691124598305167e11; -0.26460006957905424 -1.8121262052417517 … 2.2691124598305167e11 3.5731107413408306e12]), Dict{String, Vector}(\"nz_DESgc__4\" => [[0.0051, 0.015099999999999999, 0.0251, 0.035100000000000006, 0.0451, 0.0551, 0.0651, 0.07510000000000001, 0.0851, 0.0951  …  3.9051000000000005, 3.9151000000000002, 3.9251, 3.9351000000000003, 3.9451000000000005, 3.9551000000000003, 3.9651, 3.9751000000000003, 3.9851000000000005, 3.9951000000000003], [0.0, 0.0, 0.0, 0.0, 0.0, 0.0, 0.0, 0.0, 0.0, 0.0  …  0.0, 0.0, 0.0, 0.0, 0.0, 0.0, 0.0, 0.0, 0.0, 0.0]], \"ls_DESgc__1_DESgc__1\" => [14.500000000000005, 44.500000000000014, 74.50000000000001, 104.50000000000003, 134.50000000000003, 164.50000000000009, 194.50000000000006, 224.50000000000006], \"nz_DESgc__0\" => [[0.0051, 0.015099999999999999, 0.0251, 0.035100000000000006, 0.0451, 0.0551, 0.0651, 0.07510000000000001, 0.0851, 0.0951  …  3.9051000000000005, 3.9151000000000002, 3.9251, 3.9351000000000003, 3.9451000000000005, 3.9551000000000003, 3.9651, 3.9751000000000003, 3.9851000000000005, 3.9951000000000003], [0.0, 0.0, 0.0, 0.0, 0.0, 0.0, 0.0, 0.0, 0.0, 0.0  …  0.0, 0.0, 0.0, 0.0, 0.0, 0.0, 0.0, 0.0, 0.0, 0.0]], \"nz_DESgc__1\" => [[0.0051, 0.015099999999999999, 0.0251, 0.035100000000000006, 0.0451, 0.0551, 0.0651, 0.07510000000000001, 0.0851, 0.0951  …  3.9051000000000005, 3.9151000000000002, 3.9251, 3.9351000000000003, 3.9451000000000005, 3.9551000000000003, 3.9651, 3.9751000000000003, 3.9851000000000005, 3.9951000000000003], [0.0, 0.0, 0.0, 0.0, 0.0, 0.0, 0.0, 0.0, 0.0, 0.0  …  0.0, 0.0, 0.0, 0.0, 0.0, 0.0, 0.0, 0.0, 0.0, 0.0]], \"nz_DESgc__2\" => [[0.0051, 0.015099999999999999, 0.0251, 0.035100000000000006, 0.0451, 0.0551, 0.0651, 0.07510000000000001, 0.0851, 0.0951  …  3.9051000000000005, 3.9151000000000002, 3.9251, 3.9351000000000003, 3.9451000000000005, 3.9551000000000003, 3.9651, 3.9751000000000003, 3.9851000000000005, 3.9951000000000003], [0.0, 0.0, 0.0, 0.0, 0.0, 0.0, 0.0, 0.0, 0.0, 0.0  …  0.0, 0.0, 0.0, 0.0, 0.0, 0.0, 0.0, 0.0, 0.0, 0.0]], \"ls_DESgc__4_DESgc__4\" => [14.500000000000005, 44.500000000000014, 74.50000000000001, 104.50000000000003, 134.50000000000003, 164.50000000000009, 194.50000000000006, 224.50000000000006, 255.5, 290.00000000000017, 329.4999999999998, 373.9999999999998, 424.50000000000045], \"ls_DESgc__0_DESgc__0\" => [14.500000000000005, 44.500000000000014, 74.50000000000001, 104.50000000000003, 134.50000000000003], \"nz_DESgc__3\" => [[0.0051, 0.015099999999999999, 0.0251, 0.035100000000000006, 0.0451, 0.0551, 0.0651, 0.07510000000000001, 0.0851, 0.0951  …  3.9051000000000005, 3.9151000000000002, 3.9251, 3.9351000000000003, 3.9451000000000005, 3.9551000000000003, 3.9651, 3.9751000000000003, 3.9851000000000005, 3.9951000000000003], [0.0, 0.0, 0.0, 0.0, 0.0, 0.0, 0.0, 0.0, 0.0, 0.0  …  0.0, 0.0, 0.0, 0.0, 0.0, 0.0, 0.0, 0.0, 0.0, 0.0]], \"ls_DESgc__2_DESgc__2\" => [14.500000000000005, 44.500000000000014, 74.50000000000001, 104.50000000000003, 134.50000000000003, 164.50000000000009, 194.50000000000006, 224.50000000000006, 255.5, 290.00000000000017], \"ls_DESgc__3_DESgc__3\" => [14.500000000000005, 44.500000000000014, 74.50000000000001, 104.50000000000003, 134.50000000000003, 164.50000000000009, 194.50000000000006, 224.50000000000006, 255.5, 290.00000000000017, 329.4999999999998]…))"
      ]
     },
     "execution_count": 10,
     "metadata": {},
     "output_type": "execute_result"
    }
   ],
   "source": [
    "sacc_path = \"../../PhD/LimberJack.jl/data/FD/cls_FD_covG.fits\"\n",
    "yaml_path_gcgc = \"data/DESY1/gcgc.yml\"\n",
    "sacc_gcgc = sacc.Sacc().load_fits(sacc_path)\n",
    "yaml_gcgc = YAML.load_file(yaml_path_gcgc)\n",
    "meta_gcgc, files_gcgc = make_data(sacc_gcgc, yaml_gcgc)"
   ]
  },
  {
   "cell_type": "code",
   "execution_count": 11,
   "metadata": {},
   "outputs": [
    {
     "name": "stdout",
     "output_type": "stream",
     "text": [
      "DESgc__0 DESgc__0 5\n",
      "DESgc__1 DESgc__1 8\n",
      "DESgc__2 DESgc__2 10\n",
      "DESgc__3 DESgc__3 11\n",
      "DESgc__4 DESgc__4 13\n",
      "DESgc__0 DESwl__0 5\n",
      "DESgc__0 DESwl__1 5\n",
      "DESgc__0 DESwl__2 5\n",
      "DESgc__0 DESwl__3 5\n",
      "DESgc__1 DESwl__0 8\n",
      "DESgc__1 DESwl__1 8\n",
      "DESgc__1 DESwl__2 8\n",
      "DESgc__1 DESwl__3 8\n",
      "DESgc__2 DESwl__0 10\n",
      "DESgc__2 DESwl__1 10\n",
      "DESgc__2 DESwl__2 10\n",
      "DESgc__2 DESwl__3 10\n",
      "DESgc__3 DESwl__0 11\n",
      "DESgc__3 DESwl__1 11\n",
      "DESgc__3 DESwl__2 11\n",
      "DESgc__3 DESwl__3 11\n",
      "DESgc__4 DESwl__0 13\n",
      "DESgc__4 DESwl__1 13\n",
      "DESgc__4 DESwl__2 13\n",
      "DESgc__4 DESwl__3 13\n",
      "DESwl__0 DESwl__0 24\n",
      "DESwl__0 DESwl__1 24\n",
      "DESwl__0 DESwl__2 24\n",
      "DESwl__0 DESwl__3 24\n",
      "DESwl__1 DESwl__1 24\n",
      "DESwl__1 DESwl__2 24\n",
      "DESwl__1 DESwl__3 24\n",
      "DESwl__2 DESwl__2 24\n",
      "DESwl__2 DESwl__3 24\n",
      "DESwl__3 DESwl__3 24\n"
     ]
    },
    {
     "data": {
      "text/plain": [
       "(LimberJack.Instructions([\"DESgc__0\", \"DESgc__1\", \"DESgc__2\", \"DESgc__3\", \"DESgc__4\", \"DESwl__0\", \"DESwl__1\", \"DESwl__2\", \"DESwl__3\"], Any[[\"DESgc__0\", \"DESgc__0\"], [\"DESgc__1\", \"DESgc__1\"], [\"DESgc__2\", \"DESgc__2\"], [\"DESgc__3\", \"DESgc__3\"], [\"DESgc__4\", \"DESgc__4\"], [\"DESgc__0\", \"DESwl__0\"], [\"DESgc__0\", \"DESwl__1\"], [\"DESgc__0\", \"DESwl__2\"], [\"DESgc__0\", \"DESwl__3\"], [\"DESgc__1\", \"DESwl__0\"]  …  [\"DESwl__0\", \"DESwl__0\"], [\"DESwl__0\", \"DESwl__1\"], [\"DESwl__0\", \"DESwl__2\"], [\"DESwl__0\", \"DESwl__3\"], [\"DESwl__1\", \"DESwl__1\"], [\"DESwl__1\", \"DESwl__2\"], [\"DESwl__1\", \"DESwl__3\"], [\"DESwl__2\", \"DESwl__2\"], [\"DESwl__2\", \"DESwl__3\"], [\"DESwl__3\", \"DESwl__3\"]], [\"galaxy_density\", \"galaxy_density\", \"galaxy_density\", \"galaxy_density\", \"galaxy_density\", \"galaxy_shear\", \"galaxy_shear\", \"galaxy_shear\", \"galaxy_shear\"], [0, 5, 13, 23, 34, 47, 52, 57, 62, 67  …  259, 283, 307, 331, 355, 379, 403, 427, 451, 475], [0.00019024248750512107, 7.391276663994371e-5, 4.261252890607883e-5, 2.22965965139283e-5, 2.176880112868429e-5, 8.240734039668606e-5, 8.421314587773898e-5, 2.6585137640401017e-5, 2.6033426315289483e-5, 1.6202481595102046e-5  …  4.737458899576856e-10, 8.27594560926968e-10, 5.318332277673948e-10, 3.860067333751191e-10, 4.674884118894536e-10, 3.737344096265107e-10, 8.676072775051082e-11, 2.8609099937088954e-10, 2.0381853638647756e-10, 1.2493271614464064e-10], [3.5034593789257314e-9 -2.690723799401261e-10 … -2.222820084397603e-19 -1.9989959978497146e-19; -2.690723799401261e-10 2.465164237414273e-10 … -1.291372859818067e-19 -1.1809664698882846e-19; … ; -2.222820084397603e-19 -1.291372859818067e-19 … 7.556429413857346e-21 2.2336026899303832e-23; -1.9989959978497146e-19 -1.1809664698882846e-19 … 2.2336026899303832e-23 5.836912371277576e-21], [5.1495190271422464e8 8.47493649528867e8 … 1.6283127621828688e10 2.07608518101255e10; 8.47493649528867e8 1.0856331556146877e10 … 4.603481181733578e11 5.637447229508922e11; … ; 1.6283127621828688e10 4.603481181733578e11 … 1.3274958586559513e20 -2.8071716569811754e17; 2.07608518101255e10 5.637447229508922e11 … -2.8071716569811754e17 1.7190514305248628e20]), Dict{String, Vector}(\"ls_DESgc__1_DESgc__1\" => [14.500000000000005, 44.500000000000014, 74.50000000000001, 104.50000000000003, 134.50000000000003, 164.50000000000009, 194.50000000000006, 224.50000000000006], \"ls_DESwl__2_DESwl__3\" => [44.500000000000014, 74.50000000000001, 104.50000000000003, 134.50000000000003, 164.50000000000009, 194.50000000000006, 224.50000000000006, 255.5, 290.00000000000017, 329.4999999999998  …  621.000000000001, 704.9999999999993, 800.5000000000011, 909.0000000000018, 1031.9999999999986, 1172.0000000000016, 1330.9999999999977, 1511.4999999999961, 1716.5000000000077, 1948.999999999992], \"ls_DESgc__2_DESwl__1\" => [14.500000000000005, 44.500000000000014, 74.50000000000001, 104.50000000000003, 134.50000000000003, 164.50000000000009, 194.50000000000006, 224.50000000000006, 255.5, 290.00000000000017], \"ls_DESgc__3_DESwl__3\" => [14.500000000000005, 44.500000000000014, 74.50000000000001, 104.50000000000003, 134.50000000000003, 164.50000000000009, 194.50000000000006, 224.50000000000006, 255.5, 290.00000000000017, 329.4999999999998], \"ls_DESgc__3_DESwl__2\" => [14.500000000000005, 44.500000000000014, 74.50000000000001, 104.50000000000003, 134.50000000000003, 164.50000000000009, 194.50000000000006, 224.50000000000006, 255.5, 290.00000000000017, 329.4999999999998], \"nz_DESgc__0\" => [[0.0051, 0.015099999999999999, 0.0251, 0.035100000000000006, 0.0451, 0.0551, 0.0651, 0.07510000000000001, 0.0851, 0.0951  …  3.9051000000000005, 3.9151000000000002, 3.9251, 3.9351000000000003, 3.9451000000000005, 3.9551000000000003, 3.9651, 3.9751000000000003, 3.9851000000000005, 3.9951000000000003], [0.0, 0.0, 0.0, 0.0, 0.0, 0.0, 0.0, 0.0, 0.0, 0.0  …  0.0, 0.0, 0.0, 0.0, 0.0, 0.0, 0.0, 0.0, 0.0, 0.0]], \"ls_DESwl__3_DESwl__3\" => [44.500000000000014, 74.50000000000001, 104.50000000000003, 134.50000000000003, 164.50000000000009, 194.50000000000006, 224.50000000000006, 255.5, 290.00000000000017, 329.4999999999998  …  621.000000000001, 704.9999999999993, 800.5000000000011, 909.0000000000018, 1031.9999999999986, 1172.0000000000016, 1330.9999999999977, 1511.4999999999961, 1716.5000000000077, 1948.999999999992], \"ls_DESgc__2_DESwl__3\" => [14.500000000000005, 44.500000000000014, 74.50000000000001, 104.50000000000003, 134.50000000000003, 164.50000000000009, 194.50000000000006, 224.50000000000006, 255.5, 290.00000000000017], \"ls_DESgc__4_DESwl__2\" => [14.500000000000005, 44.500000000000014, 74.50000000000001, 104.50000000000003, 134.50000000000003, 164.50000000000009, 194.50000000000006, 224.50000000000006, 255.5, 290.00000000000017, 329.4999999999998, 373.9999999999998, 424.50000000000045], \"ls_DESwl__0_DESwl__2\" => [44.500000000000014, 74.50000000000001, 104.50000000000003, 134.50000000000003, 164.50000000000009, 194.50000000000006, 224.50000000000006, 255.5, 290.00000000000017, 329.4999999999998  …  621.000000000001, 704.9999999999993, 800.5000000000011, 909.0000000000018, 1031.9999999999986, 1172.0000000000016, 1330.9999999999977, 1511.4999999999961, 1716.5000000000077, 1948.999999999992]…))"
      ]
     },
     "execution_count": 11,
     "metadata": {},
     "output_type": "execute_result"
    }
   ],
   "source": [
    "sacc_path = \"../../PhD/LimberJack.jl/data/FD/cls_FD_covG.fits\"\n",
    "yaml_path_3x2 = \"data/DESY1/gcgc_gcwl_wlwl.yml\"\n",
    "sacc_3x2 = sacc.Sacc().load_fits(sacc_path)\n",
    "yaml_3x2 = YAML.load_file(yaml_path_3x2) \n",
    "meta_3x2, files_3x2 = make_data(sacc_3x2, yaml_3x2)"
   ]
  },
  {
   "cell_type": "markdown",
   "metadata": {},
   "source": [
    "### Data"
   ]
  },
  {
   "cell_type": "code",
   "execution_count": null,
   "metadata": {},
   "outputs": [],
   "source": [
    "CSV.write(\"data/DESY1/data_wlwl.csv\",\n",
    "    Dict{String}{Vector}(\n",
    "        \"data\" => meta_wlwl.data,\n",
    "        \"err\" => sqrt.(diag(meta_wlwl.cov))))\n",
    "\n",
    "CSV.write(\"data/DESY1/data_gcgc.csv\",\n",
    "    Dict{String}{Vector}(\n",
    "        \"data\" => meta_gcgc.data,\n",
    "        \"err\" => sqrt.(diag(meta_gcgc.cov))))\n",
    "    \n",
    "CSV.write(\"data/DESY1/data_3x2.csv\",\n",
    "    Dict{String}{Vector}(\n",
    "        \"data\" => meta_3x2.data,\n",
    "        \"err\" => sqrt.(diag(meta_3x2.cov))))"
   ]
  },
  {
   "cell_type": "code",
   "execution_count": null,
   "metadata": {},
   "outputs": [],
   "source": [
    "delete!(files_wlwl, \"nz_DESwl__0\")\n",
    "delete!(files_wlwl, \"nz_DESwl__1\")\n",
    "delete!(files_wlwl, \"nz_DESwl__2\")\n",
    "delete!(files_wlwl, \"nz_DESwl__3\")\n",
    "\n",
    "delete!(files_gcgc, \"nz_DESgc__0\")\n",
    "delete!(files_gcgc, \"nz_DESgc__1\")\n",
    "delete!(files_gcgc, \"nz_DESgc__2\")\n",
    "delete!(files_gcgc, \"nz_DESgc__3\")\n",
    "delete!(files_gcgc, \"nz_DESgc__4\")\n",
    "\n",
    "delete!(files_3x2, \"nz_DESwl__0\")\n",
    "delete!(files_3x2, \"nz_DESwl__1\")\n",
    "delete!(files_3x2, \"nz_DESwl__2\")\n",
    "delete!(files_3x2, \"nz_DESwl__3\")\n",
    "delete!(files_3x2, \"nz_DESgc__0\")\n",
    "delete!(files_3x2, \"nz_DESgc__1\")\n",
    "delete!(files_3x2, \"nz_DESgc__2\")\n",
    "delete!(files_3x2, \"nz_DESgc__3\")\n",
    "delete!(files_3x2, \"nz_DESgc__4\")"
   ]
  },
  {
   "cell_type": "code",
   "execution_count": null,
   "metadata": {},
   "outputs": [],
   "source": [
    "npzwrite(\"data/DESY1/files_wlwl.npz\", files_wlwl)\n",
    "npzwrite(\"data/DESY1/files_gcgc.npz\", files_gcgc)\n",
    "npzwrite(\"data/DESY1/files_3x2.npz\", files_3x2)"
   ]
  },
  {
   "cell_type": "markdown",
   "metadata": {},
   "source": [
    "### Make Data"
   ]
  },
  {
   "cell_type": "code",
   "execution_count": 12,
   "metadata": {},
   "outputs": [
    {
     "data": {
      "text/plain": [
       "model_3x2 (generic function with 1 method)"
      ]
     },
     "execution_count": 12,
     "metadata": {},
     "output_type": "execute_result"
    }
   ],
   "source": [
    "function model_wlwl(x; meta=meta_wlwl, files=files_wlwl)\n",
    "\n",
    "    nuisances = Dict(\n",
    "        \"DESgc__0_b\" => 1.484,\n",
    "        \"DESgc__1_b\" => 1.805,\n",
    "        \"DESgc__2_b\" => 1.776,\n",
    "        \"DESgc__3_b\" => 2.168,\n",
    "        \"DESgc__4_b\" => 2.23,\n",
    "        \"DESwl__0_m\" => 0.018,\n",
    "        \"DESwl__1_m\" => 0.014,\n",
    "        \"DESwl__2_m\" => 0.01,\n",
    "        \"DESwl__3_m\" => 0.004,\n",
    "        \"A_IA\" => 0.294,\n",
    "        \"alpha_IA\" => 0.378)\n",
    "    \n",
    "    cosmology = Cosmology(Ωm=x[1], Ωb=x[2], h=x[3], σ8=x[4], ns=x[5],\n",
    "        tk_mode=:EisHu,\n",
    "        pk_mode=:Halofit)\n",
    "\n",
    "    theory = Theory(cosmology, meta, files; Nuisances=nuisances)\n",
    "    d = theory .- meta.data\n",
    "    xi2 = d'*meta.inv_cov*d\n",
    "    return theory, xi2\n",
    "end\n",
    "\n",
    "function model_gcgc(x; meta=meta_gcgc, files=files_gcgc)\n",
    "\n",
    "    nuisances = Dict(\n",
    "        \"DESgc__0_b\" => 1.484,\n",
    "        \"DESgc__1_b\" => 1.805,\n",
    "        \"DESgc__2_b\" => 1.776,\n",
    "        \"DESgc__3_b\" => 2.168,\n",
    "        \"DESgc__4_b\" => 2.23,\n",
    "        \"DESwl__0_m\" => 0.018,\n",
    "        \"DESwl__1_m\" => 0.014,\n",
    "        \"DESwl__2_m\" => 0.01,\n",
    "        \"DESwl__3_m\" => 0.004,\n",
    "        \"A_IA\" => 0.294,\n",
    "        \"alpha_IA\" => 0.378)\n",
    "\n",
    "    cosmology = Cosmology(Ωm=x[1],  Ωb=x[2], h=x[3], σ8=x[4], ns=x[5],\n",
    "        tk_mode=:EisHu,\n",
    "        pk_mode=:Halofit)\n",
    "\n",
    "    theory = Theory(cosmology, meta, files; Nuisances=nuisances)\n",
    "    d = theory .- meta.data\n",
    "    xi2 = d'*meta.inv_cov*d\n",
    "    return theory, xi2\n",
    "end\n",
    "\n",
    "function model_3x2(x; meta=meta_3x2, files=files_3x2)\n",
    "\n",
    "    nuisances = Dict(\n",
    "        \"DESgc__0_b\" => 1.484,\n",
    "        \"DESgc__1_b\" => 1.805,\n",
    "        \"DESgc__2_b\" => 1.776,\n",
    "        \"DESgc__3_b\" => 2.168,\n",
    "        \"DESgc__4_b\" => 2.23,\n",
    "        \"DESwl__0_m\" => 0.018,\n",
    "        \"DESwl__1_m\" => 0.014,\n",
    "        \"DESwl__2_m\" => 0.01,\n",
    "        \"DESwl__3_m\" => 0.004,\n",
    "        \"A_IA\" => 0.294,\n",
    "        \"alpha_IA\" => 0.378)\n",
    "\n",
    "    cosmology = Cosmology(Ωm=x[1],  Ωb=x[2], h=x[3], σ8=x[4], ns=x[5],\n",
    "        tk_mode=:EisHu,\n",
    "        pk_mode=:Halofit)\n",
    "\n",
    "    theory = Theory(cosmology, meta, files; Nuisances=nuisances)\n",
    "    d = theory .- meta.data\n",
    "    xi2 = d'*meta.inv_cov*d\n",
    "    return theory, xi2\n",
    "end"
   ]
  },
  {
   "cell_type": "code",
   "execution_count": 13,
   "metadata": {},
   "outputs": [],
   "source": [
    "path_dzs_wlwl_nomarg = \"chains/nomarg/DES_wlwl_nomarg_TAP_0.65_init_ϵ_0.03/\"\n",
    "path_dzs_gcgc_nomarg = \"chains/nomarg/DES_gcgc_nomarg_TAP_0.65_init_ϵ_0.03/\"\n",
    "path_dzs_3x2_nomarg = \"chains/nomarg/DES_3x2_nomarg_TAP_0.65_init_ϵ_0.03/\"\n",
    "\n",
    "path_dzs_wlwl_num = \"chains/numerical/DES_wlwl_dz_num_TAP_0.65_init_ϵ_0.03/\"\n",
    "path_dzs_gcgc_num = \"chains/numerical/DES_gcgc_dz_num_TAP_0.65_init_ϵ_0.03/\"\n",
    "path_dzs_3x2_num = \"chains/numerical/DES_3x2_dz_num_TAP_0.65_init_ϵ_0.03/\"\n",
    "\n",
    "path_dzs_wlwl_ana = \"chains/analytical/DES_wlwl_dz_ana_TAP_0.65_init_ϵ_0.03/\"\n",
    "path_dzs_gcgc_ana = \"chains/analytical/DES_gcgc_dz_ana_TAP_0.65_init_ϵ_0.03/\"\n",
    "path_dzs_3x2_ana = \"chains/analytical/DES_3x2_dz_ana_TAP_0.65_init_ϵ_0.03/\"\n",
    "\n",
    "chain_wlwl_nomarg = CSV.read(path_dzs_wlwl_nomarg*\"chain_1.csv\", DataFrame);\n",
    "chain_gcgc_nomarg = CSV.read(path_dzs_gcgc_nomarg*\"chain_1.csv\", DataFrame);\n",
    "chain_3x2_nomarg = CSV.read(path_dzs_3x2_nomarg*\"chain_1.csv\", DataFrame);\n",
    "\n",
    "chain_wlwl_num = CSV.read(path_dzs_wlwl_num*\"chain_1.csv\", DataFrame);\n",
    "chain_gcgc_num = CSV.read(path_dzs_gcgc_num*\"chain_1.csv\", DataFrame);\n",
    "chain_3x2_num = CSV.read(path_dzs_3x2_num*\"chain_1.csv\", DataFrame);\n",
    "\n",
    "chain_wlwl_ana = CSV.read(path_dzs_wlwl_ana*\"chain_1.csv\", DataFrame);\n",
    "chain_gcgc_ana = CSV.read(path_dzs_gcgc_ana*\"chain_1.csv\", DataFrame);\n",
    "chain_3x2_ana = CSV.read(path_dzs_3x2_ana*\"chain_1.csv\", DataFrame);"
   ]
  },
  {
   "cell_type": "code",
   "execution_count": 14,
   "metadata": {},
   "outputs": [
    {
     "data": {
      "text/plain": [
       "mdata (generic function with 1 method)"
      ]
     },
     "execution_count": 14,
     "metadata": {},
     "output_type": "execute_result"
    }
   ],
   "source": [
    "function mdata(chain, model)\n",
    "    n = size(chain, 1)\n",
    "    x = zeros(n, 5)\n",
    "    xi2 = zeros(n)\n",
    "    theory = Vector[]\n",
    "    for i in 1:n\n",
    "        x = chain[i, 3:7]\n",
    "        theory_i, xi2_i = model(x)\n",
    "        xi2[i] = xi2_i\n",
    "        push!(theory, theory_i)\n",
    "    end\n",
    "    return xi2, theory\n",
    "end"
   ]
  },
  {
   "cell_type": "code",
   "execution_count": 15,
   "metadata": {},
   "outputs": [
    {
     "data": {
      "text/plain": [
       "([245.39635571034546, 243.7762669834875, 243.93941637904823, 243.45460047424203, 243.87550949517694, 243.14478906822367, 242.94027282545957, 244.7603878033697, 249.03674361360248, 243.32403022063636  …  244.41904613128747, 245.79837572356126, 244.25142785900164, 243.1955958678968, 244.4174716806443, 247.71732868470957, 248.29216424596228, 245.44422882728443, 245.88924453122857, 249.05399983519465], Vector[[1.9376823674058986e-9, 1.0141858674626433e-9, 6.602047127216438e-10, 4.842371703982712e-10, 3.8153998910776025e-10, 3.1491249175237404e-10, 2.6821615270674387e-10, 2.326101035170454e-10, 2.0252550869226868e-10, 1.7617093266057847e-10  …  5.438774195778048e-10, 4.709750778786655e-10, 4.0795870307540557e-10, 3.5313510978225847e-10, 3.0526377511309493e-10, 2.6308247822271304e-10, 2.2592039048688268e-10, 1.931480191184344e-10, 1.6426050545081598e-10, 1.3889715326277846e-10], [2.099338618042231e-9, 1.0647190669068274e-9, 6.805088647330855e-10, 4.933075121440897e-10, 3.8501669832043005e-10, 3.1532294447495097e-10, 2.667098936956772e-10, 2.2978575430549743e-10, 1.9873858884720383e-10, 1.7164873999751095e-10  …  5.322189958493666e-10, 4.574985889941455e-10, 3.9324834147703723e-10, 3.376820574002789e-10, 2.895057071939187e-10, 2.473981428071703e-10, 2.1063097155883074e-10, 1.7853344798354324e-10, 1.505338340240033e-10, 1.262273261212943e-10], [2.2130428183961652e-9, 1.1377079591580437e-9, 7.30871117754595e-10, 5.302962512434973e-10, 4.140320104806899e-10, 3.3898464236095275e-10, 2.866220483801325e-10, 2.4683046722603373e-10, 2.1337811604391384e-10, 1.8418381094133357e-10  …  5.705901405684425e-10, 4.903544290060255e-10, 4.2134304334550305e-10, 3.6163202949485695e-10, 3.0984396831275906e-10, 2.645746686486062e-10, 2.250395852690723e-10, 1.9053403004421146e-10, 1.6044500222752055e-10, 1.3434197845996189e-10], [2.1337726357233376e-9, 1.0916498714514469e-9, 6.986773983196296e-10, 5.056221799950781e-10, 3.940162473844136e-10, 3.2213243512044375e-10, 2.720856703232514e-10, 2.3411391172778935e-10, 2.0227057090845692e-10, 1.7455326129359284e-10  …  5.394257496606354e-10, 4.632521870837885e-10, 3.978291232443493e-10, 3.413670881186373e-10, 2.9244943860382743e-10, 2.4976207360063195e-10, 2.1252479631662908e-10, 1.8003697650671869e-10, 1.5173519266483277e-10, 1.2716545052374433e-10], [2.044609713739772e-9, 1.0540427668757685e-9, 6.77836162815804e-10, 4.929188151748641e-10, 3.856773944054354e-10, 3.16629508688982e-10, 2.685191364642547e-10, 2.320448975662443e-10, 2.0141395933941474e-10, 1.747351769243448e-10  …  5.256783095766031e-10, 4.535938280601159e-10, 3.9163841492747107e-10, 3.3804253422600366e-10, 2.915125197755743e-10, 2.507247116295725e-10, 2.149688048813544e-10, 1.8357413088358635e-10, 1.560067637800246e-10, 1.318854205873414e-10], [2.1444537929663256e-9, 1.1095432311159446e-9, 7.123353553514538e-10, 5.159997953812654e-10, 4.022115872857627e-10, 3.2896162192325867e-10, 2.7802214979975333e-10, 2.3942816077406067e-10, 2.0712421192398642e-10, 1.7901698433129494e-10  …  5.427874735911792e-10, 4.667570406667302e-10, 4.0151685879892175e-10, 3.4525015180434243e-10, 2.9650184434412943e-10, 2.5392675473461284e-10, 2.1673785825811973e-10, 1.8422016471914982e-10, 1.5581360829587624e-10, 1.310680461938515e-10], [2.128784667185496e-9, 1.0742667055339752e-9, 6.910230084344622e-10, 5.057034345807023e-10, 3.979173072438851e-10, 3.281381736470613e-10, 2.790788591839935e-10, 2.4154713990611954e-10, 2.0977023661718877e-10, 1.8188779829499022e-10  …  5.647332925296256e-10, 4.875862714849286e-10, 4.207871053167254e-10, 3.626704682860579e-10, 3.1194702654197253e-10, 2.673788114460852e-10, 2.2825864312004435e-10, 1.9393899327997066e-10, 1.6388415497823637e-10, 1.376792696132167e-10], [2.4047386481537437e-9, 1.2040051743088068e-9, 7.61728772984239e-10, 5.483809541821811e-10, 4.2533104110421596e-10, 3.4647552224831726e-10, 2.9160153188004065e-10, 2.5008617111549753e-10, 2.1528403285734528e-10, 1.8507003198931857e-10  …  5.633844608594083e-10, 4.818962151643847e-10, 4.1209441317492177e-10, 3.5201335313558397e-10, 3.0019706108886726e-10, 2.5516391847362715e-10, 2.1609590187928073e-10, 1.8220229758734123e-10, 1.5283938105804927e-10, 1.2751941836838494e-10], [1.9540220411683676e-9, 1.068377631055277e-9, 6.981992448666761e-10, 5.080006481841804e-10, 3.960549148155766e-10, 3.2362332454000247e-10, 2.7333656484709666e-10, 2.354296099675744e-10, 2.039071098049038e-10, 1.7669339243346844e-10  …  5.093165334381313e-10, 4.3873223276443844e-10, 3.7859824938418857e-10, 3.27017528798191e-10, 2.8257515404600634e-10, 2.4385562240310883e-10, 2.1003056756767854e-10, 1.8038021395145774e-10, 1.5430902536851367e-10, 1.314187156164429e-10], [2.1700657698299843e-9, 1.1314003541571963e-9, 7.264580551003629e-10, 5.252502923754705e-10, 4.085349462053493e-10, 3.3351666319645673e-10, 2.814673691041001e-10, 2.421860065087133e-10, 2.0936682197167228e-10, 1.8093440336792397e-10  …  5.378859943613788e-10, 4.622503936972311e-10, 3.9758213317252454e-10, 3.4190721677344045e-10, 2.938085643757869e-10, 2.5187384121241623e-10, 2.1527039625703512e-10, 1.832970916401618e-10, 1.5532993499124785e-10, 1.309584971120219e-10]  …  [1.9291763087920934e-9, 9.718685926206192e-10, 6.314562206502546e-10, 4.667626767848274e-10, 3.704375771256796e-10, 3.075926942165507e-10, 2.6307849690024583e-10, 2.2877668254274388e-10, 1.9950562585057736e-10, 1.73621974036733e-10  …  5.522528827390066e-10, 4.789473942003446e-10, 4.1504574990637615e-10, 3.590660872965479e-10, 3.0992496530695896e-10, 2.664768024784691e-10, 2.2813962915904896e-10, 1.9433733901129005e-10, 1.6459875870915574e-10, 1.3857374161608102e-10], [1.9156878648520334e-9, 9.672268064539162e-10, 6.245302233776359e-10, 4.58215751778393e-10, 3.615229494763904e-10, 2.9879998532712184e-10, 2.546706907300239e-10, 2.2084368537663874e-10, 1.9216288170286107e-10, 1.669044165404991e-10  …  5.27419051371774e-10, 4.5625467107999066e-10, 3.9454974349129416e-10, 3.4073603326236575e-10, 2.9368070678938616e-10, 2.5222710100832306e-10, 2.1575512193607153e-10, 1.8368746340178078e-10, 1.5552455183011728e-10, 1.3091423504132045e-10], [1.9592511036509417e-9, 9.860582966400594e-10, 6.368807784561618e-10, 4.677723237124623e-10, 3.693862328719788e-10, 3.054558817611068e-10, 2.6040770743302934e-10, 2.2580450773875152e-10, 1.9645943363640442e-10, 1.705694994707574e-10  …  5.402334528876634e-10, 4.672721429480345e-10, 4.039376117737384e-10, 3.486608778656656e-10, 3.0030378710736027e-10, 2.57712728991524e-10, 2.2023644817474428e-10, 1.873028697306416e-10, 1.5840041342483212e-10, 1.3316830297899414e-10], [2.207931930240896e-9, 1.1228464017604835e-9, 7.181352531347348e-10, 5.200667930543955e-10, 4.0555174625432446e-10, 3.3173021866459036e-10, 2.80247729646173e-10, 2.4111827864296526e-10, 2.0826236961620285e-10, 1.7957656726270168e-10  …  5.577929049844378e-10, 4.788167729588225e-10, 4.1093284598794896e-10, 3.5225060705004085e-10, 3.014007953421555e-10, 2.5702053935585474e-10, 2.183149999317713e-10, 1.845981022786893e-10, 1.552473487582436e-10, 1.2982731468352883e-10], [2.0340257889511386e-9, 1.0284016772388404e-9, 6.585627599520161e-10, 4.78771896098019e-10, 3.7477664807968236e-10, 3.077612345303583e-10, 2.6094805966959424e-10, 2.253180235794457e-10, 1.9532599614891195e-10, 1.6908437816779755e-10  …  5.237787793013283e-10, 4.512694570657657e-10, 3.8881111242636466e-10, 3.3467827322326644e-10, 2.876321808810083e-10, 2.4641848384443673e-10, 2.1033205149277668e-10, 1.787423792458203e-10, 1.5110449486809627e-10, 1.2703645796460848e-10], [1.874381053277588e-9, 9.441076508619514e-10, 6.103915866113721e-10, 4.478685832758168e-10, 3.5351079841057984e-10, 2.920384351074151e-10, 2.4869273655193055e-10, 2.1536192332382037e-10, 1.870737579706446e-10, 1.621227059394639e-10  …  5.267353578452301e-10, 4.5492683203660975e-10, 3.9257751196648157e-10, 3.3815915135047785e-10, 2.9056797614347027e-10, 2.4869957020262805e-10, 2.1191137111987767e-10, 1.7965829216689258e-10, 1.5142833746149642e-10, 1.2685992475100924e-10], [1.961348610873685e-9, 9.591187747415804e-10, 6.177211685465652e-10, 4.5371128406201846e-10, 3.5804068409720804e-10, 2.953893585139843e-10, 2.509494394673324e-10, 2.1666211939587661e-10, 1.8744171955795237e-10, 1.6167292034748653e-10  …  5.373430361359518e-10, 4.622969721325032e-10, 3.9704195182856004e-10, 3.401720173947483e-10, 2.905437182505534e-10, 2.4706493079296363e-10, 2.090887892836805e-10, 1.7600048914636974e-10, 1.472827350682359e-10, 1.2248811037673955e-10], [1.9551280442868404e-9, 9.901127119675826e-10, 6.495183479372357e-10, 4.826877416960313e-10, 3.846447059474303e-10, 3.199487875544983e-10, 2.7376231154875424e-10, 2.379048638125106e-10, 2.0714434083190435e-10, 1.798036862424022e-10  …  5.947114689655689e-10, 5.15201409451604e-10, 4.455159250168587e-10, 3.8426576337328735e-10, 3.303637718141009e-10, 2.8268281995967484e-10, 2.4066856988428715e-10, 2.0372052271119283e-10, 1.7136808586279748e-10, 1.4320891742556827e-10], [2.1237696690258083e-9, 1.0399839106262028e-9, 6.725536272328939e-10, 4.965156391946628e-10, 3.930264930557546e-10, 3.249749809049276e-10, 2.76478082838354e-10, 2.388984224485422e-10, 2.068098874463728e-10, 1.7842526754538165e-10  …  5.887280854193694e-10, 5.068561087571884e-10, 4.3553813203726093e-10, 3.732122157876482e-10, 3.1875860054471173e-10, 2.709923679888783e-10, 2.2923088540371388e-10, 1.9286001390034887e-10, 1.6126996906971944e-10, 1.3401781023838736e-10], [1.9130170611389555e-9, 9.79143948352453e-10, 6.291997817271008e-10, 4.5739976749014543e-10, 3.5806487246531047e-10, 2.939715673740279e-10, 2.4926906624125015e-10, 2.152596053607605e-10, 1.866849596290058e-10, 1.6170323701276567e-10  …  5.043580569477586e-10, 4.347647456155583e-10, 3.7485282450963e-10, 3.2296550461919263e-10, 2.778565466195883e-10, 2.3833534356865284e-10, 2.0369710472188583e-10, 1.7334325016062909e-10, 1.467537826404303e-10, 1.235533168563004e-10]])"
      ]
     },
     "execution_count": 15,
     "metadata": {},
     "output_type": "execute_result"
    }
   ],
   "source": [
    "xs_wlwl, ts_wlwl = mdata(chain_wlwl_nomarg, model_wlwl)"
   ]
  },
  {
   "cell_type": "code",
   "execution_count": 16,
   "metadata": {},
   "outputs": [
    {
     "data": {
      "text/plain": [
       "\"chains/nomarg/DES_wlwl_nomarg_TAP_0.65_init_ϵ_0.03/theory_1.csv\""
      ]
     },
     "execution_count": 16,
     "metadata": {},
     "output_type": "execute_result"
    }
   ],
   "source": [
    "CSV.write(path_dzs_wlwl_nomarg*\"xi2s_1.csv\",\n",
    "    Dict{String}{Vector}(\"Xi2s\" => xs_wlwl))\n",
    "\n",
    "CSV.write(path_dzs_wlwl_nomarg*\"theory_1.csv\",\n",
    "    Dict{String}{Vector}(\"Theories\" => ts_wlwl))"
   ]
  },
  {
   "cell_type": "code",
   "execution_count": 17,
   "metadata": {},
   "outputs": [
    {
     "data": {
      "text/plain": [
       "([69.84754159466623, 67.43897649629301, 66.71867112222601, 66.97305938460438, 66.53075621249478, 65.05224032654601, 65.80503326808314, 67.32189908910489, 67.73934225495003, 65.8322727144366  …  80.49342799264693, 71.58548059291938, 63.154204712876805, 62.82025724379034, 64.87744559234916, 65.01484005528988, 68.7208904218644, 69.7891792622745, 66.30134743574996, 70.58886236470457], Vector[[0.00015219304333565894, 7.169136149733886e-5, 3.897990109444345e-5, 2.4983414875154113e-5, 1.731830282646847e-5, 8.189246541155057e-5, 5.262907345073108e-5, 3.5526650659723046e-5, 2.3167872373418204e-5, 1.6845762303757436e-5  …  1.7934332739331454e-5, 1.4991849925185267e-5, 1.202580745148194e-5, 9.333111604485904e-6, 7.567673967426092e-6, 6.773528285837296e-6, 5.568858699385652e-6, 4.430909096442361e-6, 3.828205043944368e-6, 3.0342496283242727e-6], [0.00017851119818837629, 7.741949115411632e-5, 3.9739395583518125e-5, 2.4831904250091004e-5, 1.7189476685891488e-5, 9.997744225274618e-5, 5.792396192536445e-5, 3.7774647329408265e-5, 2.3563416093960124e-5, 1.7075142228051278e-5  …  1.9190875207526824e-5, 1.5667217357121733e-5, 1.210501041936407e-5, 9.280795065271814e-6, 7.938957642706027e-6, 6.664988682909334e-6, 5.4807765961369774e-6, 4.3883840391261e-6, 3.765673188786333e-6, 3.005870843031386e-6], [0.00017742137671481476, 7.57777869240316e-5, 3.790196116643147e-5, 2.3891164239172374e-5, 1.6640563269235856e-5, 9.869709533207773e-5, 5.6239450287670426e-5, 3.7126135239775714e-5, 2.2478774101222332e-5, 1.6442476786079187e-5  …  1.8213570058930317e-5, 1.5362766767395325e-5, 1.2157243542180035e-5, 9.053134080024049e-6, 7.59556795707715e-6, 6.563935437420378e-6, 5.240075726146598e-6, 4.294341048521048e-6, 3.5641355748345955e-6, 2.9480627157870462e-6], [0.00016438019429283404, 7.492291744568278e-5, 3.871778135691494e-5, 2.454912107735214e-5, 1.720587470438565e-5, 8.93167796328776e-5, 5.4994184106408486e-5, 3.672072150925167e-5, 2.2898194888754196e-5, 1.6773507143210764e-5  …  1.800709410656661e-5, 1.5084094010773238e-5, 1.205413298008603e-5, 9.198546159035793e-6, 7.778331909663784e-6, 6.624092394157103e-6, 5.404313963924198e-6, 4.435942709731132e-6, 3.683796638251601e-6, 3.049523811594073e-6], [0.00016105979248356468, 7.486961140881357e-5, 3.90838902788447e-5, 2.477809837462985e-5, 1.7396928792845372e-5, 8.721754945709902e-5, 5.476113367931445e-5, 3.660679816464178e-5, 2.305964603598195e-5, 1.689854301252678e-5  …  1.8399217845540216e-5, 1.5239612309506254e-5, 1.1737388152289617e-5, 9.047213890286225e-6, 7.799412006871705e-6, 6.61108426751562e-6, 5.455186285125552e-6, 4.395181037517669e-6, 3.799901810120401e-6, 3.0459075718016802e-6], [0.00018911024413645973, 7.769016975494291e-5, 3.866981958242412e-5, 2.4592490522079133e-5, 1.7047137691839258e-5, 0.00010519016711858214, 5.7814320852615316e-5, 3.8418705646113736e-5, 2.3001922237900693e-5, 1.6829352051036182e-5  …  1.9049712706259535e-5, 1.6162678407802183e-5, 1.2561065358872513e-5, 9.14669619107864e-6, 7.408490742686593e-6, 6.791232799942319e-6, 5.499749629401333e-6, 4.255703515209976e-6, 3.760893624907915e-6, 2.947424252439969e-6], [0.0001665765121349907, 7.533643820318844e-5, 3.860856978407771e-5, 2.4607862866761678e-5, 1.7274781395036838e-5, 9.044634518620648e-5, 5.500335947919793e-5, 3.698279407196842e-5, 2.2845858653883712e-5, 1.680859736525585e-5  …  1.8246637382194507e-5, 1.552865247642093e-5, 1.2231687047671732e-5, 9.21885727880528e-6, 7.673014165167843e-6, 6.7755316765681566e-6, 5.31757420760638e-6, 4.439288802299264e-6, 3.7192031347383777e-6, 3.0513211826483625e-6], [0.00018745572339474585, 7.846565827139184e-5, 3.8939692538541136e-5, 2.4780707609530856e-5, 1.7279378797599616e-5, 0.00010408271993341667, 5.808880993405784e-5, 3.8672643188381575e-5, 2.3116361072775585e-5, 1.6977150582967438e-5  …  1.870867685967196e-5, 1.59517789281671e-5, 1.2767927940365836e-5, 9.350889713005356e-6, 7.729575105711688e-6, 6.791077043916311e-6, 5.478340871299957e-6, 4.406939221323651e-6, 3.6970277727464536e-6, 3.0707000144072013e-6], [0.00016210563747119845, 7.39729824663005e-5, 3.840220573079336e-5, 2.473984883514219e-5, 1.733309013454655e-5, 8.662168745306025e-5, 5.372219634744478e-5, 3.6628326428772565e-5, 2.2739661261901637e-5, 1.675792347641681e-5  …  1.757138360735229e-5, 1.495602914132863e-5, 1.2260411567668814e-5, 9.219871625583222e-6, 7.609509510500477e-6, 6.633822562434079e-6, 5.540759003580343e-6, 4.4126553665772515e-6, 3.72675597682261e-6, 3.103984346250882e-6], [0.00019031730675018573, 7.831129730899667e-5, 3.8607018788198466e-5, 2.4298528132092025e-5, 1.6930456053769888e-5, 0.00010720895429116717, 5.8420548184062406e-5, 3.841583866492061e-5, 2.2874134779490457e-5, 1.6751255538132866e-5  …  1.921609926129149e-5, 1.6250891170846274e-5, 1.2498230407634191e-5, 9.173242842089995e-6, 7.558848185642594e-6, 6.777546529730828e-6, 5.2622511569661155e-6, 4.3327769993062544e-6, 3.6887721769979395e-6, 2.934316212087549e-6]  …  [0.00021238820712056605, 7.837475637292833e-5, 3.812176264586858e-5, 2.3905620172443482e-5, 1.616785667046269e-5, 0.00012185515929607216, 6.080514853702028e-5, 3.883505925365674e-5, 2.3042110560909522e-5, 1.630473936813286e-5  …  1.901768921865762e-5, 1.587011311406828e-5, 1.3094480824784051e-5, 9.485278723382932e-6, 7.3666386279368264e-6, 6.439121268641011e-6, 5.477300075794624e-6, 4.195535648339339e-6, 3.451504337408375e-6, 2.927749805809074e-6], [0.00016782421171989158, 7.38850936738397e-5, 3.74818887406433e-5, 2.3358016535246536e-5, 1.6192503767694362e-5, 9.326152634140976e-5, 5.604782864671293e-5, 3.593809671762623e-5, 2.2352802089509552e-5, 1.6044386183885513e-5  …  1.8399215371241933e-5, 1.5116439909130486e-5, 1.177221125207689e-5, 9.058631215561818e-6, 7.5340179751202565e-6, 6.416722055154986e-6, 5.067599200322464e-6, 4.261409175375022e-6, 3.4637709716192404e-6, 2.879611872185995e-6], [0.00018367826314223928, 7.778145405336903e-5, 3.905774093009251e-5, 2.4921666578885802e-5, 1.751214694420784e-5, 0.00010087863148834175, 5.656779603052305e-5, 3.8295361247620385e-5, 2.2999814252354257e-5, 1.709969231680348e-5  …  1.8792206950942313e-5, 1.612307995064049e-5, 1.2433346919623867e-5, 9.075873328418851e-6, 7.542700382912894e-6, 6.932583944475114e-6, 5.449036955435772e-6, 4.349168892723836e-6, 3.870333418279935e-6, 2.9926881937137176e-6], [0.00017586303715961678, 7.587376839214567e-5, 3.862097889816744e-5, 2.487204817394786e-5, 1.744284126307422e-5, 9.505508987076311e-5, 5.491364004742152e-5, 3.754641333956902e-5, 2.279581497967479e-5, 1.6949021876479493e-5  …  1.8298541805803852e-5, 1.572145575403299e-5, 1.2232312944018361e-5, 8.984903629557349e-6, 7.4353967237304804e-6, 6.824708742541514e-6, 5.541590717519207e-6, 4.280198077700026e-6, 3.854781384397581e-6, 3.004228966910756e-6], [0.00018686707213428928, 7.839155348890185e-5, 3.905218166073725e-5, 2.4260966680926002e-5, 1.6987183786202953e-5, 0.00010575808887718996, 5.8376837276854455e-5, 3.79841872439966e-5, 2.3086153215020876e-5, 1.6777583565241854e-5  …  1.937663998245546e-5, 1.603033772512583e-5, 1.1809623637962789e-5, 8.925771603106397e-6, 7.792652186683229e-6, 6.606516703821919e-6, 5.2900673759194105e-6, 4.313691215928843e-6, 3.7043341837524404e-6, 2.9341452112149996e-6], [0.00017814483599732573, 7.718724261336757e-5, 3.8950109406511416e-5, 2.4236668810982893e-5, 1.700295202082539e-5, 9.982866255884255e-5, 5.722643776777278e-5, 3.7330106351393156e-5, 2.3019770843166402e-5, 1.6698486153401124e-5  …  1.896652225118691e-5, 1.5579957363186063e-5, 1.1665890782185613e-5, 8.95024150075376e-6, 7.850589087613514e-6, 6.51357278725831e-6, 5.285409649854282e-6, 4.352345243624223e-6, 3.687010001331832e-6, 2.9725469234988253e-6], [0.00018366106143736122, 7.971841276754918e-5, 4.025773480203931e-5, 2.524474817304445e-5, 1.7847547126015412e-5, 0.00010208382040049253, 5.857255033192067e-5, 3.867727964817646e-5, 2.3684850624923e-5, 1.7353398289073812e-5  …  1.9518095136724536e-5, 1.6435443066536376e-5, 1.2375123671376675e-5, 9.359911118970597e-6, 7.970689676711084e-6, 6.975300987474156e-6, 5.361606633765021e-6, 4.597045808318681e-6, 3.847211720476445e-6, 3.0777778342718025e-6], [0.0001954165882918779, 8.03119446999156e-5, 3.9820759632228344e-5, 2.4461848631526943e-5, 1.7012927697485308e-5, 0.00011244150964476324, 6.0986880587334756e-5, 3.870485331906816e-5, 2.364263026004834e-5, 1.6943085664534602e-5  …  2.0182576569810078e-5, 1.6459002570284666e-5, 1.1995637356368206e-5, 9.152684289921176e-6, 7.917213728582864e-6, 6.67808159291341e-6, 5.324675168178219e-6, 4.36497574901173e-6, 3.6976429518611716e-6, 2.9318548707492733e-6], [0.0001763982407236906, 7.425014266223606e-5, 3.7611054923830725e-5, 2.4056486032404442e-5, 1.660089662105563e-5, 9.65131104108868e-5, 5.534274861109068e-5, 3.688993015170439e-5, 2.2548741576768785e-5, 1.628244391873313e-5  …  1.8300604474919576e-5, 1.5418403683949197e-5, 1.2200618594664558e-5, 8.99985685423171e-6, 7.227552731088407e-6, 6.462874392090164e-6, 5.519815745331094e-6, 4.1586410496527986e-6, 3.647380121893625e-6, 2.9433708066690923e-6], [0.00019973741789848542, 7.663743478049206e-5, 3.715248549104749e-5, 2.3607451441155697e-5, 1.6186404633477858e-5, 0.00011279218094098733, 5.787455012565606e-5, 3.8101939681797265e-5, 2.2286184218184533e-5, 1.612179083186111e-5  …  1.8753568254868133e-5, 1.5971290982473075e-5, 1.2531193927422048e-5, 8.928600243079868e-6, 7.0247964637246e-6, 6.4885576669126115e-6, 5.392925654293035e-6, 4.04727935070684e-6, 3.560167948320562e-6, 2.8367890235131493e-6]])"
      ]
     },
     "execution_count": 17,
     "metadata": {},
     "output_type": "execute_result"
    }
   ],
   "source": [
    "xs_gcgc, ts_gcgc = mdata(chain_gcgc_nomarg, model_gcgc)"
   ]
  },
  {
   "cell_type": "code",
   "execution_count": 18,
   "metadata": {},
   "outputs": [
    {
     "data": {
      "text/plain": [
       "\"chains/nomarg/DES_gcgc_nomarg_TAP_0.65_init_ϵ_0.03/theory_1.csv\""
      ]
     },
     "execution_count": 18,
     "metadata": {},
     "output_type": "execute_result"
    }
   ],
   "source": [
    "CSV.write(path_dzs_gcgc_nomarg*\"xi2s_1.csv\",\n",
    "    Dict{String}{Vector}(\"Xi2s\" => xs_gcgc))\n",
    "\n",
    "CSV.write(path_dzs_gcgc_nomarg*\"theory_1.csv\",\n",
    "    Dict{String}{Vector}(\"Theories\" => ts_gcgc))\n"
   ]
  },
  {
   "cell_type": "code",
   "execution_count": 19,
   "metadata": {},
   "outputs": [
    {
     "data": {
      "text/plain": [
       "([509.82906144698416, 516.6852697922396, 514.9397428311933, 514.3758319139521, 511.23140078769984, 513.0911791389261, 510.43187491401005, 511.60397964627634, 508.0344764473468, 508.60399976884986  …  510.43345848310184, 510.2237092925274, 510.458208968243, 514.3149516175198, 515.705119124797, 513.6676781388644, 513.3481401979973, 512.6966528309928, 514.3194427312428, 513.0044500691964], Vector[[0.00016801699759313744, 7.604733263796462e-5, 3.9358495820166816e-5, 2.486240255227723e-5, 1.729603300322288e-5, 9.186769733509949e-5, 5.695541367163226e-5, 3.732064097032292e-5, 2.342496670163876e-5, 1.6935146986468918e-5  …  5.491239634592258e-10, 4.743210713086279e-10, 4.098309389582709e-10, 3.5391806271825745e-10, 3.0521865735762983e-10, 2.6247137417289337e-10, 2.2491537269853412e-10, 1.919048228691866e-10, 1.6290652335044132e-10, 1.3751577157332873e-10], [0.00017553356548093756, 7.650183419530348e-5, 3.927552732680442e-5, 2.442562244774577e-5, 1.6790923644395773e-5, 9.875089054546043e-5, 5.8382062504321086e-5, 3.737816442408346e-5, 2.3432419819453485e-5, 1.6768152219583468e-5  …  5.02151507670983e-10, 4.2941444095850117e-10, 3.6732847951865405e-10, 3.140498463754495e-10, 2.6816774589077793e-10, 2.2836813643746444e-10, 1.9382201927463641e-10, 1.6384497095781043e-10, 1.378346383214462e-10, 1.1534947981951122e-10], [0.00015411081695312584, 7.287434259842358e-5, 3.884650988045853e-5, 2.4493228650246375e-5, 1.7002229879234613e-5, 8.447650576939405e-5, 5.4083552220344895e-5, 3.569753247523622e-5, 2.3059281892197546e-5, 1.6696105882846267e-5  …  5.270756762507752e-10, 4.5126834069456183e-10, 3.8653139595153504e-10, 3.308987100023964e-10, 2.8295621387642937e-10, 2.412809153590346e-10, 2.0505757755612788e-10, 1.7356525460000767e-10, 1.4618020733236053e-10, 1.224713371244621e-10], [0.00016999193601926753, 7.62231086036547e-5, 3.9624026405723344e-5, 2.4794780101703592e-5, 1.711050874011243e-5, 9.471205827142955e-5, 5.760697088831273e-5, 3.726184783200748e-5, 2.3598265297982042e-5, 1.6967258988079303e-5  …  5.174552534338426e-10, 4.429868008714188e-10, 3.793615216705764e-10, 3.2467518988440806e-10, 2.775209835931006e-10, 2.3655087297576005e-10, 2.0093963304451495e-10, 1.6999825019036266e-10, 1.431079553841154e-10, 1.198337795852073e-10], [0.0001613575311787747, 7.328492797760406e-5, 3.900746797991439e-5, 2.4854065391662906e-5, 1.7201217196270623e-5, 8.753934853058565e-5, 5.403242373503039e-5, 3.621020674212099e-5, 2.3198798975273512e-5, 1.6872060295609506e-5  …  5.670745850976309e-10, 4.868333594555979e-10, 4.180591217869974e-10, 3.5882020760386514e-10, 3.0756817240880647e-10, 2.628846679099433e-10, 2.2391844186215855e-10, 1.8991797127934114e-10, 1.6027955024483928e-10, 1.3452091924069383e-10], [0.0001659776408423052, 7.462627303612955e-5, 3.956433013177729e-5, 2.504094285092278e-5, 1.731349262823268e-5, 9.139985282161747e-5, 5.527250823713154e-5, 3.67380781630036e-5, 2.3503409180606683e-5, 1.7066584098708815e-5  …  5.329052877122237e-10, 4.558209767509617e-10, 3.9001191705218245e-10, 3.3348627802991167e-10, 2.848105888819173e-10, 2.4253388052722745e-10, 2.058293385014911e-10, 1.739596243013489e-10, 1.4628934248715227e-10, 1.2237386705549674e-10], [0.00018252633021186934, 7.568734516041869e-5, 3.844138897955851e-5, 2.423439396768007e-5, 1.6598952151247335e-5, 0.00010160278429958011, 5.7677397234786904e-5, 3.7464762756173875e-5, 2.3107274758136193e-5, 1.6454262029407516e-5  …  5.52385501672814e-10, 4.753726921347801e-10, 4.092149045640416e-10, 3.520829509415007e-10, 3.02526506556218e-10, 2.5922269324054896e-10, 2.2135505054696535e-10, 1.8823597964568152e-10, 1.5928542202352973e-10, 1.3405781728898472e-10], [0.00018472721886861232, 7.679926259698843e-5, 3.86377636924525e-5, 2.4912703501556097e-5, 1.7297305075954584e-5, 0.00010058401574526597, 5.647461971382859e-5, 3.818243919860737e-5, 2.300091327091496e-5, 1.6885632115037487e-5  …  5.323855036033213e-10, 4.632834570467893e-10, 4.032997993152414e-10, 3.508582284879025e-10, 3.0483293117798444e-10, 2.6407809237972614e-10, 2.2796023892448055e-10, 1.9593507888435995e-10, 1.6752816270074828e-10, 1.4243174219937044e-10], [0.00017086427270223583, 7.460389222844207e-5, 3.8197257603474874e-5, 2.4539044510304286e-5, 1.706339519811232e-5, 9.250151369006215e-5, 5.472661966732014e-5, 3.6961842344408574e-5, 2.2757040489637683e-5, 1.665518729475654e-5  …  5.409252031469429e-10, 4.694657165414548e-10, 4.075937506267785e-10, 3.5370433181155344e-10, 3.065558483107711e-10, 2.649318639305561e-10, 2.28178656680074e-10, 1.9567532453721052e-10, 1.669477735585707e-10, 1.4163594487985816e-10], [0.0001851188458857233, 7.571601740579034e-5, 3.817387814712951e-5, 2.448700922032951e-5, 1.686711370046155e-5, 0.00010132866270570847, 5.6430104218639876e-5, 3.765258132926747e-5, 2.2909424318523457e-5, 1.656987327722668e-5  …  5.382987691563037e-10, 4.666590368787813e-10, 4.046838663534496e-10, 3.507594531725984e-10, 3.036318170934472e-10, 2.6208268772396894e-10, 2.254486605409165e-10, 1.9310363207501586e-10, 1.6456627877515777e-10, 1.3946414142563846e-10]  …  [0.00017779161909207394, 7.57793995971526e-5, 3.924656456632366e-5, 2.4935114512542766e-5, 1.7151541547030034e-5, 9.759814956260607e-5, 5.677989809854225e-5, 3.7523877656515795e-5, 2.346998088443556e-5, 1.69162540988912e-5  …  5.647788182718505e-10, 4.859019348569428e-10, 4.181320678860597e-10, 3.5960974028466474e-10, 3.08846533631673e-10, 2.6448485492798304e-10, 2.2569986291783482e-10, 1.917812477076032e-10, 1.6214387215929015e-10, 1.3632827093869178e-10], [0.00017712841735283188, 7.332840561703983e-5, 3.783980025459277e-5, 2.4156456899108216e-5, 1.6570022569180624e-5, 9.624393159061104e-5, 5.506690798196165e-5, 3.648990549726421e-5, 2.2750670273056578e-5, 1.6276788202106805e-5  …  5.584372586310234e-10, 4.820323534870927e-10, 4.162255304378013e-10, 3.592443963643861e-10, 3.0966761862440844e-10, 2.661932977603572e-10, 2.2804240619446768e-10, 1.945399918899028e-10, 1.6513803250451365e-10, 1.3940724826597225e-10], [0.00015595143306313178, 7.347270915689773e-5, 3.8807757380530155e-5, 2.4496330457222747e-5, 1.7036245830748415e-5, 8.508387647509702e-5, 5.451227107170913e-5, 3.5946161008054475e-5, 2.3068537734641883e-5, 1.671359602526383e-5  …  5.269259163049955e-10, 4.529241005995008e-10, 3.894566170425576e-10, 3.3473951921790296e-10, 2.873685991529026e-10, 2.460110041327056e-10, 2.0990736327929904e-10, 1.783490681305926e-10, 1.5078982970701841e-10, 1.2679519586793675e-10], [0.00015170113246205886, 7.25916663580003e-5, 3.869244975517665e-5, 2.4439908464006097e-5, 1.7024470999182075e-5, 8.22370313868275e-5, 5.3642666973453646e-5, 3.552881813869732e-5, 2.2921300470885873e-5, 1.6634318149730038e-5  …  5.238160729086499e-10, 4.5045792951983494e-10, 3.8756336748327794e-10, 3.333091529499746e-10, 2.8631576555880414e-10, 2.452863624313532e-10, 2.0942163659077345e-10, 1.7806846567278758e-10, 1.506513791039278e-10, 1.2676277422031829e-10], [0.00017093779454985293, 7.780803705411552e-5, 4.0636910796382984e-5, 2.5433143261736548e-5, 1.7609045998353618e-5, 9.513938061417363e-5, 5.85877825734941e-5, 3.7964659328341636e-5, 2.4188558791677693e-5, 1.739496533095166e-5  …  5.289526436554183e-10, 4.5281877130311965e-10, 3.877058036476237e-10, 3.3172222759703125e-10, 2.8345025212568994e-10, 2.414788174917815e-10, 2.0502069662081665e-10, 1.7332517194702453e-10, 1.4579607495116819e-10, 1.219837805781442e-10], [0.0001523109883547158, 7.233104963386322e-5, 3.8539415174168514e-5, 2.4257399068595198e-5, 1.6834188763154245e-5, 8.325066111061213e-5, 5.373911869094142e-5, 3.539067393563008e-5, 2.288264282702589e-5, 1.6553339424388267e-5  …  5.229401268817415e-10, 4.478804739935668e-10, 3.837363067928732e-10, 3.28653222290243e-10, 2.811410594713731e-10, 2.398475410554194e-10, 2.0394092886756452e-10, 1.727012290511162e-10, 1.455409675262601e-10, 1.219954972381011e-10], [0.0001545117483502395, 7.492580808972441e-5, 4.004014381208728e-5, 2.5406517273873024e-5, 1.7808470407142685e-5, 8.330210913390212e-5, 5.4988449320940625e-5, 3.6638051282268434e-5, 2.368284026700165e-5, 1.7240817945207067e-5  …  5.35962543739201e-10, 4.622896585795068e-10, 3.9889554963614865e-10, 3.4400074249072803e-10, 2.962979938099379e-10, 2.5446235809884906e-10, 2.177783468863145e-10, 1.8557410840164936e-10, 1.573139325356232e-10, 1.3261276824182e-10], [0.00015189181262275085, 7.391275576328516e-5, 3.952675719170416e-5, 2.5089279791643043e-5, 1.758399233239836e-5, 8.174745693583571e-5, 5.416694086305249e-5, 3.615254062779963e-5, 2.3381467595781426e-5, 1.702896885506129e-5  …  5.304374083512286e-10, 4.5757004497680084e-10, 3.948823702652035e-10, 3.4061179825024203e-10, 2.934560957604473e-10, 2.521019319959969e-10, 2.1583893110112998e-10, 1.8399737782267906e-10, 1.560494374240809e-10, 1.3161113594086357e-10], [0.0001514682152907585, 7.204909763810133e-5, 3.812724385861657e-5, 2.4181561480674642e-5, 1.6854152290496096e-5, 8.154908626789829e-5, 5.3502831440958566e-5, 3.54076678312581e-5, 2.26605689015226e-5, 1.6406303779436066e-5  …  5.653149150096217e-10, 4.880990551281466e-10, 4.2161338217134075e-10, 3.640240209701177e-10, 3.1391430593243526e-10, 2.699670812275282e-10, 2.313699453763271e-10, 1.9746181897279752e-10, 1.6766958590787396e-10, 1.4158451447993272e-10], [0.00017530508542600758, 7.775381229402333e-5, 4.009858918381036e-5, 2.523937863994787e-5, 1.7473965674204396e-5, 9.694755557063707e-5, 5.871848427590136e-5, 3.8156235976049375e-5, 2.3925435804526417e-5, 1.7221435892988686e-5  …  5.634708247202266e-10, 4.849877182123006e-10, 4.1750058667292923e-10, 3.591782162227988e-10, 3.0855256612616224e-10, 2.6427981096183287e-10, 2.2555542077719348e-10, 1.9167183572923553e-10, 1.620564468539684e-10, 1.362525776063301e-10]])"
      ]
     },
     "execution_count": 19,
     "metadata": {},
     "output_type": "execute_result"
    }
   ],
   "source": [
    "xs_3x2, ts_3x2 = mdata(chain_3x2_nomarg, model_3x2)"
   ]
  },
  {
   "cell_type": "code",
   "execution_count": 20,
   "metadata": {},
   "outputs": [
    {
     "data": {
      "text/plain": [
       "\"chains/nomarg/DES_3x2_nomarg_TAP_0.65_init_ϵ_0.03/theory_1.csv\""
      ]
     },
     "execution_count": 20,
     "metadata": {},
     "output_type": "execute_result"
    }
   ],
   "source": [
    "CSV.write(path_dzs_3x2_nomarg*\"xi2s_1.csv\",\n",
    "    Dict{String}{Vector}(\"Xi2s\" => xs_3x2))\n",
    "\n",
    "CSV.write(path_dzs_3x2_nomarg*\"theory_1.csv\",\n",
    "    Dict{String}{Vector}(\"Theories\" => ts_3x2))"
   ]
  },
  {
   "cell_type": "code",
   "execution_count": null,
   "metadata": {},
   "outputs": [],
   "source": [
    "using Plots"
   ]
  },
  {
   "cell_type": "code",
   "execution_count": null,
   "metadata": {},
   "outputs": [],
   "source": [
    "t, xi2 = model_gcgc(Vector(chain_gcgc_nomarg[1, 3:7]))\n",
    "println(xi2)"
   ]
  },
  {
   "cell_type": "code",
   "execution_count": null,
   "metadata": {},
   "outputs": [],
   "source": [
    "Vector(chain_gcgc_nomarg[1, 3:7])"
   ]
  },
  {
   "cell_type": "code",
   "execution_count": null,
   "metadata": {},
   "outputs": [],
   "source": [
    "plot(meta_gcgc.data, yscale=:log10, label=\"Data\")\n",
    "plot!(t, yscale=:log10, label=\"Model\")\n"
   ]
  },
  {
   "cell_type": "code",
   "execution_count": null,
   "metadata": {},
   "outputs": [],
   "source": [
    "data = log10.(abs.(Matrix(meta_gcgc.inv_cov)))\n",
    "heatmap(1:size(data,1), 1:size(data,2), data)"
   ]
  },
  {
   "cell_type": "code",
   "execution_count": null,
   "metadata": {},
   "outputs": [],
   "source": [
    "d_gcgc=ones(47)\n",
    "plot(meta_gcgc.inv_cov*d_gcgc)"
   ]
  },
  {
   "cell_type": "code",
   "execution_count": null,
   "metadata": {},
   "outputs": [],
   "source": [
    "data = log10.(abs.(Matrix(meta_wlwl.inv_cov)))\n",
    "heatmap(1:size(data,1), 1:size(data,2), data)"
   ]
  },
  {
   "cell_type": "code",
   "execution_count": null,
   "metadata": {},
   "outputs": [],
   "source": [
    "d_wlwl=ones(240)\n",
    "plot(meta_wlwl.inv_cov*d_wlwl)"
   ]
  },
  {
   "cell_type": "code",
   "execution_count": null,
   "metadata": {},
   "outputs": [],
   "source": [
    "(d_wlwl'*meta_wlwl.inv_cov*d_wlwl)/240"
   ]
  },
  {
   "cell_type": "code",
   "execution_count": null,
   "metadata": {},
   "outputs": [],
   "source": [
    "plot(Matrix(chain_wlwl_nomarg[:, 3:7]))"
   ]
  },
  {
   "cell_type": "code",
   "execution_count": null,
   "metadata": {},
   "outputs": [],
   "source": [
    "plot(Matrix(chain_wlwl_num[:, 3:7]))"
   ]
  },
  {
   "cell_type": "code",
   "execution_count": null,
   "metadata": {},
   "outputs": [],
   "source": [
    "plot(Matrix(chain_gcgc_nomarg[:, 3:3]))"
   ]
  },
  {
   "cell_type": "code",
   "execution_count": null,
   "metadata": {},
   "outputs": [],
   "source": [
    "plot(Matrix(chain_gcgc_nomarg[:, 4:4]))"
   ]
  },
  {
   "cell_type": "code",
   "execution_count": null,
   "metadata": {},
   "outputs": [],
   "source": [
    "plot(Matrix(chain_gcgc_num[:, 3:7]))"
   ]
  },
  {
   "cell_type": "code",
   "execution_count": null,
   "metadata": {},
   "outputs": [],
   "source": [
    "plot(Matrix(chain_gcgc_ana[:, 3:7]))"
   ]
  },
  {
   "cell_type": "code",
   "execution_count": null,
   "metadata": {},
   "outputs": [],
   "source": [
    "plot(Matrix(chain_3x2_nomarg[:, 3:7]))"
   ]
  },
  {
   "cell_type": "code",
   "execution_count": null,
   "metadata": {},
   "outputs": [],
   "source": [
    "histogram(xs_3x2, label=\"3x2\")\t"
   ]
  },
  {
   "cell_type": "code",
   "execution_count": null,
   "metadata": {},
   "outputs": [],
   "source": [
    "histogram(xs_gcgc, label=\"gcgc\")"
   ]
  },
  {
   "cell_type": "code",
   "execution_count": null,
   "metadata": {},
   "outputs": [],
   "source": [
    "histogram(xs_wlwl, label=\"wlwl\")"
   ]
  },
  {
   "cell_type": "code",
   "execution_count": null,
   "metadata": {},
   "outputs": [],
   "source": []
  }
 ],
 "metadata": {
  "kernelspec": {
   "display_name": "Julia (10 threads) 1.10.3",
   "language": "julia",
   "name": "julia-_10-threads_-1.10"
  },
  "language_info": {
   "file_extension": ".jl",
   "mimetype": "application/julia",
   "name": "julia",
   "version": "1.10.3"
  }
 },
 "nbformat": 4,
 "nbformat_minor": 2
}
